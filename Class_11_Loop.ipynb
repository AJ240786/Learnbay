{
 "cells": [
  {
   "cell_type": "code",
   "execution_count": 2,
   "id": "6acbc06f",
   "metadata": {
    "ExecuteTime": {
     "end_time": "2021-07-22T03:38:14.931930Z",
     "start_time": "2021-07-22T03:38:14.897951Z"
    }
   },
   "outputs": [
    {
     "name": "stdout",
     "output_type": "stream",
     "text": [
      "['Hello', 'World']\n"
     ]
    },
    {
     "data": {
      "text/plain": [
       "['olleH', 'dlroW']"
      ]
     },
     "execution_count": 2,
     "metadata": {},
     "output_type": "execute_result"
    }
   ],
   "source": [
    "my_str = 'Hello World'.split()\n",
    "print(my_str)\n",
    "# Output = 'olleH', 'dlroW'\n",
    "\n",
    "[i[::-1] for i in my_str]\n",
    "\n",
    "\n"
   ]
  },
  {
   "cell_type": "code",
   "execution_count": 5,
   "id": "029ce751",
   "metadata": {
    "ExecuteTime": {
     "end_time": "2021-07-22T03:41:29.415307Z",
     "start_time": "2021-07-22T03:41:26.461530Z"
    }
   },
   "outputs": [
    {
     "name": "stdout",
     "output_type": "stream",
     "text": [
      "Enter first Number: 100\n",
      "Enter second Number: 9\n"
     ]
    }
   ],
   "source": [
    "num1 = int(input('Enter first Number: '))\n",
    "num2 = int(input('Enter second Number: '))\n",
    "res = 'num1 is greater than num2' if num1>num2 else 'num2 is greater than num1'\n"
   ]
  },
  {
   "cell_type": "code",
   "execution_count": 17,
   "id": "6a626f64",
   "metadata": {
    "ExecuteTime": {
     "end_time": "2021-07-22T03:59:06.418579Z",
     "start_time": "2021-07-22T03:59:06.403524Z"
    }
   },
   "outputs": [
    {
     "name": "stdout",
     "output_type": "stream",
     "text": [
      "100 is greater than 9\n"
     ]
    }
   ],
   "source": [
    "Greatest= num1 if num1>num2 else num2\n",
    "lowest= num1 if num1<num2 else num2\n",
    "print('{0} is greater than {1}'.format(Greatest, lowest))"
   ]
  },
  {
   "cell_type": "code",
   "execution_count": 25,
   "id": "f55c34ce",
   "metadata": {
    "ExecuteTime": {
     "end_time": "2021-07-22T04:11:31.671314Z",
     "start_time": "2021-07-22T04:11:31.666178Z"
    }
   },
   "outputs": [],
   "source": [
    "# import math\n",
    "# m = int(input('Enter the value of a (the coefficient of x^2): '))\n",
    "# if m == 0:\n",
    "#     m = int(input('Coefficient of x^2 can not be 0, please enter value other than 0): '))\n",
    "#     a = m\n",
    "# else: \n",
    "#     a = m\n",
    "# b = int(input('Enter the value of b (the coefficient of x): '))\n",
    "# c = int(input('Enter the value of c (the constant term): '))\n",
    "# x = '{0:+d}'.format(a)\n",
    "# y = '{0:+d}'.format(b)\n",
    "# z = '{0:+d}'.format(c)\n",
    "# print()\n",
    "# print(f'Quadrtic Equation: {a}x^2 {b}x {c} = 0')\n",
    "# print()\n",
    "# D = b**2 - 4*a*c\n",
    "# dis = '{0:+d}'.format(D)\n",
    "# print(f'Discriminant of this equation is: {dis}')\n",
    "# print()\n",
    "# if D == 0:\n",
    "#     print('Since discriminant = 0, this quadratic equation has 2 equal roots')\n",
    "# elif D > 0:\n",
    "#     print('Since discriminant > 0, this quadratic equation has 2 real and distinct roots')\n",
    "# else:\n",
    "#     print('Since discriminant < 0, this quadratic equation has 2 complex roots')\n",
    "# print()\n",
    "# root1 = (-b+math.sqrt((b**2)-(4*a*c)))/2*a\n",
    "# root2 = (-b-math.sqrt((b**2)-(4*a*c)))/2*a\n",
    "# print(f'Roots of Quadrtic Equation: {x}x^2 {y}x {z} = 0 are {root1} and {root2}')"
   ]
  },
  {
   "cell_type": "code",
   "execution_count": null,
   "id": "37f10a22",
   "metadata": {},
   "outputs": [],
   "source": [
    "a = int(input('Enter the value of coefficient of x2 :'))\n",
    "b = int(input('Enter the value of coefficient of x :'))\n",
    "c = int(input('Enter the value of constant :'))\n",
    "\n",
    "x1 = (-b + ((b**2) - (4*a*c))**0.5) / (2*a)\n",
    "\n",
    "x2 = (-b - ((b**2) - (4*a*c))**0.5) / (2*a)\n",
    "\n",
    "print('The roots are:', x1 , x2)"
   ]
  },
  {
   "cell_type": "code",
   "execution_count": 14,
   "id": "4c25b26f",
   "metadata": {
    "ExecuteTime": {
     "end_time": "2021-07-22T03:57:05.802804Z",
     "start_time": "2021-07-22T03:57:05.787711Z"
    }
   },
   "outputs": [
    {
     "data": {
      "text/plain": [
       "3.3333333333333335"
      ]
     },
     "execution_count": 14,
     "metadata": {},
     "output_type": "execute_result"
    }
   ],
   "source": [
    "10/3"
   ]
  },
  {
   "cell_type": "code",
   "execution_count": 15,
   "id": "3234a1d5",
   "metadata": {
    "ExecuteTime": {
     "end_time": "2021-07-22T03:57:11.093939Z",
     "start_time": "2021-07-22T03:57:11.083258Z"
    }
   },
   "outputs": [
    {
     "data": {
      "text/plain": [
       "3"
      ]
     },
     "execution_count": 15,
     "metadata": {},
     "output_type": "execute_result"
    }
   ],
   "source": [
    "10//3"
   ]
  },
  {
   "cell_type": "code",
   "execution_count": 19,
   "id": "c0646b2e",
   "metadata": {
    "ExecuteTime": {
     "end_time": "2021-07-22T04:01:54.042709Z",
     "start_time": "2021-07-22T04:01:54.033137Z"
    }
   },
   "outputs": [],
   "source": [
    "# #Quadratic Eqn:\n",
    "# from math import sqrt\n",
    "# a,b,c= [eval(x) for x in input(\"Enter three numbers: \").split()]\n",
    "# root1=(-b+sqrt((b**2)-(4*a*c)))/2*a\n",
    "# root2=(-b-sqrt((b**2)-(4*a*c)))/2*a\n",
    "# print(f'The roots are {root1} and {root2}')\n",
    "# dis=(b**2)-(4*a*c)\n",
    "# if dis==0:\n",
    "#     print(\"It has equal roots\")\n",
    "# elif dis>0:\n",
    "#     print(\"It has real roots\")\n",
    "# elif dis<0:\n",
    "#     print(\"It has complex roots\")"
   ]
  },
  {
   "cell_type": "code",
   "execution_count": null,
   "id": "f1e1c0f8",
   "metadata": {},
   "outputs": [],
   "source": [
    "char=input('Enter any character to check whether it is vowel or consonent')\n",
    "cls=char.casefold()\n",
    "if (cls=='a' or cls=='e' or cls=='i' or cls=='o' or cls=='u') :\n",
    "    print('Entered character is a VOWEL')\n",
    "else :\n",
    "    print('Entered character is a CONSONENT')"
   ]
  },
  {
   "cell_type": "code",
   "execution_count": 21,
   "id": "065f2c2e",
   "metadata": {
    "ExecuteTime": {
     "end_time": "2021-07-22T04:06:19.069036Z",
     "start_time": "2021-07-22T04:06:14.788467Z"
    }
   },
   "outputs": [
    {
     "name": "stdout",
     "output_type": "stream",
     "text": [
      "Enter the first No.: 10\n",
      "Enter the Second No.: 9\n",
      "Enter the Third No.: 12\n",
      "The Maximum no is 10\n",
      "The Minimum no is 9\n"
     ]
    }
   ],
   "source": [
    "num1 = int(input('Enter the first No.: '))\n",
    "num2 = int(input('Enter the Second No.: '))\n",
    "num3 = int(input('Enter the Third No.: '))\n",
    "if ((num1>= num2) and (num1>= num3)) or ((num2<= num1) and (num2<= num3)):\n",
    "    print(f'The Maximum no is {num1}')\n",
    "    print(f'The Minimum no is {num2}')\n",
    "elif ((num3>= num1) and (num3>= num2)) or ((num1<= num2) and (num1<= num3)):   \n",
    "    print(f'The Maximum no is {num3}') \n",
    "    print(f'The Minimum no is {num1}')\n",
    "else:   \n",
    "    print(f'The Maximum no is {num2}')  \n",
    "    print(f'The Minimum no is {num3}')"
   ]
  },
  {
   "cell_type": "code",
   "execution_count": null,
   "id": "11cb98a8",
   "metadata": {},
   "outputs": [],
   "source": [
    "# Loops in Python\n",
    "1. For loop\n",
    "2. While Loop"
   ]
  },
  {
   "cell_type": "code",
   "execution_count": null,
   "id": "226b06b3",
   "metadata": {
    "ExecuteTime": {
     "end_time": "2021-07-22T04:10:01.605526Z",
     "start_time": "2021-07-22T04:09:27.464052Z"
    }
   },
   "outputs": [],
   "source": [
    "# 'Python'"
   ]
  },
  {
   "cell_type": "code",
   "execution_count": 34,
   "id": "53a220a6",
   "metadata": {
    "ExecuteTime": {
     "end_time": "2021-07-22T04:19:01.649831Z",
     "start_time": "2021-07-22T04:19:01.635786Z"
    }
   },
   "outputs": [
    {
     "name": "stdout",
     "output_type": "stream",
     "text": [
      "10\n",
      "20\n",
      "30\n",
      "40\n",
      "50\n",
      "60\n",
      "6\n"
     ]
    }
   ],
   "source": [
    "my_lst = [10,20,30,40,50,60]\n",
    "count = 0\n",
    "for i in my_lst:\n",
    "    count +=1 \n",
    "    print(i)\n",
    "print(count)"
   ]
  },
  {
   "cell_type": "code",
   "execution_count": 32,
   "id": "53b6c9ad",
   "metadata": {
    "ExecuteTime": {
     "end_time": "2021-07-22T04:18:24.605072Z",
     "start_time": "2021-07-22T04:18:24.593287Z"
    }
   },
   "outputs": [
    {
     "name": "stdout",
     "output_type": "stream",
     "text": [
      "0\n",
      "1\n",
      "2\n",
      "3\n",
      "4\n",
      "\n",
      "\n",
      "5\n"
     ]
    }
   ],
   "source": [
    "i = 0\n",
    "count = 0\n",
    "while i < 5:\n",
    "    print(i)\n",
    "    count += 1\n",
    "    i += 1\n",
    "    \n",
    "print()\n",
    "print()\n",
    "print(count)"
   ]
  },
  {
   "cell_type": "code",
   "execution_count": 44,
   "id": "6a0448fc",
   "metadata": {
    "ExecuteTime": {
     "end_time": "2021-07-22T04:26:31.445240Z",
     "start_time": "2021-07-22T04:26:31.433378Z"
    }
   },
   "outputs": [
    {
     "name": "stdout",
     "output_type": "stream",
     "text": [
      "['This', 'is', 'Python', 'class']\n"
     ]
    }
   ],
   "source": [
    "# Iterable - Any object which has __iter__ method.\n",
    "# String, list, tuple, dictionary, range,  set, frozenset, \n",
    "\n",
    "# Using range function\n",
    "\n",
    "\n",
    "# my_str = 'This is Python class'\n",
    "# for i in range(len(my_str)):\n",
    "#     print(i)\n",
    "#     print(my_str[i])\n",
    "#     print()\n",
    "\n",
    "\n",
    "# Splitting a string in list of words using loop\n",
    "my_str = 'This is Python class'\n",
    "out_lst = []\n",
    "out_word = ''\n",
    "for i in range(len(my_str)):\n",
    "    if my_str[i] == ' ':\n",
    "        out_lst += [out_word]\n",
    "        out_word = ''\n",
    "    elif i == len(my_str)-1:\n",
    "        out_word += my_str[i]\n",
    "        out_lst += [out_word]\n",
    "    else:\n",
    "        out_word += my_str[i]\n",
    "print(out_lst)\n"
   ]
  },
  {
   "cell_type": "code",
   "execution_count": 46,
   "id": "7780c1cc",
   "metadata": {
    "ExecuteTime": {
     "end_time": "2021-07-22T04:30:41.190711Z",
     "start_time": "2021-07-22T04:30:41.178904Z"
    }
   },
   "outputs": [
    {
     "name": "stdout",
     "output_type": "stream",
     "text": [
      "12\n"
     ]
    }
   ],
   "source": [
    "a = 10\n",
    "a += 2         # a = a+2\n",
    "print(a)\n",
    "\n",
    "# ++num\n",
    "# num++"
   ]
  },
  {
   "cell_type": "code",
   "execution_count": null,
   "id": "230fcb12",
   "metadata": {},
   "outputs": [],
   "source": []
  },
  {
   "cell_type": "code",
   "execution_count": null,
   "id": "f36d5a9e",
   "metadata": {},
   "outputs": [],
   "source": []
  },
  {
   "cell_type": "code",
   "execution_count": null,
   "id": "c111ae8c",
   "metadata": {},
   "outputs": [],
   "source": []
  },
  {
   "cell_type": "code",
   "execution_count": null,
   "id": "39ede8cc",
   "metadata": {},
   "outputs": [],
   "source": []
  },
  {
   "cell_type": "code",
   "execution_count": null,
   "id": "1468739c",
   "metadata": {},
   "outputs": [],
   "source": []
  },
  {
   "cell_type": "code",
   "execution_count": null,
   "id": "47383045",
   "metadata": {},
   "outputs": [],
   "source": []
  },
  {
   "cell_type": "code",
   "execution_count": null,
   "id": "6834a223",
   "metadata": {},
   "outputs": [],
   "source": []
  },
  {
   "cell_type": "code",
   "execution_count": null,
   "id": "42aef7a3",
   "metadata": {},
   "outputs": [],
   "source": []
  },
  {
   "cell_type": "code",
   "execution_count": null,
   "id": "025e37a8",
   "metadata": {},
   "outputs": [],
   "source": []
  },
  {
   "cell_type": "code",
   "execution_count": null,
   "id": "bd255285",
   "metadata": {},
   "outputs": [],
   "source": []
  },
  {
   "cell_type": "code",
   "execution_count": null,
   "id": "4494d90c",
   "metadata": {},
   "outputs": [],
   "source": []
  },
  {
   "cell_type": "code",
   "execution_count": null,
   "id": "f2797488",
   "metadata": {},
   "outputs": [],
   "source": []
  },
  {
   "cell_type": "code",
   "execution_count": null,
   "id": "6f3268f9",
   "metadata": {},
   "outputs": [],
   "source": []
  },
  {
   "cell_type": "code",
   "execution_count": null,
   "id": "006fc50a",
   "metadata": {},
   "outputs": [],
   "source": []
  },
  {
   "cell_type": "code",
   "execution_count": null,
   "id": "3f2a5430",
   "metadata": {},
   "outputs": [],
   "source": []
  },
  {
   "cell_type": "code",
   "execution_count": null,
   "id": "ed9b9a2e",
   "metadata": {},
   "outputs": [],
   "source": []
  },
  {
   "cell_type": "code",
   "execution_count": null,
   "id": "d9bd7854",
   "metadata": {},
   "outputs": [],
   "source": []
  },
  {
   "cell_type": "code",
   "execution_count": null,
   "id": "9f7ba2d4",
   "metadata": {},
   "outputs": [],
   "source": []
  },
  {
   "cell_type": "code",
   "execution_count": null,
   "id": "96e6214c",
   "metadata": {},
   "outputs": [],
   "source": []
  },
  {
   "cell_type": "code",
   "execution_count": null,
   "id": "8db01225",
   "metadata": {},
   "outputs": [],
   "source": []
  },
  {
   "cell_type": "code",
   "execution_count": null,
   "id": "93e5678f",
   "metadata": {},
   "outputs": [],
   "source": []
  },
  {
   "cell_type": "code",
   "execution_count": null,
   "id": "3cd48a06",
   "metadata": {},
   "outputs": [],
   "source": []
  },
  {
   "cell_type": "code",
   "execution_count": null,
   "id": "3fbfb5c9",
   "metadata": {},
   "outputs": [],
   "source": []
  },
  {
   "cell_type": "code",
   "execution_count": null,
   "id": "6a929e1e",
   "metadata": {},
   "outputs": [],
   "source": []
  },
  {
   "cell_type": "code",
   "execution_count": null,
   "id": "b52c23d6",
   "metadata": {},
   "outputs": [],
   "source": []
  },
  {
   "cell_type": "code",
   "execution_count": null,
   "id": "d792c990",
   "metadata": {},
   "outputs": [],
   "source": []
  },
  {
   "cell_type": "code",
   "execution_count": null,
   "id": "665c4c08",
   "metadata": {},
   "outputs": [],
   "source": []
  },
  {
   "cell_type": "code",
   "execution_count": null,
   "id": "b477d4a3",
   "metadata": {},
   "outputs": [],
   "source": []
  },
  {
   "cell_type": "code",
   "execution_count": null,
   "id": "2229ab90",
   "metadata": {},
   "outputs": [],
   "source": []
  },
  {
   "cell_type": "code",
   "execution_count": null,
   "id": "23cc973d",
   "metadata": {},
   "outputs": [],
   "source": []
  },
  {
   "cell_type": "code",
   "execution_count": null,
   "id": "42891a29",
   "metadata": {},
   "outputs": [],
   "source": []
  },
  {
   "cell_type": "code",
   "execution_count": null,
   "id": "26ff5382",
   "metadata": {},
   "outputs": [],
   "source": []
  },
  {
   "cell_type": "code",
   "execution_count": null,
   "id": "e64c40db",
   "metadata": {},
   "outputs": [],
   "source": []
  }
 ],
 "metadata": {
  "kernelspec": {
   "display_name": "Python 3",
   "language": "python",
   "name": "python3"
  },
  "language_info": {
   "codemirror_mode": {
    "name": "ipython",
    "version": 3
   },
   "file_extension": ".py",
   "mimetype": "text/x-python",
   "name": "python",
   "nbconvert_exporter": "python",
   "pygments_lexer": "ipython3",
   "version": "3.8.2"
  }
 },
 "nbformat": 4,
 "nbformat_minor": 5
}
