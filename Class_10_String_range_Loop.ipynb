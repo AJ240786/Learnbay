{
 "cells": [
  {
   "cell_type": "code",
   "execution_count": null,
   "id": "9b886d32",
   "metadata": {},
   "outputs": [],
   "source": [
    "# 'encode', 'expandtabs', 'format', \n",
    "# 'format_map',\n",
    "# 'maketrans', \n",
    "# 'translate', "
   ]
  },
  {
   "cell_type": "code",
   "execution_count": 2,
   "id": "3f76f466",
   "metadata": {
    "ExecuteTime": {
     "end_time": "2021-07-20T02:39:06.040116Z",
     "start_time": "2021-07-20T02:39:06.031997Z"
    }
   },
   "outputs": [],
   "source": [
    "emp_name = 'Rahul'"
   ]
  },
  {
   "cell_type": "code",
   "execution_count": 3,
   "id": "3dc82343",
   "metadata": {
    "ExecuteTime": {
     "end_time": "2021-07-20T02:39:09.759516Z",
     "start_time": "2021-07-20T02:39:09.739460Z"
    }
   },
   "outputs": [
    {
     "data": {
      "text/plain": [
       "'Rahul'"
      ]
     },
     "execution_count": 3,
     "metadata": {},
     "output_type": "execute_result"
    }
   ],
   "source": [
    "emp_name"
   ]
  },
  {
   "cell_type": "code",
   "execution_count": null,
   "id": "6f4b82f9",
   "metadata": {},
   "outputs": [],
   "source": [
    "# (10+20j) * (20+30j)\n",
    "# 200 + 300j + 400j - 600\n",
    "# -400 + 700j\n",
    "\n",
    "# (10+20j)*(2-2j) / (2+2j)*(2-2j)\n",
    "# 20-20j+40j+40/8\n",
    "# 60+20j/8\n",
    "\n",
    "\n"
   ]
  },
  {
   "cell_type": "code",
   "execution_count": 6,
   "id": "aa017af3",
   "metadata": {
    "ExecuteTime": {
     "end_time": "2021-07-20T02:45:49.858147Z",
     "start_time": "2021-07-20T02:45:49.853990Z"
    }
   },
   "outputs": [],
   "source": [
    "# a = 1000\n",
    "# b = 1000\n",
    "# print(id(a))\n",
    "# print(id(b))\n",
    "# c = a      # Aliasing\n",
    "# print(id(c))\n",
    "# print(id(a))"
   ]
  },
  {
   "cell_type": "code",
   "execution_count": 7,
   "id": "d7da8b52",
   "metadata": {
    "ExecuteTime": {
     "end_time": "2021-07-20T02:47:44.516838Z",
     "start_time": "2021-07-20T02:47:44.508014Z"
    }
   },
   "outputs": [
    {
     "name": "stdout",
     "output_type": "stream",
     "text": [
      "9\n"
     ]
    }
   ],
   "source": [
    "# count\n",
    "\n",
    "my_str = 'peter piper picked a peck of pickled peppers'\n",
    "print(my_str.count('p'))\n",
    "\n"
   ]
  },
  {
   "cell_type": "code",
   "execution_count": 11,
   "id": "ffe981d7",
   "metadata": {
    "ExecuteTime": {
     "end_time": "2021-07-20T02:49:59.348261Z",
     "start_time": "2021-07-20T02:49:59.335777Z"
    }
   },
   "outputs": [
    {
     "name": "stdout",
     "output_type": "stream",
     "text": [
      "peter piper picked a peck of pickled peppers\n",
      "zeter zizer zicked a zeck of pickled peppers\n"
     ]
    }
   ],
   "source": [
    "# 'replace',\n",
    "my_str = 'peter piper picked a peck of pickled peppers'\n",
    "res_str = my_str.replace('p', 'z', 5)\n",
    "print(my_str)\n",
    "print(res_str)\n"
   ]
  },
  {
   "cell_type": "code",
   "execution_count": 19,
   "id": "0d2ee2c3",
   "metadata": {
    "ExecuteTime": {
     "end_time": "2021-07-20T02:58:18.175198Z",
     "start_time": "2021-07-20T02:58:18.164070Z"
    }
   },
   "outputs": [
    {
     "name": "stdout",
     "output_type": "stream",
     "text": [
      "False\n",
      "\n",
      "True\n"
     ]
    }
   ],
   "source": [
    "# 'isalnum', 'isalpha', 'isascii', 'isidentifier', \n",
    "# 'islower', 'isnumeric', 'isprintable', 'isspace', 'istitle', 'isupper',\n",
    "\n",
    "# Returns Boolean value\n",
    "\n",
    "# isalnum - whether string is alphanumeric - only alphabets, only numeric, alphanumeric - True\n",
    "# isalpha - if string is having only alphabet\n",
    "# isascii - if string is having only ascii characters\n",
    "# isidentifier - returns if it is a valid identifier, exception - Reserved words\n",
    "# islower - all letters are in lower case\n",
    "# isupper - all letters are in upper case\n",
    "# isnumeric - all letters in strig are only numeric\n",
    "# isprintable - whether all characters are in printable form\n",
    "# isspace - if all characters are space characters\n",
    "# istitle - if string is in title case\n",
    "\n",
    "# s1 = 'FließeN'\n",
    "# s2 = 'Python87 '\n",
    "# print(s1.isascii())\n",
    "# print(s2.isascii())\n",
    "\n",
    "# # isidentifier\n",
    "# s1 = 'emp_name'\n",
    "# s2 = 'emp_sal$'\n",
    "# s3 = '1_emp_id'\n",
    "# s4 = 'for'\n",
    "\n",
    "# print(s1.isidentifier())\n",
    "# print(s2.isidentifier())\n",
    "# print(s3.isidentifier())\n",
    "# print(s4.isidentifier())\n",
    "\n",
    "\n",
    "# import keyword\n",
    "# print(keyword.iskeyword(s4))\n",
    "\n",
    "# isprintable\n",
    "s1 = 'This is \\nPython class'\n",
    "s2 = r'This is \\nPython class'\n",
    "print(s1.isprintable())\n",
    "print()\n",
    "print(s2.isprintable())\n",
    "\n",
    "\n"
   ]
  },
  {
   "cell_type": "code",
   "execution_count": 21,
   "id": "488ac1f8",
   "metadata": {
    "ExecuteTime": {
     "end_time": "2021-07-20T03:00:34.749802Z",
     "start_time": "2021-07-20T03:00:34.742839Z"
    }
   },
   "outputs": [
    {
     "name": "stdout",
     "output_type": "stream",
     "text": [
      "This \\nis \\tpython \\n\\tclass\n"
     ]
    }
   ],
   "source": [
    "print(r'This \\nis \\tpython \\n\\tclass')"
   ]
  },
  {
   "cell_type": "code",
   "execution_count": 24,
   "id": "13418159",
   "metadata": {
    "ExecuteTime": {
     "end_time": "2021-07-20T03:03:48.952178Z",
     "start_time": "2021-07-20T03:03:48.934386Z"
    }
   },
   "outputs": [
    {
     "data": {
      "text/plain": [
       "False"
      ]
     },
     "execution_count": 24,
     "metadata": {},
     "output_type": "execute_result"
    }
   ],
   "source": [
    "'10.20'.isnumeric()\n",
    "'10.20'.isdecimal()\n",
    "'10.20'.isdigit()"
   ]
  },
  {
   "cell_type": "code",
   "execution_count": 26,
   "id": "cf6304e9",
   "metadata": {
    "ExecuteTime": {
     "end_time": "2021-07-20T03:04:30.886628Z",
     "start_time": "2021-07-20T03:04:30.872163Z"
    }
   },
   "outputs": [
    {
     "data": {
      "text/plain": [
       "False"
      ]
     },
     "execution_count": 26,
     "metadata": {},
     "output_type": "execute_result"
    }
   ],
   "source": [
    "'109'.isdecimal()\n",
    "'0b110101'.isdecimal()"
   ]
  },
  {
   "cell_type": "code",
   "execution_count": 28,
   "id": "f9764358",
   "metadata": {
    "ExecuteTime": {
     "end_time": "2021-07-20T03:06:55.575979Z",
     "start_time": "2021-07-20T03:06:55.426042Z"
    }
   },
   "outputs": [
    {
     "ename": "AttributeError",
     "evalue": "'float' object has no attribute 'isdecimal'",
     "output_type": "error",
     "traceback": [
      "\u001b[0;31m---------------------------------------------------------------------------\u001b[0m",
      "\u001b[0;31mAttributeError\u001b[0m                            Traceback (most recent call last)",
      "\u001b[0;32m<ipython-input-28-befe344fd149>\u001b[0m in \u001b[0;36m<module>\u001b[0;34m\u001b[0m\n\u001b[1;32m      1\u001b[0m \u001b[0ma\u001b[0m \u001b[0;34m=\u001b[0m \u001b[0;36m10.5\u001b[0m\u001b[0;34m\u001b[0m\u001b[0;34m\u001b[0m\u001b[0m\n\u001b[0;32m----> 2\u001b[0;31m \u001b[0ma\u001b[0m\u001b[0;34m.\u001b[0m\u001b[0misdecimal\u001b[0m\u001b[0;34m(\u001b[0m\u001b[0;34m)\u001b[0m\u001b[0;34m\u001b[0m\u001b[0;34m\u001b[0m\u001b[0m\n\u001b[0m",
      "\u001b[0;31mAttributeError\u001b[0m: 'float' object has no attribute 'isdecimal'"
     ]
    }
   ],
   "source": [
    "a = 10.5\n",
    "a.isdecimal()"
   ]
  },
  {
   "cell_type": "code",
   "execution_count": 29,
   "id": "b8f5a685",
   "metadata": {
    "ExecuteTime": {
     "end_time": "2021-07-20T03:08:20.747847Z",
     "start_time": "2021-07-20T03:08:20.725881Z"
    }
   },
   "outputs": [
    {
     "data": {
      "text/plain": [
       "False"
      ]
     },
     "execution_count": 29,
     "metadata": {},
     "output_type": "execute_result"
    }
   ],
   "source": [
    "'1081254'.isdecimal()"
   ]
  },
  {
   "cell_type": "code",
   "execution_count": 31,
   "id": "337904ae",
   "metadata": {
    "ExecuteTime": {
     "end_time": "2021-07-20T03:10:35.206376Z",
     "start_time": "2021-07-20T03:10:35.200310Z"
    }
   },
   "outputs": [
    {
     "data": {
      "text/plain": [
       "False"
      ]
     },
     "execution_count": 31,
     "metadata": {},
     "output_type": "execute_result"
    }
   ],
   "source": [
    "'10.20'.isnumeric()"
   ]
  },
  {
   "cell_type": "code",
   "execution_count": 35,
   "id": "d6776429",
   "metadata": {
    "ExecuteTime": {
     "end_time": "2021-07-20T03:15:02.743906Z",
     "start_time": "2021-07-20T03:15:02.731186Z"
    }
   },
   "outputs": [
    {
     "data": {
      "text/plain": [
       "False"
      ]
     },
     "execution_count": 35,
     "metadata": {},
     "output_type": "execute_result"
    }
   ],
   "source": [
    "'1092₄'.isdigit()\n",
    "'1092₄'.isnumeric()\n",
    "'1092₄'.isdecimal()"
   ]
  },
  {
   "cell_type": "code",
   "execution_count": 32,
   "id": "718b12a2",
   "metadata": {
    "ExecuteTime": {
     "end_time": "2021-07-20T03:13:53.835074Z",
     "start_time": "2021-07-20T03:13:53.827836Z"
    }
   },
   "outputs": [
    {
     "data": {
      "text/plain": [
       "False"
      ]
     },
     "execution_count": 32,
     "metadata": {},
     "output_type": "execute_result"
    }
   ],
   "source": [
    "'10⁻¹⁹'.isdigit()"
   ]
  },
  {
   "cell_type": "code",
   "execution_count": 39,
   "id": "5b2e730a",
   "metadata": {
    "ExecuteTime": {
     "end_time": "2021-07-20T03:17:07.272855Z",
     "start_time": "2021-07-20T03:17:07.258995Z"
    }
   },
   "outputs": [
    {
     "name": "stdout",
     "output_type": "stream",
     "text": [
      "True\n"
     ]
    },
    {
     "data": {
      "text/plain": [
       "False"
      ]
     },
     "execution_count": 39,
     "metadata": {},
     "output_type": "execute_result"
    }
   ],
   "source": [
    "print('Ⅰ'.isnumeric())\n",
    "'Ⅰ'.isdigit()\n",
    "'Ⅰ'.isdecimal()"
   ]
  },
  {
   "cell_type": "code",
   "execution_count": 41,
   "id": "e37f5abb",
   "metadata": {
    "ExecuteTime": {
     "end_time": "2021-07-20T03:20:59.936691Z",
     "start_time": "2021-07-20T03:20:59.926772Z"
    }
   },
   "outputs": [
    {
     "name": "stdout",
     "output_type": "stream",
     "text": [
      "True\n",
      "²\n"
     ]
    }
   ],
   "source": [
    "c=u\"\\u00B2\" \n",
    "print(c.isnumeric())\n",
    "print(c)"
   ]
  },
  {
   "cell_type": "code",
   "execution_count": 42,
   "id": "9ad74f72",
   "metadata": {
    "ExecuteTime": {
     "end_time": "2021-07-20T03:23:03.286238Z",
     "start_time": "2021-07-20T03:23:03.281223Z"
    }
   },
   "outputs": [
    {
     "name": "stdout",
     "output_type": "stream",
     "text": [
      "('This', ' is', ' Python class')\n"
     ]
    }
   ],
   "source": [
    "# Partition\n",
    "my_str = 'This is Python class'\n",
    "print(my_str.partition(' is'))\n",
    "\n",
    "\n",
    "\n"
   ]
  },
  {
   "cell_type": "code",
   "execution_count": 46,
   "id": "ff05265c",
   "metadata": {
    "ExecuteTime": {
     "end_time": "2021-07-20T03:24:58.914156Z",
     "start_time": "2021-07-20T03:24:58.907746Z"
    }
   },
   "outputs": [
    {
     "name": "stdout",
     "output_type": "stream",
     "text": [
      "['This is Python class ', 'at Learnbay in Bangalore']\n"
     ]
    }
   ],
   "source": [
    "# splitlines\n",
    "\n",
    "# my_str = 'This is Python class \\nat Learnbay in Bangalore'\n",
    "# print(my_str.splitlines())\n"
   ]
  },
  {
   "cell_type": "markdown",
   "id": "a1e79c89",
   "metadata": {},
   "source": [
    "# range"
   ]
  },
  {
   "cell_type": "code",
   "execution_count": 70,
   "id": "5a9a5ef5",
   "metadata": {
    "ExecuteTime": {
     "end_time": "2021-07-20T03:49:23.342711Z",
     "start_time": "2021-07-20T03:49:23.334107Z"
    }
   },
   "outputs": [
    {
     "name": "stdout",
     "output_type": "stream",
     "text": [
      "0\n",
      "10\n",
      "1\n",
      "1\n",
      "7\n"
     ]
    }
   ],
   "source": [
    "# range(start, stop, step)\n",
    "\n",
    "# Step can be +ve and -ve both\n",
    "# If step is +ve then seq of numbers will be generated from left to right\n",
    "# If step is -ve then seq of numbers will be generated from right to left\n",
    "\n",
    "\n",
    "#     <-------------------------------------------------------------------------------------------- step -> -ve\n",
    "# -inf----------------------------------------------0----------------------------------------------+inf\n",
    "#     --------------------------------------------------------------------------------------------> Step -> +ve\n",
    "\n",
    "# Generate a seq of numbers from 0 to 10 where 0 and 10 are inclusive\n",
    "\n",
    "# print(list(range(0, 11, 1)))\n",
    "# print(list(range(0, 11, 2)))\n",
    "# print(list(range(11)))   # Default start = 0 and step = 1\n",
    "# print(list(range(11, 31, 3)))\n",
    "# print(list(range(11, 31, -3)))\n",
    "\n",
    "\n",
    "# print(list(range(10, -10, -1)))\n",
    "# print(list(range(10, -10, -2)))\n",
    "\n",
    "# range function is used to access the value by index in for loop\n",
    "\n",
    "# my_str = 'Python'\n",
    "# print(list(range(0, len(my_str))))\n",
    "\n",
    "\n",
    "# lst = [10, 10.20, 10+20j, 'Hello', True, [1,2,3]]\n",
    "# print(list(range(len(lst))))\n",
    "\n",
    "\n",
    "r = range(10)    # Is an iterable\n",
    "# print(a, type(a))\n",
    "# print(dir(a))\n",
    "print(r.start)\n",
    "print(r.stop)\n",
    "print(r.step)\n",
    "print(r.count(1))\n",
    "print(r.index(7))\n",
    "\n",
    "\n",
    "\n",
    "\n"
   ]
  },
  {
   "cell_type": "markdown",
   "id": "4047ad33",
   "metadata": {},
   "source": [
    "# Conditions in Python"
   ]
  },
  {
   "cell_type": "code",
   "execution_count": 75,
   "id": "1a6e5f06",
   "metadata": {
    "ExecuteTime": {
     "end_time": "2021-07-20T03:57:17.870822Z",
     "start_time": "2021-07-20T03:57:17.861273Z"
    }
   },
   "outputs": [
    {
     "ename": "IndentationError",
     "evalue": "expected an indented block (<ipython-input-75-c3ef0eabd33b>, line 3)",
     "output_type": "error",
     "traceback": [
      "\u001b[0;36m  File \u001b[0;32m\"<ipython-input-75-c3ef0eabd33b>\"\u001b[0;36m, line \u001b[0;32m3\u001b[0m\n\u001b[0;31m    print('You may go for Insurance A')\u001b[0m\n\u001b[0m    ^\u001b[0m\n\u001b[0;31mIndentationError\u001b[0m\u001b[0;31m:\u001b[0m expected an indented block\n"
     ]
    }
   ],
   "source": [
    "age_user = int(input('Enter your age: '))\n",
    "if (age_user >= 20) and (age_user <= 40):\n",
    "    print('You may go for Insurance A')\n",
    "if (age_user > 40) and (age_user <= 60):\n",
    "    print('You may go for Insurance B')\n",
    "if (age_user > 60):\n",
    "    print('You may go for Insurance C') \n"
   ]
  },
  {
   "cell_type": "code",
   "execution_count": 77,
   "id": "a69d2105",
   "metadata": {
    "ExecuteTime": {
     "end_time": "2021-07-20T03:59:04.150492Z",
     "start_time": "2021-07-20T03:58:57.245731Z"
    }
   },
   "outputs": [
    {
     "name": "stdout",
     "output_type": "stream",
     "text": [
      "Enter your age: 30\n",
      "You may go for Insurance A\n",
      "You are not eligible for purchasing Insurance\n"
     ]
    }
   ],
   "source": [
    "age_user = int(input('Enter your age: '))\n",
    "if (age_user >= 20) and (age_user <= 40):\n",
    "    print('You may go for Insurance A')\n",
    "if (age_user > 40) and (age_user <= 60):\n",
    "    print('You may go for Insurance B')\n",
    "if (age_user > 60):\n",
    "    print('You may go for Insurance C') \n",
    "else:\n",
    "    print('You are not eligible for purchasing Insurance')"
   ]
  },
  {
   "cell_type": "code",
   "execution_count": 83,
   "id": "ebf6e57a",
   "metadata": {
    "ExecuteTime": {
     "end_time": "2021-07-20T04:04:44.180886Z",
     "start_time": "2021-07-20T04:04:42.757001Z"
    }
   },
   "outputs": [
    {
     "name": "stdout",
     "output_type": "stream",
     "text": [
      "Enter your age: 10\n",
      "You are not eligible for purchasing Insurance\n"
     ]
    }
   ],
   "source": [
    "age_user = int(input('Enter your age: '))\n",
    "if (age_user >= 20) and (age_user <= 40):\n",
    "    print('You may go for Insurance A')\n",
    "elif (age_user > 40) and (age_user <= 60):\n",
    "    print('You may go for Insurance B')\n",
    "elif (age_user > 60):\n",
    "    print('You may go for Insurance C') \n",
    "else:\n",
    "    print('You are not eligible for purchasing Insurance')\n",
    "    \n",
    "    \n",
    "    \n",
    "# else and elif are optional"
   ]
  },
  {
   "cell_type": "code",
   "execution_count": 87,
   "id": "a93b1575",
   "metadata": {
    "ExecuteTime": {
     "end_time": "2021-07-20T04:09:22.551357Z",
     "start_time": "2021-07-20T04:09:20.836855Z"
    }
   },
   "outputs": [
    {
     "name": "stdout",
     "output_type": "stream",
     "text": [
      "Enter an year: 1967\n",
      "Year is not a leap year\n"
     ]
    }
   ],
   "source": [
    "# Nested if else block\n",
    "\n",
    "year = int(input('Enter an year: '))\n",
    "if year%4 == 0:\n",
    "    if year%100 == 0:\n",
    "        if year%400 == 0:\n",
    "            print('Year is Leap Year')\n",
    "        else:\n",
    "            print('Year is not a leap Year')\n",
    "    else:\n",
    "        print('Year is Leap Year')\n",
    "else:\n",
    "    print('Year is not a leap year')\n"
   ]
  },
  {
   "cell_type": "code",
   "execution_count": null,
   "id": "04e00664",
   "metadata": {},
   "outputs": [],
   "source": [
    "# Take a number from user and check whether number is even or odd?\n",
    "\n",
    "# Take 3 number from user and find the maximum and minimum using if-elif-else.\n",
    "\n",
    "# Write a program that prompts the user to input the value of a (the coefficient of x2), \n",
    "# b (the coefficient of x), and c (the constant term) and outputs the roots of the quadratic equation.\n",
    "# The roots of the quadratic equation ax2 + bx + c = 0, a ≠ 0 are given by the following formula:\n",
    "# (-b+/-sqrt((b**2)-(4*a*c)))/2*a\n",
    "# In this formula, the term b2 - 4ac is called the discriminant. If b2 - 4ac = 0, then the equation has two equal roots.\n",
    "# If b2 - 4ac > 0, the equation has two real roots. If b2 - 4ac < 0, the equation has two complex roots.\n",
    "\n",
    "# The marks obtained by a student in 3 different subjects are input by the user. \n",
    "# Your program should calculate the average of subjects and display the grade. \n",
    "# The student gets a grade as per the following rules:\n",
    "\n",
    "# Average\tGrade\n",
    "# 90-100\tA\n",
    "# 80-89\tB\n",
    "# 70-79\tC\n",
    "# 60-69\tD\n",
    "# 0-59\tF\n",
    "\n",
    "# Write a program that prompts the user to input a character and determine the character is vowel or consonant.\n",
    "\n",
    "\n",
    "\n",
    "\n",
    "\n",
    "\n"
   ]
  },
  {
   "cell_type": "code",
   "execution_count": null,
   "id": "26b072b0",
   "metadata": {},
   "outputs": [],
   "source": [
    "# Loops in Python\n",
    "\n",
    "# for \n",
    "# while\n",
    "\n",
    "\n"
   ]
  },
  {
   "cell_type": "code",
   "execution_count": null,
   "id": "2aa1a2ee",
   "metadata": {},
   "outputs": [],
   "source": []
  },
  {
   "cell_type": "code",
   "execution_count": null,
   "id": "e9f4c5bc",
   "metadata": {},
   "outputs": [],
   "source": []
  },
  {
   "cell_type": "code",
   "execution_count": null,
   "id": "ed1eda51",
   "metadata": {},
   "outputs": [],
   "source": []
  },
  {
   "cell_type": "code",
   "execution_count": null,
   "id": "cb8965c6",
   "metadata": {},
   "outputs": [],
   "source": []
  },
  {
   "cell_type": "code",
   "execution_count": null,
   "id": "1674a8b9",
   "metadata": {},
   "outputs": [],
   "source": []
  },
  {
   "cell_type": "code",
   "execution_count": null,
   "id": "6871df87",
   "metadata": {},
   "outputs": [],
   "source": []
  },
  {
   "cell_type": "code",
   "execution_count": null,
   "id": "9d18e62c",
   "metadata": {},
   "outputs": [],
   "source": []
  },
  {
   "cell_type": "code",
   "execution_count": null,
   "id": "6515b60b",
   "metadata": {},
   "outputs": [],
   "source": []
  },
  {
   "cell_type": "code",
   "execution_count": null,
   "id": "fe01dbc5",
   "metadata": {},
   "outputs": [],
   "source": []
  },
  {
   "cell_type": "code",
   "execution_count": null,
   "id": "bae97223",
   "metadata": {},
   "outputs": [],
   "source": []
  },
  {
   "cell_type": "code",
   "execution_count": null,
   "id": "74211caa",
   "metadata": {},
   "outputs": [],
   "source": []
  },
  {
   "cell_type": "code",
   "execution_count": null,
   "id": "179f9d22",
   "metadata": {},
   "outputs": [],
   "source": []
  },
  {
   "cell_type": "code",
   "execution_count": null,
   "id": "89abafd1",
   "metadata": {},
   "outputs": [],
   "source": []
  },
  {
   "cell_type": "code",
   "execution_count": null,
   "id": "4e2c0e5e",
   "metadata": {},
   "outputs": [],
   "source": []
  },
  {
   "cell_type": "code",
   "execution_count": null,
   "id": "d445bbe5",
   "metadata": {},
   "outputs": [],
   "source": []
  },
  {
   "cell_type": "code",
   "execution_count": null,
   "id": "1341323d",
   "metadata": {},
   "outputs": [],
   "source": []
  },
  {
   "cell_type": "code",
   "execution_count": null,
   "id": "27644153",
   "metadata": {},
   "outputs": [],
   "source": []
  },
  {
   "cell_type": "code",
   "execution_count": null,
   "id": "d8aaa8ba",
   "metadata": {},
   "outputs": [],
   "source": []
  },
  {
   "cell_type": "code",
   "execution_count": null,
   "id": "a4e6c267",
   "metadata": {},
   "outputs": [],
   "source": []
  },
  {
   "cell_type": "code",
   "execution_count": null,
   "id": "42d861a8",
   "metadata": {},
   "outputs": [],
   "source": []
  },
  {
   "cell_type": "code",
   "execution_count": null,
   "id": "25cc7efa",
   "metadata": {},
   "outputs": [],
   "source": []
  },
  {
   "cell_type": "code",
   "execution_count": null,
   "id": "2febc5f6",
   "metadata": {},
   "outputs": [],
   "source": []
  },
  {
   "cell_type": "code",
   "execution_count": null,
   "id": "de167b80",
   "metadata": {},
   "outputs": [],
   "source": []
  },
  {
   "cell_type": "code",
   "execution_count": null,
   "id": "5a038ffa",
   "metadata": {},
   "outputs": [],
   "source": []
  },
  {
   "cell_type": "code",
   "execution_count": null,
   "id": "c7841a29",
   "metadata": {},
   "outputs": [],
   "source": []
  },
  {
   "cell_type": "code",
   "execution_count": null,
   "id": "e2bf0448",
   "metadata": {},
   "outputs": [],
   "source": []
  },
  {
   "cell_type": "code",
   "execution_count": null,
   "id": "c77e31a0",
   "metadata": {},
   "outputs": [],
   "source": []
  },
  {
   "cell_type": "code",
   "execution_count": null,
   "id": "05af73b6",
   "metadata": {},
   "outputs": [],
   "source": []
  },
  {
   "cell_type": "code",
   "execution_count": null,
   "id": "1f793688",
   "metadata": {},
   "outputs": [],
   "source": []
  },
  {
   "cell_type": "code",
   "execution_count": null,
   "id": "d1cac93a",
   "metadata": {},
   "outputs": [],
   "source": []
  },
  {
   "cell_type": "code",
   "execution_count": null,
   "id": "24ced18a",
   "metadata": {},
   "outputs": [],
   "source": []
  },
  {
   "cell_type": "code",
   "execution_count": null,
   "id": "ff9f48d4",
   "metadata": {},
   "outputs": [],
   "source": []
  },
  {
   "cell_type": "code",
   "execution_count": null,
   "id": "1819c2b3",
   "metadata": {},
   "outputs": [],
   "source": []
  },
  {
   "cell_type": "code",
   "execution_count": null,
   "id": "14518b88",
   "metadata": {},
   "outputs": [],
   "source": []
  },
  {
   "cell_type": "code",
   "execution_count": null,
   "id": "84378a36",
   "metadata": {},
   "outputs": [],
   "source": []
  },
  {
   "cell_type": "code",
   "execution_count": null,
   "id": "73da0710",
   "metadata": {},
   "outputs": [],
   "source": []
  },
  {
   "cell_type": "code",
   "execution_count": null,
   "id": "caa9e4cc",
   "metadata": {},
   "outputs": [],
   "source": []
  },
  {
   "cell_type": "code",
   "execution_count": null,
   "id": "935b5e62",
   "metadata": {},
   "outputs": [],
   "source": []
  },
  {
   "cell_type": "code",
   "execution_count": null,
   "id": "052291b3",
   "metadata": {},
   "outputs": [],
   "source": []
  },
  {
   "cell_type": "code",
   "execution_count": null,
   "id": "19c72cf6",
   "metadata": {},
   "outputs": [],
   "source": []
  },
  {
   "cell_type": "code",
   "execution_count": null,
   "id": "a5cd3450",
   "metadata": {},
   "outputs": [],
   "source": []
  },
  {
   "cell_type": "code",
   "execution_count": null,
   "id": "2fe2852f",
   "metadata": {},
   "outputs": [],
   "source": []
  },
  {
   "cell_type": "code",
   "execution_count": null,
   "id": "ceaaf032",
   "metadata": {},
   "outputs": [],
   "source": []
  },
  {
   "cell_type": "code",
   "execution_count": null,
   "id": "8b8b9cbe",
   "metadata": {},
   "outputs": [],
   "source": []
  },
  {
   "cell_type": "code",
   "execution_count": null,
   "id": "f648abc3",
   "metadata": {},
   "outputs": [],
   "source": []
  },
  {
   "cell_type": "code",
   "execution_count": null,
   "id": "84cadbaf",
   "metadata": {},
   "outputs": [],
   "source": []
  },
  {
   "cell_type": "code",
   "execution_count": null,
   "id": "eabbd05c",
   "metadata": {},
   "outputs": [],
   "source": []
  },
  {
   "cell_type": "code",
   "execution_count": null,
   "id": "00fae39c",
   "metadata": {},
   "outputs": [],
   "source": []
  },
  {
   "cell_type": "code",
   "execution_count": null,
   "id": "d67aabde",
   "metadata": {},
   "outputs": [],
   "source": []
  },
  {
   "cell_type": "code",
   "execution_count": null,
   "id": "64997ab1",
   "metadata": {},
   "outputs": [],
   "source": []
  },
  {
   "cell_type": "code",
   "execution_count": null,
   "id": "4aa1a46e",
   "metadata": {},
   "outputs": [],
   "source": []
  },
  {
   "cell_type": "code",
   "execution_count": null,
   "id": "b866b12b",
   "metadata": {},
   "outputs": [],
   "source": []
  },
  {
   "cell_type": "code",
   "execution_count": null,
   "id": "1ccc4fc7",
   "metadata": {},
   "outputs": [],
   "source": []
  },
  {
   "cell_type": "code",
   "execution_count": null,
   "id": "7d4d5112",
   "metadata": {},
   "outputs": [],
   "source": []
  },
  {
   "cell_type": "code",
   "execution_count": null,
   "id": "a440eb4b",
   "metadata": {},
   "outputs": [],
   "source": []
  },
  {
   "cell_type": "code",
   "execution_count": null,
   "id": "115e64c3",
   "metadata": {},
   "outputs": [],
   "source": []
  },
  {
   "cell_type": "code",
   "execution_count": null,
   "id": "6ee0fc96",
   "metadata": {},
   "outputs": [],
   "source": []
  },
  {
   "cell_type": "code",
   "execution_count": null,
   "id": "ff069bc4",
   "metadata": {},
   "outputs": [],
   "source": []
  },
  {
   "cell_type": "code",
   "execution_count": null,
   "id": "1f3a7376",
   "metadata": {},
   "outputs": [],
   "source": []
  },
  {
   "cell_type": "code",
   "execution_count": null,
   "id": "f850e18a",
   "metadata": {},
   "outputs": [],
   "source": []
  },
  {
   "cell_type": "code",
   "execution_count": null,
   "id": "ed25afae",
   "metadata": {},
   "outputs": [],
   "source": []
  },
  {
   "cell_type": "code",
   "execution_count": null,
   "id": "81e9d5fe",
   "metadata": {},
   "outputs": [],
   "source": []
  },
  {
   "cell_type": "code",
   "execution_count": null,
   "id": "16da1677",
   "metadata": {},
   "outputs": [],
   "source": []
  },
  {
   "cell_type": "code",
   "execution_count": null,
   "id": "6a603886",
   "metadata": {},
   "outputs": [],
   "source": []
  },
  {
   "cell_type": "code",
   "execution_count": null,
   "id": "dbc0ffef",
   "metadata": {},
   "outputs": [],
   "source": []
  },
  {
   "cell_type": "code",
   "execution_count": null,
   "id": "4f743b33",
   "metadata": {},
   "outputs": [],
   "source": []
  },
  {
   "cell_type": "code",
   "execution_count": null,
   "id": "3c21d828",
   "metadata": {},
   "outputs": [],
   "source": []
  }
 ],
 "metadata": {
  "kernelspec": {
   "display_name": "Python 3",
   "language": "python",
   "name": "python3"
  },
  "language_info": {
   "codemirror_mode": {
    "name": "ipython",
    "version": 3
   },
   "file_extension": ".py",
   "mimetype": "text/x-python",
   "name": "python",
   "nbconvert_exporter": "python",
   "pygments_lexer": "ipython3",
   "version": "3.8.2"
  }
 },
 "nbformat": 4,
 "nbformat_minor": 5
}
