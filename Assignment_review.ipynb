{
 "cells": [
  {
   "cell_type": "code",
   "execution_count": null,
   "id": "af4191ed",
   "metadata": {},
   "outputs": [],
   "source": [
    "# int, float, complex, boolean\n",
    "string, List"
   ]
  },
  {
   "cell_type": "code",
   "execution_count": 5,
   "id": "22b667c1",
   "metadata": {
    "ExecuteTime": {
     "end_time": "2021-08-24T02:43:01.356892Z",
     "start_time": "2021-08-24T02:43:01.341911Z"
    }
   },
   "outputs": [
    {
     "name": "stdout",
     "output_type": "stream",
     "text": [
      "Peter\n"
     ]
    }
   ],
   "source": [
    "# Why does the ternary operator code below not work?\n",
    "abc = 'peter'\n",
    "print(abc.capitalize() if abc[0].islower() else abc.title() if abc[0].isupper()==True else abc)\n",
    "\n",
    "\n",
    "\n",
    "\n"
   ]
  },
  {
   "cell_type": "code",
   "execution_count": null,
   "id": "90d02291",
   "metadata": {},
   "outputs": [],
   "source": [
    "Dictionary"
   ]
  },
  {
   "cell_type": "code",
   "execution_count": 15,
   "id": "b148f12f",
   "metadata": {
    "ExecuteTime": {
     "end_time": "2021-08-24T02:49:12.574942Z",
     "start_time": "2021-08-24T02:49:12.559576Z"
    }
   },
   "outputs": [
    {
     "data": {
      "text/plain": [
       "[]"
      ]
     },
     "execution_count": 15,
     "metadata": {},
     "output_type": "execute_result"
    }
   ],
   "source": [
    "# Write a function reverseLookup(dictionary, value) that takes in a dictionary \n",
    "# and a value as arguments and returns a sorted list of all keys that contains the value. \n",
    "# The function will return an empty list if no match is found.\n",
    "\n",
    "# In - reverseLookup({'a':1, 'b':2, 'c':2}, 1)\n",
    "# Out - ['a']\n",
    "# In - reverseLookup({'a':1, 'b':2, 'c':2}, 2)\n",
    "# Out - ['b', 'c']\n",
    "# In - reverseLookup({'a':1, 'b':2, 'c':2}, 3)\n",
    "# Out - []\n",
    "\n",
    "d = {'a':1, 'b':2, 'c':2}\n",
    "def reverseLookup(d, v):\n",
    "    val_lst = []\n",
    "    out_dict = {}\n",
    "    for i in list(d.items()):\n",
    "        if i[1] not in out_dict:\n",
    "            out_dict[i[1]] = [i[0]]\n",
    "        else:\n",
    "            out_dict[i[1]].append(i[0])\n",
    "    return out_dict[v] if v in out_dict else []\n",
    "\n",
    "reverseLookup(d, 3)\n",
    "\n",
    "\n",
    "\n"
   ]
  },
  {
   "cell_type": "code",
   "execution_count": null,
   "id": "e365aefe",
   "metadata": {},
   "outputs": [],
   "source": [
    "out_dict = {1:['a'], 2:['b', 'c']}"
   ]
  },
  {
   "cell_type": "code",
   "execution_count": 21,
   "id": "0d95bc63",
   "metadata": {
    "ExecuteTime": {
     "end_time": "2021-08-24T03:00:09.934251Z",
     "start_time": "2021-08-24T03:00:09.921012Z"
    }
   },
   "outputs": [
    {
     "data": {
      "text/plain": [
       "[[[0, 0, 0, 0, 0, 0],\n",
       "  [0, 0, 0, 0, 0, 0],\n",
       "  [0, 0, 0, 0, 0, 0],\n",
       "  [0, 0, 0, 0, 0, 0]],\n",
       " [[0, 0, 0, 0, 0, 0],\n",
       "  [1, 1, 1, 1, 1, 1],\n",
       "  [2, 2, 2, 2, 2, 2],\n",
       "  [3, 3, 3, 3, 3, 3]],\n",
       " [[0, 0, 0, 0, 0, 0],\n",
       "  [2, 2, 2, 2, 2, 2],\n",
       "  [4, 4, 4, 4, 4, 4],\n",
       "  [6, 6, 6, 6, 6, 6]]]"
      ]
     },
     "execution_count": 21,
     "metadata": {},
     "output_type": "execute_result"
    }
   ],
   "source": [
    "#Write a Python program to create a 3X4X6 3D matrix wiith below elements using loop\n",
    "#Output:- \n",
    "# [\n",
    "#     [[0,0,0,0,0,0],[0,0,0,0,0,0],[0,0,0,0,0,0],[0,0,0,0,0,0]],\n",
    "#     [[0,0,0,0,0,0],[1,1,1,1,1,1],[2,2,2,2,2,2],[3,3,3,3,3,3]],\n",
    "#     [[0,0,0,0,0,0],[2,2,2,2,2,2],[4,4,4,4,4,4],[6,6,6,6,6,6]]\n",
    "# ]\n",
    "\n",
    "\n",
    "\n",
    "# out_list = []\n",
    "# for k in range(3):\n",
    "#     out_list.append([[(i*0)+k*j for i in range(6)] for j in range(4)])\n",
    "# out_list\n",
    "\n",
    "# out_lst = []\n",
    "# for i in range(3):\n",
    "#     in_lst1 = []\n",
    "#     for j in range(4):\n",
    "#         in_lst2 = []\n",
    "#         for k in range(6):\n",
    "#             in_lst2.append(i*j)\n",
    "#         in_lst1.append(in_lst2)\n",
    "#     out_lst.append(in_lst1)\n",
    "# out_lst\n",
    "\n",
    "[[[i*j for k in range(6)] for j in range(4)] for i in range(3)]\n",
    "\n",
    "\n"
   ]
  },
  {
   "cell_type": "code",
   "execution_count": null,
   "id": "aca14f67",
   "metadata": {},
   "outputs": [],
   "source": [
    "lst=[10,1,11,1,29,876,768,10,11,1,92,29,876]\n",
    "\n",
    "k=len(lst)\n",
    "\n",
    "for i in range(0,len(lst)):\n",
    "\n",
    "    for j in range(i+1,len(lst)-1):\n",
    "\n",
    "        if lst[i]==lst[j]:\n",
    "\n",
    "#               lst[i],lst[j]=lst[i]\n",
    "\n",
    "            lst.remove(lst[j])\n",
    "\n",
    "#             print (lst[j])\n",
    "\n",
    "#             lst[i]=lst[j]\n",
    "\n",
    "\n",
    "print (lst)\n",
    "\n",
    "\n",
    "# why is the remove fxn not working in this program"
   ]
  },
  {
   "cell_type": "code",
   "execution_count": 23,
   "id": "e489a421",
   "metadata": {
    "ExecuteTime": {
     "end_time": "2021-08-24T03:04:09.066666Z",
     "start_time": "2021-08-24T03:04:09.055376Z"
    }
   },
   "outputs": [
    {
     "name": "stdout",
     "output_type": "stream",
     "text": [
      "[10, 1, 11, 1, 29, 768, 10, 11, 1, 92, 29, 876]\n"
     ]
    }
   ],
   "source": [
    "lst=[10,1,11,1,29,876,768,10,11,1,92,29,876]\n",
    "lst.remove(lst[-1])\n",
    "print(lst)"
   ]
  },
  {
   "cell_type": "code",
   "execution_count": 25,
   "id": "5a628d0a",
   "metadata": {
    "ExecuteTime": {
     "end_time": "2021-08-24T03:11:58.748925Z",
     "start_time": "2021-08-24T03:11:58.738362Z"
    }
   },
   "outputs": [
    {
     "data": {
      "text/plain": [
       "80"
      ]
     },
     "execution_count": 25,
     "metadata": {},
     "output_type": "execute_result"
    }
   ],
   "source": [
    "# Acess the value of key 'history'\n",
    "\n",
    "\n",
    "sampleDict = {\"class\":{\"student\":{\"name\":\"Mike\",\"marks\":{\"physics\":70,\"history\":80}}}}\n",
    "\n",
    "sampleDict['class']['student']['marks']['history']\n"
   ]
  },
  {
   "cell_type": "code",
   "execution_count": null,
   "id": "35ff68a9",
   "metadata": {},
   "outputs": [],
   "source": [
    "# Function assignment\n"
   ]
  },
  {
   "cell_type": "code",
   "execution_count": null,
   "id": "ac4a7151",
   "metadata": {},
   "outputs": [],
   "source": [
    "# Get the documentation of below function\n",
    "\n",
    "def getScore():\n",
    "    '''A function that computes and returns the final score.'''\n",
    "    pass\n",
    "\n",
    "print(getScore.__doc__)"
   ]
  },
  {
   "cell_type": "code",
   "execution_count": 32,
   "id": "4f8a8f2e",
   "metadata": {
    "ExecuteTime": {
     "end_time": "2021-08-24T03:38:40.273870Z",
     "start_time": "2021-08-24T03:38:40.258659Z"
    }
   },
   "outputs": [
    {
     "data": {
      "text/plain": [
       "-1"
      ]
     },
     "execution_count": 32,
     "metadata": {},
     "output_type": "execute_result"
    }
   ],
   "source": [
    "# For a given list of values in descending order, write a method in python to search \n",
    "# for a value with the help of Binary Search method. \n",
    "# The method should return position of the value and should return -1 if the value not present in the list.\n",
    "\n",
    "lst = [1, 2, 3, 10, 20, 30, 100, 200, 300, 1000]\n",
    "\n",
    "# def bin_serach(lst, val):\n",
    "#     f_ind = 0\n",
    "#     l_ind = len(lst)-1\n",
    "#     mid = (f_ind+l_ind)//2\n",
    "#     while True:\n",
    "#         if val in lst[0:mid]:\n",
    "#             f_ind = 0\n",
    "#             l_ind = len(lst[0:mid])-1\n",
    "#             mid = (f_ind+l_ind)//2\n",
    "#         elif val in lst[mid:]:\n",
    "#             f_ind = mid\n",
    "#             l_ind = len(lst[mid:])-1\n",
    "#             mid = (f_ind+l_ind)//2\n",
    "#         if lst[mid] == val:\n",
    "#             return mid\n",
    "#         else:\n",
    "#             return -1\n",
    "\n",
    "# bin_serach(lst, 100)\n",
    "\n",
    "lst = [1, 2, 3, 10, 20, 30, 100, 200, 300, 1000]\n",
    "def bin_search(lst,ele):\n",
    "    f = 0\n",
    "    l = len(lst)-1\n",
    "    while f <= l:\n",
    "        mid = (f+l)//2\n",
    "        if lst[mid] == ele:\n",
    "            return mid\n",
    "        elif lst[mid] > ele:\n",
    "            f = mid+1\n",
    "        else:\n",
    "            l = mid-1\n",
    "    return -1\n",
    "\n",
    "bin_search(lst, 100)\n"
   ]
  },
  {
   "cell_type": "code",
   "execution_count": 31,
   "id": "9dca0889",
   "metadata": {
    "ExecuteTime": {
     "end_time": "2021-08-24T03:38:07.430885Z",
     "start_time": "2021-08-24T03:38:07.417611Z"
    }
   },
   "outputs": [
    {
     "data": {
      "text/plain": [
       "{1: 'a', 2: 'b', 3: 'c'}"
      ]
     },
     "execution_count": 31,
     "metadata": {},
     "output_type": "execute_result"
    }
   ],
   "source": [
    "# Write a function that accepts a dictionary as an argument. If the dictionary contains replicate values, \n",
    "# return an empty dictionary, otherwise, return a new dictionary whose values are now the keys and whose \n",
    "# keys are the values.\n",
    "\n",
    "d = {'a':1, 'b':2, 'c':3}\n",
    "out_dict = {}\n",
    "def my_fun():\n",
    "    for i in range(len(d.values())):\n",
    "        if list(d.values())[i] in list(d.values())[i+1:]:\n",
    "            return -1\n",
    "        else:\n",
    "            out_dict[list(d.items())[i][1]] = list(d.items())[i][0]\n",
    "    return out_dict\n",
    "my_fun()\n",
    "\n",
    "\n"
   ]
  },
  {
   "cell_type": "code",
   "execution_count": 33,
   "id": "e9edab16",
   "metadata": {
    "ExecuteTime": {
     "end_time": "2021-08-24T03:44:42.312177Z",
     "start_time": "2021-08-24T03:44:42.303988Z"
    }
   },
   "outputs": [],
   "source": [
    "# Pickling - storing the objects(list, tupe, stringm, file etc) in binary format = pickle.dump(object, file)\n",
    "# unPickling - reading the binary data in form of object(list, tupe, stringm, file etc) => pickle.load(file)"
   ]
  },
  {
   "cell_type": "code",
   "execution_count": 40,
   "id": "5c5fbfc2",
   "metadata": {
    "ExecuteTime": {
     "end_time": "2021-08-24T03:48:46.152291Z",
     "start_time": "2021-08-24T03:48:46.142469Z"
    }
   },
   "outputs": [
    {
     "name": "stdout",
     "output_type": "stream",
     "text": [
      "b'\\x80\\x04\\x95\\r\\x00\\x00\\x00\\x00\\x00\\x00\\x00]\\x94(K\\nK\\x14K\\x1eK(e.'\n",
      "[10, 20, 30, 40]\n",
      "<class 'list'>\n"
     ]
    }
   ],
   "source": [
    "import pickle as pkl\n",
    "lst = [10,20,30,40]\n",
    "f = open('my_module.py', 'r+b')\n",
    "pkl.dump(lst, f)\n",
    "f.seek(0)\n",
    "print(f.read())\n",
    "f.seek(0)\n",
    "print(pkl.load(f))\n",
    "f.seek(0)\n",
    "print(type(pkl.load(f)))\n",
    "f.close()"
   ]
  },
  {
   "cell_type": "code",
   "execution_count": 43,
   "id": "5f5301cb",
   "metadata": {
    "ExecuteTime": {
     "end_time": "2021-08-24T03:54:59.693756Z",
     "start_time": "2021-08-24T03:54:59.656929Z"
    }
   },
   "outputs": [
    {
     "name": "stdout",
     "output_type": "stream",
     "text": [
      "[[['BookNo', 5611], ['Book_Name', 'Junior Level Books Introduction to Computer'], ['Author', 'Amit Garg'], ['Price', 200.35]], [['BookNo', 8067], ['Book_Name', 'Publish News Letter'], ['Author', 'Amit Garg'], ['Price', 150.67]], [['BookNo', 6211], ['Book_Name', 'Client Server Computing'], ['Author', 'Lalit Kumar'], ['Price', 250.62]], [['BookNo', 1009], ['Book_Name', 'Data Structure Using C'], ['Author', 'Sharad Kumar Verma'], ['Price', 550.18]], [['BookNo', 311], ['Book_Name', 'Client Server Computing'], ['Author', 'Sharad Kumar Verma'], ['Price', 650.0]], [['BookNo', 8751], ['Book_Name', 'Computer Networks'], ['Author', 'Sharad Kumar Verma'], ['Price', 350.6]], [['BookNo', 8110], ['Book_Name', '.NET Framework & C#'], ['Author', 'Gunjan Verma'], ['Price', 250.6]]]\n",
      "Number of books return by Sharad Kumar Verma = 3\n"
     ]
    }
   ],
   "source": [
    "# A binary file \"Book.dat\" has structure [BookNo, Book_Name, Author, Price].\n",
    "# i. Write a user defined function createFile() to input data for a record and add to Book.dat.\n",
    "# ii. Write a function countRec(Author) in Python which accepts the Author name as parameter \n",
    "# and count and return number of books by the given Author are stored in the binary file \"Book.dat\"\n",
    "\n",
    "# A binary file \"Book.dat\" has structure [BookNo, Book_Name, Author, Price].\n",
    "# i. Write a user defined function createFile() to input data for a record and add to Book.dat.\n",
    "# ii. Write a function countRec(Author) in Python which accepts the Author name as parameter \n",
    "# and count and return number of books by the given Author are stored in the binary file \"Book.dat\"\n",
    "\n",
    "\n",
    "import pickle\n",
    "Book=[]\n",
    "\n",
    "def createFile():\n",
    "    Book1=[['BookNo',5611],['Book_Name','Junior Level Books Introduction to Computer'],['Author','Amit Garg'],['Price',200.35]]\n",
    "    Book2=[['BookNo',8067],['Book_Name','Publish News Letter'],['Author','Amit Garg'],['Price',150.67]]\n",
    "    Book3=[['BookNo',6211],['Book_Name','Client Server Computing'],['Author','Lalit Kumar'],['Price',250.62]]\n",
    "    Book4=[['BookNo',1009],['Book_Name','Data Structure Using C'],['Author','Sharad Kumar Verma'],['Price',550.18]]\n",
    "    Book5=[['BookNo',311],['Book_Name','Client Server Computing'],['Author','Sharad Kumar Verma'],['Price',650.00]]\n",
    "    Book6=[['BookNo',8751],['Book_Name','Computer Networks'],['Author','Sharad Kumar Verma'],['Price',350.60]]\n",
    "    Book7=[['BookNo',8110],['Book_Name','.NET Framework & C#'],['Author','Gunjan Verma'],['Price',250.60]]\n",
    "    Book.append(Book1)\n",
    "    Book.append(Book2)\n",
    "    Book.append(Book3)\n",
    "    Book.append(Book4)\n",
    "    Book.append(Book5)\n",
    "    Book.append(Book6)\n",
    "    Book.append(Book7)\n",
    "    Book_details=open('Book1.dat','w+b')\n",
    "    pickle.dump(Book,Book_details)\n",
    "    Book_details.close()\n",
    "\n",
    "def countRec(Author):\n",
    "    sum1=[]\n",
    "    Book_read=open('Book1.dat','r+b')\n",
    "    content=pickle.load(Book_read)\n",
    "    print(content)\n",
    "    for i in content:\n",
    "        if i[2][1]==Author:\n",
    "            sum1.append([i[2][1]])\n",
    "    print(f'Number of books return by {Author} =',len(sum1))\n",
    "    \n",
    "createFile() \n",
    "countRec('Sharad Kumar Verma')"
   ]
  },
  {
   "cell_type": "code",
   "execution_count": 55,
   "id": "62e89851",
   "metadata": {
    "ExecuteTime": {
     "end_time": "2021-08-24T04:17:56.791326Z",
     "start_time": "2021-08-24T04:17:44.334377Z"
    }
   },
   "outputs": [
    {
     "name": "stdout",
     "output_type": "stream",
     "text": [
      "Enter student data in the format\\[admission_number, Name, Percentage\\][101, 'ABC', 90]\n",
      "Do you wish to enter more records:(y/n)\n",
      "y\n",
      "Enter student data in the format\\[admission_number, Name, Percentage\\][102, 'XYZ', 99]\n",
      "Do you wish to enter more records:(y/n)\n",
      "n\n",
      "Record Entry is over\n",
      "\n",
      "Now Displaying the records\n",
      "[[101, 'ABC', 90], [102, 'XYZ', 99]]\n"
     ]
    }
   ],
   "source": [
    "import pickle\n",
    "def createFile():\n",
    "        main_data = []\n",
    "        with open('student1.dat','w+b') as fb:\n",
    "            while True:\n",
    "                lst=eval(input(f\"Enter student data in the format\\[admission_number, Name, Percentage\\]\"))\n",
    "                main_data.append(lst)\n",
    "                ans=input(\"Do you wish to enter more records:(y/n)\\n\")\n",
    "                if ans=='n':\n",
    "                    print(\"Record Entry is over\\n\\nNow Displaying the records\")\n",
    "                    break\n",
    "            pickle.dump(main_data,fb)\n",
    "#             fb.seek(0)\n",
    "#             count=0\n",
    "#             out_lst=pickle.load(fb)\n",
    "#             print(out_lst)\n",
    "# #             while :\n",
    "# #                 if out_lst[-1]>75:\n",
    "# #                     count+=1\n",
    "# #                     print(out_lst)\n",
    "            \n",
    "#             print(\"The Number of students scoring above 75% are: \",count)\n",
    "\n",
    "\n",
    "createFile()\n",
    "\n",
    "f = open('student1.dat','rb')\n",
    "print(pickle.load(f))\n",
    "f.close()"
   ]
  },
  {
   "cell_type": "code",
   "execution_count": null,
   "id": "3b0e96b4",
   "metadata": {},
   "outputs": [],
   "source": [
    "[101, 'ABC', 90]\n",
    "[102, 'XYZ', 99]"
   ]
  },
  {
   "cell_type": "code",
   "execution_count": null,
   "id": "95f9bfbc",
   "metadata": {},
   "outputs": [],
   "source": []
  },
  {
   "cell_type": "code",
   "execution_count": null,
   "id": "f9bcdd81",
   "metadata": {},
   "outputs": [],
   "source": []
  },
  {
   "cell_type": "code",
   "execution_count": null,
   "id": "1d51cd85",
   "metadata": {},
   "outputs": [],
   "source": [
    "i -> ('c', 2)"
   ]
  }
 ],
 "metadata": {
  "kernelspec": {
   "display_name": "Python 3",
   "language": "python",
   "name": "python3"
  },
  "language_info": {
   "codemirror_mode": {
    "name": "ipython",
    "version": 3
   },
   "file_extension": ".py",
   "mimetype": "text/x-python",
   "name": "python",
   "nbconvert_exporter": "python",
   "pygments_lexer": "ipython3",
   "version": "3.8.2"
  }
 },
 "nbformat": 4,
 "nbformat_minor": 5
}
