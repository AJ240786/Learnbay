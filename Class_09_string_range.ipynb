{
 "cells": [
  {
   "cell_type": "code",
   "execution_count": 4,
   "id": "0bd49631",
   "metadata": {
    "ExecuteTime": {
     "end_time": "2021-07-19T03:14:57.104687Z",
     "start_time": "2021-07-19T03:14:57.096815Z"
    }
   },
   "outputs": [],
   "source": [
    "# 10+(10*32)//2**5&20+(~(-10))<<2\n",
    "# 10 + 320 // 2 ** 5 & 20 + 9 << 2\n",
    "# 10 + 320 // 32 & 20 + 9 << 2\n",
    "# 10 + 10 & 20 + 9 << 2\n",
    "# 20 & 29 << 2\n",
    "# 20 & 116\n",
    "\n",
    "# ~(num) = -(num+1)"
   ]
  },
  {
   "cell_type": "code",
   "execution_count": 26,
   "id": "5692f9b1",
   "metadata": {
    "ExecuteTime": {
     "end_time": "2021-07-19T03:33:35.530741Z",
     "start_time": "2021-07-19T03:33:35.523771Z"
    }
   },
   "outputs": [],
   "source": [
    "# Slicing\n",
    "# Syntax - my_str[start:stop:step]\n",
    "# Default step is +ve\n",
    "\n",
    "# When step is +ve\n",
    "# Default start = 0\n",
    "# Default stop = len(my_str)\n",
    "\n",
    "# When step is -ve\n",
    "# Default start = -1\n",
    "# Default start = -len(my_str)-1\n",
    "\n",
    "my_str = 'peter piper picked a peck of pickled peppers'\n",
    "# print(my_str[::])\n",
    "# print(my_str[0:len(my_str):1])\n",
    "\n",
    "# print(my_str[::-1])\n",
    "# print(my_str[-1:-len(my_str)-1:-1])\n",
    "\n",
    "# print(my_str[21:25])\n",
    "# print(my_str[21:25:1])\n",
    "\n",
    "# Slicing *peck* in reverse order\n",
    "# print(my_str[-20:-24:-1])\n",
    "# print(my_str[24:20:-1])\n",
    "\n",
    "# print(my_str[21:25:-1])\n",
    "\n",
    "# print(my_str[:19])\n",
    "\n",
    "# print(my_str[19:])\n",
    "\n",
    "# print(my_str[19::-1])\n",
    "\n",
    "# print(my_str[19::-2])\n",
    "\n",
    "\n",
    "# start = -1\n",
    "# stop = -len(my_str)-1\n",
    "\n",
    "\n",
    "# print(my_str[-1:-24:-1])\n",
    "\n",
    "\n",
    "# my_email = 'abhishek@gmail.com'\n",
    "# print(my_email[:my_email.index('@')])\n",
    "\n",
    "\n",
    "\n",
    "\n",
    "\n",
    "\n"
   ]
  },
  {
   "cell_type": "code",
   "execution_count": null,
   "id": "0834fa86",
   "metadata": {},
   "outputs": [],
   "source": [
    "# Concatentation - +\n",
    "# Repetition - *\n"
   ]
  },
  {
   "cell_type": "code",
   "execution_count": 30,
   "id": "84f0567c",
   "metadata": {
    "ExecuteTime": {
     "end_time": "2021-07-19T03:35:43.915928Z",
     "start_time": "2021-07-19T03:35:43.912284Z"
    }
   },
   "outputs": [],
   "source": [
    "# Membership\n",
    "# my_str = 'peter piper picked a peck of pickled peppers'\n",
    "# print('p' in my_str)\n",
    "# print('pe' in my_str)\n",
    "# print('pr' in my_str)\n",
    "\n"
   ]
  },
  {
   "cell_type": "code",
   "execution_count": 32,
   "id": "e5245b69",
   "metadata": {
    "ExecuteTime": {
     "end_time": "2021-07-19T03:38:35.442127Z",
     "start_time": "2021-07-19T03:38:35.436199Z"
    }
   },
   "outputs": [],
   "source": [
    "# Methods on Strings\n",
    "# print(dir(my_str))\n",
    "\n",
    "#  'count', 'encode', 'expandtabs', 'format', \n",
    "# 'format_map','isalnum', 'isalpha', 'isascii', 'isdecimal', 'isdigit', 'isidentifier', \n",
    "# 'islower', 'isnumeric', 'isprintable', 'isspace', 'istitle', 'isupper', 'join', \n",
    "#  'maketrans', 'partition', 'replace', 'rpartition', 'rsplit', \n",
    "#  'split', 'splitlines',  'translate', \n",
    "# \n",
    "\n",
    "\n",
    "\n",
    "\n"
   ]
  },
  {
   "cell_type": "code",
   "execution_count": 39,
   "id": "cffcd4c9",
   "metadata": {
    "ExecuteTime": {
     "end_time": "2021-07-19T03:49:26.828843Z",
     "start_time": "2021-07-19T03:49:26.817292Z"
    }
   },
   "outputs": [
    {
     "name": "stdout",
     "output_type": "stream",
     "text": [
      "FLIESSEN\n",
      "fließen\n",
      "fliessen\n"
     ]
    }
   ],
   "source": [
    "# \n",
    "\n",
    "# capitalize - Capitalizes the first letter of the sentence and converts all letters in lower case\n",
    "my_str = 'peter piper PickeD a peck of pickled peppers'\n",
    "# print(my_str.capitalize())\n",
    "\n",
    "# title - converts first letter of each word from the string in capital case\n",
    "# print(my_str.title())\n",
    "\n",
    "# swapcase - swaps the cases of the letters in the string\n",
    "# print(my_str.swapcase())\n",
    "\n",
    "# upper - converts all letters to upper case\n",
    "# print(my_str.upper())\n",
    "print(my_str1.upper())\n",
    "\n",
    "\n",
    "\n",
    "\n",
    "# 'casefold', 'lower',\n",
    "\n",
    "\n",
    "# lower method converts only the ASCII characters in lower case\n",
    "my_str1 = 'FließeN'\n",
    "print(my_str1.lower())\n",
    "\n",
    "\n",
    "\n",
    "# Casefold method converts not only ASCII characters but also compatible with unicode characters and converts them\n",
    "# into corresponding lower case representation\n",
    "\n",
    "print(my_str1.casefold())\n",
    "\n",
    "\n",
    "\n",
    "\n"
   ]
  },
  {
   "cell_type": "code",
   "execution_count": 48,
   "id": "88aa2d74",
   "metadata": {
    "ExecuteTime": {
     "end_time": "2021-07-19T03:55:20.063449Z",
     "start_time": "2021-07-19T03:55:20.058614Z"
    }
   },
   "outputs": [],
   "source": [
    "# 'startswith', 'endswith', \n",
    "# Returns Boolean value\n",
    "\n",
    "my_str = 'This is Python class.'\n",
    "# print(my_str.startswith('T'))\n",
    "# print(my_str.startswith('Thi'))\n",
    "# print(my_str.startswith('Pyt'))\n",
    "# print(my_str.startswith('Pyt', 8))\n",
    "# print(my_str.startswith('Pyt', 8, 15))\n",
    "\n",
    "\n",
    "# print(my_str.endswith('.'))\n",
    "# print(my_str.endswith('ss.'))\n",
    "# print(my_str.endswith('cla'))\n",
    "# print(my_str.endswith('ss.', 8))\n",
    "# print(my_str.endswith('cla', 8, 18))\n",
    "\n",
    "\n"
   ]
  },
  {
   "cell_type": "code",
   "execution_count": 60,
   "id": "96329f99",
   "metadata": {
    "ExecuteTime": {
     "end_time": "2021-07-19T04:07:29.543110Z",
     "start_time": "2021-07-19T04:07:29.522913Z"
    }
   },
   "outputs": [
    {
     "data": {
      "text/plain": [
       "19080000000000000000"
      ]
     },
     "execution_count": 60,
     "metadata": {},
     "output_type": "execute_result"
    }
   ],
   "source": [
    "# 'center', 'rjust', 'ljust', 'zfill'\n",
    "# We use these method for string formatting\n",
    "# and for padding of the string\n",
    "\n",
    "# center\n",
    "# my_str = 'Python'\n",
    "# print(my_str.center(20))\n",
    "# print(my_str.center(20, '*'))\n",
    "\n",
    "\n",
    "# rjust - string is right justified\n",
    "# my_str = 'Python'\n",
    "# print(my_str.rjust(20))\n",
    "# print(my_str.rjust(20, '*'))\n",
    "\n",
    "# ljust - string is left justified\n",
    "# my_str = 'Python'\n",
    "# print(my_str.ljust(20))\n",
    "# print(my_str.ljust(20, '*'))\n",
    "\n",
    "# zfill( used for zero padding)\n",
    "# my_str = '101011'\n",
    "# print(my_str.zfill(20))\n",
    "\n",
    "# my_str = 'Python'\n",
    "# print(my_str.zfill(20))\n",
    "\n",
    "# my_str = 'Python'\n",
    "# print(my_str.ljust(20, '0'))\n",
    "\n",
    "\n",
    "my_int = 1908\n",
    "int(str(my_int).ljust(20, '0'))\n",
    "\n"
   ]
  },
  {
   "cell_type": "code",
   "execution_count": 69,
   "id": "ef314848",
   "metadata": {
    "ExecuteTime": {
     "end_time": "2021-07-19T04:14:18.433113Z",
     "start_time": "2021-07-19T04:14:18.424247Z"
    }
   },
   "outputs": [],
   "source": [
    "# find -\n",
    "# Find the first occurrenec of the substring in the given string and returns the index of the same.\n",
    "# If the substringis not found then returns -1\n",
    "\n",
    "\n",
    "my_str = 'This is Python class'\n",
    "# print(my_str.find('s'))\n",
    "# print(my_str.find('s', 7))\n",
    "# print(my_str.find('s', 7, 16))\n",
    "\n",
    "\n",
    "\n",
    "\n",
    "\n",
    "\n",
    "# rfind\n",
    "# rfind the last occurrenec of the substring in the given string and returns the index of the same.\n",
    "# If the substringis not found then returns -1\n",
    "# print(my_str.rfind('s'))\n",
    "# print(my_str.rfind('s', 4, 18))\n",
    "# print(my_str.rfind('s', 7, 16))\n",
    "\n",
    "\n"
   ]
  },
  {
   "cell_type": "code",
   "execution_count": 72,
   "id": "65febabe",
   "metadata": {
    "ExecuteTime": {
     "end_time": "2021-07-19T04:17:30.339485Z",
     "start_time": "2021-07-19T04:17:30.332849Z"
    }
   },
   "outputs": [],
   "source": [
    "# index -\n",
    "# Find the first occurrenec of the substring in the given string and returns the index of the same.\n",
    "# If the substringis not found then returns ValueError\n",
    "\n",
    "\n",
    "my_str = 'This is Python class'\n",
    "# print(my_str.index('s'))\n",
    "# print(my_str.index('s', 7))\n",
    "# print(my_str.index('s', 7, 16))\n",
    "\n",
    "\n",
    "\n",
    "\n",
    "\n",
    "\n",
    "# rindex\n",
    "# rfind the last occurrenec of the substring in the given string and returns the index of the same.\n",
    "# If the substringis not found then returns ValueError\n",
    "# print(my_str.rindex('s'))\n",
    "# print(my_str.rindex('s', 4, 18))\n",
    "# print(my_str.rindex('s', 7, 16))\n",
    "\n",
    "\n"
   ]
  },
  {
   "cell_type": "code",
   "execution_count": 91,
   "id": "46efc006",
   "metadata": {
    "ExecuteTime": {
     "end_time": "2021-07-19T04:27:14.764825Z",
     "start_time": "2021-07-19T04:27:14.750426Z"
    }
   },
   "outputs": [
    {
     "data": {
      "text/plain": [
       "'0b1010101'"
      ]
     },
     "execution_count": 91,
     "metadata": {},
     "output_type": "execute_result"
    }
   ],
   "source": [
    "# strip\n",
    "# Removes the spaces from both the ends\n",
    "\n",
    "# my_str1 = '         This is        Python      class            '\n",
    "# print(my_str1.strip())\n",
    "\n",
    "\n",
    "\n",
    "# lstrip, \n",
    "# Removes the spaces from left end\n",
    "\n",
    "# my_str1 = '         This is        Python      class            '\n",
    "# print(my_str1.lstrip())\n",
    "\n",
    "# rstrip\n",
    "# Removes the spaces from right end\n",
    "# my_str1 = '         This is        Python      class            '\n",
    "# print(my_str1.rstrip())\n",
    "\n",
    "my_str = '1010101'\n",
    "# my_str = my_str.center(30, '0')\n",
    "\n",
    "# print(my_str.strip('0'))\n",
    "\n",
    "'0b'+my_str.center(30, '0').strip('0')\n",
    "\n"
   ]
  },
  {
   "cell_type": "code",
   "execution_count": 82,
   "id": "a692b001",
   "metadata": {
    "ExecuteTime": {
     "end_time": "2021-07-19T04:23:21.881625Z",
     "start_time": "2021-07-19T04:23:21.873917Z"
    }
   },
   "outputs": [
    {
     "data": {
      "text/plain": [
       "'This is Python class'"
      ]
     },
     "execution_count": 82,
     "metadata": {},
     "output_type": "execute_result"
    }
   ],
   "source": [
    "# split - split the string from spaces and returns a list of words\n",
    "my_str1 = '         This is        Python      class            '\n",
    "lst_words = my_str1.split()\n",
    "\n",
    "# join - which takes a list as input and joins the stroing with specified delimiter\n",
    "# syntax - 'delimiter'.join(list)\n",
    "' '.join(lst_words)\n",
    "\n",
    "\n",
    "\n"
   ]
  },
  {
   "cell_type": "code",
   "execution_count": 96,
   "id": "f3e4b3bc",
   "metadata": {
    "ExecuteTime": {
     "end_time": "2021-07-19T04:29:33.146827Z",
     "start_time": "2021-07-19T04:29:33.128509Z"
    }
   },
   "outputs": [
    {
     "ename": "IndexError",
     "evalue": "string index out of range",
     "output_type": "error",
     "traceback": [
      "\u001b[0;31m---------------------------------------------------------------------------\u001b[0m",
      "\u001b[0;31mIndexError\u001b[0m                                Traceback (most recent call last)",
      "\u001b[0;32m<ipython-input-96-14fcc232378e>\u001b[0m in \u001b[0;36m<module>\u001b[0;34m\u001b[0m\n\u001b[1;32m      2\u001b[0m \u001b[0mmy_str\u001b[0m \u001b[0;34m=\u001b[0m \u001b[0;34m'This is Python class'\u001b[0m\u001b[0;34m\u001b[0m\u001b[0;34m\u001b[0m\u001b[0m\n\u001b[1;32m      3\u001b[0m \u001b[0;34m\u001b[0m\u001b[0m\n\u001b[0;32m----> 4\u001b[0;31m \u001b[0mprint\u001b[0m\u001b[0;34m(\u001b[0m\u001b[0mmy_str\u001b[0m\u001b[0;34m[\u001b[0m\u001b[0;36m100\u001b[0m\u001b[0;34m]\u001b[0m\u001b[0;34m)\u001b[0m\u001b[0;34m\u001b[0m\u001b[0;34m\u001b[0m\u001b[0m\n\u001b[0m",
      "\u001b[0;31mIndexError\u001b[0m: string index out of range"
     ]
    }
   ],
   "source": [
    "# IndexError\n",
    "my_str = 'This is Python class'\n",
    "\n",
    "print(my_str[100])\n"
   ]
  },
  {
   "cell_type": "code",
   "execution_count": null,
   "id": "a93c4736",
   "metadata": {},
   "outputs": [],
   "source": []
  },
  {
   "cell_type": "code",
   "execution_count": null,
   "id": "ce6cd7a1",
   "metadata": {},
   "outputs": [],
   "source": []
  },
  {
   "cell_type": "code",
   "execution_count": null,
   "id": "e1de6752",
   "metadata": {},
   "outputs": [],
   "source": []
  },
  {
   "cell_type": "code",
   "execution_count": null,
   "id": "18240baf",
   "metadata": {},
   "outputs": [],
   "source": []
  },
  {
   "cell_type": "code",
   "execution_count": null,
   "id": "80cdd1ab",
   "metadata": {},
   "outputs": [],
   "source": []
  },
  {
   "cell_type": "code",
   "execution_count": null,
   "id": "9785fdde",
   "metadata": {},
   "outputs": [],
   "source": []
  },
  {
   "cell_type": "code",
   "execution_count": null,
   "id": "704a2380",
   "metadata": {},
   "outputs": [],
   "source": []
  },
  {
   "cell_type": "code",
   "execution_count": null,
   "id": "8df7fcc2",
   "metadata": {},
   "outputs": [],
   "source": []
  },
  {
   "cell_type": "code",
   "execution_count": null,
   "id": "b4199e40",
   "metadata": {},
   "outputs": [],
   "source": []
  },
  {
   "cell_type": "code",
   "execution_count": null,
   "id": "c41ed401",
   "metadata": {},
   "outputs": [],
   "source": []
  },
  {
   "cell_type": "code",
   "execution_count": null,
   "id": "83d077b3",
   "metadata": {},
   "outputs": [],
   "source": []
  },
  {
   "cell_type": "code",
   "execution_count": null,
   "id": "a721e127",
   "metadata": {},
   "outputs": [],
   "source": []
  },
  {
   "cell_type": "code",
   "execution_count": null,
   "id": "cd4d5765",
   "metadata": {},
   "outputs": [],
   "source": []
  },
  {
   "cell_type": "code",
   "execution_count": null,
   "id": "9d079fd6",
   "metadata": {},
   "outputs": [],
   "source": []
  },
  {
   "cell_type": "code",
   "execution_count": null,
   "id": "de44344c",
   "metadata": {},
   "outputs": [],
   "source": []
  },
  {
   "cell_type": "code",
   "execution_count": null,
   "id": "e578617f",
   "metadata": {},
   "outputs": [],
   "source": []
  },
  {
   "cell_type": "code",
   "execution_count": null,
   "id": "ad65adc1",
   "metadata": {},
   "outputs": [],
   "source": []
  },
  {
   "cell_type": "code",
   "execution_count": null,
   "id": "dfacd6ba",
   "metadata": {},
   "outputs": [],
   "source": []
  },
  {
   "cell_type": "code",
   "execution_count": null,
   "id": "a7eb6b1b",
   "metadata": {},
   "outputs": [],
   "source": []
  },
  {
   "cell_type": "code",
   "execution_count": null,
   "id": "c6113771",
   "metadata": {},
   "outputs": [],
   "source": []
  },
  {
   "cell_type": "code",
   "execution_count": null,
   "id": "3eaa04c7",
   "metadata": {},
   "outputs": [],
   "source": []
  },
  {
   "cell_type": "code",
   "execution_count": null,
   "id": "cdb98b02",
   "metadata": {},
   "outputs": [],
   "source": []
  },
  {
   "cell_type": "code",
   "execution_count": null,
   "id": "864fe3ed",
   "metadata": {},
   "outputs": [],
   "source": []
  },
  {
   "cell_type": "code",
   "execution_count": null,
   "id": "03025ee7",
   "metadata": {},
   "outputs": [],
   "source": []
  },
  {
   "cell_type": "code",
   "execution_count": null,
   "id": "ef838ecf",
   "metadata": {},
   "outputs": [],
   "source": []
  },
  {
   "cell_type": "code",
   "execution_count": null,
   "id": "2c478f39",
   "metadata": {},
   "outputs": [],
   "source": []
  },
  {
   "cell_type": "code",
   "execution_count": null,
   "id": "b417dbc4",
   "metadata": {},
   "outputs": [],
   "source": []
  },
  {
   "cell_type": "code",
   "execution_count": null,
   "id": "b2fd4555",
   "metadata": {},
   "outputs": [],
   "source": []
  },
  {
   "cell_type": "code",
   "execution_count": null,
   "id": "ad093f84",
   "metadata": {},
   "outputs": [],
   "source": []
  },
  {
   "cell_type": "code",
   "execution_count": null,
   "id": "443df4ad",
   "metadata": {},
   "outputs": [],
   "source": []
  },
  {
   "cell_type": "code",
   "execution_count": null,
   "id": "14067991",
   "metadata": {},
   "outputs": [],
   "source": []
  },
  {
   "cell_type": "code",
   "execution_count": null,
   "id": "63cc8309",
   "metadata": {},
   "outputs": [],
   "source": []
  },
  {
   "cell_type": "code",
   "execution_count": null,
   "id": "2de08ee1",
   "metadata": {},
   "outputs": [],
   "source": []
  },
  {
   "cell_type": "code",
   "execution_count": null,
   "id": "be60a31b",
   "metadata": {},
   "outputs": [],
   "source": []
  },
  {
   "cell_type": "code",
   "execution_count": null,
   "id": "bda1b0d1",
   "metadata": {},
   "outputs": [],
   "source": []
  },
  {
   "cell_type": "code",
   "execution_count": null,
   "id": "78211f45",
   "metadata": {},
   "outputs": [],
   "source": []
  },
  {
   "cell_type": "code",
   "execution_count": null,
   "id": "527f40ba",
   "metadata": {},
   "outputs": [],
   "source": []
  },
  {
   "cell_type": "code",
   "execution_count": null,
   "id": "9aafb882",
   "metadata": {},
   "outputs": [],
   "source": []
  },
  {
   "cell_type": "code",
   "execution_count": null,
   "id": "05320dad",
   "metadata": {},
   "outputs": [],
   "source": []
  },
  {
   "cell_type": "code",
   "execution_count": null,
   "id": "4e1a2d08",
   "metadata": {},
   "outputs": [],
   "source": []
  },
  {
   "cell_type": "code",
   "execution_count": null,
   "id": "3c000973",
   "metadata": {},
   "outputs": [],
   "source": []
  },
  {
   "cell_type": "code",
   "execution_count": null,
   "id": "9fbcdfc2",
   "metadata": {},
   "outputs": [],
   "source": []
  },
  {
   "cell_type": "code",
   "execution_count": null,
   "id": "2f9e2838",
   "metadata": {},
   "outputs": [],
   "source": []
  },
  {
   "cell_type": "code",
   "execution_count": null,
   "id": "67512681",
   "metadata": {},
   "outputs": [],
   "source": []
  },
  {
   "cell_type": "code",
   "execution_count": null,
   "id": "a94e5a52",
   "metadata": {},
   "outputs": [],
   "source": []
  },
  {
   "cell_type": "code",
   "execution_count": null,
   "id": "a93959b7",
   "metadata": {},
   "outputs": [],
   "source": []
  },
  {
   "cell_type": "code",
   "execution_count": null,
   "id": "0559a897",
   "metadata": {},
   "outputs": [],
   "source": []
  },
  {
   "cell_type": "code",
   "execution_count": null,
   "id": "6e5bd8f0",
   "metadata": {},
   "outputs": [],
   "source": []
  },
  {
   "cell_type": "code",
   "execution_count": null,
   "id": "3d456d66",
   "metadata": {},
   "outputs": [],
   "source": []
  },
  {
   "cell_type": "code",
   "execution_count": null,
   "id": "9048204d",
   "metadata": {},
   "outputs": [],
   "source": []
  },
  {
   "cell_type": "code",
   "execution_count": null,
   "id": "ace98c67",
   "metadata": {},
   "outputs": [],
   "source": []
  },
  {
   "cell_type": "code",
   "execution_count": null,
   "id": "5db8a197",
   "metadata": {},
   "outputs": [],
   "source": []
  },
  {
   "cell_type": "code",
   "execution_count": null,
   "id": "d0b403f8",
   "metadata": {},
   "outputs": [],
   "source": []
  },
  {
   "cell_type": "code",
   "execution_count": null,
   "id": "d8476cc7",
   "metadata": {},
   "outputs": [],
   "source": []
  },
  {
   "cell_type": "code",
   "execution_count": null,
   "id": "6e954530",
   "metadata": {},
   "outputs": [],
   "source": []
  },
  {
   "cell_type": "code",
   "execution_count": null,
   "id": "a8920600",
   "metadata": {},
   "outputs": [],
   "source": []
  },
  {
   "cell_type": "code",
   "execution_count": null,
   "id": "cfec2a53",
   "metadata": {},
   "outputs": [],
   "source": []
  },
  {
   "cell_type": "code",
   "execution_count": null,
   "id": "385c2ef6",
   "metadata": {},
   "outputs": [],
   "source": []
  },
  {
   "cell_type": "code",
   "execution_count": null,
   "id": "1be55dc7",
   "metadata": {},
   "outputs": [],
   "source": []
  },
  {
   "cell_type": "code",
   "execution_count": null,
   "id": "005d5176",
   "metadata": {},
   "outputs": [],
   "source": []
  },
  {
   "cell_type": "code",
   "execution_count": null,
   "id": "7d66581e",
   "metadata": {},
   "outputs": [],
   "source": []
  },
  {
   "cell_type": "code",
   "execution_count": null,
   "id": "04255c4a",
   "metadata": {},
   "outputs": [],
   "source": []
  },
  {
   "cell_type": "code",
   "execution_count": null,
   "id": "7e60d7e0",
   "metadata": {},
   "outputs": [],
   "source": []
  },
  {
   "cell_type": "code",
   "execution_count": null,
   "id": "30d57236",
   "metadata": {},
   "outputs": [],
   "source": []
  },
  {
   "cell_type": "code",
   "execution_count": null,
   "id": "84623af9",
   "metadata": {},
   "outputs": [],
   "source": []
  },
  {
   "cell_type": "code",
   "execution_count": null,
   "id": "33442568",
   "metadata": {},
   "outputs": [],
   "source": []
  },
  {
   "cell_type": "code",
   "execution_count": null,
   "id": "ddf79d0e",
   "metadata": {},
   "outputs": [],
   "source": []
  },
  {
   "cell_type": "code",
   "execution_count": null,
   "id": "2c99a637",
   "metadata": {},
   "outputs": [],
   "source": []
  },
  {
   "cell_type": "code",
   "execution_count": null,
   "id": "b7729bd9",
   "metadata": {},
   "outputs": [],
   "source": []
  },
  {
   "cell_type": "code",
   "execution_count": null,
   "id": "b6287157",
   "metadata": {},
   "outputs": [],
   "source": []
  },
  {
   "cell_type": "code",
   "execution_count": null,
   "id": "94e25e08",
   "metadata": {},
   "outputs": [],
   "source": []
  }
 ],
 "metadata": {
  "kernelspec": {
   "display_name": "Python 3",
   "language": "python",
   "name": "python3"
  },
  "language_info": {
   "codemirror_mode": {
    "name": "ipython",
    "version": 3
   },
   "file_extension": ".py",
   "mimetype": "text/x-python",
   "name": "python",
   "nbconvert_exporter": "python",
   "pygments_lexer": "ipython3",
   "version": "3.8.2"
  }
 },
 "nbformat": 4,
 "nbformat_minor": 5
}
