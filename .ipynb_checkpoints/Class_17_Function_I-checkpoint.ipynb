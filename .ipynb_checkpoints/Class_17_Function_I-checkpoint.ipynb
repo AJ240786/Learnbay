{
 "cells": [
  {
   "cell_type": "code",
   "execution_count": null,
   "id": "5539b11c",
   "metadata": {},
   "outputs": [],
   "source": [
    "# Types Of Functions\n",
    "1. Built-in Functions - len, int, enumerate, input, zip\n",
    "2. User-defined Functions"
   ]
  },
  {
   "cell_type": "code",
   "execution_count": 1,
   "id": "bbbccd7d",
   "metadata": {
    "ExecuteTime": {
     "end_time": "2021-07-30T02:45:06.359211Z",
     "start_time": "2021-07-30T02:45:06.337118Z"
    }
   },
   "outputs": [
    {
     "name": "stdout",
     "output_type": "stream",
     "text": [
      "['ArithmeticError', 'AssertionError', 'AttributeError', 'BaseException', 'BlockingIOError', 'BrokenPipeError', 'BufferError', 'BytesWarning', 'ChildProcessError', 'ConnectionAbortedError', 'ConnectionError', 'ConnectionRefusedError', 'ConnectionResetError', 'DeprecationWarning', 'EOFError', 'Ellipsis', 'EnvironmentError', 'Exception', 'False', 'FileExistsError', 'FileNotFoundError', 'FloatingPointError', 'FutureWarning', 'GeneratorExit', 'IOError', 'ImportError', 'ImportWarning', 'IndentationError', 'IndexError', 'InterruptedError', 'IsADirectoryError', 'KeyError', 'KeyboardInterrupt', 'LookupError', 'MemoryError', 'ModuleNotFoundError', 'NameError', 'None', 'NotADirectoryError', 'NotImplemented', 'NotImplementedError', 'OSError', 'OverflowError', 'PendingDeprecationWarning', 'PermissionError', 'ProcessLookupError', 'RecursionError', 'ReferenceError', 'ResourceWarning', 'RuntimeError', 'RuntimeWarning', 'StopAsyncIteration', 'StopIteration', 'SyntaxError', 'SyntaxWarning', 'SystemError', 'SystemExit', 'TabError', 'TimeoutError', 'True', 'TypeError', 'UnboundLocalError', 'UnicodeDecodeError', 'UnicodeEncodeError', 'UnicodeError', 'UnicodeTranslateError', 'UnicodeWarning', 'UserWarning', 'ValueError', 'Warning', 'ZeroDivisionError', '__IPYTHON__', '__build_class__', '__debug__', '__doc__', '__import__', '__loader__', '__name__', '__package__', '__spec__', 'abs', 'all', 'any', 'ascii', 'bin', 'bool', 'breakpoint', 'bytearray', 'bytes', 'callable', 'chr', 'classmethod', 'compile', 'complex', 'copyright', 'credits', 'delattr', 'dict', 'dir', 'display', 'divmod', 'enumerate', 'eval', 'exec', 'filter', 'float', 'format', 'frozenset', 'get_ipython', 'getattr', 'globals', 'hasattr', 'hash', 'help', 'hex', 'id', 'input', 'int', 'isinstance', 'issubclass', 'iter', 'len', 'license', 'list', 'locals', 'map', 'max', 'memoryview', 'min', 'next', 'object', 'oct', 'open', 'ord', 'pow', 'print', 'property', 'range', 'repr', 'reversed', 'round', 'set', 'setattr', 'slice', 'sorted', 'staticmethod', 'str', 'sum', 'super', 'tuple', 'type', 'vars', 'zip']\n"
     ]
    }
   ],
   "source": [
    "print(dir(__builtins__))"
   ]
  },
  {
   "cell_type": "code",
   "execution_count": 2,
   "id": "110bbf28",
   "metadata": {
    "ExecuteTime": {
     "end_time": "2021-07-30T02:49:41.934125Z",
     "start_time": "2021-07-30T02:49:41.926592Z"
    }
   },
   "outputs": [],
   "source": [
    "# Function Definition\n",
    "def str_rev_word():\n",
    "    a = 10\n",
    "    b = 20\n",
    "    c = a+b\n",
    "    return c"
   ]
  },
  {
   "cell_type": "code",
   "execution_count": 3,
   "id": "d8adc008",
   "metadata": {
    "ExecuteTime": {
     "end_time": "2021-07-30T02:50:22.357722Z",
     "start_time": "2021-07-30T02:50:22.323421Z"
    }
   },
   "outputs": [
    {
     "data": {
      "text/plain": [
       "30"
      ]
     },
     "execution_count": 3,
     "metadata": {},
     "output_type": "execute_result"
    }
   ],
   "source": [
    "# Function call\n",
    "str_rev_word()"
   ]
  },
  {
   "cell_type": "code",
   "execution_count": 5,
   "id": "ceb3ab99",
   "metadata": {
    "ExecuteTime": {
     "end_time": "2021-07-30T02:55:44.979320Z",
     "start_time": "2021-07-30T02:55:44.975389Z"
    }
   },
   "outputs": [],
   "source": [
    "# help(list)"
   ]
  },
  {
   "cell_type": "code",
   "execution_count": 6,
   "id": "33fb4334",
   "metadata": {
    "ExecuteTime": {
     "end_time": "2021-07-30T03:20:44.059385Z",
     "start_time": "2021-07-30T03:20:44.051211Z"
    }
   },
   "outputs": [],
   "source": [
    "# input to the function - arguments\n",
    "# Output to the function - return\n",
    "\n",
    "def str_rev_word(inp_str):\n",
    "    return ' '.join([word[::-1] for word in inp_str.split()])\n",
    "\n",
    "# parameter - inp_str"
   ]
  },
  {
   "cell_type": "code",
   "execution_count": 7,
   "id": "54fc45f9",
   "metadata": {
    "ExecuteTime": {
     "end_time": "2021-07-30T03:20:54.144345Z",
     "start_time": "2021-07-30T03:20:54.133315Z"
    }
   },
   "outputs": [
    {
     "data": {
      "text/plain": [
       "'sihT si nohtyP ssalc'"
      ]
     },
     "execution_count": 7,
     "metadata": {},
     "output_type": "execute_result"
    }
   ],
   "source": [
    "str_rev_word('This is Python class')\n",
    "\n",
    "# argument - 'This is Python class'"
   ]
  },
  {
   "cell_type": "code",
   "execution_count": 13,
   "id": "3eeebc51",
   "metadata": {
    "ExecuteTime": {
     "end_time": "2021-07-30T03:27:33.492045Z",
     "start_time": "2021-07-30T03:27:33.482378Z"
    }
   },
   "outputs": [],
   "source": [
    "# Types of arguments/parameters\n",
    "# 1. Positional arguments\n",
    "# 1. Order\n",
    "# 2. No of arg and parameters should match\n",
    "\n",
    "def emp_info(emp_name, emp_id, emp_sal):\n",
    "    print('The Emoployee name is ', emp_name)\n",
    "    print('The Emoployee ID is ', emp_id)\n",
    "    print('The Emoployee Salary is ', emp_sal)\n",
    "\n",
    "# emp_info('Abhishek', 101, 70000)\n",
    "# emp_info(101, 70000, 'Abhishek')\n",
    "\n",
    "# emp_info('Abhishek', 101)\n",
    "# emp_info('Abhishek', 101, 70000, 'Bengaluru')\n"
   ]
  },
  {
   "cell_type": "code",
   "execution_count": 24,
   "id": "e616bd61",
   "metadata": {
    "ExecuteTime": {
     "end_time": "2021-07-30T03:33:34.229600Z",
     "start_time": "2021-07-30T03:33:34.192493Z"
    }
   },
   "outputs": [
    {
     "name": "stdout",
     "output_type": "stream",
     "text": [
      "The Emoployee name is  Abhishek\n",
      "The Emoployee ID is  101\n",
      "The Emoployee Salary is  70000\n",
      "The Emoployee Company is  TCS\n",
      "\n",
      "The Emoployee name is  Krishna\n",
      "The Emoployee ID is  102\n",
      "The Emoployee Salary is  75000\n",
      "The Emoployee Company is  Tata Motors\n"
     ]
    }
   ],
   "source": [
    "# 2. Default Paarmeters\n",
    "# Note\n",
    "#     1. Default parameter should always follow the positional parameters.\n",
    "#     2. It is optional\n",
    "\n",
    "\n",
    "\n",
    "\n",
    "# d = {1:100, 2:200}\n",
    "# d.get(1, 'This key is not present')\n",
    "# print(d.get(4, 'This key is not present'))\n",
    "\n",
    "def emp_info(emp_name, emp_id, emp_sal,  emp_org = 'TCS',):\n",
    "    print('The Emoployee name is ', emp_name)\n",
    "    print('The Emoployee ID is ', emp_id)\n",
    "    print('The Emoployee Salary is ', emp_sal)\n",
    "    print('The Emoployee Company is ', emp_org)\n",
    "\n",
    "emp_info('Abhishek', 101, 70000)\n",
    "print()\n",
    "emp_info('Krishna', 102, 75000, 'Tata Motors')\n"
   ]
  },
  {
   "cell_type": "code",
   "execution_count": 27,
   "id": "a0491b03",
   "metadata": {
    "ExecuteTime": {
     "end_time": "2021-07-30T03:38:06.795897Z",
     "start_time": "2021-07-30T03:38:06.784909Z"
    }
   },
   "outputs": [
    {
     "name": "stdout",
     "output_type": "stream",
     "text": [
      "The Emoployee name is  Rahul\n",
      "The Emoployee ID is  108\n",
      "The Emoployee Salary is  80000\n",
      "The Emoployee Company is  Infosys\n"
     ]
    }
   ],
   "source": [
    "# Keyworded Arguments\n",
    "# Order does not matter.\n",
    "# keyworded arguments should always follow the positional arguments.\n",
    "\n",
    "\n",
    "def emp_info(emp_id, emp_sal, emp_name, emp_org = 'TCS'):\n",
    "    print('The Emoployee name is ', emp_name)\n",
    "    print('The Emoployee ID is ', emp_id)\n",
    "    print('The Emoployee Salary is ', emp_sal)\n",
    "    print('The Emoployee Company is ', emp_org)\n",
    "\n",
    "emp_info(108, 80000, emp_org = 'Infosys',emp_name = 'Rahul')\n",
    "\n",
    "\n",
    "# Positional -> Default -> Keyworded\n"
   ]
  },
  {
   "cell_type": "code",
   "execution_count": 42,
   "id": "066cbac5",
   "metadata": {
    "ExecuteTime": {
     "end_time": "2021-07-30T03:47:32.088294Z",
     "start_time": "2021-07-30T03:47:32.065481Z"
    }
   },
   "outputs": [
    {
     "name": "stdout",
     "output_type": "stream",
     "text": [
      "(30, 40, 50, 20.3, (20+40j)) <class 'tuple'>\n"
     ]
    },
    {
     "data": {
      "text/plain": [
       "(190.3+40j)"
      ]
     },
     "execution_count": 42,
     "metadata": {},
     "output_type": "execute_result"
    }
   ],
   "source": [
    "# Variable length argument\n",
    "    # 1. Variable length positional argument - *args\n",
    "    # 2. Variable length keyworded argument - **kwargs\n",
    "\n",
    "    \n",
    "def my_add(a, b, *var): \n",
    "    print(var, type(var))\n",
    "    return a+b+sum(var)\n",
    "\n",
    "my_add(10, 20, 30, 40, 50, 20.30, 20+40j)\n"
   ]
  },
  {
   "cell_type": "code",
   "execution_count": 47,
   "id": "29250915",
   "metadata": {
    "ExecuteTime": {
     "end_time": "2021-07-30T03:53:54.527424Z",
     "start_time": "2021-07-30T03:53:54.516292Z"
    }
   },
   "outputs": [
    {
     "name": "stdout",
     "output_type": "stream",
     "text": [
      "The Emoployee name is  Rahul\n",
      "The Emoployee ID is  101\n",
      "The Emoployee Salary is  60000\n",
      "dict_values(['Bengaluru', 'Karnataka', 560103, 'Satyam Street']) <class 'dict'>\n"
     ]
    }
   ],
   "source": [
    "# 2. Variable length keyworded argument - **kwargs\n",
    "\n",
    "def emp_info(emp_id, emp_sal, emp_name, **kwvar):\n",
    "    print('The Emoployee name is ', emp_name)\n",
    "    print('The Emoployee ID is ', emp_id)\n",
    "    print('The Emoployee Salary is ', emp_sal)\n",
    "    print(kwvar.values(), type(kwvar))\n",
    "\n",
    "# emp_info(101, 60000, 'Rahul', emp_city = 'Bengaluru', emp_state = 'Karnataka', emp_pin = 560103)\n",
    "emp_info(101, 60000, 'Rahul', emp_city = 'Bengaluru', emp_state = 'Karnataka', emp_pin = 560103, emp_street = 'Satyam Street')\n",
    "\n",
    "\n",
    "# *args should always come before **kwargs\n"
   ]
  },
  {
   "cell_type": "code",
   "execution_count": 62,
   "id": "07fa9f28",
   "metadata": {
    "ExecuteTime": {
     "end_time": "2021-07-30T04:14:48.945214Z",
     "start_time": "2021-07-30T04:14:48.932794Z"
    }
   },
   "outputs": [
    {
     "data": {
      "text/plain": [
       "150"
      ]
     },
     "execution_count": 62,
     "metadata": {},
     "output_type": "execute_result"
    }
   ],
   "source": [
    "# Return Statements\n",
    "\n",
    "# def emp_info(emp_name, emp_id, emp_sal):\n",
    "#     print('The Emoployee name is ', emp_name)\n",
    "#     print('The Emoployee ID is ', emp_id)\n",
    "#     print('The Emoployee Salary is ', emp_sal)\n",
    "#     return emp_name, emp_id\n",
    "    \n",
    "# a = emp_info('Abhishek', 101, 70000)\n",
    "# print(a)\n",
    "\n",
    "\n",
    "# Recursive \n",
    "# def fact(num):\n",
    "#     if num == 0:\n",
    "#         return 1\n",
    "#     else:\n",
    "#         return num*fact(num-1)\n",
    "    \n",
    "# fact(1100)\n",
    "\n",
    "# USing recursion find the sum of all numbers in a list\n",
    "\n",
    "def sum_lst(lst):\n",
    "    if len(lst) == 1:\n",
    "        return lst[0]\n",
    "    else:\n",
    "        return lst[0] + sum_lst(lst[1:])\n",
    "    \n",
    "sum_lst([10, 20, 30, 40, 50])\n",
    "            \n",
    "\n",
    "\n"
   ]
  },
  {
   "cell_type": "code",
   "execution_count": 71,
   "id": "39f29adb",
   "metadata": {
    "ExecuteTime": {
     "end_time": "2021-07-30T04:24:56.183360Z",
     "start_time": "2021-07-30T04:24:56.176484Z"
    }
   },
   "outputs": [
    {
     "name": "stdout",
     "output_type": "stream",
     "text": [
      "None\n"
     ]
    }
   ],
   "source": [
    "def emp_info(emp_name, emp_id, emp_sal):\n",
    "    'The Emoployee name is ', emp_name\n",
    "    'The Emoployee ID is ', emp_id\n",
    "    'The Emoployee Salary is ', emp_sal\n",
    "#     return emp_name, emp_id\n",
    "\n",
    "# print(emp_info)\n",
    "\n",
    "# a = emp_info\n",
    "# print(a)\n",
    "# a('Abhishek', 101, 40000)\n",
    "\n",
    "\n",
    "a = emp_info('Abhishek', 101, 40000)\n",
    "print(a)"
   ]
  },
  {
   "cell_type": "code",
   "execution_count": null,
   "id": "a523cc3d",
   "metadata": {},
   "outputs": [],
   "source": [
    "a = 10\n",
    "b = a \n",
    "print(b)"
   ]
  },
  {
   "cell_type": "code",
   "execution_count": 73,
   "id": "bba55c81",
   "metadata": {
    "ExecuteTime": {
     "end_time": "2021-07-30T04:32:48.820644Z",
     "start_time": "2021-07-30T04:32:48.815675Z"
    }
   },
   "outputs": [
    {
     "name": "stdout",
     "output_type": "stream",
     "text": [
      "['Krishna', 101, 12000, 'Learnbay']\n"
     ]
    }
   ],
   "source": [
    "lst4 = {'emp_name':'Krishna', 'emp_id':101, 'emp_sal':12000, 'emp_comp':\"Learnbay\"}\n",
    "# out_lst = []\n",
    "# for key in lst4:\n",
    "#     out_lst.append(lst4[key])\n",
    "# print(out_lst)\n",
    "\n",
    "print(list(lst4.values()))"
   ]
  },
  {
   "cell_type": "code",
   "execution_count": null,
   "id": "9677815f",
   "metadata": {},
   "outputs": [],
   "source": [
    "# Methods in Mutable object returns None\n",
    "# Methods in Immutable object returns some value"
   ]
  },
  {
   "cell_type": "code",
   "execution_count": 74,
   "id": "97a27134",
   "metadata": {
    "ExecuteTime": {
     "end_time": "2021-07-30T04:34:33.241607Z",
     "start_time": "2021-07-30T04:34:33.228005Z"
    }
   },
   "outputs": [],
   "source": [
    "# Shallow copy - copy method\n",
    "# Deepcopy - deepcopy()"
   ]
  },
  {
   "cell_type": "code",
   "execution_count": null,
   "id": "5a901d02",
   "metadata": {},
   "outputs": [],
   "source": []
  },
  {
   "cell_type": "code",
   "execution_count": null,
   "id": "17b1f53a",
   "metadata": {},
   "outputs": [],
   "source": []
  },
  {
   "cell_type": "code",
   "execution_count": null,
   "id": "1dcb1fdc",
   "metadata": {},
   "outputs": [],
   "source": []
  },
  {
   "cell_type": "code",
   "execution_count": null,
   "id": "d7664838",
   "metadata": {},
   "outputs": [],
   "source": []
  },
  {
   "cell_type": "code",
   "execution_count": null,
   "id": "2494b19e",
   "metadata": {},
   "outputs": [],
   "source": []
  },
  {
   "cell_type": "code",
   "execution_count": null,
   "id": "4819d6ed",
   "metadata": {},
   "outputs": [],
   "source": []
  },
  {
   "cell_type": "code",
   "execution_count": null,
   "id": "06d9acbc",
   "metadata": {},
   "outputs": [],
   "source": []
  },
  {
   "cell_type": "code",
   "execution_count": null,
   "id": "2c4952f2",
   "metadata": {},
   "outputs": [],
   "source": []
  },
  {
   "cell_type": "code",
   "execution_count": null,
   "id": "74f130ba",
   "metadata": {},
   "outputs": [],
   "source": []
  },
  {
   "cell_type": "code",
   "execution_count": null,
   "id": "cf5d47d7",
   "metadata": {},
   "outputs": [],
   "source": []
  },
  {
   "cell_type": "code",
   "execution_count": null,
   "id": "d70f163f",
   "metadata": {},
   "outputs": [],
   "source": []
  },
  {
   "cell_type": "code",
   "execution_count": null,
   "id": "e12c3e59",
   "metadata": {},
   "outputs": [],
   "source": []
  },
  {
   "cell_type": "code",
   "execution_count": null,
   "id": "0ad43308",
   "metadata": {},
   "outputs": [],
   "source": []
  },
  {
   "cell_type": "code",
   "execution_count": null,
   "id": "8bd0ca90",
   "metadata": {},
   "outputs": [],
   "source": []
  },
  {
   "cell_type": "code",
   "execution_count": null,
   "id": "5480219d",
   "metadata": {},
   "outputs": [],
   "source": []
  },
  {
   "cell_type": "code",
   "execution_count": null,
   "id": "f3f787a2",
   "metadata": {},
   "outputs": [],
   "source": []
  },
  {
   "cell_type": "code",
   "execution_count": null,
   "id": "7e1bf99a",
   "metadata": {},
   "outputs": [],
   "source": []
  },
  {
   "cell_type": "code",
   "execution_count": null,
   "id": "f991bb53",
   "metadata": {},
   "outputs": [],
   "source": []
  },
  {
   "cell_type": "code",
   "execution_count": null,
   "id": "c9176352",
   "metadata": {},
   "outputs": [],
   "source": []
  },
  {
   "cell_type": "code",
   "execution_count": null,
   "id": "3bfda0b6",
   "metadata": {},
   "outputs": [],
   "source": []
  },
  {
   "cell_type": "code",
   "execution_count": null,
   "id": "f89291a0",
   "metadata": {},
   "outputs": [],
   "source": []
  },
  {
   "cell_type": "code",
   "execution_count": null,
   "id": "e0b5c375",
   "metadata": {},
   "outputs": [],
   "source": []
  },
  {
   "cell_type": "code",
   "execution_count": null,
   "id": "2f214e85",
   "metadata": {},
   "outputs": [],
   "source": []
  },
  {
   "cell_type": "code",
   "execution_count": null,
   "id": "2127a2d9",
   "metadata": {},
   "outputs": [],
   "source": []
  },
  {
   "cell_type": "code",
   "execution_count": null,
   "id": "64ded836",
   "metadata": {},
   "outputs": [],
   "source": []
  },
  {
   "cell_type": "code",
   "execution_count": null,
   "id": "4dec267f",
   "metadata": {},
   "outputs": [],
   "source": []
  },
  {
   "cell_type": "code",
   "execution_count": null,
   "id": "7bf4f198",
   "metadata": {},
   "outputs": [],
   "source": []
  },
  {
   "cell_type": "code",
   "execution_count": null,
   "id": "a6150a0f",
   "metadata": {},
   "outputs": [],
   "source": []
  },
  {
   "cell_type": "code",
   "execution_count": null,
   "id": "abedbd2f",
   "metadata": {},
   "outputs": [],
   "source": []
  },
  {
   "cell_type": "code",
   "execution_count": null,
   "id": "5156f44e",
   "metadata": {},
   "outputs": [],
   "source": []
  },
  {
   "cell_type": "code",
   "execution_count": null,
   "id": "cf6c8da9",
   "metadata": {},
   "outputs": [],
   "source": []
  },
  {
   "cell_type": "code",
   "execution_count": null,
   "id": "5e0e9603",
   "metadata": {},
   "outputs": [],
   "source": []
  },
  {
   "cell_type": "code",
   "execution_count": null,
   "id": "1ff1311e",
   "metadata": {},
   "outputs": [],
   "source": []
  },
  {
   "cell_type": "code",
   "execution_count": null,
   "id": "636a59aa",
   "metadata": {},
   "outputs": [],
   "source": []
  },
  {
   "cell_type": "code",
   "execution_count": null,
   "id": "303ab1e4",
   "metadata": {},
   "outputs": [],
   "source": []
  },
  {
   "cell_type": "code",
   "execution_count": null,
   "id": "7eb101a6",
   "metadata": {},
   "outputs": [],
   "source": []
  },
  {
   "cell_type": "code",
   "execution_count": null,
   "id": "00d961b1",
   "metadata": {},
   "outputs": [],
   "source": []
  },
  {
   "cell_type": "code",
   "execution_count": null,
   "id": "43c275a0",
   "metadata": {},
   "outputs": [],
   "source": []
  },
  {
   "cell_type": "code",
   "execution_count": null,
   "id": "98647d62",
   "metadata": {},
   "outputs": [],
   "source": []
  },
  {
   "cell_type": "code",
   "execution_count": null,
   "id": "4850e040",
   "metadata": {},
   "outputs": [],
   "source": []
  },
  {
   "cell_type": "code",
   "execution_count": null,
   "id": "8be91b29",
   "metadata": {},
   "outputs": [],
   "source": []
  },
  {
   "cell_type": "code",
   "execution_count": null,
   "id": "33467ac9",
   "metadata": {},
   "outputs": [],
   "source": []
  },
  {
   "cell_type": "code",
   "execution_count": null,
   "id": "b4b8005c",
   "metadata": {},
   "outputs": [],
   "source": []
  },
  {
   "cell_type": "code",
   "execution_count": null,
   "id": "caf47661",
   "metadata": {},
   "outputs": [],
   "source": []
  },
  {
   "cell_type": "code",
   "execution_count": null,
   "id": "891160f6",
   "metadata": {},
   "outputs": [],
   "source": []
  },
  {
   "cell_type": "code",
   "execution_count": null,
   "id": "066ffce9",
   "metadata": {},
   "outputs": [],
   "source": []
  },
  {
   "cell_type": "code",
   "execution_count": null,
   "id": "f351c846",
   "metadata": {},
   "outputs": [],
   "source": []
  },
  {
   "cell_type": "code",
   "execution_count": null,
   "id": "c2c4bfbe",
   "metadata": {},
   "outputs": [],
   "source": []
  },
  {
   "cell_type": "code",
   "execution_count": null,
   "id": "58370ac1",
   "metadata": {},
   "outputs": [],
   "source": []
  },
  {
   "cell_type": "code",
   "execution_count": null,
   "id": "42a44a78",
   "metadata": {},
   "outputs": [],
   "source": []
  },
  {
   "cell_type": "code",
   "execution_count": null,
   "id": "a827e67c",
   "metadata": {},
   "outputs": [],
   "source": []
  },
  {
   "cell_type": "code",
   "execution_count": null,
   "id": "76e7e3aa",
   "metadata": {},
   "outputs": [],
   "source": []
  },
  {
   "cell_type": "code",
   "execution_count": null,
   "id": "e9a05239",
   "metadata": {},
   "outputs": [],
   "source": []
  },
  {
   "cell_type": "code",
   "execution_count": null,
   "id": "bcf4afbd",
   "metadata": {},
   "outputs": [],
   "source": []
  },
  {
   "cell_type": "code",
   "execution_count": null,
   "id": "e7049003",
   "metadata": {},
   "outputs": [],
   "source": []
  },
  {
   "cell_type": "code",
   "execution_count": null,
   "id": "4449044a",
   "metadata": {},
   "outputs": [],
   "source": []
  },
  {
   "cell_type": "code",
   "execution_count": null,
   "id": "80deb255",
   "metadata": {},
   "outputs": [],
   "source": []
  },
  {
   "cell_type": "code",
   "execution_count": null,
   "id": "770041b9",
   "metadata": {},
   "outputs": [],
   "source": []
  },
  {
   "cell_type": "code",
   "execution_count": null,
   "id": "d0e8a539",
   "metadata": {},
   "outputs": [],
   "source": []
  },
  {
   "cell_type": "code",
   "execution_count": null,
   "id": "94b54840",
   "metadata": {},
   "outputs": [],
   "source": []
  },
  {
   "cell_type": "code",
   "execution_count": null,
   "id": "f3badef3",
   "metadata": {},
   "outputs": [],
   "source": []
  },
  {
   "cell_type": "code",
   "execution_count": null,
   "id": "fdf71c04",
   "metadata": {},
   "outputs": [],
   "source": []
  }
 ],
 "metadata": {
  "kernelspec": {
   "display_name": "Python 3",
   "language": "python",
   "name": "python3"
  },
  "language_info": {
   "codemirror_mode": {
    "name": "ipython",
    "version": 3
   },
   "file_extension": ".py",
   "mimetype": "text/x-python",
   "name": "python",
   "nbconvert_exporter": "python",
   "pygments_lexer": "ipython3",
   "version": "3.8.8"
  }
 },
 "nbformat": 4,
 "nbformat_minor": 5
}
