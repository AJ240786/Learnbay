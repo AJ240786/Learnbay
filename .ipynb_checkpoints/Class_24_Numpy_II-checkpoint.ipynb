{
 "cells": [
  {
   "cell_type": "markdown",
   "id": "33fb61a1",
   "metadata": {},
   "source": [
    "# Indexing and Slicing"
   ]
  },
  {
   "cell_type": "code",
   "execution_count": 2,
   "id": "a9b5a100",
   "metadata": {
    "ExecuteTime": {
     "end_time": "2021-08-13T02:51:50.655096Z",
     "start_time": "2021-08-13T02:51:50.651014Z"
    }
   },
   "outputs": [],
   "source": [
    "import seaborn as sns\n",
    "import numpy as np"
   ]
  },
  {
   "cell_type": "code",
   "execution_count": 3,
   "id": "f86e9aff",
   "metadata": {
    "ExecuteTime": {
     "end_time": "2021-08-13T02:52:09.926252Z",
     "start_time": "2021-08-13T02:52:09.834967Z"
    }
   },
   "outputs": [
    {
     "data": {
      "text/html": [
       "<div>\n",
       "<style scoped>\n",
       "    .dataframe tbody tr th:only-of-type {\n",
       "        vertical-align: middle;\n",
       "    }\n",
       "\n",
       "    .dataframe tbody tr th {\n",
       "        vertical-align: top;\n",
       "    }\n",
       "\n",
       "    .dataframe thead th {\n",
       "        text-align: right;\n",
       "    }\n",
       "</style>\n",
       "<table border=\"1\" class=\"dataframe\">\n",
       "  <thead>\n",
       "    <tr style=\"text-align: right;\">\n",
       "      <th></th>\n",
       "      <th>total_bill</th>\n",
       "      <th>tip</th>\n",
       "      <th>sex</th>\n",
       "      <th>smoker</th>\n",
       "      <th>day</th>\n",
       "      <th>time</th>\n",
       "      <th>size</th>\n",
       "    </tr>\n",
       "  </thead>\n",
       "  <tbody>\n",
       "    <tr>\n",
       "      <th>0</th>\n",
       "      <td>16.99</td>\n",
       "      <td>1.01</td>\n",
       "      <td>Female</td>\n",
       "      <td>No</td>\n",
       "      <td>Sun</td>\n",
       "      <td>Dinner</td>\n",
       "      <td>2</td>\n",
       "    </tr>\n",
       "    <tr>\n",
       "      <th>1</th>\n",
       "      <td>10.34</td>\n",
       "      <td>1.66</td>\n",
       "      <td>Male</td>\n",
       "      <td>No</td>\n",
       "      <td>Sun</td>\n",
       "      <td>Dinner</td>\n",
       "      <td>3</td>\n",
       "    </tr>\n",
       "    <tr>\n",
       "      <th>2</th>\n",
       "      <td>21.01</td>\n",
       "      <td>3.50</td>\n",
       "      <td>Male</td>\n",
       "      <td>No</td>\n",
       "      <td>Sun</td>\n",
       "      <td>Dinner</td>\n",
       "      <td>3</td>\n",
       "    </tr>\n",
       "    <tr>\n",
       "      <th>3</th>\n",
       "      <td>23.68</td>\n",
       "      <td>3.31</td>\n",
       "      <td>Male</td>\n",
       "      <td>No</td>\n",
       "      <td>Sun</td>\n",
       "      <td>Dinner</td>\n",
       "      <td>2</td>\n",
       "    </tr>\n",
       "    <tr>\n",
       "      <th>4</th>\n",
       "      <td>24.59</td>\n",
       "      <td>3.61</td>\n",
       "      <td>Female</td>\n",
       "      <td>No</td>\n",
       "      <td>Sun</td>\n",
       "      <td>Dinner</td>\n",
       "      <td>4</td>\n",
       "    </tr>\n",
       "  </tbody>\n",
       "</table>\n",
       "</div>"
      ],
      "text/plain": [
       "   total_bill   tip     sex smoker  day    time  size\n",
       "0       16.99  1.01  Female     No  Sun  Dinner     2\n",
       "1       10.34  1.66    Male     No  Sun  Dinner     3\n",
       "2       21.01  3.50    Male     No  Sun  Dinner     3\n",
       "3       23.68  3.31    Male     No  Sun  Dinner     2\n",
       "4       24.59  3.61  Female     No  Sun  Dinner     4"
      ]
     },
     "execution_count": 3,
     "metadata": {},
     "output_type": "execute_result"
    }
   ],
   "source": [
    "tips = sns.load_dataset('tips')\n",
    "tips.head()"
   ]
  },
  {
   "cell_type": "code",
   "execution_count": 5,
   "id": "1e83e903",
   "metadata": {
    "ExecuteTime": {
     "end_time": "2021-08-13T02:52:46.000619Z",
     "start_time": "2021-08-13T02:52:45.993207Z"
    }
   },
   "outputs": [
    {
     "data": {
      "text/plain": [
       "array([16.99, 10.34, 21.01, 23.68, 24.59, 25.29,  8.77, 26.88, 15.04,\n",
       "       14.78])"
      ]
     },
     "execution_count": 5,
     "metadata": {},
     "output_type": "execute_result"
    }
   ],
   "source": [
    "total_bill_arr = np.array(tips['total_bill'])[:10]\n",
    "total_bill_arr"
   ]
  },
  {
   "cell_type": "code",
   "execution_count": 6,
   "id": "4b6a2672",
   "metadata": {
    "ExecuteTime": {
     "end_time": "2021-08-13T02:53:03.196674Z",
     "start_time": "2021-08-13T02:53:03.187064Z"
    }
   },
   "outputs": [
    {
     "data": {
      "text/plain": [
       "array([1.01, 1.66, 3.5 , 3.31, 3.61, 4.71, 2.  , 3.12, 1.96, 3.23])"
      ]
     },
     "execution_count": 6,
     "metadata": {},
     "output_type": "execute_result"
    }
   ],
   "source": [
    "tips_arr = np.array(tips['tip'])[:10]\n",
    "tips_arr"
   ]
  },
  {
   "cell_type": "code",
   "execution_count": 10,
   "id": "ccce5f6e",
   "metadata": {
    "ExecuteTime": {
     "end_time": "2021-08-13T02:54:04.849138Z",
     "start_time": "2021-08-13T02:54:04.838242Z"
    }
   },
   "outputs": [
    {
     "name": "stdout",
     "output_type": "stream",
     "text": [
      "Accessing First Element\n",
      "16.99\n",
      "16.99\n",
      "16.99\n"
     ]
    }
   ],
   "source": [
    "print('Accessing First Element')\n",
    "print(total_bill_arr[0])\n",
    "print(total_bill_arr[-len(total_bill_arr)])\n",
    "print(total_bill_arr[-10])"
   ]
  },
  {
   "cell_type": "code",
   "execution_count": 12,
   "id": "ae1a5ba7",
   "metadata": {
    "ExecuteTime": {
     "end_time": "2021-08-13T02:54:27.077448Z",
     "start_time": "2021-08-13T02:54:27.068521Z"
    }
   },
   "outputs": [
    {
     "name": "stdout",
     "output_type": "stream",
     "text": [
      "Accessing Last Element\n",
      "14.78\n",
      "14.78\n",
      "14.78\n"
     ]
    }
   ],
   "source": [
    "print('Accessing Last Element')\n",
    "print(total_bill_arr[-1])\n",
    "print(total_bill_arr[len(total_bill_arr)-1])\n",
    "print(total_bill_arr[9])"
   ]
  },
  {
   "cell_type": "code",
   "execution_count": 15,
   "id": "68229b56",
   "metadata": {
    "ExecuteTime": {
     "end_time": "2021-08-13T02:56:10.657314Z",
     "start_time": "2021-08-13T02:56:10.644099Z"
    }
   },
   "outputs": [
    {
     "data": {
      "text/plain": [
       "array([[16.99, 10.34, 21.01, 23.68, 24.59, 25.29],\n",
       "       [ 8.77, 26.88, 15.04, 14.78, 10.27, 35.26],\n",
       "       [15.42, 18.43, 14.83, 21.58, 10.33, 16.29],\n",
       "       [16.97, 20.65, 17.92, 20.29, 15.77, 39.42],\n",
       "       [19.82, 17.81, 13.37, 12.69, 21.7 , 19.65]])"
      ]
     },
     "execution_count": 15,
     "metadata": {},
     "output_type": "execute_result"
    }
   ],
   "source": [
    "# Indexing operation in 2D array\n",
    "total_bill_arr = np.array(tips['total_bill'])[:30].reshape(5, 6)\n",
    "total_bill_arr"
   ]
  },
  {
   "cell_type": "code",
   "execution_count": 19,
   "id": "35ddc8c0",
   "metadata": {
    "ExecuteTime": {
     "end_time": "2021-08-13T02:57:33.192137Z",
     "start_time": "2021-08-13T02:57:33.181487Z"
    }
   },
   "outputs": [
    {
     "name": "stdout",
     "output_type": "stream",
     "text": [
      "Accessing the first Row\n",
      "[16.99 10.34 21.01 23.68 24.59 25.29]\n",
      "Accessing the last Row\n",
      "[19.82 17.81 13.37 12.69 21.7  19.65]\n"
     ]
    }
   ],
   "source": [
    "print('Accessing the first Row')\n",
    "print(total_bill_arr[0])\n",
    "print('Accessing the last Row')\n",
    "print(total_bill_arr[-1])"
   ]
  },
  {
   "cell_type": "code",
   "execution_count": 21,
   "id": "809151a6",
   "metadata": {
    "ExecuteTime": {
     "end_time": "2021-08-13T02:58:24.777569Z",
     "start_time": "2021-08-13T02:58:24.770367Z"
    }
   },
   "outputs": [
    {
     "name": "stdout",
     "output_type": "stream",
     "text": [
      "Accessing the first element in first Row\n",
      "16.99\n",
      "Accessing the last element in last Row\n",
      "19.65\n"
     ]
    }
   ],
   "source": [
    "print('Accessing the first element in first Row')\n",
    "print(total_bill_arr[0][0])\n",
    "print('Accessing the last element in last Row')\n",
    "print(total_bill_arr[-1][-1])"
   ]
  },
  {
   "cell_type": "code",
   "execution_count": 22,
   "id": "ec1b87cd",
   "metadata": {
    "ExecuteTime": {
     "end_time": "2021-08-13T03:00:20.529070Z",
     "start_time": "2021-08-13T03:00:20.519841Z"
    }
   },
   "outputs": [
    {
     "data": {
      "text/plain": [
       "array([1.01, 1.66, 3.5 , 3.31, 3.61, 4.71, 2.  , 3.12, 1.96, 3.23])"
      ]
     },
     "execution_count": 22,
     "metadata": {},
     "output_type": "execute_result"
    }
   ],
   "source": [
    "# Slicing on 1D Array\n",
    "tips_arr = np.array(tips['tip'])[:10]\n",
    "tips_arr"
   ]
  },
  {
   "cell_type": "code",
   "execution_count": 23,
   "id": "3525f664",
   "metadata": {
    "ExecuteTime": {
     "end_time": "2021-08-13T03:00:39.605033Z",
     "start_time": "2021-08-13T03:00:39.593026Z"
    }
   },
   "outputs": [
    {
     "data": {
      "text/plain": [
       "array([3.5 , 3.31, 3.61])"
      ]
     },
     "execution_count": 23,
     "metadata": {},
     "output_type": "execute_result"
    }
   ],
   "source": [
    "tips_arr[2:5]"
   ]
  },
  {
   "cell_type": "code",
   "execution_count": 24,
   "id": "f4ac8a60",
   "metadata": {
    "ExecuteTime": {
     "end_time": "2021-08-13T03:01:10.913968Z",
     "start_time": "2021-08-13T03:01:10.900188Z"
    }
   },
   "outputs": [
    {
     "data": {
      "text/plain": [
       "array([[16.99, 10.34, 21.01, 23.68, 24.59, 25.29],\n",
       "       [ 8.77, 26.88, 15.04, 14.78, 10.27, 35.26],\n",
       "       [15.42, 18.43, 14.83, 21.58, 10.33, 16.29],\n",
       "       [16.97, 20.65, 17.92, 20.29, 15.77, 39.42],\n",
       "       [19.82, 17.81, 13.37, 12.69, 21.7 , 19.65]])"
      ]
     },
     "execution_count": 24,
     "metadata": {},
     "output_type": "execute_result"
    }
   ],
   "source": [
    "# Slicing on 2D Array\n",
    "total_bill_arr = np.array(tips['total_bill'])[:30].reshape(5, 6)\n",
    "total_bill_arr\n",
    "\n",
    "\n"
   ]
  },
  {
   "cell_type": "code",
   "execution_count": 30,
   "id": "dadd231a",
   "metadata": {
    "ExecuteTime": {
     "end_time": "2021-08-13T03:03:37.910431Z",
     "start_time": "2021-08-13T03:03:37.894155Z"
    }
   },
   "outputs": [
    {
     "data": {
      "text/plain": [
       "array([[26.88, 15.04],\n",
       "       [18.43, 14.83]])"
      ]
     },
     "execution_count": 30,
     "metadata": {},
     "output_type": "execute_result"
    }
   ],
   "source": [
    "total_bill_arr[1:3, 1:3]"
   ]
  },
  {
   "cell_type": "code",
   "execution_count": 33,
   "id": "9e1b7345",
   "metadata": {
    "ExecuteTime": {
     "end_time": "2021-08-13T03:05:10.239293Z",
     "start_time": "2021-08-13T03:05:10.229048Z"
    }
   },
   "outputs": [
    {
     "data": {
      "text/plain": [
       "array([[10.34, 21.01],\n",
       "       [26.88, 15.04],\n",
       "       [18.43, 14.83],\n",
       "       [20.65, 17.92],\n",
       "       [17.81, 13.37]])"
      ]
     },
     "execution_count": 33,
     "metadata": {},
     "output_type": "execute_result"
    }
   ],
   "source": [
    "total_bill_arr[:, 1:3]"
   ]
  },
  {
   "cell_type": "code",
   "execution_count": 34,
   "id": "604c0761",
   "metadata": {
    "ExecuteTime": {
     "end_time": "2021-08-13T03:08:49.333740Z",
     "start_time": "2021-08-13T03:08:49.317568Z"
    }
   },
   "outputs": [
    {
     "data": {
      "text/plain": [
       "array([[21.58, 10.33, 16.29],\n",
       "       [20.29, 15.77, 39.42],\n",
       "       [12.69, 21.7 , 19.65]])"
      ]
     },
     "execution_count": 34,
     "metadata": {},
     "output_type": "execute_result"
    }
   ],
   "source": [
    "# [[21.58, 10.33, 16.29],\n",
    "#  [20.29, 15.77, 39.42],\n",
    "#  [12.69, 21.7 , 19.65]]\n",
    "\n",
    "total_bill_arr[2:, 3:]"
   ]
  },
  {
   "cell_type": "code",
   "execution_count": null,
   "id": "dceee32c",
   "metadata": {},
   "outputs": [],
   "source": [
    "[[26.88, 14.78],\n",
    " [20.65, 20.29]]"
   ]
  },
  {
   "cell_type": "code",
   "execution_count": 36,
   "id": "859edd15",
   "metadata": {
    "ExecuteTime": {
     "end_time": "2021-08-13T03:16:56.689517Z",
     "start_time": "2021-08-13T03:16:56.676259Z"
    }
   },
   "outputs": [
    {
     "data": {
      "text/plain": [
       "array([[26.88, 14.78],\n",
       "       [20.65, 20.29]])"
      ]
     },
     "execution_count": 36,
     "metadata": {},
     "output_type": "execute_result"
    }
   ],
   "source": [
    "total_bill_arr[1::2, 1:4:2]"
   ]
  },
  {
   "cell_type": "code",
   "execution_count": 41,
   "id": "d0ee125c",
   "metadata": {
    "ExecuteTime": {
     "end_time": "2021-08-13T03:22:30.536462Z",
     "start_time": "2021-08-13T03:22:30.526723Z"
    }
   },
   "outputs": [
    {
     "data": {
      "text/plain": [
       "array([26.88, 14.83, 25.29])"
      ]
     },
     "execution_count": 41,
     "metadata": {},
     "output_type": "execute_result"
    }
   ],
   "source": [
    "eles = np.array((total_bill_arr[1, 1],  total_bill_arr[2, 2],  total_bill_arr[0, -1]))\n",
    "eles"
   ]
  },
  {
   "cell_type": "code",
   "execution_count": 39,
   "id": "f227b040",
   "metadata": {
    "ExecuteTime": {
     "end_time": "2021-08-13T03:21:24.581331Z",
     "start_time": "2021-08-13T03:21:24.568411Z"
    }
   },
   "outputs": [
    {
     "data": {
      "text/plain": [
       "array([18.43, 17.92, 21.58, 15.04])"
      ]
     },
     "execution_count": 39,
     "metadata": {},
     "output_type": "execute_result"
    }
   ],
   "source": [
    "## row_index, col_index\n",
    "row_index = [2, 3, 2, 1]\n",
    "col_index = [1, 2, 3, 2]\n",
    "total_bill_arr[row_index, col_index]"
   ]
  },
  {
   "cell_type": "code",
   "execution_count": 80,
   "id": "dc04563f",
   "metadata": {
    "ExecuteTime": {
     "end_time": "2021-08-13T03:39:21.957471Z",
     "start_time": "2021-08-13T03:39:21.949861Z"
    }
   },
   "outputs": [
    {
     "data": {
      "text/plain": [
       "array([[19.82, 17.81, 13.37, 12.69, 21.7 , 19.65],\n",
       "       [ 8.77, 26.88, 15.04, 14.78, 10.27, 35.26],\n",
       "       [16.99, 10.34, 21.01, 23.68, 24.59, 25.29],\n",
       "       [16.97, 20.65, 17.92, 20.29, 15.77, 39.42],\n",
       "       [15.42, 18.43, 14.83, 21.58, 10.33, 16.29]])"
      ]
     },
     "execution_count": 80,
     "metadata": {},
     "output_type": "execute_result"
    }
   ],
   "source": [
    "total_bill_arr = np.array(tips['total_bill'])[:30].reshape(5, 6)\n",
    "np.random.shuffle(total_bill_arr)\n",
    "total_bill_arr"
   ]
  },
  {
   "cell_type": "code",
   "execution_count": 60,
   "id": "d86f3d25",
   "metadata": {
    "ExecuteTime": {
     "end_time": "2021-08-13T03:27:57.680170Z",
     "start_time": "2021-08-13T03:27:57.667971Z"
    }
   },
   "outputs": [
    {
     "data": {
      "text/plain": [
       "array([21.01, 23.68, 24.59, 25.29, 21.58, 20.65, 20.29, 39.42, 21.7 ,\n",
       "       26.88, 35.26])"
      ]
     },
     "execution_count": 60,
     "metadata": {},
     "output_type": "execute_result"
    }
   ],
   "source": [
    "total_bill_arr[total_bill_arr > 20]"
   ]
  },
  {
   "cell_type": "code",
   "execution_count": 68,
   "id": "925a7b13",
   "metadata": {
    "ExecuteTime": {
     "end_time": "2021-08-13T03:30:58.487587Z",
     "start_time": "2021-08-13T03:30:58.455106Z"
    }
   },
   "outputs": [
    {
     "data": {
      "text/plain": [
       "array([21.7 , 26.88, 35.26, 20.65, 20.29, 39.42, 21.01, 23.68, 24.59,\n",
       "       25.29, 21.58])"
      ]
     },
     "execution_count": 68,
     "metadata": {},
     "output_type": "execute_result"
    }
   ],
   "source": [
    "total_bill_arr[np.where(total_bill_arr > 20)]"
   ]
  },
  {
   "cell_type": "code",
   "execution_count": 69,
   "id": "e283404f",
   "metadata": {
    "ExecuteTime": {
     "end_time": "2021-08-13T03:31:07.011747Z",
     "start_time": "2021-08-13T03:31:06.984879Z"
    }
   },
   "outputs": [
    {
     "data": {
      "text/plain": [
       "(array([0, 1, 1, 2, 2, 2, 3, 3, 3, 3, 4]),\n",
       " array([4, 1, 5, 1, 3, 5, 2, 3, 4, 5, 3]))"
      ]
     },
     "execution_count": 69,
     "metadata": {},
     "output_type": "execute_result"
    }
   ],
   "source": [
    "np.where(total_bill_arr > 20)"
   ]
  },
  {
   "cell_type": "code",
   "execution_count": 64,
   "id": "402bbad2",
   "metadata": {
    "ExecuteTime": {
     "end_time": "2021-08-13T03:29:53.790203Z",
     "start_time": "2021-08-13T03:29:53.760608Z"
    }
   },
   "outputs": [
    {
     "data": {
      "text/plain": [
       "array([16.99, 10.34, 21.01, 23.68, 24.59, 25.29,  8.77, 26.88, 15.04,\n",
       "       14.78])"
      ]
     },
     "execution_count": 64,
     "metadata": {},
     "output_type": "execute_result"
    }
   ],
   "source": [
    "total_bill_arr = np.array(tips['total_bill'])[:10]\n",
    "total_bill_arr"
   ]
  },
  {
   "cell_type": "code",
   "execution_count": 55,
   "id": "9314386c",
   "metadata": {
    "ExecuteTime": {
     "end_time": "2021-08-13T03:27:08.127073Z",
     "start_time": "2021-08-13T03:27:08.106619Z"
    }
   },
   "outputs": [],
   "source": [
    "bool_mat = [True, True, False, False, False, True, False, True, True, False]"
   ]
  },
  {
   "cell_type": "code",
   "execution_count": 56,
   "id": "e1f63a2a",
   "metadata": {
    "ExecuteTime": {
     "end_time": "2021-08-13T03:27:31.145960Z",
     "start_time": "2021-08-13T03:27:31.124221Z"
    }
   },
   "outputs": [
    {
     "data": {
      "text/plain": [
       "array([16.99, 10.34, 25.29, 26.88, 15.04])"
      ]
     },
     "execution_count": 56,
     "metadata": {},
     "output_type": "execute_result"
    }
   ],
   "source": [
    "total_bill_arr[bool_mat]"
   ]
  },
  {
   "cell_type": "code",
   "execution_count": 65,
   "id": "f5a5501b",
   "metadata": {
    "ExecuteTime": {
     "end_time": "2021-08-13T03:30:03.729895Z",
     "start_time": "2021-08-13T03:30:03.719133Z"
    }
   },
   "outputs": [
    {
     "data": {
      "text/plain": [
       "(array([2, 3, 4, 5, 7]),)"
      ]
     },
     "execution_count": 65,
     "metadata": {},
     "output_type": "execute_result"
    }
   ],
   "source": [
    "np.where(total_bill_arr>20)"
   ]
  },
  {
   "cell_type": "code",
   "execution_count": 70,
   "id": "db5dbd53",
   "metadata": {
    "ExecuteTime": {
     "end_time": "2021-08-13T03:32:23.198539Z",
     "start_time": "2021-08-13T03:32:23.179912Z"
    }
   },
   "outputs": [
    {
     "data": {
      "text/plain": [
       "array([[[16.99, 10.34, 21.01, 23.68, 24.59],\n",
       "        [25.29,  8.77, 26.88, 15.04, 14.78],\n",
       "        [10.27, 35.26, 15.42, 18.43, 14.83],\n",
       "        [21.58, 10.33, 16.29, 16.97, 20.65],\n",
       "        [17.92, 20.29, 15.77, 39.42, 19.82]],\n",
       "\n",
       "       [[17.81, 13.37, 12.69, 21.7 , 19.65],\n",
       "        [ 9.55, 18.35, 15.06, 20.69, 17.78],\n",
       "        [24.06, 16.31, 16.93, 18.69, 31.27],\n",
       "        [16.04, 17.46, 13.94,  9.68, 30.4 ],\n",
       "        [18.29, 22.23, 32.4 , 28.55, 18.04]]])"
      ]
     },
     "execution_count": 70,
     "metadata": {},
     "output_type": "execute_result"
    }
   ],
   "source": [
    "total_bill_arr = np.array(tips['total_bill'])[:50].reshape(2, 5, 5)\n",
    "total_bill_arr"
   ]
  },
  {
   "cell_type": "code",
   "execution_count": 76,
   "id": "6346dc1c",
   "metadata": {
    "ExecuteTime": {
     "end_time": "2021-08-13T03:38:06.506582Z",
     "start_time": "2021-08-13T03:38:06.500799Z"
    }
   },
   "outputs": [
    {
     "data": {
      "text/plain": [
       "array([[[ 8.77, 26.88],\n",
       "        [35.26, 15.42]],\n",
       "\n",
       "       [[18.35, 15.06],\n",
       "        [16.31, 16.93]]])"
      ]
     },
     "execution_count": 76,
     "metadata": {},
     "output_type": "execute_result"
    }
   ],
   "source": [
    "# total_bill_arr[0, 1:3, 1:3]\n",
    "total_bill_arr[:, 1:3, 1:3]"
   ]
  },
  {
   "cell_type": "code",
   "execution_count": 73,
   "id": "5e7f18c4",
   "metadata": {
    "ExecuteTime": {
     "end_time": "2021-08-13T03:35:26.682012Z",
     "start_time": "2021-08-13T03:35:26.674167Z"
    }
   },
   "outputs": [
    {
     "data": {
      "text/plain": [
       "16.99"
      ]
     },
     "execution_count": 73,
     "metadata": {},
     "output_type": "execute_result"
    }
   ],
   "source": [
    "total_bill_arr[0, 0, 0]"
   ]
  },
  {
   "cell_type": "code",
   "execution_count": 72,
   "id": "68252155",
   "metadata": {
    "ExecuteTime": {
     "end_time": "2021-08-13T03:32:44.869493Z",
     "start_time": "2021-08-13T03:32:44.860966Z"
    }
   },
   "outputs": [
    {
     "data": {
      "text/plain": [
       "(array([0, 0, 0, 0, 0, 0, 0, 0, 0, 0, 1, 1, 1, 1, 1, 1, 1, 1]),\n",
       " array([0, 0, 0, 1, 1, 2, 3, 3, 4, 4, 0, 1, 2, 2, 3, 4, 4, 4]),\n",
       " array([2, 3, 4, 0, 2, 1, 0, 4, 1, 3, 3, 3, 0, 4, 4, 1, 2, 3]))"
      ]
     },
     "execution_count": 72,
     "metadata": {},
     "output_type": "execute_result"
    }
   ],
   "source": [
    "np.where(total_bill_arr > 20)"
   ]
  },
  {
   "cell_type": "code",
   "execution_count": 74,
   "id": "7b456834",
   "metadata": {
    "ExecuteTime": {
     "end_time": "2021-08-13T03:36:14.799054Z",
     "start_time": "2021-08-13T03:36:14.784361Z"
    }
   },
   "outputs": [
    {
     "data": {
      "text/plain": [
       "21.01"
      ]
     },
     "execution_count": 74,
     "metadata": {},
     "output_type": "execute_result"
    }
   ],
   "source": [
    "total_bill_arr[0,0,2]"
   ]
  },
  {
   "cell_type": "code",
   "execution_count": 83,
   "id": "dcfb4215",
   "metadata": {
    "ExecuteTime": {
     "end_time": "2021-08-13T03:39:34.438242Z",
     "start_time": "2021-08-13T03:39:34.420389Z"
    }
   },
   "outputs": [
    {
     "data": {
      "text/plain": [
       "565.8400000000001"
      ]
     },
     "execution_count": 83,
     "metadata": {},
     "output_type": "execute_result"
    }
   ],
   "source": [
    "# Finding the sum and count \n",
    "np.sum(total_bill_arr)"
   ]
  },
  {
   "cell_type": "code",
   "execution_count": 88,
   "id": "88f3719e",
   "metadata": {
    "ExecuteTime": {
     "end_time": "2021-08-13T03:43:02.153356Z",
     "start_time": "2021-08-13T03:43:02.145744Z"
    }
   },
   "outputs": [
    {
     "data": {
      "text/plain": [
       "280.34999999999997"
      ]
     },
     "execution_count": 88,
     "metadata": {},
     "output_type": "execute_result"
    }
   ],
   "source": [
    "# Find the number of element which are greater than 20\n",
    "np.sum(total_bill_arr[total_bill_arr>20])"
   ]
  },
  {
   "cell_type": "code",
   "execution_count": 85,
   "id": "a37b6bc5",
   "metadata": {
    "ExecuteTime": {
     "end_time": "2021-08-13T03:40:25.847115Z",
     "start_time": "2021-08-13T03:40:25.832340Z"
    }
   },
   "outputs": [
    {
     "data": {
      "text/plain": [
       "array([[False, False, False, False,  True, False],\n",
       "       [False,  True, False, False, False,  True],\n",
       "       [False, False,  True,  True,  True,  True],\n",
       "       [False,  True, False,  True, False,  True],\n",
       "       [False, False, False,  True, False, False]])"
      ]
     },
     "execution_count": 85,
     "metadata": {},
     "output_type": "execute_result"
    }
   ],
   "source": [
    "total_bill_arr>20"
   ]
  },
  {
   "cell_type": "code",
   "execution_count": 86,
   "id": "8c6533fb",
   "metadata": {
    "ExecuteTime": {
     "end_time": "2021-08-13T03:41:09.912185Z",
     "start_time": "2021-08-13T03:41:09.902845Z"
    }
   },
   "outputs": [
    {
     "data": {
      "text/plain": [
       "11"
      ]
     },
     "execution_count": 86,
     "metadata": {},
     "output_type": "execute_result"
    }
   ],
   "source": [
    "np.count_nonzero(total_bill_arr>20)"
   ]
  },
  {
   "cell_type": "code",
   "execution_count": 90,
   "id": "2d16031b",
   "metadata": {
    "ExecuteTime": {
     "end_time": "2021-08-13T03:43:36.418635Z",
     "start_time": "2021-08-13T03:43:36.409429Z"
    }
   },
   "outputs": [
    {
     "data": {
      "text/plain": [
       "False"
      ]
     },
     "execution_count": 90,
     "metadata": {},
     "output_type": "execute_result"
    }
   ],
   "source": [
    "np.any(total_bill_arr>50)"
   ]
  },
  {
   "cell_type": "code",
   "execution_count": 92,
   "id": "3f4ef2f7",
   "metadata": {
    "ExecuteTime": {
     "end_time": "2021-08-13T03:44:15.092002Z",
     "start_time": "2021-08-13T03:44:15.080208Z"
    }
   },
   "outputs": [
    {
     "data": {
      "text/plain": [
       "True"
      ]
     },
     "execution_count": 92,
     "metadata": {},
     "output_type": "execute_result"
    }
   ],
   "source": [
    "np.all(total_bill_arr>1)"
   ]
  },
  {
   "cell_type": "markdown",
   "id": "87f3a482",
   "metadata": {
    "ExecuteTime": {
     "end_time": "2021-08-13T03:45:10.767345Z",
     "start_time": "2021-08-13T03:45:10.762844Z"
    }
   },
   "source": [
    "# Iterating over an array"
   ]
  },
  {
   "cell_type": "code",
   "execution_count": 95,
   "id": "1b31a1ca",
   "metadata": {
    "ExecuteTime": {
     "end_time": "2021-08-13T03:45:24.913920Z",
     "start_time": "2021-08-13T03:45:24.901568Z"
    }
   },
   "outputs": [
    {
     "data": {
      "text/plain": [
       "array([16.99, 10.34, 21.01, 23.68, 24.59, 25.29,  8.77, 26.88, 15.04,\n",
       "       14.78])"
      ]
     },
     "execution_count": 95,
     "metadata": {},
     "output_type": "execute_result"
    }
   ],
   "source": [
    "total_bill_arr = np.array(tips['total_bill'])[:10]\n",
    "total_bill_arr"
   ]
  },
  {
   "cell_type": "code",
   "execution_count": 96,
   "id": "d751285e",
   "metadata": {
    "ExecuteTime": {
     "end_time": "2021-08-13T03:45:41.271548Z",
     "start_time": "2021-08-13T03:45:41.258802Z"
    }
   },
   "outputs": [
    {
     "name": "stdout",
     "output_type": "stream",
     "text": [
      "16.99\n",
      "10.34\n",
      "21.01\n",
      "23.68\n",
      "24.59\n",
      "25.29\n",
      "8.77\n",
      "26.88\n",
      "15.04\n",
      "14.78\n"
     ]
    }
   ],
   "source": [
    "for i in total_bill_arr:\n",
    "    print(i)"
   ]
  },
  {
   "cell_type": "code",
   "execution_count": 97,
   "id": "5d7bc07e",
   "metadata": {
    "ExecuteTime": {
     "end_time": "2021-08-13T03:45:56.336466Z",
     "start_time": "2021-08-13T03:45:56.319283Z"
    }
   },
   "outputs": [
    {
     "data": {
      "text/plain": [
       "array([[16.97, 20.65, 17.92, 20.29, 15.77, 39.42],\n",
       "       [16.99, 10.34, 21.01, 23.68, 24.59, 25.29],\n",
       "       [19.82, 17.81, 13.37, 12.69, 21.7 , 19.65],\n",
       "       [15.42, 18.43, 14.83, 21.58, 10.33, 16.29],\n",
       "       [ 8.77, 26.88, 15.04, 14.78, 10.27, 35.26]])"
      ]
     },
     "execution_count": 97,
     "metadata": {},
     "output_type": "execute_result"
    }
   ],
   "source": [
    "total_bill_arr = np.array(tips['total_bill'])[:30].reshape(5, 6)\n",
    "np.random.shuffle(total_bill_arr)\n",
    "total_bill_arr"
   ]
  },
  {
   "cell_type": "code",
   "execution_count": 104,
   "id": "b8d80a5e",
   "metadata": {
    "ExecuteTime": {
     "end_time": "2021-08-13T03:48:58.757518Z",
     "start_time": "2021-08-13T03:48:58.738519Z"
    }
   },
   "outputs": [
    {
     "name": "stdout",
     "output_type": "stream",
     "text": [
      "[16.97 20.65 17.92 20.29 15.77 39.42]\n",
      "16.97\n",
      "20.65\n",
      "17.92\n",
      "20.29\n",
      "15.77\n",
      "39.42\n",
      "[16.99 10.34 21.01 23.68 24.59 25.29]\n",
      "16.99\n",
      "10.34\n",
      "21.01\n",
      "23.68\n",
      "24.59\n",
      "25.29\n",
      "[19.82 17.81 13.37 12.69 21.7  19.65]\n",
      "19.82\n",
      "17.81\n",
      "13.37\n",
      "12.69\n",
      "21.7\n",
      "19.65\n",
      "[15.42 18.43 14.83 21.58 10.33 16.29]\n",
      "15.42\n",
      "18.43\n",
      "14.83\n",
      "21.58\n",
      "10.33\n",
      "16.29\n",
      "[ 8.77 26.88 15.04 14.78 10.27 35.26]\n",
      "8.77\n",
      "26.88\n",
      "15.04\n",
      "14.78\n",
      "10.27\n",
      "35.26\n"
     ]
    }
   ],
   "source": [
    "for row in total_bill_arr:\n",
    "    print(row)\n",
    "    for ele in row:\n",
    "        print(ele)"
   ]
  },
  {
   "cell_type": "code",
   "execution_count": 101,
   "id": "5960c0cd",
   "metadata": {
    "ExecuteTime": {
     "end_time": "2021-08-13T03:46:59.040237Z",
     "start_time": "2021-08-13T03:46:59.015888Z"
    }
   },
   "outputs": [
    {
     "name": "stdout",
     "output_type": "stream",
     "text": [
      "16.97\n",
      "20.65\n",
      "17.92\n",
      "20.29\n",
      "15.77\n",
      "39.42\n",
      "16.99\n",
      "10.34\n",
      "21.01\n",
      "23.68\n",
      "24.59\n",
      "25.29\n",
      "19.82\n",
      "17.81\n",
      "13.37\n",
      "12.69\n",
      "21.7\n",
      "19.65\n",
      "15.42\n",
      "18.43\n",
      "14.83\n",
      "21.58\n",
      "10.33\n",
      "16.29\n",
      "8.77\n",
      "26.88\n",
      "15.04\n",
      "14.78\n",
      "10.27\n",
      "35.26\n"
     ]
    }
   ],
   "source": [
    "for ele in np.nditer(total_bill_arr, order = 'C'):    # Row major form\n",
    "    print(ele)"
   ]
  },
  {
   "cell_type": "code",
   "execution_count": 103,
   "id": "8897e785",
   "metadata": {
    "ExecuteTime": {
     "end_time": "2021-08-13T03:48:01.618539Z",
     "start_time": "2021-08-13T03:48:01.606019Z"
    }
   },
   "outputs": [
    {
     "data": {
      "text/plain": [
       "array([[16.97, 20.65, 17.92, 20.29, 15.77, 39.42],\n",
       "       [16.99, 10.34, 21.01, 23.68, 24.59, 25.29],\n",
       "       [19.82, 17.81, 13.37, 12.69, 21.7 , 19.65],\n",
       "       [15.42, 18.43, 14.83, 21.58, 10.33, 16.29],\n",
       "       [ 8.77, 26.88, 15.04, 14.78, 10.27, 35.26]])"
      ]
     },
     "execution_count": 103,
     "metadata": {},
     "output_type": "execute_result"
    }
   ],
   "source": [
    "total_bill_arr"
   ]
  },
  {
   "cell_type": "code",
   "execution_count": 102,
   "id": "3df7b3c8",
   "metadata": {
    "ExecuteTime": {
     "end_time": "2021-08-13T03:47:50.618494Z",
     "start_time": "2021-08-13T03:47:50.602953Z"
    }
   },
   "outputs": [
    {
     "name": "stdout",
     "output_type": "stream",
     "text": [
      "16.97\n",
      "16.99\n",
      "19.82\n",
      "15.42\n",
      "8.77\n",
      "20.65\n",
      "10.34\n",
      "17.81\n",
      "18.43\n",
      "26.88\n",
      "17.92\n",
      "21.01\n",
      "13.37\n",
      "14.83\n",
      "15.04\n",
      "20.29\n",
      "23.68\n",
      "12.69\n",
      "21.58\n",
      "14.78\n",
      "15.77\n",
      "24.59\n",
      "21.7\n",
      "10.33\n",
      "10.27\n",
      "39.42\n",
      "25.29\n",
      "19.65\n",
      "16.29\n",
      "35.26\n"
     ]
    }
   ],
   "source": [
    "for ele in np.nditer(total_bill_arr, order = 'F'):    # col major form\n",
    "    print(ele)"
   ]
  },
  {
   "cell_type": "code",
   "execution_count": 112,
   "id": "d7e7b81f",
   "metadata": {
    "ExecuteTime": {
     "end_time": "2021-08-13T03:53:06.197431Z",
     "start_time": "2021-08-13T03:53:06.192717Z"
    }
   },
   "outputs": [],
   "source": [
    "# i = 0\n",
    "# while i < len(total_bill_arr):\n",
    "#     j = 0\n",
    "#     while j < len(total_bill_arr[i]):\n",
    "#         print(total_bill_arr[i,j])\n",
    "#         j += 1\n",
    "#     i += 1"
   ]
  },
  {
   "cell_type": "code",
   "execution_count": 110,
   "id": "ea3aab0f",
   "metadata": {
    "ExecuteTime": {
     "end_time": "2021-08-13T03:52:19.200008Z",
     "start_time": "2021-08-13T03:52:19.190496Z"
    }
   },
   "outputs": [
    {
     "data": {
      "text/plain": [
       "5"
      ]
     },
     "execution_count": 110,
     "metadata": {},
     "output_type": "execute_result"
    }
   ],
   "source": [
    "len(total_bill_arr)"
   ]
  },
  {
   "cell_type": "markdown",
   "id": "5e607124",
   "metadata": {},
   "source": [
    "# Splitting an array"
   ]
  },
  {
   "cell_type": "code",
   "execution_count": null,
   "id": "606ee4e1",
   "metadata": {},
   "outputs": [],
   "source": [
    "# np.split(arr, no of splits)\n",
    "# np.split(arr, (index at which split has to be done))"
   ]
  },
  {
   "cell_type": "code",
   "execution_count": 113,
   "id": "71600063",
   "metadata": {
    "ExecuteTime": {
     "end_time": "2021-08-13T03:54:44.568684Z",
     "start_time": "2021-08-13T03:54:44.559063Z"
    }
   },
   "outputs": [
    {
     "data": {
      "text/plain": [
       "array([16.99, 10.34, 21.01, 23.68, 24.59, 25.29,  8.77, 26.88, 15.04,\n",
       "       14.78])"
      ]
     },
     "execution_count": 113,
     "metadata": {},
     "output_type": "execute_result"
    }
   ],
   "source": [
    "total_bill_arr = np.array(tips['total_bill'])[:10]\n",
    "total_bill_arr"
   ]
  },
  {
   "cell_type": "code",
   "execution_count": 116,
   "id": "7e088a88",
   "metadata": {
    "ExecuteTime": {
     "end_time": "2021-08-13T03:55:45.838728Z",
     "start_time": "2021-08-13T03:55:45.827176Z"
    }
   },
   "outputs": [
    {
     "data": {
      "text/plain": [
       "[array([16.99, 10.34]),\n",
       " array([21.01, 23.68]),\n",
       " array([24.59, 25.29]),\n",
       " array([ 8.77, 26.88]),\n",
       " array([15.04, 14.78])]"
      ]
     },
     "execution_count": 116,
     "metadata": {},
     "output_type": "execute_result"
    }
   ],
   "source": [
    "np.split(total_bill_arr, 5)\n",
    "\n",
    "# No of split should result in an equal division"
   ]
  },
  {
   "cell_type": "code",
   "execution_count": 120,
   "id": "7a3bd569",
   "metadata": {
    "ExecuteTime": {
     "end_time": "2021-08-13T03:58:52.299264Z",
     "start_time": "2021-08-13T03:58:52.285783Z"
    }
   },
   "outputs": [
    {
     "data": {
      "text/plain": [
       "[array([16.99, 10.34]),\n",
       " array([21.01, 23.68, 24.59]),\n",
       " array([25.29,  8.77, 26.88]),\n",
       " array([15.04, 14.78])]"
      ]
     },
     "execution_count": 120,
     "metadata": {},
     "output_type": "execute_result"
    }
   ],
   "source": [
    "np.split(total_bill_arr, [2, 5, 8])"
   ]
  },
  {
   "cell_type": "code",
   "execution_count": 121,
   "id": "7bffc655",
   "metadata": {
    "ExecuteTime": {
     "end_time": "2021-08-13T03:59:28.757961Z",
     "start_time": "2021-08-13T03:59:28.741186Z"
    }
   },
   "outputs": [
    {
     "data": {
      "text/plain": [
       "array([[16.97, 20.65, 17.92, 20.29, 15.77, 39.42],\n",
       "       [15.42, 18.43, 14.83, 21.58, 10.33, 16.29],\n",
       "       [ 8.77, 26.88, 15.04, 14.78, 10.27, 35.26],\n",
       "       [19.82, 17.81, 13.37, 12.69, 21.7 , 19.65],\n",
       "       [16.99, 10.34, 21.01, 23.68, 24.59, 25.29]])"
      ]
     },
     "execution_count": 121,
     "metadata": {},
     "output_type": "execute_result"
    }
   ],
   "source": [
    "total_bill_arr = np.array(tips['total_bill'])[:30].reshape(5, 6)\n",
    "np.random.shuffle(total_bill_arr)\n",
    "total_bill_arr"
   ]
  },
  {
   "cell_type": "code",
   "execution_count": 122,
   "id": "e62e3081",
   "metadata": {
    "ExecuteTime": {
     "end_time": "2021-08-13T04:00:39.438854Z",
     "start_time": "2021-08-13T04:00:39.423070Z"
    }
   },
   "outputs": [
    {
     "data": {
      "text/plain": [
       "[array([[16.97, 20.65, 17.92, 20.29, 15.77, 39.42]]),\n",
       " array([[15.42, 18.43, 14.83, 21.58, 10.33, 16.29],\n",
       "        [ 8.77, 26.88, 15.04, 14.78, 10.27, 35.26]]),\n",
       " array([[19.82, 17.81, 13.37, 12.69, 21.7 , 19.65],\n",
       "        [16.99, 10.34, 21.01, 23.68, 24.59, 25.29]])]"
      ]
     },
     "execution_count": 122,
     "metadata": {},
     "output_type": "execute_result"
    }
   ],
   "source": [
    "np.split(total_bill_arr, [1, 3], axis =0)"
   ]
  },
  {
   "cell_type": "code",
   "execution_count": 124,
   "id": "3251aed6",
   "metadata": {
    "ExecuteTime": {
     "end_time": "2021-08-13T04:01:06.675128Z",
     "start_time": "2021-08-13T04:01:06.662244Z"
    }
   },
   "outputs": [
    {
     "data": {
      "text/plain": [
       "[array([[16.97, 20.65, 17.92],\n",
       "        [15.42, 18.43, 14.83],\n",
       "        [ 8.77, 26.88, 15.04],\n",
       "        [19.82, 17.81, 13.37],\n",
       "        [16.99, 10.34, 21.01]]),\n",
       " array([[20.29, 15.77, 39.42],\n",
       "        [21.58, 10.33, 16.29],\n",
       "        [14.78, 10.27, 35.26],\n",
       "        [12.69, 21.7 , 19.65],\n",
       "        [23.68, 24.59, 25.29]])]"
      ]
     },
     "execution_count": 124,
     "metadata": {},
     "output_type": "execute_result"
    }
   ],
   "source": [
    "np.split(total_bill_arr, 2, axis =1)"
   ]
  },
  {
   "cell_type": "code",
   "execution_count": 125,
   "id": "450eb88e",
   "metadata": {
    "ExecuteTime": {
     "end_time": "2021-08-13T04:01:57.694497Z",
     "start_time": "2021-08-13T04:01:57.684076Z"
    }
   },
   "outputs": [
    {
     "data": {
      "text/plain": [
       "[array([[16.97],\n",
       "        [15.42],\n",
       "        [ 8.77],\n",
       "        [19.82],\n",
       "        [16.99]]),\n",
       " array([[20.65, 17.92],\n",
       "        [18.43, 14.83],\n",
       "        [26.88, 15.04],\n",
       "        [17.81, 13.37],\n",
       "        [10.34, 21.01]]),\n",
       " array([[20.29, 15.77],\n",
       "        [21.58, 10.33],\n",
       "        [14.78, 10.27],\n",
       "        [12.69, 21.7 ],\n",
       "        [23.68, 24.59]]),\n",
       " array([[39.42],\n",
       "        [16.29],\n",
       "        [35.26],\n",
       "        [19.65],\n",
       "        [25.29]])]"
      ]
     },
     "execution_count": 125,
     "metadata": {},
     "output_type": "execute_result"
    }
   ],
   "source": [
    "np.split(total_bill_arr, [1, 3, 5], axis =1)"
   ]
  },
  {
   "cell_type": "markdown",
   "id": "ac6bd2ca",
   "metadata": {},
   "source": [
    "# Concatenation of arrays\n"
   ]
  },
  {
   "cell_type": "code",
   "execution_count": 126,
   "id": "2c338a8d",
   "metadata": {
    "ExecuteTime": {
     "end_time": "2021-08-13T04:04:06.075373Z",
     "start_time": "2021-08-13T04:04:06.055875Z"
    }
   },
   "outputs": [],
   "source": [
    "a = np.array([[\"New York\",\"Maryland\"],[\"Albany\",\"Annapolis\"]])\n",
    "\n",
    "b = np.array([[\"Ohio\",\"Arizona\"],[\"Columbus\",\"Phoenix\"]])"
   ]
  },
  {
   "cell_type": "code",
   "execution_count": 127,
   "id": "dda48e9e",
   "metadata": {
    "ExecuteTime": {
     "end_time": "2021-08-13T04:04:11.037365Z",
     "start_time": "2021-08-13T04:04:11.028891Z"
    }
   },
   "outputs": [
    {
     "data": {
      "text/plain": [
       "array([['New York', 'Maryland'],\n",
       "       ['Albany', 'Annapolis']], dtype='<U9')"
      ]
     },
     "execution_count": 127,
     "metadata": {},
     "output_type": "execute_result"
    }
   ],
   "source": [
    "a"
   ]
  },
  {
   "cell_type": "code",
   "execution_count": 128,
   "id": "b29d5a0f",
   "metadata": {
    "ExecuteTime": {
     "end_time": "2021-08-13T04:04:13.130263Z",
     "start_time": "2021-08-13T04:04:13.111629Z"
    }
   },
   "outputs": [
    {
     "data": {
      "text/plain": [
       "array([['Ohio', 'Arizona'],\n",
       "       ['Columbus', 'Phoenix']], dtype='<U8')"
      ]
     },
     "execution_count": 128,
     "metadata": {},
     "output_type": "execute_result"
    }
   ],
   "source": [
    "b"
   ]
  },
  {
   "cell_type": "code",
   "execution_count": 131,
   "id": "fcdac72f",
   "metadata": {
    "ExecuteTime": {
     "end_time": "2021-08-13T04:04:50.470388Z",
     "start_time": "2021-08-13T04:04:50.457607Z"
    }
   },
   "outputs": [
    {
     "data": {
      "text/plain": [
       "array([['New York', 'Maryland'],\n",
       "       ['Albany', 'Annapolis'],\n",
       "       ['Ohio', 'Arizona'],\n",
       "       ['Columbus', 'Phoenix']], dtype='<U9')"
      ]
     },
     "execution_count": 131,
     "metadata": {},
     "output_type": "execute_result"
    }
   ],
   "source": [
    "np.concatenate((a, b), axis = 0)    # Concatenates along the rows"
   ]
  },
  {
   "cell_type": "code",
   "execution_count": 132,
   "id": "a7d3298b",
   "metadata": {
    "ExecuteTime": {
     "end_time": "2021-08-13T04:05:15.112815Z",
     "start_time": "2021-08-13T04:05:15.103045Z"
    }
   },
   "outputs": [
    {
     "data": {
      "text/plain": [
       "array([['New York', 'Maryland', 'Ohio', 'Arizona'],\n",
       "       ['Albany', 'Annapolis', 'Columbus', 'Phoenix']], dtype='<U9')"
      ]
     },
     "execution_count": 132,
     "metadata": {},
     "output_type": "execute_result"
    }
   ],
   "source": [
    "np.concatenate((a, b), axis = 1)      # Concatenates along the col"
   ]
  },
  {
   "cell_type": "code",
   "execution_count": null,
   "id": "909674dd",
   "metadata": {},
   "outputs": [],
   "source": [
    "# While doing the concatenation along the rows no of col should match\n",
    "# While doing the concatenation along the col no of row should match"
   ]
  },
  {
   "cell_type": "code",
   "execution_count": 134,
   "id": "e572070b",
   "metadata": {
    "ExecuteTime": {
     "end_time": "2021-08-13T04:07:16.398625Z",
     "start_time": "2021-08-13T04:07:16.369229Z"
    }
   },
   "outputs": [
    {
     "ename": "ValueError",
     "evalue": "all the input array dimensions for the concatenation axis must match exactly, but along dimension 0, the array at index 0 has size 2 and the array at index 1 has size 1",
     "output_type": "error",
     "traceback": [
      "\u001b[0;31m---------------------------------------------------------------------------\u001b[0m",
      "\u001b[0;31mValueError\u001b[0m                                Traceback (most recent call last)",
      "\u001b[0;32m<ipython-input-134-e04af0753323>\u001b[0m in \u001b[0;36m<module>\u001b[0;34m\u001b[0m\n\u001b[1;32m      6\u001b[0m \u001b[0;34m\u001b[0m\u001b[0m\n\u001b[1;32m      7\u001b[0m \u001b[0;31m# Concatenate along the col\u001b[0m\u001b[0;34m\u001b[0m\u001b[0;34m\u001b[0m\u001b[0;34m\u001b[0m\u001b[0m\n\u001b[0;32m----> 8\u001b[0;31m \u001b[0mnp\u001b[0m\u001b[0;34m.\u001b[0m\u001b[0mconcatenate\u001b[0m\u001b[0;34m(\u001b[0m\u001b[0;34m(\u001b[0m\u001b[0ma\u001b[0m\u001b[0;34m,\u001b[0m \u001b[0mb\u001b[0m\u001b[0;34m)\u001b[0m\u001b[0;34m,\u001b[0m \u001b[0maxis\u001b[0m \u001b[0;34m=\u001b[0m \u001b[0;36m1\u001b[0m\u001b[0;34m)\u001b[0m\u001b[0;34m\u001b[0m\u001b[0;34m\u001b[0m\u001b[0m\n\u001b[0m",
      "\u001b[0;32m<__array_function__ internals>\u001b[0m in \u001b[0;36mconcatenate\u001b[0;34m(*args, **kwargs)\u001b[0m\n",
      "\u001b[0;31mValueError\u001b[0m: all the input array dimensions for the concatenation axis must match exactly, but along dimension 0, the array at index 0 has size 2 and the array at index 1 has size 1"
     ]
    }
   ],
   "source": [
    "a = np.array([[\"New York\",\"Maryland\"],[\"Albany\",\"Annapolis\"]])\n",
    "b = np.array([[\"Ohio\",\"Arizona\"]])\n",
    "\n",
    "# Concatenate along the rows\n",
    "np.concatenate((a, b), axis = 0)\n",
    "\n",
    "# # Concatenate along the col\n",
    "# np.concatenate((a, b), axis = 1)"
   ]
  },
  {
   "cell_type": "code",
   "execution_count": 138,
   "id": "3c1948aa",
   "metadata": {
    "ExecuteTime": {
     "end_time": "2021-08-13T04:08:00.830067Z",
     "start_time": "2021-08-13T04:08:00.819876Z"
    }
   },
   "outputs": [
    {
     "data": {
      "text/plain": [
       "array([['New York', 'Maryland', 'Ohio'],\n",
       "       ['Albany', 'Annapolis', 'Arizona']], dtype='<U9')"
      ]
     },
     "execution_count": 138,
     "metadata": {},
     "output_type": "execute_result"
    }
   ],
   "source": [
    "a = np.array([[\"New York\",\"Maryland\"],[\"Albany\",\"Annapolis\"]])\n",
    "b = np.array([[\"Ohio\"],[\"Arizona\"]])\n",
    "\n",
    "# # Concatenate along the col\n",
    "np.concatenate((a, b), axis = 1)\n",
    "\n",
    "# Concatenate along the rows\n",
    "# np.concatenate((a, b), axis = 0)"
   ]
  },
  {
   "cell_type": "markdown",
   "id": "d5473928",
   "metadata": {
    "ExecuteTime": {
     "end_time": "2021-08-13T04:08:52.169557Z",
     "start_time": "2021-08-13T04:08:52.164914Z"
    }
   },
   "source": [
    "# Miscellaneous functions on arrays"
   ]
  },
  {
   "cell_type": "code",
   "execution_count": 140,
   "id": "be830e6b",
   "metadata": {
    "ExecuteTime": {
     "end_time": "2021-08-13T04:09:33.229005Z",
     "start_time": "2021-08-13T04:09:33.204101Z"
    }
   },
   "outputs": [
    {
     "data": {
      "text/plain": [
       "array([108020.,  31196.,  38695.,  34571., 178844., 276244.,  25398.,\n",
       "       204327.,  35446., 105264., 253045.,  61559.,  49290., 104901.,\n",
       "       109897., 160539.,   1618.,  73925.,  33400.,   2910., 164229.,\n",
       "       105544.,    792.,  11192.,   1300.,  55144.,  53127.,  76965.,\n",
       "        55345.,  21729.,  14909., 165314., 196440.,  56480.,  11359.,\n",
       "        94737.,   5177.,   6320.,  61349., 107825., 102012.,   4049.,\n",
       "        84287., 116398.,  55641.,  11773.,  40120.,  37922.,  17380.])"
      ]
     },
     "execution_count": 140,
     "metadata": {},
     "output_type": "execute_result"
    }
   ],
   "source": [
    "my_arr = np.array([   792.,   1300.,   1618.,   2910.,   4049.,   5177.,   6320.,\n",
    "        11192.,  11359.,  11773.,  14909.,  17380.,  21729.,  25398.,\n",
    "        31196.,  33400.,  34571.,  35446.,  37922.,  38695.,  40120.,\n",
    "        49290.,  53127.,  55144.,  55345.,  55641.,  56480.,  61349.,\n",
    "        61559.,  73925.,  76965.,  84287.,  94737., 102012., 104901.,\n",
    "       105264., 105544., 107825., 108020., 109897., 116398., 160539.,\n",
    "       164229., 165314., 178844., 196440., 204327., 253045., 276244.])\n",
    "np.random.shuffle(my_arr)\n",
    "my_arr"
   ]
  },
  {
   "cell_type": "code",
   "execution_count": 141,
   "id": "95b57602",
   "metadata": {
    "ExecuteTime": {
     "end_time": "2021-08-13T04:10:17.542015Z",
     "start_time": "2021-08-13T04:10:17.531969Z"
    }
   },
   "outputs": [
    {
     "data": {
      "text/plain": [
       "276244.0"
      ]
     },
     "execution_count": 141,
     "metadata": {},
     "output_type": "execute_result"
    }
   ],
   "source": [
    "np.max(my_arr)"
   ]
  },
  {
   "cell_type": "code",
   "execution_count": 142,
   "id": "221d343e",
   "metadata": {
    "ExecuteTime": {
     "end_time": "2021-08-13T04:10:43.396961Z",
     "start_time": "2021-08-13T04:10:43.384259Z"
    }
   },
   "outputs": [
    {
     "data": {
      "text/plain": [
       "5"
      ]
     },
     "execution_count": 142,
     "metadata": {},
     "output_type": "execute_result"
    }
   ],
   "source": [
    "# Finding the index of max value\n",
    "np.argmax(my_arr)"
   ]
  },
  {
   "cell_type": "code",
   "execution_count": 143,
   "id": "ea851021",
   "metadata": {
    "ExecuteTime": {
     "end_time": "2021-08-13T04:11:01.027619Z",
     "start_time": "2021-08-13T04:11:01.018116Z"
    }
   },
   "outputs": [
    {
     "data": {
      "text/plain": [
       "22"
      ]
     },
     "execution_count": 143,
     "metadata": {},
     "output_type": "execute_result"
    }
   ],
   "source": [
    "# Finding the index of min value\n",
    "np.argmin(my_arr)"
   ]
  },
  {
   "cell_type": "code",
   "execution_count": 146,
   "id": "f8b82c8b",
   "metadata": {
    "ExecuteTime": {
     "end_time": "2021-08-13T04:12:50.615888Z",
     "start_time": "2021-08-13T04:12:50.602534Z"
    }
   },
   "outputs": [
    {
     "data": {
      "text/plain": [
       "array([276244., 253045., 204327., 196440., 178844., 165314., 164229.,\n",
       "       160539., 116398., 109897., 108020., 107825., 105544., 105264.,\n",
       "       104901., 102012.,  94737.,  84287.,  76965.,  73925.,  61559.,\n",
       "        61349.,  56480.,  55641.,  55345.,  55144.,  53127.,  49290.,\n",
       "        40120.,  38695.,  37922.,  35446.,  34571.,  33400.,  31196.,\n",
       "        25398.,  21729.,  17380.,  14909.,  11773.,  11359.,  11192.,\n",
       "         6320.,   5177.,   4049.,   2910.,   1618.,   1300.,    792.])"
      ]
     },
     "execution_count": 146,
     "metadata": {},
     "output_type": "execute_result"
    }
   ],
   "source": [
    "np.sort(my_arr)[::-1]"
   ]
  },
  {
   "cell_type": "code",
   "execution_count": 147,
   "id": "166409a3",
   "metadata": {
    "ExecuteTime": {
     "end_time": "2021-08-13T04:13:00.637023Z",
     "start_time": "2021-08-13T04:13:00.625339Z"
    }
   },
   "outputs": [
    {
     "data": {
      "text/plain": [
       "array([108020.,  31196.,  38695.,  34571., 178844., 276244.,  25398.,\n",
       "       204327.,  35446., 105264., 253045.,  61559.,  49290., 104901.,\n",
       "       109897., 160539.,   1618.,  73925.,  33400.,   2910., 164229.,\n",
       "       105544.,    792.,  11192.,   1300.,  55144.,  53127.,  76965.,\n",
       "        55345.,  21729.,  14909., 165314., 196440.,  56480.,  11359.,\n",
       "        94737.,   5177.,   6320.,  61349., 107825., 102012.,   4049.,\n",
       "        84287., 116398.,  55641.,  11773.,  40120.,  37922.,  17380.])"
      ]
     },
     "execution_count": 147,
     "metadata": {},
     "output_type": "execute_result"
    }
   ],
   "source": [
    "my_arr"
   ]
  },
  {
   "cell_type": "code",
   "execution_count": 149,
   "id": "7886b7b6",
   "metadata": {
    "ExecuteTime": {
     "end_time": "2021-08-13T04:13:51.982188Z",
     "start_time": "2021-08-13T04:13:51.967972Z"
    }
   },
   "outputs": [
    {
     "data": {
      "text/plain": [
       "array([   792.,   1300.,   1618.,   2910.,   4049.,   5177.,   6320.,\n",
       "        11192.,  11359.,  11773.,  14909.,  17380.,  21729.,  25398.,\n",
       "        31196.,  33400.,  34571.,  35446.,  37922.,  38695.,  40120.,\n",
       "        49290.,  53127.,  55144.,  55345.,  55641.,  56480.,  61349.,\n",
       "        61559.,  73925.,  76965.,  84287.,  94737., 102012., 104901.,\n",
       "       105264., 105544., 107825., 108020., 109897., 116398., 160539.,\n",
       "       164229., 165314., 178844., 196440., 204327., 253045., 276244.])"
      ]
     },
     "execution_count": 149,
     "metadata": {},
     "output_type": "execute_result"
    }
   ],
   "source": [
    "my_arr[np.argsort(my_arr)]"
   ]
  },
  {
   "cell_type": "code",
   "execution_count": 152,
   "id": "14c1ef39",
   "metadata": {
    "ExecuteTime": {
     "end_time": "2021-08-13T04:15:26.707353Z",
     "start_time": "2021-08-13T04:15:26.695882Z"
    }
   },
   "outputs": [
    {
     "data": {
      "text/plain": [
       "array([108020., 178844., 276244., 204327., 105264., 253045.,  61559.,\n",
       "       104901., 109897., 160539.,  73925., 164229., 105544.,  55144.,\n",
       "        53127.,  76965.,  55345., 165314., 196440.,  56480.,  94737.,\n",
       "        61349., 107825., 102012.,  84287., 116398.,  55641.])"
      ]
     },
     "execution_count": 152,
     "metadata": {},
     "output_type": "execute_result"
    }
   ],
   "source": [
    "my_arr[np.where(my_arr>50000)]"
   ]
  },
  {
   "cell_type": "code",
   "execution_count": 153,
   "id": "41b49e46",
   "metadata": {
    "ExecuteTime": {
     "end_time": "2021-08-13T04:15:57.889262Z",
     "start_time": "2021-08-13T04:15:57.877170Z"
    }
   },
   "outputs": [
    {
     "data": {
      "text/plain": [
       "array([108020., 178844., 276244., 204327., 105264., 253045.,  61559.,\n",
       "       104901., 109897., 160539.,  73925., 164229., 105544.,  55144.,\n",
       "        53127.,  76965.,  55345., 165314., 196440.,  56480.,  94737.,\n",
       "        61349., 107825., 102012.,  84287., 116398.,  55641.])"
      ]
     },
     "execution_count": 153,
     "metadata": {},
     "output_type": "execute_result"
    }
   ],
   "source": [
    "np.extract(my_arr>50000, my_arr)"
   ]
  },
  {
   "cell_type": "code",
   "execution_count": 154,
   "id": "3cc162d7",
   "metadata": {
    "ExecuteTime": {
     "end_time": "2021-08-13T04:18:42.173956Z",
     "start_time": "2021-08-13T04:18:42.162504Z"
    }
   },
   "outputs": [],
   "source": [
    "from PIL import Image\n",
    "import numpy as np\n",
    "import matplotlib.pyplot as plt"
   ]
  },
  {
   "cell_type": "code",
   "execution_count": 155,
   "id": "d72cfc79",
   "metadata": {
    "ExecuteTime": {
     "end_time": "2021-08-13T04:19:09.861674Z",
     "start_time": "2021-08-13T04:19:09.788243Z"
    }
   },
   "outputs": [
    {
     "data": {
      "image/png": "[encoded data removed]",
      "text/plain": [
       "<PIL.JpegImagePlugin.JpegImageFile image mode=RGB size=200x200 at 0x123F2B400>"
      ]
     },
     "execution_count": 155,
     "metadata": {},
     "output_type": "execute_result"
    }
   ],
   "source": [
    "img = Image.open('python.jpeg')\n",
    "img"
   ]
  },
  {
   "cell_type": "code",
   "execution_count": 156,
   "id": "e1f89b10",
   "metadata": {
    "ExecuteTime": {
     "end_time": "2021-08-13T04:19:26.937462Z",
     "start_time": "2021-08-13T04:19:26.922929Z"
    }
   },
   "outputs": [
    {
     "data": {
      "text/plain": [
       "array([[[255, 255, 255],\n",
       "        [255, 255, 255],\n",
       "        [255, 255, 255],\n",
       "        ...,\n",
       "        [255, 255, 255],\n",
       "        [255, 255, 255],\n",
       "        [255, 255, 255]],\n",
       "\n",
       "       [[255, 255, 255],\n",
       "        [255, 255, 255],\n",
       "        [255, 255, 255],\n",
       "        ...,\n",
       "        [255, 255, 255],\n",
       "        [255, 255, 255],\n",
       "        [255, 255, 255]],\n",
       "\n",
       "       [[255, 255, 255],\n",
       "        [255, 255, 255],\n",
       "        [255, 255, 255],\n",
       "        ...,\n",
       "        [255, 255, 255],\n",
       "        [255, 255, 255],\n",
       "        [255, 255, 255]],\n",
       "\n",
       "       ...,\n",
       "\n",
       "       [[255, 255, 255],\n",
       "        [255, 255, 255],\n",
       "        [255, 255, 255],\n",
       "        ...,\n",
       "        [255, 255, 255],\n",
       "        [255, 255, 255],\n",
       "        [255, 255, 255]],\n",
       "\n",
       "       [[255, 255, 255],\n",
       "        [255, 255, 255],\n",
       "        [255, 255, 255],\n",
       "        ...,\n",
       "        [255, 255, 255],\n",
       "        [255, 255, 255],\n",
       "        [255, 255, 255]],\n",
       "\n",
       "       [[255, 255, 255],\n",
       "        [255, 255, 255],\n",
       "        [255, 255, 255],\n",
       "        ...,\n",
       "        [255, 255, 255],\n",
       "        [255, 255, 255],\n",
       "        [255, 255, 255]]], dtype=uint8)"
      ]
     },
     "execution_count": 156,
     "metadata": {},
     "output_type": "execute_result"
    }
   ],
   "source": [
    "img_arr = np.array(img)\n",
    "img_arr"
   ]
  },
  {
   "cell_type": "code",
   "execution_count": 159,
   "id": "a5a6acb1",
   "metadata": {
    "ExecuteTime": {
     "end_time": "2021-08-13T04:20:14.002682Z",
     "start_time": "2021-08-13T04:20:13.988611Z"
    }
   },
   "outputs": [
    {
     "data": {
      "text/plain": [
       "(200, 200, 3)"
      ]
     },
     "execution_count": 159,
     "metadata": {},
     "output_type": "execute_result"
    }
   ],
   "source": [
    "img_arr.shape"
   ]
  },
  {
   "cell_type": "code",
   "execution_count": 157,
   "id": "0af29bee",
   "metadata": {
    "ExecuteTime": {
     "end_time": "2021-08-13T04:19:46.326506Z",
     "start_time": "2021-08-13T04:19:45.936696Z"
    }
   },
   "outputs": [
    {
     "data": {
      "text/plain": [
       "<matplotlib.image.AxesImage at 0x123f3f070>"
      ]
     },
     "execution_count": 157,
     "metadata": {},
     "output_type": "execute_result"
    },
    {
     "data": {
      "image/png": "[encoded data removed]",
      "text/plain": [
       "<Figure size 432x288 with 1 Axes>"
      ]
     },
     "metadata": {
      "needs_background": "light"
     },
     "output_type": "display_data"
    }
   ],
   "source": [
    "plt.imshow(img_arr)"
   ]
  },
  {
   "cell_type": "code",
   "execution_count": 161,
   "id": "194ab0f6",
   "metadata": {
    "ExecuteTime": {
     "end_time": "2021-08-13T04:21:07.825062Z",
     "start_time": "2021-08-13T04:21:07.484164Z"
    }
   },
   "outputs": [
    {
     "data": {
      "text/plain": [
       "<matplotlib.image.AxesImage at 0x123ee2d30>"
      ]
     },
     "execution_count": 161,
     "metadata": {},
     "output_type": "execute_result"
    },
    {
     "data": {
      "image/png": "[encoded data removed]",
      "text/plain": [
       "<Figure size 432x288 with 1 Axes>"
      ]
     },
     "metadata": {
      "needs_background": "light"
     },
     "output_type": "display_data"
    }
   ],
   "source": [
    "# Cropping the image\n",
    "\n",
    "plt.imshow(img_arr[50:150, 50:150])\n",
    "\n"
   ]
  },
  {
   "cell_type": "code",
   "execution_count": 164,
   "id": "0ec3bbf8",
   "metadata": {
    "ExecuteTime": {
     "end_time": "2021-08-13T04:22:22.089565Z",
     "start_time": "2021-08-13T04:22:21.644079Z"
    }
   },
   "outputs": [
    {
     "data": {
      "text/plain": [
       "<matplotlib.image.AxesImage at 0x12429a430>"
      ]
     },
     "execution_count": 164,
     "metadata": {},
     "output_type": "execute_result"
    },
    {
     "data": {
      "image/png": "[encoded data removed]",
      "text/plain": [
       "<Figure size 432x288 with 1 Axes>"
      ]
     },
     "metadata": {
      "needs_background": "light"
     },
     "output_type": "display_data"
    }
   ],
   "source": [
    "# Splitting the image\n",
    "a1, a2, a3, a4, a5 = np.split(img_arr, 5)\n",
    "plt.imshow(a1)"
   ]
  },
  {
   "cell_type": "code",
   "execution_count": 165,
   "id": "752a1f6d",
   "metadata": {
    "ExecuteTime": {
     "end_time": "2021-08-13T04:22:27.620373Z",
     "start_time": "2021-08-13T04:22:27.305728Z"
    }
   },
   "outputs": [
    {
     "data": {
      "text/plain": [
       "<matplotlib.image.AxesImage at 0x1243204c0>"
      ]
     },
     "execution_count": 165,
     "metadata": {},
     "output_type": "execute_result"
    },
    {
     "data": {
      "image/png": "[encoded data removed]",
      "text/plain": [
       "<Figure size 432x288 with 1 Axes>"
      ]
     },
     "metadata": {
      "needs_background": "light"
     },
     "output_type": "display_data"
    }
   ],
   "source": [
    "plt.imshow(a2)"
   ]
  },
  {
   "cell_type": "code",
   "execution_count": 166,
   "id": "2062f980",
   "metadata": {
    "ExecuteTime": {
     "end_time": "2021-08-13T04:22:34.604936Z",
     "start_time": "2021-08-13T04:22:34.230035Z"
    }
   },
   "outputs": [
    {
     "data": {
      "text/plain": [
       "<matplotlib.image.AxesImage at 0x123f553d0>"
      ]
     },
     "execution_count": 166,
     "metadata": {},
     "output_type": "execute_result"
    },
    {
     "data": {
      "image/png": "[encoded data removed]",
      "text/plain": [
       "<Figure size 432x288 with 1 Axes>"
      ]
     },
     "metadata": {
      "needs_background": "light"
     },
     "output_type": "display_data"
    }
   ],
   "source": [
    "plt.imshow(a3)"
   ]
  },
  {
   "cell_type": "code",
   "execution_count": 167,
   "id": "0c437fae",
   "metadata": {
    "ExecuteTime": {
     "end_time": "2021-08-13T04:22:38.804688Z",
     "start_time": "2021-08-13T04:22:38.508305Z"
    }
   },
   "outputs": [
    {
     "data": {
      "text/plain": [
       "<matplotlib.image.AxesImage at 0x123f4ceb0>"
      ]
     },
     "execution_count": 167,
     "metadata": {},
     "output_type": "execute_result"
    },
    {
     "data": {
      "image/png": "[encoded data removed]",
      "text/plain": [
       "<Figure size 432x288 with 1 Axes>"
      ]
     },
     "metadata": {
      "needs_background": "light"
     },
     "output_type": "display_data"
    }
   ],
   "source": [
    "plt.imshow(a4)"
   ]
  },
  {
   "cell_type": "code",
   "execution_count": 168,
   "id": "0d595c52",
   "metadata": {
    "ExecuteTime": {
     "end_time": "2021-08-13T04:22:42.165519Z",
     "start_time": "2021-08-13T04:22:41.864224Z"
    }
   },
   "outputs": [
    {
     "data": {
      "text/plain": [
       "<matplotlib.image.AxesImage at 0x124485490>"
      ]
     },
     "execution_count": 168,
     "metadata": {},
     "output_type": "execute_result"
    },
    {
     "data": {
      "image/png": "[encoded data removed]",
      "text/plain": [
       "<Figure size 432x288 with 1 Axes>"
      ]
     },
     "metadata": {
      "needs_background": "light"
     },
     "output_type": "display_data"
    }
   ],
   "source": [
    "plt.imshow(a5)"
   ]
  },
  {
   "cell_type": "code",
   "execution_count": 169,
   "id": "42f55872",
   "metadata": {
    "ExecuteTime": {
     "end_time": "2021-08-13T04:23:21.095011Z",
     "start_time": "2021-08-13T04:23:20.770760Z"
    }
   },
   "outputs": [
    {
     "data": {
      "text/plain": [
       "<matplotlib.image.AxesImage at 0x1245097f0>"
      ]
     },
     "execution_count": 169,
     "metadata": {},
     "output_type": "execute_result"
    },
    {
     "data": {
      "image/png": "[encoded data removed]",
      "text/plain": [
       "<Figure size 432x288 with 1 Axes>"
      ]
     },
     "metadata": {
      "needs_background": "light"
     },
     "output_type": "display_data"
    }
   ],
   "source": [
    "# Splitting the image along col\n",
    "b1, b2, b3, b4, b5 = np.split(img_arr, 5, axis = 1)\n",
    "plt.imshow(b1)"
   ]
  },
  {
   "cell_type": "code",
   "execution_count": 170,
   "id": "a28eb0b4",
   "metadata": {
    "ExecuteTime": {
     "end_time": "2021-08-13T04:23:26.296805Z",
     "start_time": "2021-08-13T04:23:25.949812Z"
    }
   },
   "outputs": [
    {
     "data": {
      "text/plain": [
       "<matplotlib.image.AxesImage at 0x12455d610>"
      ]
     },
     "execution_count": 170,
     "metadata": {},
     "output_type": "execute_result"
    },
    {
     "data": {
      "image/png": "[encoded data removed]",
      "text/plain": [
       "<Figure size 432x288 with 1 Axes>"
      ]
     },
     "metadata": {
      "needs_background": "light"
     },
     "output_type": "display_data"
    }
   ],
   "source": [
    "plt.imshow(b2)"
   ]
  },
  {
   "cell_type": "code",
   "execution_count": 171,
   "id": "26ece526",
   "metadata": {
    "ExecuteTime": {
     "end_time": "2021-08-13T04:23:30.599051Z",
     "start_time": "2021-08-13T04:23:30.301496Z"
    }
   },
   "outputs": [
    {
     "data": {
      "text/plain": [
       "<matplotlib.image.AxesImage at 0x1246174f0>"
      ]
     },
     "execution_count": 171,
     "metadata": {},
     "output_type": "execute_result"
    },
    {
     "data": {
      "image/png": "[encoded data removed]",
      "text/plain": [
       "<Figure size 432x288 with 1 Axes>"
      ]
     },
     "metadata": {
      "needs_background": "light"
     },
     "output_type": "display_data"
    }
   ],
   "source": [
    "plt.imshow(b3)"
   ]
  },
  {
   "cell_type": "code",
   "execution_count": 172,
   "id": "4f9045b1",
   "metadata": {
    "ExecuteTime": {
     "end_time": "2021-08-13T04:23:34.583052Z",
     "start_time": "2021-08-13T04:23:34.282248Z"
    }
   },
   "outputs": [
    {
     "data": {
      "text/plain": [
       "<matplotlib.image.AxesImage at 0x1246735b0>"
      ]
     },
     "execution_count": 172,
     "metadata": {},
     "output_type": "execute_result"
    },
    {
     "data": {
      "image/png": "[encoded data removed]",
      "text/plain": [
       "<Figure size 432x288 with 1 Axes>"
      ]
     },
     "metadata": {
      "needs_background": "light"
     },
     "output_type": "display_data"
    }
   ],
   "source": [
    "plt.imshow(b4)"
   ]
  },
  {
   "cell_type": "code",
   "execution_count": 173,
   "id": "c1021e7f",
   "metadata": {
    "ExecuteTime": {
     "end_time": "2021-08-13T04:23:37.958451Z",
     "start_time": "2021-08-13T04:23:37.675814Z"
    }
   },
   "outputs": [
    {
     "data": {
      "text/plain": [
       "<matplotlib.image.AxesImage at 0x12472e6d0>"
      ]
     },
     "execution_count": 173,
     "metadata": {},
     "output_type": "execute_result"
    },
    {
     "data": {
      "image/png": "[encoded data removed]",
      "text/plain": [
       "<Figure size 432x288 with 1 Axes>"
      ]
     },
     "metadata": {
      "needs_background": "light"
     },
     "output_type": "display_data"
    }
   ],
   "source": [
    "plt.imshow(b5)"
   ]
  },
  {
   "cell_type": "code",
   "execution_count": 175,
   "id": "ba990801",
   "metadata": {
    "ExecuteTime": {
     "end_time": "2021-08-13T04:24:02.281004Z",
     "start_time": "2021-08-13T04:24:01.822773Z"
    }
   },
   "outputs": [
    {
     "data": {
      "text/plain": [
       "<matplotlib.image.AxesImage at 0x1247b88e0>"
      ]
     },
     "execution_count": 175,
     "metadata": {},
     "output_type": "execute_result"
    },
    {
     "data": {
      "image/png": "[encoded data removed]",
      "text/plain": [
       "<Figure size 432x288 with 1 Axes>"
      ]
     },
     "metadata": {
      "needs_background": "light"
     },
     "output_type": "display_data"
    }
   ],
   "source": [
    "plt.imshow(np.concatenate((a1,a2, a3, a4, a5)))"
   ]
  },
  {
   "cell_type": "code",
   "execution_count": 177,
   "id": "ff33f1fe",
   "metadata": {
    "ExecuteTime": {
     "end_time": "2021-08-13T04:24:31.404362Z",
     "start_time": "2021-08-13T04:24:31.048172Z"
    }
   },
   "outputs": [
    {
     "data": {
      "text/plain": [
       "<matplotlib.image.AxesImage at 0x124974ee0>"
      ]
     },
     "execution_count": 177,
     "metadata": {},
     "output_type": "execute_result"
    },
    {
     "data": {
      "image/png": "[encoded data removed]",
      "text/plain": [
       "<Figure size 432x288 with 1 Axes>"
      ]
     },
     "metadata": {
      "needs_background": "light"
     },
     "output_type": "display_data"
    }
   ],
   "source": [
    "plt.imshow(np.concatenate((b1,b2, b3, b4, b5), axis = 1))"
   ]
  },
  {
   "cell_type": "code",
   "execution_count": null,
   "id": "25fb0cd3",
   "metadata": {},
   "outputs": [],
   "source": []
  },
  {
   "cell_type": "code",
   "execution_count": null,
   "id": "e97f1eb5",
   "metadata": {},
   "outputs": [],
   "source": []
  },
  {
   "cell_type": "code",
   "execution_count": null,
   "id": "988ea8de",
   "metadata": {},
   "outputs": [],
   "source": []
  },
  {
   "cell_type": "code",
   "execution_count": null,
   "id": "d6b46828",
   "metadata": {},
   "outputs": [],
   "source": []
  },
  {
   "cell_type": "code",
   "execution_count": null,
   "id": "4f3daef9",
   "metadata": {},
   "outputs": [],
   "source": []
  },
  {
   "cell_type": "code",
   "execution_count": null,
   "id": "f9cf7387",
   "metadata": {},
   "outputs": [],
   "source": []
  },
  {
   "cell_type": "code",
   "execution_count": null,
   "id": "f34c1245",
   "metadata": {},
   "outputs": [],
   "source": []
  },
  {
   "cell_type": "code",
   "execution_count": null,
   "id": "2e4bfa7d",
   "metadata": {},
   "outputs": [],
   "source": []
  },
  {
   "cell_type": "code",
   "execution_count": null,
   "id": "e815f873",
   "metadata": {},
   "outputs": [],
   "source": []
  },
  {
   "cell_type": "code",
   "execution_count": null,
   "id": "3265bc50",
   "metadata": {},
   "outputs": [],
   "source": []
  },
  {
   "cell_type": "code",
   "execution_count": null,
   "id": "f14f045c",
   "metadata": {},
   "outputs": [],
   "source": []
  }
 ],
 "metadata": {
  "kernelspec": {
   "display_name": "Python 3",
   "language": "python",
   "name": "python3"
  },
  "language_info": {
   "codemirror_mode": {
    "name": "ipython",
    "version": 3
   },
   "file_extension": ".py",
   "mimetype": "text/x-python",
   "name": "python",
   "nbconvert_exporter": "python",
   "pygments_lexer": "ipython3",
   "version": "3.8.8"
  }
 },
 "nbformat": 4,
 "nbformat_minor": 5
}
