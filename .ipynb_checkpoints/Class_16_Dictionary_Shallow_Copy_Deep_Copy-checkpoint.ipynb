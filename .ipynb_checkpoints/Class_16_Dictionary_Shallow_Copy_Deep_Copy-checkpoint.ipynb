{
 "cells": [
  {
   "cell_type": "code",
   "execution_count": 1,
   "id": "ef6511fd",
   "metadata": {
    "ExecuteTime": {
     "end_time": "2021-07-28T02:41:16.961628Z",
     "start_time": "2021-07-28T02:41:16.942886Z"
    }
   },
   "outputs": [
    {
     "name": "stdout",
     "output_type": "stream",
     "text": [
      "['__class__', '__contains__', '__delattr__', '__delitem__', '__dir__', '__doc__', '__eq__', '__format__', '__ge__', '__getattribute__', '__getitem__', '__gt__', '__hash__', '__init__', '__init_subclass__', '__iter__', '__le__', '__len__', '__lt__', '__ne__', '__new__', '__reduce__', '__reduce_ex__', '__repr__', '__reversed__', '__setattr__', '__setitem__', '__sizeof__', '__str__', '__subclasshook__', 'clear', 'copy', 'fromkeys', 'get', 'items', 'keys', 'pop', 'popitem', 'setdefault', 'update', 'values']\n"
     ]
    }
   ],
   "source": [
    "print(dir(dict))\n",
    "\n",
    "#   'copy',"
   ]
  },
  {
   "cell_type": "code",
   "execution_count": 2,
   "id": "5f2f600e",
   "metadata": {
    "ExecuteTime": {
     "end_time": "2021-07-28T02:43:05.507130Z",
     "start_time": "2021-07-28T02:43:05.372292Z"
    }
   },
   "outputs": [
    {
     "ename": "TypeError",
     "evalue": "unhashable type: 'list'",
     "output_type": "error",
     "traceback": [
      "\u001b[0;31m---------------------------------------------------------------------------\u001b[0m",
      "\u001b[0;31mTypeError\u001b[0m                                 Traceback (most recent call last)",
      "\u001b[0;32m<ipython-input-2-ba0acb966da2>\u001b[0m in \u001b[0;36m<module>\u001b[0;34m\u001b[0m\n\u001b[0;32m----> 1\u001b[0;31m \u001b[0md\u001b[0m \u001b[0;34m=\u001b[0m \u001b[0;34m{\u001b[0m\u001b[0;34m[\u001b[0m\u001b[0;36m12\u001b[0m\u001b[0;34m,\u001b[0m \u001b[0;36m3\u001b[0m\u001b[0;34m]\u001b[0m\u001b[0;34m:\u001b[0m\u001b[0;34m(\u001b[0m\u001b[0;36m1\u001b[0m\u001b[0;34m,\u001b[0m \u001b[0;36m2\u001b[0m\u001b[0;34m,\u001b[0m \u001b[0;36m3\u001b[0m\u001b[0;34m)\u001b[0m\u001b[0;34m}\u001b[0m\u001b[0;34m\u001b[0m\u001b[0;34m\u001b[0m\u001b[0m\n\u001b[0m\u001b[1;32m      2\u001b[0m \u001b[0mprint\u001b[0m\u001b[0;34m(\u001b[0m\u001b[0md\u001b[0m\u001b[0;34m)\u001b[0m\u001b[0;34m\u001b[0m\u001b[0;34m\u001b[0m\u001b[0m\n",
      "\u001b[0;31mTypeError\u001b[0m: unhashable type: 'list'"
     ]
    }
   ],
   "source": [
    "d = {[12, 3]:(1, 2, 3)}\n",
    "print(d)"
   ]
  },
  {
   "cell_type": "code",
   "execution_count": 3,
   "id": "7626d3d4",
   "metadata": {
    "ExecuteTime": {
     "end_time": "2021-07-28T02:43:46.036237Z",
     "start_time": "2021-07-28T02:43:46.026553Z"
    }
   },
   "outputs": [
    {
     "name": "stdout",
     "output_type": "stream",
     "text": [
      "{1: 'Python', 2: 300, 4: 400}\n"
     ]
    }
   ],
   "source": [
    "d = {1:100, 2:300, 4:400, True:'Python'}\n",
    "print(d)"
   ]
  },
  {
   "cell_type": "code",
   "execution_count": null,
   "id": "d980abc7",
   "metadata": {},
   "outputs": [],
   "source": [
    "key            Value\n",
    "1              'Python'\n",
    "2              200\n",
    "4              400\n"
   ]
  },
  {
   "cell_type": "code",
   "execution_count": 7,
   "id": "df891282",
   "metadata": {
    "ExecuteTime": {
     "end_time": "2021-07-28T02:47:53.375152Z",
     "start_time": "2021-07-28T02:47:53.355587Z"
    }
   },
   "outputs": [
    {
     "name": "stdout",
     "output_type": "stream",
     "text": [
      "102\n"
     ]
    },
    {
     "ename": "KeyError",
     "evalue": "'emp4'",
     "output_type": "error",
     "traceback": [
      "\u001b[0;31m---------------------------------------------------------------------------\u001b[0m",
      "\u001b[0;31mKeyError\u001b[0m                                  Traceback (most recent call last)",
      "\u001b[0;32m<ipython-input-7-4f316458f5a1>\u001b[0m in \u001b[0;36m<module>\u001b[0;34m\u001b[0m\n\u001b[1;32m     12\u001b[0m \u001b[0;34m\u001b[0m\u001b[0m\n\u001b[1;32m     13\u001b[0m \u001b[0mprint\u001b[0m\u001b[0;34m(\u001b[0m\u001b[0memp_info\u001b[0m\u001b[0;34m[\u001b[0m\u001b[0;34m'emp2'\u001b[0m\u001b[0;34m]\u001b[0m\u001b[0;34m[\u001b[0m\u001b[0;34m'emp_id'\u001b[0m\u001b[0;34m]\u001b[0m\u001b[0;34m)\u001b[0m\u001b[0;34m\u001b[0m\u001b[0;34m\u001b[0m\u001b[0m\n\u001b[0;32m---> 14\u001b[0;31m \u001b[0mprint\u001b[0m\u001b[0;34m(\u001b[0m\u001b[0memp_info\u001b[0m\u001b[0;34m[\u001b[0m\u001b[0;34m'emp4'\u001b[0m\u001b[0;34m]\u001b[0m\u001b[0;34m[\u001b[0m\u001b[0;34m'emp_id'\u001b[0m\u001b[0;34m]\u001b[0m\u001b[0;34m)\u001b[0m\u001b[0;34m\u001b[0m\u001b[0;34m\u001b[0m\u001b[0m\n\u001b[0m\u001b[1;32m     15\u001b[0m \u001b[0;34m\u001b[0m\u001b[0m\n",
      "\u001b[0;31mKeyError\u001b[0m: 'emp4'"
     ]
    }
   ],
   "source": [
    "# Nested Dictionary\n",
    "\n",
    "emp_info = {'emp1':{'emp_name':'Rahul',\n",
    "                    'emp_id':101,\n",
    "                    'emp_sal':60000},\n",
    "            'emp2':{'emp_name':'Krishna',\n",
    "                    'emp_id':102,\n",
    "                    'emp_sal':65000},\n",
    "            'emp3':{'emp_name':'Abhishek',\n",
    "                    'emp_id':103,\n",
    "                    'emp_sal':70000}}\n",
    "\n",
    "print(emp_info['emp2']['emp_id'])\n",
    "print(emp_info['emp4']['emp_id'])\n",
    "\n"
   ]
  },
  {
   "cell_type": "code",
   "execution_count": 10,
   "id": "482e4216",
   "metadata": {
    "ExecuteTime": {
     "end_time": "2021-07-28T02:49:06.697421Z",
     "start_time": "2021-07-28T02:49:06.691326Z"
    }
   },
   "outputs": [
    {
     "name": "stdout",
     "output_type": "stream",
     "text": [
      "None\n",
      "{'emp1': {'emp_name': 'Rahul', 'emp_id': 101, 'emp_sal': 60000}, 'emp2': {'emp_name': 'Krishna', 'emp_id': 102, 'emp_sal': 65000}, 'emp3': {'emp_name': 'Abhishek', 'emp_id': 103, 'emp_sal': 70000}}\n"
     ]
    }
   ],
   "source": [
    "print(emp_info.get('emp5'))\n",
    "print(emp_info)"
   ]
  },
  {
   "cell_type": "code",
   "execution_count": 11,
   "id": "bc2e635a",
   "metadata": {
    "ExecuteTime": {
     "end_time": "2021-07-28T02:50:03.502431Z",
     "start_time": "2021-07-28T02:50:03.483211Z"
    }
   },
   "outputs": [
    {
     "data": {
      "text/plain": [
       "('emp3', {'emp_name': 'Abhishek', 'emp_id': 103, 'emp_sal': 70000})"
      ]
     },
     "execution_count": 11,
     "metadata": {},
     "output_type": "execute_result"
    }
   ],
   "source": [
    "# popitem\n",
    "emp_info.popitem()\n"
   ]
  },
  {
   "cell_type": "code",
   "execution_count": 18,
   "id": "3db12167",
   "metadata": {
    "ExecuteTime": {
     "end_time": "2021-07-28T02:58:50.351824Z",
     "start_time": "2021-07-28T02:58:50.339841Z"
    }
   },
   "outputs": [
    {
     "name": "stdout",
     "output_type": "stream",
     "text": [
      "{'emp1': {'emp_name': 'Rahul', 'emp_id': 101, 'emp_sal': 60000}, 'emp2': {'emp_name': 'Krishna', 'emp_id': 102, 'emp_sal': 65000}, 'emp4': {'emp_name': 'Akshat', 'emp_id': 104, 'emp_sal': 60000}, 'emp5': {'emp_name': 'Anita', 'emp_id': 105, 'emp_sal': 65000}, 'emp6': {'emp_name': 'Sunita', 'emp_id': 106, 'emp_sal': 70000}, 1: 100, 2: 200, 3: 300}\n"
     ]
    }
   ],
   "source": [
    "# update - equivalent to extend \n",
    "\n",
    "emp_det = {'emp1':{'emp_name':'Akshat',\n",
    "                    'emp_id':104,\n",
    "                    'emp_sal':60000},\n",
    "            'emp2':{'emp_name':'Anita',\n",
    "                    'emp_id':105,\n",
    "                    'emp_sal':65000},\n",
    "            'emp6':{'emp_name':'Sunita',\n",
    "                    'emp_id':106,\n",
    "                    'emp_sal':70000}}\n",
    "emp_info.update(emp_det)\n",
    "# print(emp_info)\n",
    "\n",
    "emp_info.update([(1, 100), (2, 200), (3, 300)])\n",
    "print(emp_info)\n",
    "\n"
   ]
  },
  {
   "cell_type": "code",
   "execution_count": 17,
   "id": "9272fad3",
   "metadata": {
    "ExecuteTime": {
     "end_time": "2021-07-28T02:54:45.416202Z",
     "start_time": "2021-07-28T02:54:45.394351Z"
    }
   },
   "outputs": [
    {
     "ename": "TypeError",
     "evalue": "update() argument after ** must be a mapping, not str",
     "output_type": "error",
     "traceback": [
      "\u001b[0;31m---------------------------------------------------------------------------\u001b[0m",
      "\u001b[0;31mTypeError\u001b[0m                                 Traceback (most recent call last)",
      "\u001b[0;32m<ipython-input-17-e6630214e6c9>\u001b[0m in \u001b[0;36m<module>\u001b[0;34m\u001b[0m\n\u001b[0;32m----> 1\u001b[0;31m \u001b[0memp_info\u001b[0m\u001b[0;34m.\u001b[0m\u001b[0mupdate\u001b[0m\u001b[0;34m(\u001b[0m\u001b[0;34m**\u001b[0m\u001b[0;34m'Class1'\u001b[0m\u001b[0;34m)\u001b[0m\u001b[0;34m\u001b[0m\u001b[0;34m\u001b[0m\u001b[0m\n\u001b[0m",
      "\u001b[0;31mTypeError\u001b[0m: update() argument after ** must be a mapping, not str"
     ]
    }
   ],
   "source": [
    "emp_info.update()"
   ]
  },
  {
   "cell_type": "code",
   "execution_count": 20,
   "id": "9adc4b86",
   "metadata": {
    "ExecuteTime": {
     "end_time": "2021-07-28T03:03:35.604025Z",
     "start_time": "2021-07-28T03:03:35.598362Z"
    }
   },
   "outputs": [
    {
     "name": "stdout",
     "output_type": "stream",
     "text": [
      "{'P': 0, 'y': 0, 't': 0, 'h': 0, 'o': 0, 'n': 0}\n"
     ]
    }
   ],
   "source": [
    "# fromkeys - used to initialize a dictionary with some value\n",
    "\n",
    "my_dict = {}\n",
    "my_str = 'Python'\n",
    "my_dict = my_dict.fromkeys(my_str, 0)\n",
    "print(my_dict)\n",
    "\n",
    "\n"
   ]
  },
  {
   "cell_type": "code",
   "execution_count": 21,
   "id": "516d48e9",
   "metadata": {
    "ExecuteTime": {
     "end_time": "2021-07-28T03:04:12.766181Z",
     "start_time": "2021-07-28T03:04:12.758468Z"
    }
   },
   "outputs": [
    {
     "name": "stdout",
     "output_type": "stream",
     "text": [
      "{'emp1': {'emp_name': 'Rahul', 'emp_id': 101, 'emp_sal': 60000}, 'emp2': {'emp_name': 'Krishna', 'emp_id': 102, 'emp_sal': 65000}, 'emp4': {'emp_name': 'Akshat', 'emp_id': 104, 'emp_sal': 60000}, 'emp5': {'emp_name': 'Anita', 'emp_id': 105, 'emp_sal': 65000}, 'emp6': {'emp_name': 'Sunita', 'emp_id': 106, 'emp_sal': 70000}, 1: 100, 2: 200, 3: 300}\n",
      "{}\n"
     ]
    }
   ],
   "source": [
    "# 'clear',\n",
    "print(emp_info)\n",
    "emp_info.clear()\n",
    "print(emp_info)\n"
   ]
  },
  {
   "cell_type": "code",
   "execution_count": 36,
   "id": "60b31ac6",
   "metadata": {
    "ExecuteTime": {
     "end_time": "2021-07-28T03:24:49.889687Z",
     "start_time": "2021-07-28T03:24:49.880674Z"
    }
   },
   "outputs": [
    {
     "name": "stdout",
     "output_type": "stream",
     "text": [
      "4402428864\n",
      "4402428864\n"
     ]
    }
   ],
   "source": [
    "# copy - \n",
    "\n",
    "# Aliasing, shallow copy,deepcopy\n",
    "\n",
    "a = [10,20,30,40]\n",
    "b = a                 # Aliasing\n",
    "# print(a is b)\n",
    "# print(id(a))\n",
    "# print(id(b))\n",
    "\n",
    "# b[0] = 111\n",
    "# print(b)\n",
    "# print(a)\n",
    "\n",
    "\n",
    "\n",
    "# Shallow copy - slicing, copy\n",
    "# a = [10,20,30,40]\n",
    "# b = a[:]\n",
    "# print(a is b)\n",
    "# print(id(a))\n",
    "# print(id(b))\n",
    "\n",
    "# b[0] = 111\n",
    "# print(b)\n",
    "# print(a)\n",
    "\n",
    "# Shallow copy of nesyed list\n",
    "# a = [10,20,30,[40,50,60],70]\n",
    "# b = a.copy()\n",
    "# print(a[-2] is b[-2])\n",
    "# print(id(a[-2]))\n",
    "# print(id(b[-2]))\n",
    "# b[-2][-2] = 555\n",
    "# print(a)\n",
    "# print(b)\n",
    "\n",
    "\n",
    "# Deepcopy\n",
    "from copy import deepcopy\n",
    "a = [10,20,30,[40,50,60],70]\n",
    "b = deepcopy(a)\n",
    "# print(a[-2] is b[-2])\n",
    "# print(id(a[-2]))\n",
    "# print(id(b[-2]))\n",
    "# b[-2][-2] = 222\n",
    "# print(a)\n",
    "# print(b)\n",
    "\n",
    "print(id(a[0]))\n",
    "print(id(b[0]))\n"
   ]
  },
  {
   "cell_type": "code",
   "execution_count": null,
   "id": "a26c7845",
   "metadata": {},
   "outputs": [],
   "source": []
  },
  {
   "cell_type": "code",
   "execution_count": null,
   "id": "55ca1bf7",
   "metadata": {},
   "outputs": [],
   "source": []
  },
  {
   "cell_type": "code",
   "execution_count": null,
   "id": "5ed47b70",
   "metadata": {},
   "outputs": [],
   "source": []
  },
  {
   "cell_type": "code",
   "execution_count": null,
   "id": "c102398e",
   "metadata": {},
   "outputs": [],
   "source": []
  },
  {
   "cell_type": "code",
   "execution_count": null,
   "id": "04cc75d3",
   "metadata": {},
   "outputs": [],
   "source": []
  },
  {
   "cell_type": "code",
   "execution_count": null,
   "id": "ab33f270",
   "metadata": {},
   "outputs": [],
   "source": []
  },
  {
   "cell_type": "code",
   "execution_count": null,
   "id": "98328225",
   "metadata": {},
   "outputs": [],
   "source": []
  },
  {
   "cell_type": "code",
   "execution_count": null,
   "id": "a46d7b72",
   "metadata": {},
   "outputs": [],
   "source": []
  },
  {
   "cell_type": "code",
   "execution_count": null,
   "id": "2258de59",
   "metadata": {},
   "outputs": [],
   "source": []
  },
  {
   "cell_type": "code",
   "execution_count": null,
   "id": "e0f82975",
   "metadata": {},
   "outputs": [],
   "source": []
  },
  {
   "cell_type": "code",
   "execution_count": null,
   "id": "c49fe74c",
   "metadata": {},
   "outputs": [],
   "source": []
  },
  {
   "cell_type": "code",
   "execution_count": null,
   "id": "8a6d11a6",
   "metadata": {},
   "outputs": [],
   "source": []
  }
 ],
 "metadata": {
  "kernelspec": {
   "display_name": "Python 3",
   "language": "python",
   "name": "python3"
  },
  "language_info": {
   "codemirror_mode": {
    "name": "ipython",
    "version": 3
   },
   "file_extension": ".py",
   "mimetype": "text/x-python",
   "name": "python",
   "nbconvert_exporter": "python",
   "pygments_lexer": "ipython3",
   "version": "3.8.8"
  }
 },
 "nbformat": 4,
 "nbformat_minor": 5
}
