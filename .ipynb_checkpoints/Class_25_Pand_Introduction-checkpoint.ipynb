{
 "cells": [
  {
   "cell_type": "code",
   "execution_count": null,
   "id": "53da16cf",
   "metadata": {},
   "outputs": [],
   "source": [
    "# Structured Data - Pandas Dataframe\n",
    "\n",
    "# Sl no.  Emp Name     Emp Id    Emo Sal\n",
    "# 1       Abhishek     101       10000\n",
    "# 2       Krishna      102       80000\n"
   ]
  },
  {
   "cell_type": "code",
   "execution_count": 2,
   "id": "52718d09",
   "metadata": {
    "ExecuteTime": {
     "end_time": "2021-08-16T02:44:37.509238Z",
     "start_time": "2021-08-16T02:44:36.207910Z"
    }
   },
   "outputs": [],
   "source": [
    "import numpy as np\n",
    "import pandas as pd\n",
    "\n"
   ]
  },
  {
   "cell_type": "code",
   "execution_count": 4,
   "id": "9a61d3d6",
   "metadata": {
    "ExecuteTime": {
     "end_time": "2021-08-16T02:45:15.457948Z",
     "start_time": "2021-08-16T02:45:15.446569Z"
    }
   },
   "outputs": [
    {
     "name": "stdout",
     "output_type": "stream",
     "text": [
      "0        Delhi\n",
      "1       Mumbai\n",
      "2    Bengaluru\n",
      "3    Hyderabad\n",
      "4         Pune\n",
      "5      Chennai\n",
      "6         10.2\n",
      "dtype: object\n",
      "<class 'pandas.core.series.Series'>\n"
     ]
    }
   ],
   "source": [
    "# Series will have only one column\n",
    "# Series will have index for each data\n",
    "# Series does not have any column\n",
    "\n",
    "city_name = ['Delhi', 'Mumbai', 'Bengaluru', 'Hyderabad', 'Pune', 'Chennai', 10.20]\n",
    "\n",
    "# Convertingb a list into series\n",
    "city_ser = pd.Series(city_name)\n",
    "print(city_ser)\n",
    "print(type(city_ser))\n",
    "\n",
    "\n"
   ]
  },
  {
   "cell_type": "code",
   "execution_count": 13,
   "id": "53dd682d",
   "metadata": {
    "ExecuteTime": {
     "end_time": "2021-08-16T02:50:54.135559Z",
     "start_time": "2021-08-16T02:50:54.117733Z"
    }
   },
   "outputs": [
    {
     "name": "stdout",
     "output_type": "stream",
     "text": [
      "1        Delhi\n",
      "2       Mumbai\n",
      "3    Bengaluru\n",
      "4    Hyderabad\n",
      "5         Pune\n",
      "6      Chennai\n",
      "dtype: object\n",
      "<class 'pandas.core.series.Series'>\n"
     ]
    }
   ],
   "source": [
    "# Using User defined index for series\n",
    "\n",
    "city_name = ('Delhi', 'Mumbai', 'Bengaluru', 'Hyderabad', 'Pune', 'Chennai')\n",
    "\n",
    "# Converting a tuple into series\n",
    "city_ser = pd.Series(city_name, index = list(range(1, 7000)))\n",
    "print(city_ser)\n",
    "print(type(city_ser))\n"
   ]
  },
  {
   "cell_type": "code",
   "execution_count": 8,
   "id": "73627258",
   "metadata": {
    "ExecuteTime": {
     "end_time": "2021-08-16T02:49:21.439553Z",
     "start_time": "2021-08-16T02:49:21.424564Z"
    }
   },
   "outputs": [
    {
     "data": {
      "text/plain": [
       "('a', 'b', 'c', 'd', 'e', 'f')"
      ]
     },
     "execution_count": 8,
     "metadata": {},
     "output_type": "execute_result"
    }
   ],
   "source": [
    "tuple('abcdef')"
   ]
  },
  {
   "cell_type": "code",
   "execution_count": 15,
   "id": "d4000ecd",
   "metadata": {
    "ExecuteTime": {
     "end_time": "2021-08-16T02:51:37.299237Z",
     "start_time": "2021-08-16T02:51:37.291245Z"
    }
   },
   "outputs": [
    {
     "name": "stdout",
     "output_type": "stream",
     "text": [
      "6\n"
     ]
    }
   ],
   "source": [
    "print(city_ser.size)"
   ]
  },
  {
   "cell_type": "code",
   "execution_count": 16,
   "id": "040a58c0",
   "metadata": {
    "ExecuteTime": {
     "end_time": "2021-08-16T02:52:46.971414Z",
     "start_time": "2021-08-16T02:52:46.963927Z"
    }
   },
   "outputs": [
    {
     "name": "stdout",
     "output_type": "stream",
     "text": [
      "City_1        Delhi\n",
      "City_2       Mumbai\n",
      "City_3    Bengaluru\n",
      "City_4    Hyderabad\n",
      "City_5         Pune\n",
      "City_6      Chennai\n",
      "dtype: object\n",
      "<class 'pandas.core.series.Series'>\n"
     ]
    }
   ],
   "source": [
    "# Using User defined index for series\n",
    "\n",
    "city_name = ('Delhi', 'Mumbai', 'Bengaluru', 'Hyderabad', 'Pune', 'Chennai')\n",
    "\n",
    "# Converting a tuple into series\n",
    "city_ser = pd.Series(city_name, index = ['City_'+str(i) for i in range(1, 7)])\n",
    "print(city_ser)\n",
    "print(type(city_ser))\n"
   ]
  },
  {
   "cell_type": "code",
   "execution_count": 20,
   "id": "f1ce471f",
   "metadata": {
    "ExecuteTime": {
     "end_time": "2021-08-16T02:55:20.121962Z",
     "start_time": "2021-08-16T02:55:20.111543Z"
    }
   },
   "outputs": [
    {
     "name": "stdout",
     "output_type": "stream",
     "text": [
      "Pune\n",
      "Bengaluru\n"
     ]
    }
   ],
   "source": [
    "# How we can access the data from series\n",
    "\n",
    "# Built-in index - 0 based index\n",
    "# User defined\n",
    "\n",
    "# In series we can access the data from both, Built-in index & User defined\n",
    "\n",
    "# print(city_ser[0])\n",
    "# print(city_ser[-1])\n",
    "\n",
    "# print(city_ser['City_5'])\n",
    "# print(city_ser['City_3'])\n",
    "\n",
    "\n"
   ]
  },
  {
   "cell_type": "code",
   "execution_count": 24,
   "id": "0a54a96b",
   "metadata": {
    "ExecuteTime": {
     "end_time": "2021-08-16T02:58:35.301482Z",
     "start_time": "2021-08-16T02:58:35.285247Z"
    }
   },
   "outputs": [
    {
     "name": "stdout",
     "output_type": "stream",
     "text": [
      "City_2    Mumbai\n",
      "dtype: object\n",
      "City_2       Mumbai\n",
      "City_4    Hyderabad\n",
      "dtype: object\n"
     ]
    }
   ],
   "source": [
    "# Slicing the data from Series\n",
    "# In series we can access the data from both, Built-in index & User defined\n",
    "\n",
    "print(city_ser[1:4:3])   # When we use Built-in index for slicing then start and stop index follows the general Ruel\n",
    "\n",
    "print(city_ser['City_2':'City_4':2])     # When we use User defined index for slicing then start and stop both indexes are inclusive\n",
    "\n"
   ]
  },
  {
   "cell_type": "code",
   "execution_count": 27,
   "id": "c0415bc5",
   "metadata": {
    "ExecuteTime": {
     "end_time": "2021-08-16T03:03:51.242415Z",
     "start_time": "2021-08-16T03:03:51.224346Z"
    }
   },
   "outputs": [
    {
     "name": "stdout",
     "output_type": "stream",
     "text": [
      "emp_name      Krishna\n",
      "emp_id            101\n",
      "emp_sal         80000\n",
      "emp_city      Chennai\n",
      "emp_org           TCS\n",
      "is_Married       True\n",
      "emp_state         NaN\n",
      "dtype: object\n",
      "<class 'pandas.core.series.Series'>\n"
     ]
    }
   ],
   "source": [
    "# Converting a Dictionary into series\n",
    "\n",
    "emp_info = {'emp_name':'Krishna', 'emp_id':101, 'emp_sal':80000, 'emp_city':'Chennai', 'emp_org':'TCS', 'is_Married':True}\n",
    "\n",
    "\n",
    "emp_ser = pd.Series(emp_info, index = ['emp_name', \n",
    "                                      'emp_id',\n",
    "                                      'emp_sal',\n",
    "                                      'emp_city',\n",
    "                                      'emp_org',\n",
    "                                      'is_Married',\n",
    "                                      'emp_state'])\n",
    "print(emp_ser)\n",
    "print(type(emp_ser))"
   ]
  },
  {
   "cell_type": "code",
   "execution_count": 33,
   "id": "00636a94",
   "metadata": {
    "ExecuteTime": {
     "end_time": "2021-08-16T03:08:38.229179Z",
     "start_time": "2021-08-16T03:08:38.220399Z"
    }
   },
   "outputs": [
    {
     "name": "stdout",
     "output_type": "stream",
     "text": [
      "a                 NaN\n",
      "b                 NaN\n",
      "c                 NaN\n",
      "d                 NaN\n",
      "e                 NaN\n",
      "f                 NaN\n",
      "emp_name      Krishna\n",
      "emp_id            101\n",
      "emp_sal         80000\n",
      "emp_city      Chennai\n",
      "emp_org           TCS\n",
      "is_Married       True\n",
      "dtype: object\n",
      "<class 'pandas.core.series.Series'>\n",
      "\n"
     ]
    }
   ],
   "source": [
    "emp_ser = pd.Series(emp_info, index = list('abcdef')+ \n",
    "                                      ['emp_name', \n",
    "                                      'emp_id',\n",
    "                                      'emp_sal',\n",
    "                                      'emp_city',\n",
    "                                      'emp_org',\n",
    "                                      'is_Married'])\n",
    "print(emp_ser)\n",
    "print(type(emp_ser))\n",
    "\n",
    "print()"
   ]
  },
  {
   "cell_type": "code",
   "execution_count": 34,
   "id": "11f3a2ea",
   "metadata": {
    "ExecuteTime": {
     "end_time": "2021-08-16T03:10:32.993598Z",
     "start_time": "2021-08-16T03:10:32.981903Z"
    }
   },
   "outputs": [
    {
     "data": {
      "text/plain": [
       "UP    LKO\n",
       "MP    BHP\n",
       "AP    AMT\n",
       "RJ     JP\n",
       "KA    BLR\n",
       "TN    CHN\n",
       "dtype: object"
      ]
     },
     "execution_count": 34,
     "metadata": {},
     "output_type": "execute_result"
    }
   ],
   "source": [
    "state_name = ['UP', 'MP', 'AP', 'RJ', 'KA', 'TN']\n",
    "cap_name = ['LKO', 'BHP', 'AMT', 'JP', 'BLR', 'CHN']\n",
    "\n",
    "# Create a series where state_name will be index and cap_name will be value\n",
    "\n",
    "sta_cap_ser = pd.Series(cap_name, index = state_name)\n",
    "sta_cap_ser\n"
   ]
  },
  {
   "cell_type": "code",
   "execution_count": 38,
   "id": "c26ad5fb",
   "metadata": {
    "ExecuteTime": {
     "end_time": "2021-08-16T03:11:20.995357Z",
     "start_time": "2021-08-16T03:11:20.984126Z"
    }
   },
   "outputs": [
    {
     "name": "stdout",
     "output_type": "stream",
     "text": [
      "Capital of UP LKO\n",
      "UP    LKO\n",
      "MP    BHP\n",
      "AP    AMT\n",
      "RJ     JP\n",
      "dtype: object\n"
     ]
    }
   ],
   "source": [
    "print('Capital of UP',sta_cap_ser['UP'])\n",
    "\n",
    "print(sta_cap_ser['UP':'RJ'])"
   ]
  },
  {
   "cell_type": "markdown",
   "id": "6c1c3764",
   "metadata": {},
   "source": [
    "# DataFrame\n",
    "1. It ia a tabular representation of the data\n",
    "2. It has rows and columns\n",
    "3. Data frame is a collection of series\n",
    "4. We can give user-defined names to columns in dataframe.\n"
   ]
  },
  {
   "cell_type": "code",
   "execution_count": 40,
   "id": "c38683e8",
   "metadata": {
    "ExecuteTime": {
     "end_time": "2021-08-16T03:17:28.824242Z",
     "start_time": "2021-08-16T03:17:28.798617Z"
    }
   },
   "outputs": [
    {
     "name": "stdout",
     "output_type": "stream",
     "text": [
      "<class 'pandas.core.frame.DataFrame'>\n"
     ]
    }
   ],
   "source": [
    "# Creation of Dataframe from csv file\n",
    "\n",
    "my_df = pd.read_csv('datasets/appleStore_description.csv')\n",
    "my_df\n",
    "print(type(my_df))\n"
   ]
  },
  {
   "cell_type": "code",
   "execution_count": 42,
   "id": "c2455abe",
   "metadata": {
    "ExecuteTime": {
     "end_time": "2021-08-16T03:18:19.536578Z",
     "start_time": "2021-08-16T03:18:18.892178Z"
    }
   },
   "outputs": [
    {
     "data": {
      "text/html": [
       "<div>\n",
       "<style scoped>\n",
       "    .dataframe tbody tr th:only-of-type {\n",
       "        vertical-align: middle;\n",
       "    }\n",
       "\n",
       "    .dataframe tbody tr th {\n",
       "        vertical-align: top;\n",
       "    }\n",
       "\n",
       "    .dataframe thead th {\n",
       "        text-align: right;\n",
       "    }\n",
       "</style>\n",
       "<table border=\"1\" class=\"dataframe\">\n",
       "  <thead>\n",
       "    <tr style=\"text-align: right;\">\n",
       "      <th></th>\n",
       "      <th>Unnamed: 0</th>\n",
       "      <th>car_name</th>\n",
       "      <th>mpg</th>\n",
       "      <th>horsepower</th>\n",
       "      <th>origin_country</th>\n",
       "    </tr>\n",
       "  </thead>\n",
       "  <tbody>\n",
       "    <tr>\n",
       "      <th>0</th>\n",
       "      <td>0</td>\n",
       "      <td>Toyota Corolla Mark ii</td>\n",
       "      <td>24</td>\n",
       "      <td>95</td>\n",
       "      <td>Japan</td>\n",
       "    </tr>\n",
       "    <tr>\n",
       "      <th>1</th>\n",
       "      <td>1</td>\n",
       "      <td>Chevrolet Chevelle Malibu</td>\n",
       "      <td>18</td>\n",
       "      <td>130</td>\n",
       "      <td>US</td>\n",
       "    </tr>\n",
       "    <tr>\n",
       "      <th>2</th>\n",
       "      <td>2</td>\n",
       "      <td>Audi 100 LS</td>\n",
       "      <td>24</td>\n",
       "      <td>90</td>\n",
       "      <td>Germany</td>\n",
       "    </tr>\n",
       "    <tr>\n",
       "      <th>3</th>\n",
       "      <td>3</td>\n",
       "      <td>BMW 2002</td>\n",
       "      <td>26</td>\n",
       "      <td>113</td>\n",
       "      <td>Germany</td>\n",
       "    </tr>\n",
       "    <tr>\n",
       "      <th>4</th>\n",
       "      <td>4</td>\n",
       "      <td>Datsun PL510</td>\n",
       "      <td>27</td>\n",
       "      <td>88</td>\n",
       "      <td>Japan</td>\n",
       "    </tr>\n",
       "  </tbody>\n",
       "</table>\n",
       "</div>"
      ],
      "text/plain": [
       "   Unnamed: 0                   car_name  mpg  horsepower origin_country\n",
       "0           0     Toyota Corolla Mark ii   24          95          Japan\n",
       "1           1  Chevrolet Chevelle Malibu   18         130             US\n",
       "2           2                Audi 100 LS   24          90        Germany\n",
       "3           3                   BMW 2002   26         113        Germany\n",
       "4           4               Datsun PL510   27          88          Japan"
      ]
     },
     "execution_count": 42,
     "metadata": {},
     "output_type": "execute_result"
    }
   ],
   "source": [
    "# Creation of Dataframe from excel file\n",
    "my_df = pd.read_excel('datasets/automobile_camera.xlsx')\n",
    "my_df\n"
   ]
  },
  {
   "cell_type": "code",
   "execution_count": 44,
   "id": "d1c66864",
   "metadata": {
    "ExecuteTime": {
     "end_time": "2021-08-16T03:21:16.104027Z",
     "start_time": "2021-08-16T03:21:16.084698Z"
    }
   },
   "outputs": [
    {
     "data": {
      "text/html": [
       "<div>\n",
       "<style scoped>\n",
       "    .dataframe tbody tr th:only-of-type {\n",
       "        vertical-align: middle;\n",
       "    }\n",
       "\n",
       "    .dataframe tbody tr th {\n",
       "        vertical-align: top;\n",
       "    }\n",
       "\n",
       "    .dataframe thead th {\n",
       "        text-align: right;\n",
       "    }\n",
       "</style>\n",
       "<table border=\"1\" class=\"dataframe\">\n",
       "  <thead>\n",
       "    <tr style=\"text-align: right;\">\n",
       "      <th></th>\n",
       "      <th>State</th>\n",
       "      <th>capital</th>\n",
       "    </tr>\n",
       "  </thead>\n",
       "  <tbody>\n",
       "    <tr>\n",
       "      <th>1</th>\n",
       "      <td>UP</td>\n",
       "      <td>LKO</td>\n",
       "    </tr>\n",
       "    <tr>\n",
       "      <th>2</th>\n",
       "      <td>MP</td>\n",
       "      <td>BHP</td>\n",
       "    </tr>\n",
       "    <tr>\n",
       "      <th>3</th>\n",
       "      <td>AP</td>\n",
       "      <td>AMT</td>\n",
       "    </tr>\n",
       "    <tr>\n",
       "      <th>4</th>\n",
       "      <td>RJ</td>\n",
       "      <td>JP</td>\n",
       "    </tr>\n",
       "    <tr>\n",
       "      <th>5</th>\n",
       "      <td>KA</td>\n",
       "      <td>BLR</td>\n",
       "    </tr>\n",
       "    <tr>\n",
       "      <th>6</th>\n",
       "      <td>TN</td>\n",
       "      <td>CHN</td>\n",
       "    </tr>\n",
       "  </tbody>\n",
       "</table>\n",
       "</div>"
      ],
      "text/plain": [
       "  State capital\n",
       "1    UP     LKO\n",
       "2    MP     BHP\n",
       "3    AP     AMT\n",
       "4    RJ      JP\n",
       "5    KA     BLR\n",
       "6    TN     CHN"
      ]
     },
     "execution_count": 44,
     "metadata": {},
     "output_type": "execute_result"
    }
   ],
   "source": [
    "state_name = ['UP', 'MP', 'AP', 'RJ', 'KA', 'TN']\n",
    "cap_name = ['LKO', 'BHP', 'AMT', 'JP', 'BLR', 'CHN']\n",
    "\n",
    "my_df = pd.DataFrame({'State':pd.Series(state_name, index = list(range(1, 7))),\n",
    "                      'capital':pd.Series(cap_name, index = list(range(1, 7)))})\n",
    "\n",
    "my_df\n",
    "\n"
   ]
  },
  {
   "cell_type": "code",
   "execution_count": 47,
   "id": "8b03c55f",
   "metadata": {
    "ExecuteTime": {
     "end_time": "2021-08-16T03:25:34.484902Z",
     "start_time": "2021-08-16T03:25:34.450660Z"
    }
   },
   "outputs": [
    {
     "data": {
      "text/html": [
       "<div>\n",
       "<style scoped>\n",
       "    .dataframe tbody tr th:only-of-type {\n",
       "        vertical-align: middle;\n",
       "    }\n",
       "\n",
       "    .dataframe tbody tr th {\n",
       "        vertical-align: top;\n",
       "    }\n",
       "\n",
       "    .dataframe thead th {\n",
       "        text-align: right;\n",
       "    }\n",
       "</style>\n",
       "<table border=\"1\" class=\"dataframe\">\n",
       "  <thead>\n",
       "    <tr style=\"text-align: right;\">\n",
       "      <th></th>\n",
       "      <th>state_name</th>\n",
       "      <th>cap_name</th>\n",
       "      <th>Confirmed_cases</th>\n",
       "      <th>Death_cases</th>\n",
       "    </tr>\n",
       "  </thead>\n",
       "  <tbody>\n",
       "    <tr>\n",
       "      <th>0</th>\n",
       "      <td>UP</td>\n",
       "      <td>LKO</td>\n",
       "      <td>10000</td>\n",
       "      <td>2000</td>\n",
       "    </tr>\n",
       "    <tr>\n",
       "      <th>1</th>\n",
       "      <td>MP</td>\n",
       "      <td>BHP</td>\n",
       "      <td>11000</td>\n",
       "      <td>2100</td>\n",
       "    </tr>\n",
       "    <tr>\n",
       "      <th>2</th>\n",
       "      <td>AP</td>\n",
       "      <td>AMT</td>\n",
       "      <td>9999</td>\n",
       "      <td>900</td>\n",
       "    </tr>\n",
       "    <tr>\n",
       "      <th>3</th>\n",
       "      <td>RJ</td>\n",
       "      <td>JP</td>\n",
       "      <td>12000</td>\n",
       "      <td>2500</td>\n",
       "    </tr>\n",
       "    <tr>\n",
       "      <th>4</th>\n",
       "      <td>KA</td>\n",
       "      <td>BLR</td>\n",
       "      <td>8907</td>\n",
       "      <td>800</td>\n",
       "    </tr>\n",
       "    <tr>\n",
       "      <th>5</th>\n",
       "      <td>TN</td>\n",
       "      <td>CHN</td>\n",
       "      <td>9000</td>\n",
       "      <td>700</td>\n",
       "    </tr>\n",
       "  </tbody>\n",
       "</table>\n",
       "</div>"
      ],
      "text/plain": [
       "  state_name cap_name  Confirmed_cases  Death_cases\n",
       "0         UP      LKO            10000         2000\n",
       "1         MP      BHP            11000         2100\n",
       "2         AP      AMT             9999          900\n",
       "3         RJ       JP            12000         2500\n",
       "4         KA      BLR             8907          800\n",
       "5         TN      CHN             9000          700"
      ]
     },
     "execution_count": 47,
     "metadata": {},
     "output_type": "execute_result"
    }
   ],
   "source": [
    "covid_data = {'state_name' : ['UP', 'MP', 'AP', 'RJ', 'KA', 'TN'],\n",
    "              'cap_name' : ['LKO', 'BHP', 'AMT', 'JP', 'BLR', 'CHN'],\n",
    "              'Confirmed_cases' : [10000, 11000, 9999, 12000, 8907, 9000], \n",
    "              'Death_cases' : [2000, 2100, 900, 2500, 800, 700]}\n",
    "pd.DataFrame(covid_data)\n",
    "\n"
   ]
  },
  {
   "cell_type": "code",
   "execution_count": 51,
   "id": "f9f43dfa",
   "metadata": {
    "ExecuteTime": {
     "end_time": "2021-08-16T03:28:51.004787Z",
     "start_time": "2021-08-16T03:28:50.957981Z"
    }
   },
   "outputs": [
    {
     "data": {
      "text/html": [
       "<div>\n",
       "<style scoped>\n",
       "    .dataframe tbody tr th:only-of-type {\n",
       "        vertical-align: middle;\n",
       "    }\n",
       "\n",
       "    .dataframe tbody tr th {\n",
       "        vertical-align: top;\n",
       "    }\n",
       "\n",
       "    .dataframe thead th {\n",
       "        text-align: right;\n",
       "    }\n",
       "</style>\n",
       "<table border=\"1\" class=\"dataframe\">\n",
       "  <thead>\n",
       "    <tr style=\"text-align: right;\">\n",
       "      <th></th>\n",
       "      <th>id</th>\n",
       "      <th>track_name</th>\n",
       "      <th>size_bytes</th>\n",
       "    </tr>\n",
       "  </thead>\n",
       "  <tbody>\n",
       "    <tr>\n",
       "      <th>0</th>\n",
       "      <td>281656475</td>\n",
       "      <td>PAC-MAN Premium</td>\n",
       "      <td>100788224</td>\n",
       "    </tr>\n",
       "    <tr>\n",
       "      <th>1</th>\n",
       "      <td>281796108</td>\n",
       "      <td>Evernote - stay organized</td>\n",
       "      <td>158578688</td>\n",
       "    </tr>\n",
       "    <tr>\n",
       "      <th>2</th>\n",
       "      <td>281940292</td>\n",
       "      <td>WeatherBug - Local Weather, Radar, Maps, Alerts</td>\n",
       "      <td>100524032</td>\n",
       "    </tr>\n",
       "    <tr>\n",
       "      <th>3</th>\n",
       "      <td>282614216</td>\n",
       "      <td>eBay: Best App to Buy, Sell, Save! Online Shop...</td>\n",
       "      <td>128512000</td>\n",
       "    </tr>\n",
       "    <tr>\n",
       "      <th>4</th>\n",
       "      <td>282935706</td>\n",
       "      <td>Bible</td>\n",
       "      <td>92774400</td>\n",
       "    </tr>\n",
       "    <tr>\n",
       "      <th>5</th>\n",
       "      <td>283619399</td>\n",
       "      <td>Shanghai Mahjong</td>\n",
       "      <td>10485713</td>\n",
       "    </tr>\n",
       "    <tr>\n",
       "      <th>6</th>\n",
       "      <td>283646709</td>\n",
       "      <td>PayPal - Send and request money safely</td>\n",
       "      <td>227795968</td>\n",
       "    </tr>\n",
       "    <tr>\n",
       "      <th>7</th>\n",
       "      <td>284035177</td>\n",
       "      <td>Pandora - Music &amp; Radio</td>\n",
       "      <td>130242560</td>\n",
       "    </tr>\n",
       "    <tr>\n",
       "      <th>8</th>\n",
       "      <td>284666222</td>\n",
       "      <td>PCalc - The Best Calculator</td>\n",
       "      <td>49250304</td>\n",
       "    </tr>\n",
       "    <tr>\n",
       "      <th>9</th>\n",
       "      <td>284736660</td>\n",
       "      <td>Ms. PAC-MAN</td>\n",
       "      <td>70023168</td>\n",
       "    </tr>\n",
       "  </tbody>\n",
       "</table>\n",
       "</div>"
      ],
      "text/plain": [
       "          id                                         track_name  size_bytes\n",
       "0  281656475                                    PAC-MAN Premium   100788224\n",
       "1  281796108                          Evernote - stay organized   158578688\n",
       "2  281940292    WeatherBug - Local Weather, Radar, Maps, Alerts   100524032\n",
       "3  282614216  eBay: Best App to Buy, Sell, Save! Online Shop...   128512000\n",
       "4  282935706                                              Bible    92774400\n",
       "5  283619399                                   Shanghai Mahjong    10485713\n",
       "6  283646709             PayPal - Send and request money safely   227795968\n",
       "7  284035177                            Pandora - Music & Radio   130242560\n",
       "8  284666222                        PCalc - The Best Calculator    49250304\n",
       "9  284736660                                        Ms. PAC-MAN    70023168"
      ]
     },
     "execution_count": 51,
     "metadata": {},
     "output_type": "execute_result"
    }
   ],
   "source": [
    "# Pre-Analysis of the data\n",
    "\n",
    "my_df = pd.read_csv('datasets/appleStore_description.csv')\n",
    "my_df.head(10)\n"
   ]
  },
  {
   "cell_type": "code",
   "execution_count": 52,
   "id": "b796817d",
   "metadata": {
    "ExecuteTime": {
     "end_time": "2021-08-16T03:28:54.419034Z",
     "start_time": "2021-08-16T03:28:54.405347Z"
    }
   },
   "outputs": [
    {
     "data": {
      "text/html": [
       "<div>\n",
       "<style scoped>\n",
       "    .dataframe tbody tr th:only-of-type {\n",
       "        vertical-align: middle;\n",
       "    }\n",
       "\n",
       "    .dataframe tbody tr th {\n",
       "        vertical-align: top;\n",
       "    }\n",
       "\n",
       "    .dataframe thead th {\n",
       "        text-align: right;\n",
       "    }\n",
       "</style>\n",
       "<table border=\"1\" class=\"dataframe\">\n",
       "  <thead>\n",
       "    <tr style=\"text-align: right;\">\n",
       "      <th></th>\n",
       "      <th>id</th>\n",
       "      <th>track_name</th>\n",
       "      <th>size_bytes</th>\n",
       "    </tr>\n",
       "  </thead>\n",
       "  <tbody>\n",
       "    <tr>\n",
       "      <th>7187</th>\n",
       "      <td>1186126548</td>\n",
       "      <td>Escape Game: illumination</td>\n",
       "      <td>52342784</td>\n",
       "    </tr>\n",
       "    <tr>\n",
       "      <th>7188</th>\n",
       "      <td>1186384912</td>\n",
       "      <td>Demolition Derby Virtual Reality (VR) Racing</td>\n",
       "      <td>168774656</td>\n",
       "    </tr>\n",
       "    <tr>\n",
       "      <th>7189</th>\n",
       "      <td>1187128255</td>\n",
       "      <td>飞刀传奇-动作武侠热血江湖即时PK传奇（登录爆金装）</td>\n",
       "      <td>537462784</td>\n",
       "    </tr>\n",
       "    <tr>\n",
       "      <th>7190</th>\n",
       "      <td>1187279979</td>\n",
       "      <td>Add-Ons Studio for Minecraft</td>\n",
       "      <td>22999040</td>\n",
       "    </tr>\n",
       "    <tr>\n",
       "      <th>7191</th>\n",
       "      <td>1187282363</td>\n",
       "      <td>Plead the Fifth - The Game</td>\n",
       "      <td>27853824</td>\n",
       "    </tr>\n",
       "    <tr>\n",
       "      <th>7192</th>\n",
       "      <td>1187617475</td>\n",
       "      <td>Kubik</td>\n",
       "      <td>126644224</td>\n",
       "    </tr>\n",
       "    <tr>\n",
       "      <th>7193</th>\n",
       "      <td>1187682390</td>\n",
       "      <td>VR Roller-Coaster</td>\n",
       "      <td>120760320</td>\n",
       "    </tr>\n",
       "    <tr>\n",
       "      <th>7194</th>\n",
       "      <td>1187779532</td>\n",
       "      <td>Bret Michaels Emojis + Lyric Keyboard</td>\n",
       "      <td>111322112</td>\n",
       "    </tr>\n",
       "    <tr>\n",
       "      <th>7195</th>\n",
       "      <td>1187838770</td>\n",
       "      <td>VR Roller Coaster World - Virtual Reality</td>\n",
       "      <td>97235968</td>\n",
       "    </tr>\n",
       "    <tr>\n",
       "      <th>7196</th>\n",
       "      <td>1188375727</td>\n",
       "      <td>Escape the Sweet Shop Series</td>\n",
       "      <td>90898432</td>\n",
       "    </tr>\n",
       "  </tbody>\n",
       "</table>\n",
       "</div>"
      ],
      "text/plain": [
       "              id                                    track_name  size_bytes\n",
       "7187  1186126548                     Escape Game: illumination    52342784\n",
       "7188  1186384912  Demolition Derby Virtual Reality (VR) Racing   168774656\n",
       "7189  1187128255                    飞刀传奇-动作武侠热血江湖即时PK传奇（登录爆金装）   537462784\n",
       "7190  1187279979                  Add-Ons Studio for Minecraft    22999040\n",
       "7191  1187282363                    Plead the Fifth - The Game    27853824\n",
       "7192  1187617475                                         Kubik   126644224\n",
       "7193  1187682390                             VR Roller-Coaster   120760320\n",
       "7194  1187779532         Bret Michaels Emojis + Lyric Keyboard   111322112\n",
       "7195  1187838770     VR Roller Coaster World - Virtual Reality    97235968\n",
       "7196  1188375727                  Escape the Sweet Shop Series    90898432"
      ]
     },
     "execution_count": 52,
     "metadata": {},
     "output_type": "execute_result"
    }
   ],
   "source": [
    "my_df.tail(10)"
   ]
  },
  {
   "cell_type": "code",
   "execution_count": 53,
   "id": "e25f8a32",
   "metadata": {
    "ExecuteTime": {
     "end_time": "2021-08-16T03:29:15.494279Z",
     "start_time": "2021-08-16T03:29:15.486921Z"
    }
   },
   "outputs": [
    {
     "data": {
      "text/plain": [
       "(7197, 3)"
      ]
     },
     "execution_count": 53,
     "metadata": {},
     "output_type": "execute_result"
    }
   ],
   "source": [
    "my_df.shape    # (rows, cols)"
   ]
  },
  {
   "cell_type": "code",
   "execution_count": 54,
   "id": "a87c3043",
   "metadata": {
    "ExecuteTime": {
     "end_time": "2021-08-16T03:29:37.327272Z",
     "start_time": "2021-08-16T03:29:37.319758Z"
    }
   },
   "outputs": [
    {
     "data": {
      "text/plain": [
       "21591"
      ]
     },
     "execution_count": 54,
     "metadata": {},
     "output_type": "execute_result"
    }
   ],
   "source": [
    "my_df.size"
   ]
  },
  {
   "cell_type": "code",
   "execution_count": 59,
   "id": "7c18537f",
   "metadata": {
    "ExecuteTime": {
     "end_time": "2021-08-16T03:32:39.339864Z",
     "start_time": "2021-08-16T03:32:39.327744Z"
    }
   },
   "outputs": [
    {
     "name": "stdout",
     "output_type": "stream",
     "text": [
      "id                  281656475\n",
      "track_name    PAC-MAN Premium\n",
      "size_bytes          100788224\n",
      "Name: 0, dtype: object\n",
      "id                              1188375727\n",
      "track_name    Escape the Sweet Shop Series\n",
      "size_bytes                        90898432\n",
      "Name: 7196, dtype: object\n"
     ]
    }
   ],
   "source": [
    "# To access the value from the dataframe we should use indexing on column\n",
    "my_df['track_name']\n",
    "\n",
    "# We can not perform the indexing directky on rows\n",
    "# my_df[0]\n",
    "\n",
    "\n",
    "# To perform indexing operation on rows - .loc and .iloc\n",
    "print(my_df.loc[0])    # User-defined index\n",
    "print(my_df.iloc[7196])# Built-in index\n",
    "\n",
    "\n",
    "\n"
   ]
  },
  {
   "cell_type": "code",
   "execution_count": 60,
   "id": "44b2dcae",
   "metadata": {
    "ExecuteTime": {
     "end_time": "2021-08-16T03:35:05.558704Z",
     "start_time": "2021-08-16T03:35:05.539588Z"
    }
   },
   "outputs": [
    {
     "data": {
      "text/html": [
       "<div>\n",
       "<style scoped>\n",
       "    .dataframe tbody tr th:only-of-type {\n",
       "        vertical-align: middle;\n",
       "    }\n",
       "\n",
       "    .dataframe tbody tr th {\n",
       "        vertical-align: top;\n",
       "    }\n",
       "\n",
       "    .dataframe thead th {\n",
       "        text-align: right;\n",
       "    }\n",
       "</style>\n",
       "<table border=\"1\" class=\"dataframe\">\n",
       "  <thead>\n",
       "    <tr style=\"text-align: right;\">\n",
       "      <th></th>\n",
       "      <th>id</th>\n",
       "      <th>track_name</th>\n",
       "      <th>size_bytes</th>\n",
       "    </tr>\n",
       "  </thead>\n",
       "  <tbody>\n",
       "    <tr>\n",
       "      <th>1</th>\n",
       "      <td>281796108</td>\n",
       "      <td>Evernote - stay organized</td>\n",
       "      <td>158578688</td>\n",
       "    </tr>\n",
       "    <tr>\n",
       "      <th>2</th>\n",
       "      <td>281940292</td>\n",
       "      <td>WeatherBug - Local Weather, Radar, Maps, Alerts</td>\n",
       "      <td>100524032</td>\n",
       "    </tr>\n",
       "    <tr>\n",
       "      <th>3</th>\n",
       "      <td>282614216</td>\n",
       "      <td>eBay: Best App to Buy, Sell, Save! Online Shop...</td>\n",
       "      <td>128512000</td>\n",
       "    </tr>\n",
       "    <tr>\n",
       "      <th>4</th>\n",
       "      <td>282935706</td>\n",
       "      <td>Bible</td>\n",
       "      <td>92774400</td>\n",
       "    </tr>\n",
       "    <tr>\n",
       "      <th>5</th>\n",
       "      <td>283619399</td>\n",
       "      <td>Shanghai Mahjong</td>\n",
       "      <td>10485713</td>\n",
       "    </tr>\n",
       "    <tr>\n",
       "      <th>6</th>\n",
       "      <td>283646709</td>\n",
       "      <td>PayPal - Send and request money safely</td>\n",
       "      <td>227795968</td>\n",
       "    </tr>\n",
       "  </tbody>\n",
       "</table>\n",
       "</div>"
      ],
      "text/plain": [
       "          id                                         track_name  size_bytes\n",
       "1  281796108                          Evernote - stay organized   158578688\n",
       "2  281940292    WeatherBug - Local Weather, Radar, Maps, Alerts   100524032\n",
       "3  282614216  eBay: Best App to Buy, Sell, Save! Online Shop...   128512000\n",
       "4  282935706                                              Bible    92774400\n",
       "5  283619399                                   Shanghai Mahjong    10485713\n",
       "6  283646709             PayPal - Send and request money safely   227795968"
      ]
     },
     "execution_count": 60,
     "metadata": {},
     "output_type": "execute_result"
    }
   ],
   "source": [
    "# Slicing on dataframe\n",
    "my_df[1:7]       # Row slicing"
   ]
  },
  {
   "cell_type": "code",
   "execution_count": 69,
   "id": "b5bc0a02",
   "metadata": {
    "ExecuteTime": {
     "end_time": "2021-08-16T03:38:00.736097Z",
     "start_time": "2021-08-16T03:38:00.713695Z"
    }
   },
   "outputs": [
    {
     "data": {
      "text/html": [
       "<div>\n",
       "<style scoped>\n",
       "    .dataframe tbody tr th:only-of-type {\n",
       "        vertical-align: middle;\n",
       "    }\n",
       "\n",
       "    .dataframe tbody tr th {\n",
       "        vertical-align: top;\n",
       "    }\n",
       "\n",
       "    .dataframe thead th {\n",
       "        text-align: right;\n",
       "    }\n",
       "</style>\n",
       "<table border=\"1\" class=\"dataframe\">\n",
       "  <thead>\n",
       "    <tr style=\"text-align: right;\">\n",
       "      <th></th>\n",
       "      <th>track_name</th>\n",
       "      <th>size_bytes</th>\n",
       "    </tr>\n",
       "  </thead>\n",
       "  <tbody>\n",
       "    <tr>\n",
       "      <th>1</th>\n",
       "      <td>Evernote - stay organized</td>\n",
       "      <td>158578688</td>\n",
       "    </tr>\n",
       "    <tr>\n",
       "      <th>2</th>\n",
       "      <td>WeatherBug - Local Weather, Radar, Maps, Alerts</td>\n",
       "      <td>100524032</td>\n",
       "    </tr>\n",
       "    <tr>\n",
       "      <th>3</th>\n",
       "      <td>eBay: Best App to Buy, Sell, Save! Online Shop...</td>\n",
       "      <td>128512000</td>\n",
       "    </tr>\n",
       "    <tr>\n",
       "      <th>4</th>\n",
       "      <td>Bible</td>\n",
       "      <td>92774400</td>\n",
       "    </tr>\n",
       "    <tr>\n",
       "      <th>5</th>\n",
       "      <td>Shanghai Mahjong</td>\n",
       "      <td>10485713</td>\n",
       "    </tr>\n",
       "    <tr>\n",
       "      <th>6</th>\n",
       "      <td>PayPal - Send and request money safely</td>\n",
       "      <td>227795968</td>\n",
       "    </tr>\n",
       "    <tr>\n",
       "      <th>7</th>\n",
       "      <td>Pandora - Music &amp; Radio</td>\n",
       "      <td>130242560</td>\n",
       "    </tr>\n",
       "  </tbody>\n",
       "</table>\n",
       "</div>"
      ],
      "text/plain": [
       "                                          track_name  size_bytes\n",
       "1                          Evernote - stay organized   158578688\n",
       "2    WeatherBug - Local Weather, Radar, Maps, Alerts   100524032\n",
       "3  eBay: Best App to Buy, Sell, Save! Online Shop...   128512000\n",
       "4                                              Bible    92774400\n",
       "5                                   Shanghai Mahjong    10485713\n",
       "6             PayPal - Send and request money safely   227795968\n",
       "7                            Pandora - Music & Radio   130242560"
      ]
     },
     "execution_count": 69,
     "metadata": {},
     "output_type": "execute_result"
    }
   ],
   "source": [
    "my_df.loc[1:7, 'track_name':'size_bytes']       "
   ]
  },
  {
   "cell_type": "code",
   "execution_count": 71,
   "id": "00181864",
   "metadata": {
    "ExecuteTime": {
     "end_time": "2021-08-16T03:38:26.859199Z",
     "start_time": "2021-08-16T03:38:26.843088Z"
    }
   },
   "outputs": [
    {
     "data": {
      "text/html": [
       "<div>\n",
       "<style scoped>\n",
       "    .dataframe tbody tr th:only-of-type {\n",
       "        vertical-align: middle;\n",
       "    }\n",
       "\n",
       "    .dataframe tbody tr th {\n",
       "        vertical-align: top;\n",
       "    }\n",
       "\n",
       "    .dataframe thead th {\n",
       "        text-align: right;\n",
       "    }\n",
       "</style>\n",
       "<table border=\"1\" class=\"dataframe\">\n",
       "  <thead>\n",
       "    <tr style=\"text-align: right;\">\n",
       "      <th></th>\n",
       "      <th>track_name</th>\n",
       "      <th>size_bytes</th>\n",
       "    </tr>\n",
       "  </thead>\n",
       "  <tbody>\n",
       "    <tr>\n",
       "      <th>1</th>\n",
       "      <td>Evernote - stay organized</td>\n",
       "      <td>158578688</td>\n",
       "    </tr>\n",
       "    <tr>\n",
       "      <th>2</th>\n",
       "      <td>WeatherBug - Local Weather, Radar, Maps, Alerts</td>\n",
       "      <td>100524032</td>\n",
       "    </tr>\n",
       "    <tr>\n",
       "      <th>3</th>\n",
       "      <td>eBay: Best App to Buy, Sell, Save! Online Shop...</td>\n",
       "      <td>128512000</td>\n",
       "    </tr>\n",
       "    <tr>\n",
       "      <th>4</th>\n",
       "      <td>Bible</td>\n",
       "      <td>92774400</td>\n",
       "    </tr>\n",
       "    <tr>\n",
       "      <th>5</th>\n",
       "      <td>Shanghai Mahjong</td>\n",
       "      <td>10485713</td>\n",
       "    </tr>\n",
       "    <tr>\n",
       "      <th>6</th>\n",
       "      <td>PayPal - Send and request money safely</td>\n",
       "      <td>227795968</td>\n",
       "    </tr>\n",
       "  </tbody>\n",
       "</table>\n",
       "</div>"
      ],
      "text/plain": [
       "                                          track_name  size_bytes\n",
       "1                          Evernote - stay organized   158578688\n",
       "2    WeatherBug - Local Weather, Radar, Maps, Alerts   100524032\n",
       "3  eBay: Best App to Buy, Sell, Save! Online Shop...   128512000\n",
       "4                                              Bible    92774400\n",
       "5                                   Shanghai Mahjong    10485713\n",
       "6             PayPal - Send and request money safely   227795968"
      ]
     },
     "execution_count": 71,
     "metadata": {},
     "output_type": "execute_result"
    }
   ],
   "source": [
    "my_df.iloc[1:7, 1:] "
   ]
  },
  {
   "cell_type": "code",
   "execution_count": 72,
   "id": "2d80a17f",
   "metadata": {
    "ExecuteTime": {
     "end_time": "2021-08-16T03:40:35.447844Z",
     "start_time": "2021-08-16T03:40:35.412235Z"
    }
   },
   "outputs": [
    {
     "data": {
      "text/html": [
       "<div>\n",
       "<style scoped>\n",
       "    .dataframe tbody tr th:only-of-type {\n",
       "        vertical-align: middle;\n",
       "    }\n",
       "\n",
       "    .dataframe tbody tr th {\n",
       "        vertical-align: top;\n",
       "    }\n",
       "\n",
       "    .dataframe thead th {\n",
       "        text-align: right;\n",
       "    }\n",
       "</style>\n",
       "<table border=\"1\" class=\"dataframe\">\n",
       "  <thead>\n",
       "    <tr style=\"text-align: right;\">\n",
       "      <th></th>\n",
       "      <th>Region</th>\n",
       "      <th>Type</th>\n",
       "      <th>Small Bags</th>\n",
       "      <th>Large Bags</th>\n",
       "      <th>Total Bags</th>\n",
       "      <th>Total Volume</th>\n",
       "      <th>AveragePrice</th>\n",
       "      <th>Date</th>\n",
       "    </tr>\n",
       "  </thead>\n",
       "  <tbody>\n",
       "    <tr>\n",
       "      <th>0</th>\n",
       "      <td>Atlanta</td>\n",
       "      <td>organic</td>\n",
       "      <td>89424.11</td>\n",
       "      <td>207.08</td>\n",
       "      <td>89631.19</td>\n",
       "      <td>190257.38</td>\n",
       "      <td>1.70</td>\n",
       "      <td>2018-03-25</td>\n",
       "    </tr>\n",
       "    <tr>\n",
       "      <th>1</th>\n",
       "      <td>Atlanta</td>\n",
       "      <td>conventional</td>\n",
       "      <td>102717.50</td>\n",
       "      <td>153.00</td>\n",
       "      <td>102870.50</td>\n",
       "      <td>202790.74</td>\n",
       "      <td>1.75</td>\n",
       "      <td>2018-03-18</td>\n",
       "    </tr>\n",
       "    <tr>\n",
       "      <th>2</th>\n",
       "      <td>Boston</td>\n",
       "      <td>organic</td>\n",
       "      <td>120465.39</td>\n",
       "      <td>18.83</td>\n",
       "      <td>120484.22</td>\n",
       "      <td>236822.98</td>\n",
       "      <td>1.58</td>\n",
       "      <td>2018-03-11</td>\n",
       "    </tr>\n",
       "    <tr>\n",
       "      <th>3</th>\n",
       "      <td>Boston</td>\n",
       "      <td>conventional</td>\n",
       "      <td>136877.43</td>\n",
       "      <td>60.60</td>\n",
       "      <td>136938.03</td>\n",
       "      <td>239135.67</td>\n",
       "      <td>1.57</td>\n",
       "      <td>2018-03-04</td>\n",
       "    </tr>\n",
       "    <tr>\n",
       "      <th>4</th>\n",
       "      <td>California</td>\n",
       "      <td>organic</td>\n",
       "      <td>66273.89</td>\n",
       "      <td>46.58</td>\n",
       "      <td>66320.47</td>\n",
       "      <td>179041.72</td>\n",
       "      <td>1.82</td>\n",
       "      <td>2018-02-25</td>\n",
       "    </tr>\n",
       "    <tr>\n",
       "      <th>5</th>\n",
       "      <td>California</td>\n",
       "      <td>conventional</td>\n",
       "      <td>103033.73</td>\n",
       "      <td>186.20</td>\n",
       "      <td>106984.89</td>\n",
       "      <td>1203274.11</td>\n",
       "      <td>1.01</td>\n",
       "      <td>2018-03-25</td>\n",
       "    </tr>\n",
       "    <tr>\n",
       "      <th>6</th>\n",
       "      <td>NewYork</td>\n",
       "      <td>organic</td>\n",
       "      <td>119694.95</td>\n",
       "      <td>92.29</td>\n",
       "      <td>124214.59</td>\n",
       "      <td>777300.99</td>\n",
       "      <td>1.38</td>\n",
       "      <td>2018-03-18</td>\n",
       "    </tr>\n",
       "    <tr>\n",
       "      <th>7</th>\n",
       "      <td>NewYork</td>\n",
       "      <td>conventional</td>\n",
       "      <td>193813.92</td>\n",
       "      <td>196.57</td>\n",
       "      <td>197281.89</td>\n",
       "      <td>904333.98</td>\n",
       "      <td>1.29</td>\n",
       "      <td>2018-03-11</td>\n",
       "    </tr>\n",
       "    <tr>\n",
       "      <th>8</th>\n",
       "      <td>SanFrancisco</td>\n",
       "      <td>organic</td>\n",
       "      <td>231913.11</td>\n",
       "      <td>1286.43</td>\n",
       "      <td>236417.93</td>\n",
       "      <td>1051308.50</td>\n",
       "      <td>1.16</td>\n",
       "      <td>2018-03-04</td>\n",
       "    </tr>\n",
       "    <tr>\n",
       "      <th>9</th>\n",
       "      <td>SanFrancisco</td>\n",
       "      <td>conventional</td>\n",
       "      <td>162913.33</td>\n",
       "      <td>609.20</td>\n",
       "      <td>166836.16</td>\n",
       "      <td>984000.13</td>\n",
       "      <td>1.17</td>\n",
       "      <td>2018-02-25</td>\n",
       "    </tr>\n",
       "  </tbody>\n",
       "</table>\n",
       "</div>"
      ],
      "text/plain": [
       "         Region          Type  Small Bags  Large Bags  Total Bags  \\\n",
       "0       Atlanta       organic    89424.11      207.08    89631.19   \n",
       "1       Atlanta  conventional   102717.50      153.00   102870.50   \n",
       "2        Boston       organic   120465.39       18.83   120484.22   \n",
       "3        Boston  conventional   136877.43       60.60   136938.03   \n",
       "4    California       organic    66273.89       46.58    66320.47   \n",
       "5    California  conventional   103033.73      186.20   106984.89   \n",
       "6       NewYork       organic   119694.95       92.29   124214.59   \n",
       "7       NewYork  conventional   193813.92      196.57   197281.89   \n",
       "8  SanFrancisco       organic   231913.11     1286.43   236417.93   \n",
       "9  SanFrancisco  conventional   162913.33      609.20   166836.16   \n",
       "\n",
       "   Total Volume  AveragePrice        Date  \n",
       "0     190257.38          1.70  2018-03-25  \n",
       "1     202790.74          1.75  2018-03-18  \n",
       "2     236822.98          1.58  2018-03-11  \n",
       "3     239135.67          1.57  2018-03-04  \n",
       "4     179041.72          1.82  2018-02-25  \n",
       "5    1203274.11          1.01  2018-03-25  \n",
       "6     777300.99          1.38  2018-03-18  \n",
       "7     904333.98          1.29  2018-03-11  \n",
       "8    1051308.50          1.16  2018-03-04  \n",
       "9     984000.13          1.17  2018-02-25  "
      ]
     },
     "execution_count": 72,
     "metadata": {},
     "output_type": "execute_result"
    }
   ],
   "source": [
    "my_df = pd.read_csv('datasets/avocado.csv')\n",
    "my_df"
   ]
  },
  {
   "cell_type": "code",
   "execution_count": 74,
   "id": "dfbf77bc",
   "metadata": {
    "ExecuteTime": {
     "end_time": "2021-08-16T03:40:55.124640Z",
     "start_time": "2021-08-16T03:40:55.109603Z"
    }
   },
   "outputs": [
    {
     "data": {
      "text/plain": [
       "1286.43"
      ]
     },
     "execution_count": 74,
     "metadata": {},
     "output_type": "execute_result"
    }
   ],
   "source": [
    "my_df['Large Bags'].max()"
   ]
  },
  {
   "cell_type": "code",
   "execution_count": 75,
   "id": "1430c39d",
   "metadata": {
    "ExecuteTime": {
     "end_time": "2021-08-16T03:41:00.946863Z",
     "start_time": "2021-08-16T03:41:00.927577Z"
    }
   },
   "outputs": [
    {
     "data": {
      "text/plain": [
       "18.83"
      ]
     },
     "execution_count": 75,
     "metadata": {},
     "output_type": "execute_result"
    }
   ],
   "source": [
    "my_df['Large Bags'].min()"
   ]
  },
  {
   "cell_type": "code",
   "execution_count": 76,
   "id": "ef8e09c5",
   "metadata": {
    "ExecuteTime": {
     "end_time": "2021-08-16T03:41:05.688218Z",
     "start_time": "2021-08-16T03:41:05.671707Z"
    }
   },
   "outputs": [
    {
     "data": {
      "text/plain": [
       "2856.7799999999997"
      ]
     },
     "execution_count": 76,
     "metadata": {},
     "output_type": "execute_result"
    }
   ],
   "source": [
    "my_df['Large Bags'].sum()"
   ]
  },
  {
   "cell_type": "code",
   "execution_count": 78,
   "id": "5930cc35",
   "metadata": {
    "ExecuteTime": {
     "end_time": "2021-08-16T03:41:19.955323Z",
     "start_time": "2021-08-16T03:41:19.914808Z"
    }
   },
   "outputs": [
    {
     "name": "stdout",
     "output_type": "stream",
     "text": [
      "<class 'pandas.core.frame.DataFrame'>\n",
      "RangeIndex: 10 entries, 0 to 9\n",
      "Data columns (total 8 columns):\n",
      " #   Column        Non-Null Count  Dtype  \n",
      "---  ------        --------------  -----  \n",
      " 0   Region        10 non-null     object \n",
      " 1   Type          10 non-null     object \n",
      " 2   Small Bags    10 non-null     float64\n",
      " 3   Large Bags    10 non-null     float64\n",
      " 4   Total Bags    10 non-null     float64\n",
      " 5   Total Volume  10 non-null     float64\n",
      " 6   AveragePrice  10 non-null     float64\n",
      " 7   Date          10 non-null     object \n",
      "dtypes: float64(5), object(3)\n",
      "memory usage: 768.0+ bytes\n"
     ]
    }
   ],
   "source": [
    "my_df.info()"
   ]
  },
  {
   "cell_type": "code",
   "execution_count": 79,
   "id": "cc29c58e",
   "metadata": {
    "ExecuteTime": {
     "end_time": "2021-08-16T03:42:32.225961Z",
     "start_time": "2021-08-16T03:42:32.159434Z"
    }
   },
   "outputs": [
    {
     "data": {
      "text/html": [
       "<div>\n",
       "<style scoped>\n",
       "    .dataframe tbody tr th:only-of-type {\n",
       "        vertical-align: middle;\n",
       "    }\n",
       "\n",
       "    .dataframe tbody tr th {\n",
       "        vertical-align: top;\n",
       "    }\n",
       "\n",
       "    .dataframe thead th {\n",
       "        text-align: right;\n",
       "    }\n",
       "</style>\n",
       "<table border=\"1\" class=\"dataframe\">\n",
       "  <thead>\n",
       "    <tr style=\"text-align: right;\">\n",
       "      <th></th>\n",
       "      <th>Small Bags</th>\n",
       "      <th>Large Bags</th>\n",
       "      <th>Total Bags</th>\n",
       "      <th>Total Volume</th>\n",
       "      <th>AveragePrice</th>\n",
       "    </tr>\n",
       "  </thead>\n",
       "  <tbody>\n",
       "    <tr>\n",
       "      <th>count</th>\n",
       "      <td>10.00000</td>\n",
       "      <td>10.000000</td>\n",
       "      <td>10.000000</td>\n",
       "      <td>1.000000e+01</td>\n",
       "      <td>10.00000</td>\n",
       "    </tr>\n",
       "    <tr>\n",
       "      <th>mean</th>\n",
       "      <td>132712.73600</td>\n",
       "      <td>285.678000</td>\n",
       "      <td>134797.987000</td>\n",
       "      <td>5.968266e+05</td>\n",
       "      <td>1.44300</td>\n",
       "    </tr>\n",
       "    <tr>\n",
       "      <th>std</th>\n",
       "      <td>50433.16001</td>\n",
       "      <td>389.333189</td>\n",
       "      <td>51748.226118</td>\n",
       "      <td>4.221664e+05</td>\n",
       "      <td>0.28024</td>\n",
       "    </tr>\n",
       "    <tr>\n",
       "      <th>min</th>\n",
       "      <td>66273.89000</td>\n",
       "      <td>18.830000</td>\n",
       "      <td>66320.470000</td>\n",
       "      <td>1.790417e+05</td>\n",
       "      <td>1.01000</td>\n",
       "    </tr>\n",
       "    <tr>\n",
       "      <th>25%</th>\n",
       "      <td>102796.55750</td>\n",
       "      <td>68.522500</td>\n",
       "      <td>103899.097500</td>\n",
       "      <td>2.112988e+05</td>\n",
       "      <td>1.20000</td>\n",
       "    </tr>\n",
       "    <tr>\n",
       "      <th>50%</th>\n",
       "      <td>120080.17000</td>\n",
       "      <td>169.600000</td>\n",
       "      <td>122349.405000</td>\n",
       "      <td>5.082183e+05</td>\n",
       "      <td>1.47500</td>\n",
       "    </tr>\n",
       "    <tr>\n",
       "      <th>75%</th>\n",
       "      <td>156404.35500</td>\n",
       "      <td>204.452500</td>\n",
       "      <td>159361.627500</td>\n",
       "      <td>9.640836e+05</td>\n",
       "      <td>1.67000</td>\n",
       "    </tr>\n",
       "    <tr>\n",
       "      <th>max</th>\n",
       "      <td>231913.11000</td>\n",
       "      <td>1286.430000</td>\n",
       "      <td>236417.930000</td>\n",
       "      <td>1.203274e+06</td>\n",
       "      <td>1.82000</td>\n",
       "    </tr>\n",
       "  </tbody>\n",
       "</table>\n",
       "</div>"
      ],
      "text/plain": [
       "         Small Bags   Large Bags     Total Bags  Total Volume  AveragePrice\n",
       "count      10.00000    10.000000      10.000000  1.000000e+01      10.00000\n",
       "mean   132712.73600   285.678000  134797.987000  5.968266e+05       1.44300\n",
       "std     50433.16001   389.333189   51748.226118  4.221664e+05       0.28024\n",
       "min     66273.89000    18.830000   66320.470000  1.790417e+05       1.01000\n",
       "25%    102796.55750    68.522500  103899.097500  2.112988e+05       1.20000\n",
       "50%    120080.17000   169.600000  122349.405000  5.082183e+05       1.47500\n",
       "75%    156404.35500   204.452500  159361.627500  9.640836e+05       1.67000\n",
       "max    231913.11000  1286.430000  236417.930000  1.203274e+06       1.82000"
      ]
     },
     "execution_count": 79,
     "metadata": {},
     "output_type": "execute_result"
    }
   ],
   "source": [
    "my_df.describe()"
   ]
  },
  {
   "cell_type": "markdown",
   "id": "d17f2fab",
   "metadata": {},
   "source": [
    "# Addition and Deletion of rows and columns"
   ]
  },
  {
   "cell_type": "code",
   "execution_count": 5,
   "id": "74ca5a3a",
   "metadata": {
    "ExecuteTime": {
     "end_time": "2021-08-16T03:52:59.114962Z",
     "start_time": "2021-08-16T03:52:58.947930Z"
    }
   },
   "outputs": [
    {
     "data": {
      "text/html": [
       "<div>\n",
       "<style scoped>\n",
       "    .dataframe tbody tr th:only-of-type {\n",
       "        vertical-align: middle;\n",
       "    }\n",
       "\n",
       "    .dataframe tbody tr th {\n",
       "        vertical-align: top;\n",
       "    }\n",
       "\n",
       "    .dataframe thead th {\n",
       "        text-align: right;\n",
       "    }\n",
       "</style>\n",
       "<table border=\"1\" class=\"dataframe\">\n",
       "  <thead>\n",
       "    <tr style=\"text-align: right;\">\n",
       "      <th></th>\n",
       "      <th>tripduration</th>\n",
       "      <th>starttime</th>\n",
       "      <th>stoptime</th>\n",
       "      <th>start station id</th>\n",
       "      <th>start station name</th>\n",
       "      <th>end station id</th>\n",
       "      <th>end station name</th>\n",
       "      <th>bikeid</th>\n",
       "      <th>name_localizedValue</th>\n",
       "      <th>usertype</th>\n",
       "    </tr>\n",
       "  </thead>\n",
       "  <tbody>\n",
       "    <tr>\n",
       "      <th>0</th>\n",
       "      <td>338</td>\n",
       "      <td>2018-05-01 00:04:47</td>\n",
       "      <td>2018-05-01 00:10:25</td>\n",
       "      <td>3639</td>\n",
       "      <td>Harborside</td>\n",
       "      <td>3199</td>\n",
       "      <td>Newport Pkwy</td>\n",
       "      <td>33558</td>\n",
       "      <td>Annual Membership</td>\n",
       "      <td>Subscriber</td>\n",
       "    </tr>\n",
       "    <tr>\n",
       "      <th>1</th>\n",
       "      <td>1482</td>\n",
       "      <td>2018-05-01 01:31:10</td>\n",
       "      <td>2018-05-01 01:55:53</td>\n",
       "      <td>3681</td>\n",
       "      <td>Grand St</td>\n",
       "      <td>3185</td>\n",
       "      <td>City Hall</td>\n",
       "      <td>33593</td>\n",
       "      <td>24 Hour</td>\n",
       "      <td>Customer</td>\n",
       "    </tr>\n",
       "    <tr>\n",
       "      <th>2</th>\n",
       "      <td>232</td>\n",
       "      <td>2018-05-01 01:31:29</td>\n",
       "      <td>2018-05-01 01:35:22</td>\n",
       "      <td>3194</td>\n",
       "      <td>McGinley Square</td>\n",
       "      <td>3193</td>\n",
       "      <td>Lincoln Park</td>\n",
       "      <td>29217</td>\n",
       "      <td>FREE Bonus Month with Annual Membership</td>\n",
       "      <td>Subscriber</td>\n",
       "    </tr>\n",
       "    <tr>\n",
       "      <th>3</th>\n",
       "      <td>190</td>\n",
       "      <td>2018-05-01 02:03:29</td>\n",
       "      <td>2018-05-01 02:06:40</td>\n",
       "      <td>3185</td>\n",
       "      <td>City Hall</td>\n",
       "      <td>3186</td>\n",
       "      <td>Grove St PATH</td>\n",
       "      <td>29662</td>\n",
       "      <td>24 Hour</td>\n",
       "      <td>Customer</td>\n",
       "    </tr>\n",
       "    <tr>\n",
       "      <th>4</th>\n",
       "      <td>303</td>\n",
       "      <td>2018-05-01 04:27:12</td>\n",
       "      <td>2018-05-01 04:32:16</td>\n",
       "      <td>3207</td>\n",
       "      <td>Oakland Ave</td>\n",
       "      <td>3195</td>\n",
       "      <td>Sip Ave</td>\n",
       "      <td>15271</td>\n",
       "      <td>Annual Membership</td>\n",
       "      <td>Subscriber</td>\n",
       "    </tr>\n",
       "    <tr>\n",
       "      <th>5</th>\n",
       "      <td>176</td>\n",
       "      <td>2018-05-01 04:37:05</td>\n",
       "      <td>2018-05-01 04:40:01</td>\n",
       "      <td>3194</td>\n",
       "      <td>McGinley Square</td>\n",
       "      <td>3195</td>\n",
       "      <td>Sip Ave</td>\n",
       "      <td>29298</td>\n",
       "      <td>Annual Membership</td>\n",
       "      <td>Subscriber</td>\n",
       "    </tr>\n",
       "    <tr>\n",
       "      <th>6</th>\n",
       "      <td>577</td>\n",
       "      <td>2018-05-01 05:05:46</td>\n",
       "      <td>2018-05-01 05:15:23</td>\n",
       "      <td>3225</td>\n",
       "      <td>Baldwin at Montgomery</td>\n",
       "      <td>3186</td>\n",
       "      <td>Grove St PATH</td>\n",
       "      <td>33619</td>\n",
       "      <td>Annual Membership from Citi Bike App</td>\n",
       "      <td>Subscriber</td>\n",
       "    </tr>\n",
       "    <tr>\n",
       "      <th>7</th>\n",
       "      <td>830</td>\n",
       "      <td>2018-05-01 05:11:50</td>\n",
       "      <td>2018-05-01 05:25:41</td>\n",
       "      <td>3207</td>\n",
       "      <td>Oakland Ave</td>\n",
       "      <td>3185</td>\n",
       "      <td>City Hall</td>\n",
       "      <td>33624</td>\n",
       "      <td>Annual Membership</td>\n",
       "      <td>Subscriber</td>\n",
       "    </tr>\n",
       "    <tr>\n",
       "      <th>8</th>\n",
       "      <td>395</td>\n",
       "      <td>2018-05-01 05:12:07</td>\n",
       "      <td>2018-05-01 05:18:42</td>\n",
       "      <td>3225</td>\n",
       "      <td>Baldwin at Montgomery</td>\n",
       "      <td>3186</td>\n",
       "      <td>Grove St PATH</td>\n",
       "      <td>26300</td>\n",
       "      <td>Annual Membership</td>\n",
       "      <td>Subscriber</td>\n",
       "    </tr>\n",
       "    <tr>\n",
       "      <th>9</th>\n",
       "      <td>170</td>\n",
       "      <td>2018-05-01 05:13:52</td>\n",
       "      <td>2018-05-01 05:16:43</td>\n",
       "      <td>3206</td>\n",
       "      <td>Hilltop</td>\n",
       "      <td>3195</td>\n",
       "      <td>Sip Ave</td>\n",
       "      <td>33555</td>\n",
       "      <td>$25 Off Annual Membership</td>\n",
       "      <td>Subscriber</td>\n",
       "    </tr>\n",
       "  </tbody>\n",
       "</table>\n",
       "</div>"
      ],
      "text/plain": [
       "   tripduration            starttime             stoptime  start station id  \\\n",
       "0           338  2018-05-01 00:04:47  2018-05-01 00:10:25              3639   \n",
       "1          1482  2018-05-01 01:31:10  2018-05-01 01:55:53              3681   \n",
       "2           232  2018-05-01 01:31:29  2018-05-01 01:35:22              3194   \n",
       "3           190  2018-05-01 02:03:29  2018-05-01 02:06:40              3185   \n",
       "4           303  2018-05-01 04:27:12  2018-05-01 04:32:16              3207   \n",
       "5           176  2018-05-01 04:37:05  2018-05-01 04:40:01              3194   \n",
       "6           577  2018-05-01 05:05:46  2018-05-01 05:15:23              3225   \n",
       "7           830  2018-05-01 05:11:50  2018-05-01 05:25:41              3207   \n",
       "8           395  2018-05-01 05:12:07  2018-05-01 05:18:42              3225   \n",
       "9           170  2018-05-01 05:13:52  2018-05-01 05:16:43              3206   \n",
       "\n",
       "      start station name  end station id end station name  bikeid  \\\n",
       "0             Harborside            3199     Newport Pkwy   33558   \n",
       "1               Grand St            3185        City Hall   33593   \n",
       "2        McGinley Square            3193     Lincoln Park   29217   \n",
       "3              City Hall            3186    Grove St PATH   29662   \n",
       "4            Oakland Ave            3195          Sip Ave   15271   \n",
       "5        McGinley Square            3195          Sip Ave   29298   \n",
       "6  Baldwin at Montgomery            3186    Grove St PATH   33619   \n",
       "7            Oakland Ave            3185        City Hall   33624   \n",
       "8  Baldwin at Montgomery            3186    Grove St PATH   26300   \n",
       "9                Hilltop            3195          Sip Ave   33555   \n",
       "\n",
       "                       name_localizedValue    usertype  \n",
       "0                        Annual Membership  Subscriber  \n",
       "1                                  24 Hour    Customer  \n",
       "2  FREE Bonus Month with Annual Membership  Subscriber  \n",
       "3                                  24 Hour    Customer  \n",
       "4                        Annual Membership  Subscriber  \n",
       "5                        Annual Membership  Subscriber  \n",
       "6     Annual Membership from Citi Bike App  Subscriber  \n",
       "7                        Annual Membership  Subscriber  \n",
       "8                        Annual Membership  Subscriber  \n",
       "9                $25 Off Annual Membership  Subscriber  "
      ]
     },
     "execution_count": 5,
     "metadata": {},
     "output_type": "execute_result"
    }
   ],
   "source": [
    "import numpy as np\n",
    "import pandas as pd\n",
    "my_df = pd.read_csv('datasets/citibike_tripdata.csv')[:10]\n",
    "my_df"
   ]
  },
  {
   "cell_type": "code",
   "execution_count": 16,
   "id": "37c14d0b",
   "metadata": {
    "ExecuteTime": {
     "end_time": "2021-08-16T03:59:18.773460Z",
     "start_time": "2021-08-16T03:59:18.767142Z"
    }
   },
   "outputs": [],
   "source": [
    "# Add a column \"is_subscriber\" whci h will be True if 'user type' == Subscribe else False\n",
    "my_df['is_subscriber'] = list(map(lambda usr_type: True if usr_type == 'Subscriber' else False\n",
    "                             ,my_df['usertype']))"
   ]
  },
  {
   "cell_type": "code",
   "execution_count": 17,
   "id": "249b22ee",
   "metadata": {
    "ExecuteTime": {
     "end_time": "2021-08-16T03:59:20.823590Z",
     "start_time": "2021-08-16T03:59:20.729059Z"
    }
   },
   "outputs": [
    {
     "data": {
      "text/html": [
       "<div>\n",
       "<style scoped>\n",
       "    .dataframe tbody tr th:only-of-type {\n",
       "        vertical-align: middle;\n",
       "    }\n",
       "\n",
       "    .dataframe tbody tr th {\n",
       "        vertical-align: top;\n",
       "    }\n",
       "\n",
       "    .dataframe thead th {\n",
       "        text-align: right;\n",
       "    }\n",
       "</style>\n",
       "<table border=\"1\" class=\"dataframe\">\n",
       "  <thead>\n",
       "    <tr style=\"text-align: right;\">\n",
       "      <th></th>\n",
       "      <th>tripduration</th>\n",
       "      <th>starttime</th>\n",
       "      <th>stoptime</th>\n",
       "      <th>start station id</th>\n",
       "      <th>start station name</th>\n",
       "      <th>end station id</th>\n",
       "      <th>end station name</th>\n",
       "      <th>bikeid</th>\n",
       "      <th>name_localizedValue</th>\n",
       "      <th>usertype</th>\n",
       "      <th>is_subscriber</th>\n",
       "    </tr>\n",
       "  </thead>\n",
       "  <tbody>\n",
       "    <tr>\n",
       "      <th>0</th>\n",
       "      <td>338</td>\n",
       "      <td>2018-05-01 00:04:47</td>\n",
       "      <td>2018-05-01 00:10:25</td>\n",
       "      <td>3639</td>\n",
       "      <td>Harborside</td>\n",
       "      <td>3199</td>\n",
       "      <td>Newport Pkwy</td>\n",
       "      <td>33558</td>\n",
       "      <td>Annual Membership</td>\n",
       "      <td>Subscriber</td>\n",
       "      <td>True</td>\n",
       "    </tr>\n",
       "    <tr>\n",
       "      <th>1</th>\n",
       "      <td>1482</td>\n",
       "      <td>2018-05-01 01:31:10</td>\n",
       "      <td>2018-05-01 01:55:53</td>\n",
       "      <td>3681</td>\n",
       "      <td>Grand St</td>\n",
       "      <td>3185</td>\n",
       "      <td>City Hall</td>\n",
       "      <td>33593</td>\n",
       "      <td>24 Hour</td>\n",
       "      <td>Customer</td>\n",
       "      <td>False</td>\n",
       "    </tr>\n",
       "    <tr>\n",
       "      <th>2</th>\n",
       "      <td>232</td>\n",
       "      <td>2018-05-01 01:31:29</td>\n",
       "      <td>2018-05-01 01:35:22</td>\n",
       "      <td>3194</td>\n",
       "      <td>McGinley Square</td>\n",
       "      <td>3193</td>\n",
       "      <td>Lincoln Park</td>\n",
       "      <td>29217</td>\n",
       "      <td>FREE Bonus Month with Annual Membership</td>\n",
       "      <td>Subscriber</td>\n",
       "      <td>True</td>\n",
       "    </tr>\n",
       "    <tr>\n",
       "      <th>3</th>\n",
       "      <td>190</td>\n",
       "      <td>2018-05-01 02:03:29</td>\n",
       "      <td>2018-05-01 02:06:40</td>\n",
       "      <td>3185</td>\n",
       "      <td>City Hall</td>\n",
       "      <td>3186</td>\n",
       "      <td>Grove St PATH</td>\n",
       "      <td>29662</td>\n",
       "      <td>24 Hour</td>\n",
       "      <td>Customer</td>\n",
       "      <td>False</td>\n",
       "    </tr>\n",
       "    <tr>\n",
       "      <th>4</th>\n",
       "      <td>303</td>\n",
       "      <td>2018-05-01 04:27:12</td>\n",
       "      <td>2018-05-01 04:32:16</td>\n",
       "      <td>3207</td>\n",
       "      <td>Oakland Ave</td>\n",
       "      <td>3195</td>\n",
       "      <td>Sip Ave</td>\n",
       "      <td>15271</td>\n",
       "      <td>Annual Membership</td>\n",
       "      <td>Subscriber</td>\n",
       "      <td>True</td>\n",
       "    </tr>\n",
       "    <tr>\n",
       "      <th>5</th>\n",
       "      <td>176</td>\n",
       "      <td>2018-05-01 04:37:05</td>\n",
       "      <td>2018-05-01 04:40:01</td>\n",
       "      <td>3194</td>\n",
       "      <td>McGinley Square</td>\n",
       "      <td>3195</td>\n",
       "      <td>Sip Ave</td>\n",
       "      <td>29298</td>\n",
       "      <td>Annual Membership</td>\n",
       "      <td>Subscriber</td>\n",
       "      <td>True</td>\n",
       "    </tr>\n",
       "    <tr>\n",
       "      <th>6</th>\n",
       "      <td>577</td>\n",
       "      <td>2018-05-01 05:05:46</td>\n",
       "      <td>2018-05-01 05:15:23</td>\n",
       "      <td>3225</td>\n",
       "      <td>Baldwin at Montgomery</td>\n",
       "      <td>3186</td>\n",
       "      <td>Grove St PATH</td>\n",
       "      <td>33619</td>\n",
       "      <td>Annual Membership from Citi Bike App</td>\n",
       "      <td>Subscriber</td>\n",
       "      <td>True</td>\n",
       "    </tr>\n",
       "    <tr>\n",
       "      <th>7</th>\n",
       "      <td>830</td>\n",
       "      <td>2018-05-01 05:11:50</td>\n",
       "      <td>2018-05-01 05:25:41</td>\n",
       "      <td>3207</td>\n",
       "      <td>Oakland Ave</td>\n",
       "      <td>3185</td>\n",
       "      <td>City Hall</td>\n",
       "      <td>33624</td>\n",
       "      <td>Annual Membership</td>\n",
       "      <td>Subscriber</td>\n",
       "      <td>True</td>\n",
       "    </tr>\n",
       "    <tr>\n",
       "      <th>8</th>\n",
       "      <td>395</td>\n",
       "      <td>2018-05-01 05:12:07</td>\n",
       "      <td>2018-05-01 05:18:42</td>\n",
       "      <td>3225</td>\n",
       "      <td>Baldwin at Montgomery</td>\n",
       "      <td>3186</td>\n",
       "      <td>Grove St PATH</td>\n",
       "      <td>26300</td>\n",
       "      <td>Annual Membership</td>\n",
       "      <td>Subscriber</td>\n",
       "      <td>True</td>\n",
       "    </tr>\n",
       "    <tr>\n",
       "      <th>9</th>\n",
       "      <td>170</td>\n",
       "      <td>2018-05-01 05:13:52</td>\n",
       "      <td>2018-05-01 05:16:43</td>\n",
       "      <td>3206</td>\n",
       "      <td>Hilltop</td>\n",
       "      <td>3195</td>\n",
       "      <td>Sip Ave</td>\n",
       "      <td>33555</td>\n",
       "      <td>$25 Off Annual Membership</td>\n",
       "      <td>Subscriber</td>\n",
       "      <td>True</td>\n",
       "    </tr>\n",
       "  </tbody>\n",
       "</table>\n",
       "</div>"
      ],
      "text/plain": [
       "   tripduration            starttime             stoptime  start station id  \\\n",
       "0           338  2018-05-01 00:04:47  2018-05-01 00:10:25              3639   \n",
       "1          1482  2018-05-01 01:31:10  2018-05-01 01:55:53              3681   \n",
       "2           232  2018-05-01 01:31:29  2018-05-01 01:35:22              3194   \n",
       "3           190  2018-05-01 02:03:29  2018-05-01 02:06:40              3185   \n",
       "4           303  2018-05-01 04:27:12  2018-05-01 04:32:16              3207   \n",
       "5           176  2018-05-01 04:37:05  2018-05-01 04:40:01              3194   \n",
       "6           577  2018-05-01 05:05:46  2018-05-01 05:15:23              3225   \n",
       "7           830  2018-05-01 05:11:50  2018-05-01 05:25:41              3207   \n",
       "8           395  2018-05-01 05:12:07  2018-05-01 05:18:42              3225   \n",
       "9           170  2018-05-01 05:13:52  2018-05-01 05:16:43              3206   \n",
       "\n",
       "      start station name  end station id end station name  bikeid  \\\n",
       "0             Harborside            3199     Newport Pkwy   33558   \n",
       "1               Grand St            3185        City Hall   33593   \n",
       "2        McGinley Square            3193     Lincoln Park   29217   \n",
       "3              City Hall            3186    Grove St PATH   29662   \n",
       "4            Oakland Ave            3195          Sip Ave   15271   \n",
       "5        McGinley Square            3195          Sip Ave   29298   \n",
       "6  Baldwin at Montgomery            3186    Grove St PATH   33619   \n",
       "7            Oakland Ave            3185        City Hall   33624   \n",
       "8  Baldwin at Montgomery            3186    Grove St PATH   26300   \n",
       "9                Hilltop            3195          Sip Ave   33555   \n",
       "\n",
       "                       name_localizedValue    usertype  is_subscriber  \n",
       "0                        Annual Membership  Subscriber           True  \n",
       "1                                  24 Hour    Customer          False  \n",
       "2  FREE Bonus Month with Annual Membership  Subscriber           True  \n",
       "3                                  24 Hour    Customer          False  \n",
       "4                        Annual Membership  Subscriber           True  \n",
       "5                        Annual Membership  Subscriber           True  \n",
       "6     Annual Membership from Citi Bike App  Subscriber           True  \n",
       "7                        Annual Membership  Subscriber           True  \n",
       "8                        Annual Membership  Subscriber           True  \n",
       "9                $25 Off Annual Membership  Subscriber           True  "
      ]
     },
     "execution_count": 17,
     "metadata": {},
     "output_type": "execute_result"
    }
   ],
   "source": [
    "my_df"
   ]
  },
  {
   "cell_type": "code",
   "execution_count": 21,
   "id": "25a4ba31",
   "metadata": {
    "ExecuteTime": {
     "end_time": "2021-08-16T04:02:26.260691Z",
     "start_time": "2021-08-16T04:02:26.256312Z"
    }
   },
   "outputs": [],
   "source": [
    "# del my_df['is_subscriber']     # Deletes the column from the existing dataframe"
   ]
  },
  {
   "cell_type": "code",
   "execution_count": 19,
   "id": "d0ef4c0c",
   "metadata": {
    "ExecuteTime": {
     "end_time": "2021-08-16T04:01:52.415543Z",
     "start_time": "2021-08-16T04:01:52.380876Z"
    }
   },
   "outputs": [
    {
     "data": {
      "text/html": [
       "<div>\n",
       "<style scoped>\n",
       "    .dataframe tbody tr th:only-of-type {\n",
       "        vertical-align: middle;\n",
       "    }\n",
       "\n",
       "    .dataframe tbody tr th {\n",
       "        vertical-align: top;\n",
       "    }\n",
       "\n",
       "    .dataframe thead th {\n",
       "        text-align: right;\n",
       "    }\n",
       "</style>\n",
       "<table border=\"1\" class=\"dataframe\">\n",
       "  <thead>\n",
       "    <tr style=\"text-align: right;\">\n",
       "      <th></th>\n",
       "      <th>tripduration</th>\n",
       "      <th>starttime</th>\n",
       "      <th>stoptime</th>\n",
       "      <th>start station id</th>\n",
       "      <th>start station name</th>\n",
       "      <th>end station id</th>\n",
       "      <th>end station name</th>\n",
       "      <th>bikeid</th>\n",
       "      <th>name_localizedValue</th>\n",
       "      <th>usertype</th>\n",
       "    </tr>\n",
       "  </thead>\n",
       "  <tbody>\n",
       "    <tr>\n",
       "      <th>0</th>\n",
       "      <td>338</td>\n",
       "      <td>2018-05-01 00:04:47</td>\n",
       "      <td>2018-05-01 00:10:25</td>\n",
       "      <td>3639</td>\n",
       "      <td>Harborside</td>\n",
       "      <td>3199</td>\n",
       "      <td>Newport Pkwy</td>\n",
       "      <td>33558</td>\n",
       "      <td>Annual Membership</td>\n",
       "      <td>Subscriber</td>\n",
       "    </tr>\n",
       "    <tr>\n",
       "      <th>1</th>\n",
       "      <td>1482</td>\n",
       "      <td>2018-05-01 01:31:10</td>\n",
       "      <td>2018-05-01 01:55:53</td>\n",
       "      <td>3681</td>\n",
       "      <td>Grand St</td>\n",
       "      <td>3185</td>\n",
       "      <td>City Hall</td>\n",
       "      <td>33593</td>\n",
       "      <td>24 Hour</td>\n",
       "      <td>Customer</td>\n",
       "    </tr>\n",
       "    <tr>\n",
       "      <th>2</th>\n",
       "      <td>232</td>\n",
       "      <td>2018-05-01 01:31:29</td>\n",
       "      <td>2018-05-01 01:35:22</td>\n",
       "      <td>3194</td>\n",
       "      <td>McGinley Square</td>\n",
       "      <td>3193</td>\n",
       "      <td>Lincoln Park</td>\n",
       "      <td>29217</td>\n",
       "      <td>FREE Bonus Month with Annual Membership</td>\n",
       "      <td>Subscriber</td>\n",
       "    </tr>\n",
       "    <tr>\n",
       "      <th>3</th>\n",
       "      <td>190</td>\n",
       "      <td>2018-05-01 02:03:29</td>\n",
       "      <td>2018-05-01 02:06:40</td>\n",
       "      <td>3185</td>\n",
       "      <td>City Hall</td>\n",
       "      <td>3186</td>\n",
       "      <td>Grove St PATH</td>\n",
       "      <td>29662</td>\n",
       "      <td>24 Hour</td>\n",
       "      <td>Customer</td>\n",
       "    </tr>\n",
       "    <tr>\n",
       "      <th>4</th>\n",
       "      <td>303</td>\n",
       "      <td>2018-05-01 04:27:12</td>\n",
       "      <td>2018-05-01 04:32:16</td>\n",
       "      <td>3207</td>\n",
       "      <td>Oakland Ave</td>\n",
       "      <td>3195</td>\n",
       "      <td>Sip Ave</td>\n",
       "      <td>15271</td>\n",
       "      <td>Annual Membership</td>\n",
       "      <td>Subscriber</td>\n",
       "    </tr>\n",
       "    <tr>\n",
       "      <th>5</th>\n",
       "      <td>176</td>\n",
       "      <td>2018-05-01 04:37:05</td>\n",
       "      <td>2018-05-01 04:40:01</td>\n",
       "      <td>3194</td>\n",
       "      <td>McGinley Square</td>\n",
       "      <td>3195</td>\n",
       "      <td>Sip Ave</td>\n",
       "      <td>29298</td>\n",
       "      <td>Annual Membership</td>\n",
       "      <td>Subscriber</td>\n",
       "    </tr>\n",
       "    <tr>\n",
       "      <th>6</th>\n",
       "      <td>577</td>\n",
       "      <td>2018-05-01 05:05:46</td>\n",
       "      <td>2018-05-01 05:15:23</td>\n",
       "      <td>3225</td>\n",
       "      <td>Baldwin at Montgomery</td>\n",
       "      <td>3186</td>\n",
       "      <td>Grove St PATH</td>\n",
       "      <td>33619</td>\n",
       "      <td>Annual Membership from Citi Bike App</td>\n",
       "      <td>Subscriber</td>\n",
       "    </tr>\n",
       "    <tr>\n",
       "      <th>7</th>\n",
       "      <td>830</td>\n",
       "      <td>2018-05-01 05:11:50</td>\n",
       "      <td>2018-05-01 05:25:41</td>\n",
       "      <td>3207</td>\n",
       "      <td>Oakland Ave</td>\n",
       "      <td>3185</td>\n",
       "      <td>City Hall</td>\n",
       "      <td>33624</td>\n",
       "      <td>Annual Membership</td>\n",
       "      <td>Subscriber</td>\n",
       "    </tr>\n",
       "    <tr>\n",
       "      <th>8</th>\n",
       "      <td>395</td>\n",
       "      <td>2018-05-01 05:12:07</td>\n",
       "      <td>2018-05-01 05:18:42</td>\n",
       "      <td>3225</td>\n",
       "      <td>Baldwin at Montgomery</td>\n",
       "      <td>3186</td>\n",
       "      <td>Grove St PATH</td>\n",
       "      <td>26300</td>\n",
       "      <td>Annual Membership</td>\n",
       "      <td>Subscriber</td>\n",
       "    </tr>\n",
       "    <tr>\n",
       "      <th>9</th>\n",
       "      <td>170</td>\n",
       "      <td>2018-05-01 05:13:52</td>\n",
       "      <td>2018-05-01 05:16:43</td>\n",
       "      <td>3206</td>\n",
       "      <td>Hilltop</td>\n",
       "      <td>3195</td>\n",
       "      <td>Sip Ave</td>\n",
       "      <td>33555</td>\n",
       "      <td>$25 Off Annual Membership</td>\n",
       "      <td>Subscriber</td>\n",
       "    </tr>\n",
       "  </tbody>\n",
       "</table>\n",
       "</div>"
      ],
      "text/plain": [
       "   tripduration            starttime             stoptime  start station id  \\\n",
       "0           338  2018-05-01 00:04:47  2018-05-01 00:10:25              3639   \n",
       "1          1482  2018-05-01 01:31:10  2018-05-01 01:55:53              3681   \n",
       "2           232  2018-05-01 01:31:29  2018-05-01 01:35:22              3194   \n",
       "3           190  2018-05-01 02:03:29  2018-05-01 02:06:40              3185   \n",
       "4           303  2018-05-01 04:27:12  2018-05-01 04:32:16              3207   \n",
       "5           176  2018-05-01 04:37:05  2018-05-01 04:40:01              3194   \n",
       "6           577  2018-05-01 05:05:46  2018-05-01 05:15:23              3225   \n",
       "7           830  2018-05-01 05:11:50  2018-05-01 05:25:41              3207   \n",
       "8           395  2018-05-01 05:12:07  2018-05-01 05:18:42              3225   \n",
       "9           170  2018-05-01 05:13:52  2018-05-01 05:16:43              3206   \n",
       "\n",
       "      start station name  end station id end station name  bikeid  \\\n",
       "0             Harborside            3199     Newport Pkwy   33558   \n",
       "1               Grand St            3185        City Hall   33593   \n",
       "2        McGinley Square            3193     Lincoln Park   29217   \n",
       "3              City Hall            3186    Grove St PATH   29662   \n",
       "4            Oakland Ave            3195          Sip Ave   15271   \n",
       "5        McGinley Square            3195          Sip Ave   29298   \n",
       "6  Baldwin at Montgomery            3186    Grove St PATH   33619   \n",
       "7            Oakland Ave            3185        City Hall   33624   \n",
       "8  Baldwin at Montgomery            3186    Grove St PATH   26300   \n",
       "9                Hilltop            3195          Sip Ave   33555   \n",
       "\n",
       "                       name_localizedValue    usertype  \n",
       "0                        Annual Membership  Subscriber  \n",
       "1                                  24 Hour    Customer  \n",
       "2  FREE Bonus Month with Annual Membership  Subscriber  \n",
       "3                                  24 Hour    Customer  \n",
       "4                        Annual Membership  Subscriber  \n",
       "5                        Annual Membership  Subscriber  \n",
       "6     Annual Membership from Citi Bike App  Subscriber  \n",
       "7                        Annual Membership  Subscriber  \n",
       "8                        Annual Membership  Subscriber  \n",
       "9                $25 Off Annual Membership  Subscriber  "
      ]
     },
     "execution_count": 19,
     "metadata": {},
     "output_type": "execute_result"
    }
   ],
   "source": [
    "my_df"
   ]
  },
  {
   "cell_type": "code",
   "execution_count": 24,
   "id": "45ed7f48",
   "metadata": {
    "ExecuteTime": {
     "end_time": "2021-08-16T04:05:16.558050Z",
     "start_time": "2021-08-16T04:05:16.553494Z"
    }
   },
   "outputs": [],
   "source": [
    "my_df = my_df.drop(columns = 'name_localizedValue')\n",
    "\n",
    "\n",
    "# drop() - does not make any changes to existing dataframe"
   ]
  },
  {
   "cell_type": "code",
   "execution_count": 25,
   "id": "1880e735",
   "metadata": {
    "ExecuteTime": {
     "end_time": "2021-08-16T04:05:18.829322Z",
     "start_time": "2021-08-16T04:05:18.806635Z"
    }
   },
   "outputs": [
    {
     "data": {
      "text/html": [
       "<div>\n",
       "<style scoped>\n",
       "    .dataframe tbody tr th:only-of-type {\n",
       "        vertical-align: middle;\n",
       "    }\n",
       "\n",
       "    .dataframe tbody tr th {\n",
       "        vertical-align: top;\n",
       "    }\n",
       "\n",
       "    .dataframe thead th {\n",
       "        text-align: right;\n",
       "    }\n",
       "</style>\n",
       "<table border=\"1\" class=\"dataframe\">\n",
       "  <thead>\n",
       "    <tr style=\"text-align: right;\">\n",
       "      <th></th>\n",
       "      <th>tripduration</th>\n",
       "      <th>starttime</th>\n",
       "      <th>stoptime</th>\n",
       "      <th>start station id</th>\n",
       "      <th>start station name</th>\n",
       "      <th>end station id</th>\n",
       "      <th>end station name</th>\n",
       "      <th>bikeid</th>\n",
       "      <th>usertype</th>\n",
       "    </tr>\n",
       "  </thead>\n",
       "  <tbody>\n",
       "    <tr>\n",
       "      <th>0</th>\n",
       "      <td>338</td>\n",
       "      <td>2018-05-01 00:04:47</td>\n",
       "      <td>2018-05-01 00:10:25</td>\n",
       "      <td>3639</td>\n",
       "      <td>Harborside</td>\n",
       "      <td>3199</td>\n",
       "      <td>Newport Pkwy</td>\n",
       "      <td>33558</td>\n",
       "      <td>Subscriber</td>\n",
       "    </tr>\n",
       "    <tr>\n",
       "      <th>1</th>\n",
       "      <td>1482</td>\n",
       "      <td>2018-05-01 01:31:10</td>\n",
       "      <td>2018-05-01 01:55:53</td>\n",
       "      <td>3681</td>\n",
       "      <td>Grand St</td>\n",
       "      <td>3185</td>\n",
       "      <td>City Hall</td>\n",
       "      <td>33593</td>\n",
       "      <td>Customer</td>\n",
       "    </tr>\n",
       "    <tr>\n",
       "      <th>2</th>\n",
       "      <td>232</td>\n",
       "      <td>2018-05-01 01:31:29</td>\n",
       "      <td>2018-05-01 01:35:22</td>\n",
       "      <td>3194</td>\n",
       "      <td>McGinley Square</td>\n",
       "      <td>3193</td>\n",
       "      <td>Lincoln Park</td>\n",
       "      <td>29217</td>\n",
       "      <td>Subscriber</td>\n",
       "    </tr>\n",
       "    <tr>\n",
       "      <th>3</th>\n",
       "      <td>190</td>\n",
       "      <td>2018-05-01 02:03:29</td>\n",
       "      <td>2018-05-01 02:06:40</td>\n",
       "      <td>3185</td>\n",
       "      <td>City Hall</td>\n",
       "      <td>3186</td>\n",
       "      <td>Grove St PATH</td>\n",
       "      <td>29662</td>\n",
       "      <td>Customer</td>\n",
       "    </tr>\n",
       "    <tr>\n",
       "      <th>4</th>\n",
       "      <td>303</td>\n",
       "      <td>2018-05-01 04:27:12</td>\n",
       "      <td>2018-05-01 04:32:16</td>\n",
       "      <td>3207</td>\n",
       "      <td>Oakland Ave</td>\n",
       "      <td>3195</td>\n",
       "      <td>Sip Ave</td>\n",
       "      <td>15271</td>\n",
       "      <td>Subscriber</td>\n",
       "    </tr>\n",
       "    <tr>\n",
       "      <th>5</th>\n",
       "      <td>176</td>\n",
       "      <td>2018-05-01 04:37:05</td>\n",
       "      <td>2018-05-01 04:40:01</td>\n",
       "      <td>3194</td>\n",
       "      <td>McGinley Square</td>\n",
       "      <td>3195</td>\n",
       "      <td>Sip Ave</td>\n",
       "      <td>29298</td>\n",
       "      <td>Subscriber</td>\n",
       "    </tr>\n",
       "    <tr>\n",
       "      <th>6</th>\n",
       "      <td>577</td>\n",
       "      <td>2018-05-01 05:05:46</td>\n",
       "      <td>2018-05-01 05:15:23</td>\n",
       "      <td>3225</td>\n",
       "      <td>Baldwin at Montgomery</td>\n",
       "      <td>3186</td>\n",
       "      <td>Grove St PATH</td>\n",
       "      <td>33619</td>\n",
       "      <td>Subscriber</td>\n",
       "    </tr>\n",
       "    <tr>\n",
       "      <th>7</th>\n",
       "      <td>830</td>\n",
       "      <td>2018-05-01 05:11:50</td>\n",
       "      <td>2018-05-01 05:25:41</td>\n",
       "      <td>3207</td>\n",
       "      <td>Oakland Ave</td>\n",
       "      <td>3185</td>\n",
       "      <td>City Hall</td>\n",
       "      <td>33624</td>\n",
       "      <td>Subscriber</td>\n",
       "    </tr>\n",
       "    <tr>\n",
       "      <th>8</th>\n",
       "      <td>395</td>\n",
       "      <td>2018-05-01 05:12:07</td>\n",
       "      <td>2018-05-01 05:18:42</td>\n",
       "      <td>3225</td>\n",
       "      <td>Baldwin at Montgomery</td>\n",
       "      <td>3186</td>\n",
       "      <td>Grove St PATH</td>\n",
       "      <td>26300</td>\n",
       "      <td>Subscriber</td>\n",
       "    </tr>\n",
       "    <tr>\n",
       "      <th>9</th>\n",
       "      <td>170</td>\n",
       "      <td>2018-05-01 05:13:52</td>\n",
       "      <td>2018-05-01 05:16:43</td>\n",
       "      <td>3206</td>\n",
       "      <td>Hilltop</td>\n",
       "      <td>3195</td>\n",
       "      <td>Sip Ave</td>\n",
       "      <td>33555</td>\n",
       "      <td>Subscriber</td>\n",
       "    </tr>\n",
       "  </tbody>\n",
       "</table>\n",
       "</div>"
      ],
      "text/plain": [
       "   tripduration            starttime             stoptime  start station id  \\\n",
       "0           338  2018-05-01 00:04:47  2018-05-01 00:10:25              3639   \n",
       "1          1482  2018-05-01 01:31:10  2018-05-01 01:55:53              3681   \n",
       "2           232  2018-05-01 01:31:29  2018-05-01 01:35:22              3194   \n",
       "3           190  2018-05-01 02:03:29  2018-05-01 02:06:40              3185   \n",
       "4           303  2018-05-01 04:27:12  2018-05-01 04:32:16              3207   \n",
       "5           176  2018-05-01 04:37:05  2018-05-01 04:40:01              3194   \n",
       "6           577  2018-05-01 05:05:46  2018-05-01 05:15:23              3225   \n",
       "7           830  2018-05-01 05:11:50  2018-05-01 05:25:41              3207   \n",
       "8           395  2018-05-01 05:12:07  2018-05-01 05:18:42              3225   \n",
       "9           170  2018-05-01 05:13:52  2018-05-01 05:16:43              3206   \n",
       "\n",
       "      start station name  end station id end station name  bikeid    usertype  \n",
       "0             Harborside            3199     Newport Pkwy   33558  Subscriber  \n",
       "1               Grand St            3185        City Hall   33593    Customer  \n",
       "2        McGinley Square            3193     Lincoln Park   29217  Subscriber  \n",
       "3              City Hall            3186    Grove St PATH   29662    Customer  \n",
       "4            Oakland Ave            3195          Sip Ave   15271  Subscriber  \n",
       "5        McGinley Square            3195          Sip Ave   29298  Subscriber  \n",
       "6  Baldwin at Montgomery            3186    Grove St PATH   33619  Subscriber  \n",
       "7            Oakland Ave            3185        City Hall   33624  Subscriber  \n",
       "8  Baldwin at Montgomery            3186    Grove St PATH   26300  Subscriber  \n",
       "9                Hilltop            3195          Sip Ave   33555  Subscriber  "
      ]
     },
     "execution_count": 25,
     "metadata": {},
     "output_type": "execute_result"
    }
   ],
   "source": [
    "my_df"
   ]
  },
  {
   "cell_type": "code",
   "execution_count": 27,
   "id": "964ba5a9",
   "metadata": {
    "ExecuteTime": {
     "end_time": "2021-08-16T04:07:03.834056Z",
     "start_time": "2021-08-16T04:07:03.818585Z"
    }
   },
   "outputs": [
    {
     "data": {
      "text/html": [
       "<div>\n",
       "<style scoped>\n",
       "    .dataframe tbody tr th:only-of-type {\n",
       "        vertical-align: middle;\n",
       "    }\n",
       "\n",
       "    .dataframe tbody tr th {\n",
       "        vertical-align: top;\n",
       "    }\n",
       "\n",
       "    .dataframe thead th {\n",
       "        text-align: right;\n",
       "    }\n",
       "</style>\n",
       "<table border=\"1\" class=\"dataframe\">\n",
       "  <thead>\n",
       "    <tr style=\"text-align: right;\">\n",
       "      <th></th>\n",
       "      <th>state_name</th>\n",
       "      <th>cap_name</th>\n",
       "      <th>Confirmed_cases</th>\n",
       "      <th>Death_cases</th>\n",
       "    </tr>\n",
       "  </thead>\n",
       "  <tbody>\n",
       "    <tr>\n",
       "      <th>0</th>\n",
       "      <td>UP</td>\n",
       "      <td>LKO</td>\n",
       "      <td>10000</td>\n",
       "      <td>2000</td>\n",
       "    </tr>\n",
       "    <tr>\n",
       "      <th>1</th>\n",
       "      <td>MP</td>\n",
       "      <td>BHP</td>\n",
       "      <td>11000</td>\n",
       "      <td>2100</td>\n",
       "    </tr>\n",
       "    <tr>\n",
       "      <th>2</th>\n",
       "      <td>AP</td>\n",
       "      <td>AMT</td>\n",
       "      <td>9999</td>\n",
       "      <td>900</td>\n",
       "    </tr>\n",
       "    <tr>\n",
       "      <th>3</th>\n",
       "      <td>RJ</td>\n",
       "      <td>JP</td>\n",
       "      <td>12000</td>\n",
       "      <td>2500</td>\n",
       "    </tr>\n",
       "    <tr>\n",
       "      <th>4</th>\n",
       "      <td>KA</td>\n",
       "      <td>BLR</td>\n",
       "      <td>8907</td>\n",
       "      <td>800</td>\n",
       "    </tr>\n",
       "    <tr>\n",
       "      <th>5</th>\n",
       "      <td>TN</td>\n",
       "      <td>CHN</td>\n",
       "      <td>9000</td>\n",
       "      <td>700</td>\n",
       "    </tr>\n",
       "  </tbody>\n",
       "</table>\n",
       "</div>"
      ],
      "text/plain": [
       "  state_name cap_name  Confirmed_cases  Death_cases\n",
       "0         UP      LKO            10000         2000\n",
       "1         MP      BHP            11000         2100\n",
       "2         AP      AMT             9999          900\n",
       "3         RJ       JP            12000         2500\n",
       "4         KA      BLR             8907          800\n",
       "5         TN      CHN             9000          700"
      ]
     },
     "execution_count": 27,
     "metadata": {},
     "output_type": "execute_result"
    }
   ],
   "source": [
    "# Adding the rows\n",
    "\n",
    "covid_data = {'state_name' : ['UP', 'MP', 'AP', 'RJ', 'KA', 'TN'],\n",
    "              'cap_name' : ['LKO', 'BHP', 'AMT', 'JP', 'BLR', 'CHN'],\n",
    "              'Confirmed_cases' : [10000, 11000, 9999, 12000, 8907, 9000], \n",
    "              'Death_cases' : [2000, 2100, 900, 2500, 800, 700]}\n",
    "covid_data_df = pd.DataFrame(covid_data)\n",
    "covid_data_df"
   ]
  },
  {
   "cell_type": "code",
   "execution_count": 30,
   "id": "47ab4823",
   "metadata": {
    "ExecuteTime": {
     "end_time": "2021-08-16T04:08:28.021267Z",
     "start_time": "2021-08-16T04:08:28.007558Z"
    }
   },
   "outputs": [],
   "source": [
    "covid_data_df.loc[6] = ['DL', 'NDL', 16000, 4000]"
   ]
  },
  {
   "cell_type": "code",
   "execution_count": 35,
   "id": "5423c5d0",
   "metadata": {
    "ExecuteTime": {
     "end_time": "2021-08-16T04:11:03.799365Z",
     "start_time": "2021-08-16T04:11:03.786093Z"
    }
   },
   "outputs": [
    {
     "data": {
      "text/html": [
       "<div>\n",
       "<style scoped>\n",
       "    .dataframe tbody tr th:only-of-type {\n",
       "        vertical-align: middle;\n",
       "    }\n",
       "\n",
       "    .dataframe tbody tr th {\n",
       "        vertical-align: top;\n",
       "    }\n",
       "\n",
       "    .dataframe thead th {\n",
       "        text-align: right;\n",
       "    }\n",
       "</style>\n",
       "<table border=\"1\" class=\"dataframe\">\n",
       "  <thead>\n",
       "    <tr style=\"text-align: right;\">\n",
       "      <th></th>\n",
       "      <th>state_name</th>\n",
       "      <th>cap_name</th>\n",
       "      <th>Confirmed_cases</th>\n",
       "      <th>Death_cases</th>\n",
       "    </tr>\n",
       "  </thead>\n",
       "  <tbody>\n",
       "    <tr>\n",
       "      <th>0</th>\n",
       "      <td>UP</td>\n",
       "      <td>LKO</td>\n",
       "      <td>10000</td>\n",
       "      <td>2000</td>\n",
       "    </tr>\n",
       "    <tr>\n",
       "      <th>1</th>\n",
       "      <td>MP</td>\n",
       "      <td>BHP</td>\n",
       "      <td>11000</td>\n",
       "      <td>2100</td>\n",
       "    </tr>\n",
       "    <tr>\n",
       "      <th>2</th>\n",
       "      <td>AP</td>\n",
       "      <td>AMT</td>\n",
       "      <td>9999</td>\n",
       "      <td>900</td>\n",
       "    </tr>\n",
       "    <tr>\n",
       "      <th>3</th>\n",
       "      <td>RJ</td>\n",
       "      <td>JP</td>\n",
       "      <td>12000</td>\n",
       "      <td>2500</td>\n",
       "    </tr>\n",
       "    <tr>\n",
       "      <th>4</th>\n",
       "      <td>KA</td>\n",
       "      <td>BLR</td>\n",
       "      <td>8907</td>\n",
       "      <td>800</td>\n",
       "    </tr>\n",
       "    <tr>\n",
       "      <th>5</th>\n",
       "      <td>TN</td>\n",
       "      <td>CHN</td>\n",
       "      <td>9000</td>\n",
       "      <td>700</td>\n",
       "    </tr>\n",
       "    <tr>\n",
       "      <th>6</th>\n",
       "      <td>DL</td>\n",
       "      <td>NDL</td>\n",
       "      <td>16000</td>\n",
       "      <td>4000</td>\n",
       "    </tr>\n",
       "  </tbody>\n",
       "</table>\n",
       "</div>"
      ],
      "text/plain": [
       "  state_name cap_name  Confirmed_cases  Death_cases\n",
       "0         UP      LKO            10000         2000\n",
       "1         MP      BHP            11000         2100\n",
       "2         AP      AMT             9999          900\n",
       "3         RJ       JP            12000         2500\n",
       "4         KA      BLR             8907          800\n",
       "5         TN      CHN             9000          700\n",
       "6         DL      NDL            16000         4000"
      ]
     },
     "execution_count": 35,
     "metadata": {},
     "output_type": "execute_result"
    }
   ],
   "source": [
    "covid_data_df"
   ]
  },
  {
   "cell_type": "code",
   "execution_count": 55,
   "id": "cf308993",
   "metadata": {
    "ExecuteTime": {
     "end_time": "2021-08-16T04:24:17.562548Z",
     "start_time": "2021-08-16T04:24:17.554944Z"
    }
   },
   "outputs": [],
   "source": [
    "# Deletoing a row\n",
    "\n",
    "# covid_data_df.drop(covid_data_df.index[2])   # For deleting one row\n",
    "\n",
    "covid_data_df.drop(covid_data_df.index[2:4], inplace = True)   # For deleting multiple row"
   ]
  },
  {
   "cell_type": "code",
   "execution_count": 56,
   "id": "9ee5a098",
   "metadata": {
    "ExecuteTime": {
     "end_time": "2021-08-16T04:24:21.219877Z",
     "start_time": "2021-08-16T04:24:21.193909Z"
    }
   },
   "outputs": [
    {
     "data": {
      "text/html": [
       "<div>\n",
       "<style scoped>\n",
       "    .dataframe tbody tr th:only-of-type {\n",
       "        vertical-align: middle;\n",
       "    }\n",
       "\n",
       "    .dataframe tbody tr th {\n",
       "        vertical-align: top;\n",
       "    }\n",
       "\n",
       "    .dataframe thead th {\n",
       "        text-align: right;\n",
       "    }\n",
       "</style>\n",
       "<table border=\"1\" class=\"dataframe\">\n",
       "  <thead>\n",
       "    <tr style=\"text-align: right;\">\n",
       "      <th></th>\n",
       "      <th>state_name</th>\n",
       "      <th>cap_name</th>\n",
       "      <th>Confirmed_cases</th>\n",
       "      <th>Death_cases</th>\n",
       "    </tr>\n",
       "  </thead>\n",
       "  <tbody>\n",
       "    <tr>\n",
       "      <th>0</th>\n",
       "      <td>UP</td>\n",
       "      <td>LKO</td>\n",
       "      <td>10000</td>\n",
       "      <td>2000</td>\n",
       "    </tr>\n",
       "    <tr>\n",
       "      <th>1</th>\n",
       "      <td>MP</td>\n",
       "      <td>BHP</td>\n",
       "      <td>11000</td>\n",
       "      <td>2100</td>\n",
       "    </tr>\n",
       "    <tr>\n",
       "      <th>4</th>\n",
       "      <td>KA</td>\n",
       "      <td>BLR</td>\n",
       "      <td>8907</td>\n",
       "      <td>800</td>\n",
       "    </tr>\n",
       "    <tr>\n",
       "      <th>5</th>\n",
       "      <td>TN</td>\n",
       "      <td>CHN</td>\n",
       "      <td>9000</td>\n",
       "      <td>700</td>\n",
       "    </tr>\n",
       "    <tr>\n",
       "      <th>6</th>\n",
       "      <td>DL</td>\n",
       "      <td>NDL</td>\n",
       "      <td>16000</td>\n",
       "      <td>4000</td>\n",
       "    </tr>\n",
       "    <tr>\n",
       "      <th>-1</th>\n",
       "      <td>MH</td>\n",
       "      <td>MUM</td>\n",
       "      <td>20000</td>\n",
       "      <td>5000</td>\n",
       "    </tr>\n",
       "  </tbody>\n",
       "</table>\n",
       "</div>"
      ],
      "text/plain": [
       "   state_name cap_name  Confirmed_cases  Death_cases\n",
       " 0         UP      LKO            10000         2000\n",
       " 1         MP      BHP            11000         2100\n",
       " 4         KA      BLR             8907          800\n",
       " 5         TN      CHN             9000          700\n",
       " 6         DL      NDL            16000         4000\n",
       "-1         MH      MUM            20000         5000"
      ]
     },
     "execution_count": 56,
     "metadata": {},
     "output_type": "execute_result"
    }
   ],
   "source": [
    "covid_data_df"
   ]
  },
  {
   "cell_type": "code",
   "execution_count": 39,
   "id": "8ab18a31",
   "metadata": {
    "ExecuteTime": {
     "end_time": "2021-08-16T04:13:01.973305Z",
     "start_time": "2021-08-16T04:13:01.954577Z"
    }
   },
   "outputs": [],
   "source": [
    "# Adding the row at end using negative index\n",
    "covid_data_df.loc[-1] = ['MH', 'MUM', 20000, 5000]"
   ]
  },
  {
   "cell_type": "code",
   "execution_count": 43,
   "id": "2e169064",
   "metadata": {
    "ExecuteTime": {
     "end_time": "2021-08-16T04:14:03.677766Z",
     "start_time": "2021-08-16T04:14:03.658090Z"
    }
   },
   "outputs": [
    {
     "data": {
      "text/html": [
       "<div>\n",
       "<style scoped>\n",
       "    .dataframe tbody tr th:only-of-type {\n",
       "        vertical-align: middle;\n",
       "    }\n",
       "\n",
       "    .dataframe tbody tr th {\n",
       "        vertical-align: top;\n",
       "    }\n",
       "\n",
       "    .dataframe thead th {\n",
       "        text-align: right;\n",
       "    }\n",
       "</style>\n",
       "<table border=\"1\" class=\"dataframe\">\n",
       "  <thead>\n",
       "    <tr style=\"text-align: right;\">\n",
       "      <th></th>\n",
       "      <th>state_name</th>\n",
       "      <th>cap_name</th>\n",
       "      <th>Confirmed_cases</th>\n",
       "      <th>Death_cases</th>\n",
       "    </tr>\n",
       "  </thead>\n",
       "  <tbody>\n",
       "    <tr>\n",
       "      <th>0</th>\n",
       "      <td>UP</td>\n",
       "      <td>LKO</td>\n",
       "      <td>10000</td>\n",
       "      <td>2000</td>\n",
       "    </tr>\n",
       "    <tr>\n",
       "      <th>1</th>\n",
       "      <td>MP</td>\n",
       "      <td>BHP</td>\n",
       "      <td>11000</td>\n",
       "      <td>2100</td>\n",
       "    </tr>\n",
       "    <tr>\n",
       "      <th>2</th>\n",
       "      <td>AP</td>\n",
       "      <td>AMT</td>\n",
       "      <td>9999</td>\n",
       "      <td>900</td>\n",
       "    </tr>\n",
       "    <tr>\n",
       "      <th>3</th>\n",
       "      <td>RJ</td>\n",
       "      <td>JP</td>\n",
       "      <td>12000</td>\n",
       "      <td>2500</td>\n",
       "    </tr>\n",
       "    <tr>\n",
       "      <th>4</th>\n",
       "      <td>KA</td>\n",
       "      <td>BLR</td>\n",
       "      <td>8907</td>\n",
       "      <td>800</td>\n",
       "    </tr>\n",
       "    <tr>\n",
       "      <th>5</th>\n",
       "      <td>TN</td>\n",
       "      <td>CHN</td>\n",
       "      <td>9000</td>\n",
       "      <td>700</td>\n",
       "    </tr>\n",
       "    <tr>\n",
       "      <th>6</th>\n",
       "      <td>DL</td>\n",
       "      <td>NDL</td>\n",
       "      <td>16000</td>\n",
       "      <td>4000</td>\n",
       "    </tr>\n",
       "    <tr>\n",
       "      <th>7</th>\n",
       "      <td>MH</td>\n",
       "      <td>MUM</td>\n",
       "      <td>20000</td>\n",
       "      <td>5000</td>\n",
       "    </tr>\n",
       "  </tbody>\n",
       "</table>\n",
       "</div>"
      ],
      "text/plain": [
       "  state_name cap_name  Confirmed_cases  Death_cases\n",
       "0         UP      LKO            10000         2000\n",
       "1         MP      BHP            11000         2100\n",
       "2         AP      AMT             9999          900\n",
       "3         RJ       JP            12000         2500\n",
       "4         KA      BLR             8907          800\n",
       "5         TN      CHN             9000          700\n",
       "6         DL      NDL            16000         4000\n",
       "7         MH      MUM            20000         5000"
      ]
     },
     "execution_count": 43,
     "metadata": {},
     "output_type": "execute_result"
    }
   ],
   "source": [
    "covid_data_df.reset_index().drop(columns ='index')"
   ]
  },
  {
   "cell_type": "markdown",
   "id": "782e5b0f",
   "metadata": {},
   "source": [
    "# Indexing and Slicing on dataframe"
   ]
  },
  {
   "cell_type": "code",
   "execution_count": 45,
   "id": "e03a4ae6",
   "metadata": {
    "ExecuteTime": {
     "end_time": "2021-08-16T04:18:56.247396Z",
     "start_time": "2021-08-16T04:18:56.067988Z"
    }
   },
   "outputs": [
    {
     "data": {
      "text/html": [
       "<div>\n",
       "<style scoped>\n",
       "    .dataframe tbody tr th:only-of-type {\n",
       "        vertical-align: middle;\n",
       "    }\n",
       "\n",
       "    .dataframe tbody tr th {\n",
       "        vertical-align: top;\n",
       "    }\n",
       "\n",
       "    .dataframe thead th {\n",
       "        text-align: right;\n",
       "    }\n",
       "</style>\n",
       "<table border=\"1\" class=\"dataframe\">\n",
       "  <thead>\n",
       "    <tr style=\"text-align: right;\">\n",
       "      <th></th>\n",
       "      <th>tripduration</th>\n",
       "      <th>starttime</th>\n",
       "      <th>stoptime</th>\n",
       "      <th>start station id</th>\n",
       "      <th>start station name</th>\n",
       "      <th>end station id</th>\n",
       "      <th>end station name</th>\n",
       "      <th>bikeid</th>\n",
       "      <th>name_localizedValue</th>\n",
       "      <th>usertype</th>\n",
       "    </tr>\n",
       "  </thead>\n",
       "  <tbody>\n",
       "    <tr>\n",
       "      <th>0</th>\n",
       "      <td>338</td>\n",
       "      <td>2018-05-01 00:04:47</td>\n",
       "      <td>2018-05-01 00:10:25</td>\n",
       "      <td>3639</td>\n",
       "      <td>Harborside</td>\n",
       "      <td>3199</td>\n",
       "      <td>Newport Pkwy</td>\n",
       "      <td>33558</td>\n",
       "      <td>Annual Membership</td>\n",
       "      <td>Subscriber</td>\n",
       "    </tr>\n",
       "    <tr>\n",
       "      <th>1</th>\n",
       "      <td>1482</td>\n",
       "      <td>2018-05-01 01:31:10</td>\n",
       "      <td>2018-05-01 01:55:53</td>\n",
       "      <td>3681</td>\n",
       "      <td>Grand St</td>\n",
       "      <td>3185</td>\n",
       "      <td>City Hall</td>\n",
       "      <td>33593</td>\n",
       "      <td>24 Hour</td>\n",
       "      <td>Customer</td>\n",
       "    </tr>\n",
       "    <tr>\n",
       "      <th>2</th>\n",
       "      <td>232</td>\n",
       "      <td>2018-05-01 01:31:29</td>\n",
       "      <td>2018-05-01 01:35:22</td>\n",
       "      <td>3194</td>\n",
       "      <td>McGinley Square</td>\n",
       "      <td>3193</td>\n",
       "      <td>Lincoln Park</td>\n",
       "      <td>29217</td>\n",
       "      <td>FREE Bonus Month with Annual Membership</td>\n",
       "      <td>Subscriber</td>\n",
       "    </tr>\n",
       "    <tr>\n",
       "      <th>3</th>\n",
       "      <td>190</td>\n",
       "      <td>2018-05-01 02:03:29</td>\n",
       "      <td>2018-05-01 02:06:40</td>\n",
       "      <td>3185</td>\n",
       "      <td>City Hall</td>\n",
       "      <td>3186</td>\n",
       "      <td>Grove St PATH</td>\n",
       "      <td>29662</td>\n",
       "      <td>24 Hour</td>\n",
       "      <td>Customer</td>\n",
       "    </tr>\n",
       "    <tr>\n",
       "      <th>4</th>\n",
       "      <td>303</td>\n",
       "      <td>2018-05-01 04:27:12</td>\n",
       "      <td>2018-05-01 04:32:16</td>\n",
       "      <td>3207</td>\n",
       "      <td>Oakland Ave</td>\n",
       "      <td>3195</td>\n",
       "      <td>Sip Ave</td>\n",
       "      <td>15271</td>\n",
       "      <td>Annual Membership</td>\n",
       "      <td>Subscriber</td>\n",
       "    </tr>\n",
       "  </tbody>\n",
       "</table>\n",
       "</div>"
      ],
      "text/plain": [
       "   tripduration            starttime             stoptime  start station id  \\\n",
       "0           338  2018-05-01 00:04:47  2018-05-01 00:10:25              3639   \n",
       "1          1482  2018-05-01 01:31:10  2018-05-01 01:55:53              3681   \n",
       "2           232  2018-05-01 01:31:29  2018-05-01 01:35:22              3194   \n",
       "3           190  2018-05-01 02:03:29  2018-05-01 02:06:40              3185   \n",
       "4           303  2018-05-01 04:27:12  2018-05-01 04:32:16              3207   \n",
       "\n",
       "  start station name  end station id end station name  bikeid  \\\n",
       "0         Harborside            3199     Newport Pkwy   33558   \n",
       "1           Grand St            3185        City Hall   33593   \n",
       "2    McGinley Square            3193     Lincoln Park   29217   \n",
       "3          City Hall            3186    Grove St PATH   29662   \n",
       "4        Oakland Ave            3195          Sip Ave   15271   \n",
       "\n",
       "                       name_localizedValue    usertype  \n",
       "0                        Annual Membership  Subscriber  \n",
       "1                                  24 Hour    Customer  \n",
       "2  FREE Bonus Month with Annual Membership  Subscriber  \n",
       "3                                  24 Hour    Customer  \n",
       "4                        Annual Membership  Subscriber  "
      ]
     },
     "execution_count": 45,
     "metadata": {},
     "output_type": "execute_result"
    }
   ],
   "source": [
    "bike_data = pd.read_csv('datasets/citibike_tripdata.csv')\n",
    "bike_data.head()"
   ]
  },
  {
   "cell_type": "code",
   "execution_count": 46,
   "id": "8df33264",
   "metadata": {
    "ExecuteTime": {
     "end_time": "2021-08-16T04:20:09.369319Z",
     "start_time": "2021-08-16T04:20:09.351465Z"
    }
   },
   "outputs": [
    {
     "data": {
      "text/plain": [
       "0                 Harborside\n",
       "1                   Grand St\n",
       "2            McGinley Square\n",
       "3                  City Hall\n",
       "4                Oakland Ave\n",
       "                ...         \n",
       "32423            Paulus Hook\n",
       "32424           Newport PATH\n",
       "32425      5 Corners Library\n",
       "32426    Leonard Gordon Park\n",
       "32427      5 Corners Library\n",
       "Name: start station name, Length: 32428, dtype: object"
      ]
     },
     "execution_count": 46,
     "metadata": {},
     "output_type": "execute_result"
    }
   ],
   "source": [
    "# Accssing a single columns\n",
    "\n",
    "bike_data['start station name']"
   ]
  },
  {
   "cell_type": "code",
   "execution_count": 47,
   "id": "82e89b06",
   "metadata": {
    "ExecuteTime": {
     "end_time": "2021-08-16T04:20:34.032061Z",
     "start_time": "2021-08-16T04:20:33.990525Z"
    }
   },
   "outputs": [
    {
     "data": {
      "text/html": [
       "<div>\n",
       "<style scoped>\n",
       "    .dataframe tbody tr th:only-of-type {\n",
       "        vertical-align: middle;\n",
       "    }\n",
       "\n",
       "    .dataframe tbody tr th {\n",
       "        vertical-align: top;\n",
       "    }\n",
       "\n",
       "    .dataframe thead th {\n",
       "        text-align: right;\n",
       "    }\n",
       "</style>\n",
       "<table border=\"1\" class=\"dataframe\">\n",
       "  <thead>\n",
       "    <tr style=\"text-align: right;\">\n",
       "      <th></th>\n",
       "      <th>start station name</th>\n",
       "      <th>name_localizedValue</th>\n",
       "    </tr>\n",
       "  </thead>\n",
       "  <tbody>\n",
       "    <tr>\n",
       "      <th>0</th>\n",
       "      <td>Harborside</td>\n",
       "      <td>Annual Membership</td>\n",
       "    </tr>\n",
       "    <tr>\n",
       "      <th>1</th>\n",
       "      <td>Grand St</td>\n",
       "      <td>24 Hour</td>\n",
       "    </tr>\n",
       "    <tr>\n",
       "      <th>2</th>\n",
       "      <td>McGinley Square</td>\n",
       "      <td>FREE Bonus Month with Annual Membership</td>\n",
       "    </tr>\n",
       "    <tr>\n",
       "      <th>3</th>\n",
       "      <td>City Hall</td>\n",
       "      <td>24 Hour</td>\n",
       "    </tr>\n",
       "    <tr>\n",
       "      <th>4</th>\n",
       "      <td>Oakland Ave</td>\n",
       "      <td>Annual Membership</td>\n",
       "    </tr>\n",
       "    <tr>\n",
       "      <th>...</th>\n",
       "      <td>...</td>\n",
       "      <td>...</td>\n",
       "    </tr>\n",
       "    <tr>\n",
       "      <th>32423</th>\n",
       "      <td>Paulus Hook</td>\n",
       "      <td>Join Citi Bike for $14.95/month</td>\n",
       "    </tr>\n",
       "    <tr>\n",
       "      <th>32424</th>\n",
       "      <td>Newport PATH</td>\n",
       "      <td>$25 Off Annual Membership</td>\n",
       "    </tr>\n",
       "    <tr>\n",
       "      <th>32425</th>\n",
       "      <td>5 Corners Library</td>\n",
       "      <td>Annual Membership</td>\n",
       "    </tr>\n",
       "    <tr>\n",
       "      <th>32426</th>\n",
       "      <td>Leonard Gordon Park</td>\n",
       "      <td>Annual Membership</td>\n",
       "    </tr>\n",
       "    <tr>\n",
       "      <th>32427</th>\n",
       "      <td>5 Corners Library</td>\n",
       "      <td>Annual Membership</td>\n",
       "    </tr>\n",
       "  </tbody>\n",
       "</table>\n",
       "<p>32428 rows × 2 columns</p>\n",
       "</div>"
      ],
      "text/plain": [
       "        start station name                      name_localizedValue\n",
       "0               Harborside                        Annual Membership\n",
       "1                 Grand St                                  24 Hour\n",
       "2          McGinley Square  FREE Bonus Month with Annual Membership\n",
       "3                City Hall                                  24 Hour\n",
       "4              Oakland Ave                        Annual Membership\n",
       "...                    ...                                      ...\n",
       "32423          Paulus Hook          Join Citi Bike for $14.95/month\n",
       "32424         Newport PATH                $25 Off Annual Membership\n",
       "32425    5 Corners Library                        Annual Membership\n",
       "32426  Leonard Gordon Park                        Annual Membership\n",
       "32427    5 Corners Library                        Annual Membership\n",
       "\n",
       "[32428 rows x 2 columns]"
      ]
     },
     "execution_count": 47,
     "metadata": {},
     "output_type": "execute_result"
    }
   ],
   "source": [
    "# Accssing a multiple columns\n",
    "\n",
    "bike_data[['start station name','name_localizedValue']]"
   ]
  },
  {
   "cell_type": "code",
   "execution_count": 49,
   "id": "23c2074a",
   "metadata": {
    "ExecuteTime": {
     "end_time": "2021-08-16T04:21:52.901633Z",
     "start_time": "2021-08-16T04:21:52.890989Z"
    }
   },
   "outputs": [
    {
     "data": {
      "text/plain": [
       "'Join Citi Bike for $14.95/month'"
      ]
     },
     "execution_count": 49,
     "metadata": {},
     "output_type": "execute_result"
    }
   ],
   "source": [
    "# Accessing a value inside the cell\n",
    "bike_data.at[32423, 'name_localizedValue']"
   ]
  },
  {
   "cell_type": "code",
   "execution_count": 51,
   "id": "814edc83",
   "metadata": {
    "ExecuteTime": {
     "end_time": "2021-08-16T04:22:42.648356Z",
     "start_time": "2021-08-16T04:22:42.643511Z"
    }
   },
   "outputs": [],
   "source": [
    "# Changing the value inside the cell\n",
    "bike_data.at[32423, 'name_localizedValue'] = '24 Hour'"
   ]
  },
  {
   "cell_type": "code",
   "execution_count": 52,
   "id": "b3307ee3",
   "metadata": {
    "ExecuteTime": {
     "end_time": "2021-08-16T04:22:44.193298Z",
     "start_time": "2021-08-16T04:22:44.170827Z"
    }
   },
   "outputs": [
    {
     "data": {
      "text/html": [
       "<div>\n",
       "<style scoped>\n",
       "    .dataframe tbody tr th:only-of-type {\n",
       "        vertical-align: middle;\n",
       "    }\n",
       "\n",
       "    .dataframe tbody tr th {\n",
       "        vertical-align: top;\n",
       "    }\n",
       "\n",
       "    .dataframe thead th {\n",
       "        text-align: right;\n",
       "    }\n",
       "</style>\n",
       "<table border=\"1\" class=\"dataframe\">\n",
       "  <thead>\n",
       "    <tr style=\"text-align: right;\">\n",
       "      <th></th>\n",
       "      <th>tripduration</th>\n",
       "      <th>starttime</th>\n",
       "      <th>stoptime</th>\n",
       "      <th>start station id</th>\n",
       "      <th>start station name</th>\n",
       "      <th>end station id</th>\n",
       "      <th>end station name</th>\n",
       "      <th>bikeid</th>\n",
       "      <th>name_localizedValue</th>\n",
       "      <th>usertype</th>\n",
       "    </tr>\n",
       "  </thead>\n",
       "  <tbody>\n",
       "    <tr>\n",
       "      <th>32423</th>\n",
       "      <td>396</td>\n",
       "      <td>2018-05-30 13:49:18</td>\n",
       "      <td>2018-05-30 13:55:55</td>\n",
       "      <td>3184</td>\n",
       "      <td>Paulus Hook</td>\n",
       "      <td>3279</td>\n",
       "      <td>Dixon Mills</td>\n",
       "      <td>29639</td>\n",
       "      <td>24 Hour</td>\n",
       "      <td>Subscriber</td>\n",
       "    </tr>\n",
       "    <tr>\n",
       "      <th>32424</th>\n",
       "      <td>313</td>\n",
       "      <td>2018-05-30 13:49:21</td>\n",
       "      <td>2018-05-30 13:54:35</td>\n",
       "      <td>3202</td>\n",
       "      <td>Newport PATH</td>\n",
       "      <td>3639</td>\n",
       "      <td>Harborside</td>\n",
       "      <td>26301</td>\n",
       "      <td>$25 Off Annual Membership</td>\n",
       "      <td>Subscriber</td>\n",
       "    </tr>\n",
       "    <tr>\n",
       "      <th>32425</th>\n",
       "      <td>316</td>\n",
       "      <td>2018-05-30 13:49:51</td>\n",
       "      <td>2018-05-30 13:55:08</td>\n",
       "      <td>3220</td>\n",
       "      <td>5 Corners Library</td>\n",
       "      <td>3195</td>\n",
       "      <td>Sip Ave</td>\n",
       "      <td>29260</td>\n",
       "      <td>Annual Membership</td>\n",
       "      <td>Subscriber</td>\n",
       "    </tr>\n",
       "    <tr>\n",
       "      <th>32426</th>\n",
       "      <td>1130</td>\n",
       "      <td>2018-05-30 13:50:52</td>\n",
       "      <td>2018-05-30 14:09:42</td>\n",
       "      <td>3281</td>\n",
       "      <td>Leonard Gordon Park</td>\n",
       "      <td>3213</td>\n",
       "      <td>Van Vorst Park</td>\n",
       "      <td>26239</td>\n",
       "      <td>Annual Membership</td>\n",
       "      <td>Subscriber</td>\n",
       "    </tr>\n",
       "    <tr>\n",
       "      <th>32427</th>\n",
       "      <td>369</td>\n",
       "      <td>2018-05-30 13:50:58</td>\n",
       "      <td>2018-05-30 13:57:08</td>\n",
       "      <td>3220</td>\n",
       "      <td>5 Corners Library</td>\n",
       "      <td>3207</td>\n",
       "      <td>Oakland Ave</td>\n",
       "      <td>33660</td>\n",
       "      <td>Annual Membership</td>\n",
       "      <td>Subscriber</td>\n",
       "    </tr>\n",
       "  </tbody>\n",
       "</table>\n",
       "</div>"
      ],
      "text/plain": [
       "       tripduration            starttime             stoptime  \\\n",
       "32423           396  2018-05-30 13:49:18  2018-05-30 13:55:55   \n",
       "32424           313  2018-05-30 13:49:21  2018-05-30 13:54:35   \n",
       "32425           316  2018-05-30 13:49:51  2018-05-30 13:55:08   \n",
       "32426          1130  2018-05-30 13:50:52  2018-05-30 14:09:42   \n",
       "32427           369  2018-05-30 13:50:58  2018-05-30 13:57:08   \n",
       "\n",
       "       start station id   start station name  end station id end station name  \\\n",
       "32423              3184          Paulus Hook            3279      Dixon Mills   \n",
       "32424              3202         Newport PATH            3639       Harborside   \n",
       "32425              3220    5 Corners Library            3195          Sip Ave   \n",
       "32426              3281  Leonard Gordon Park            3213   Van Vorst Park   \n",
       "32427              3220    5 Corners Library            3207      Oakland Ave   \n",
       "\n",
       "       bikeid        name_localizedValue    usertype  \n",
       "32423   29639                    24 Hour  Subscriber  \n",
       "32424   26301  $25 Off Annual Membership  Subscriber  \n",
       "32425   29260          Annual Membership  Subscriber  \n",
       "32426   26239          Annual Membership  Subscriber  \n",
       "32427   33660          Annual Membership  Subscriber  "
      ]
     },
     "execution_count": 52,
     "metadata": {},
     "output_type": "execute_result"
    }
   ],
   "source": [
    "bike_data.tail()"
   ]
  },
  {
   "cell_type": "code",
   "execution_count": 60,
   "id": "e972d39d",
   "metadata": {
    "ExecuteTime": {
     "end_time": "2021-08-16T04:26:14.620633Z",
     "start_time": "2021-08-16T04:26:14.612761Z"
    }
   },
   "outputs": [],
   "source": [
    "# Slicing the dataframe\n",
    "\n",
    "new_bike_data = bike_data[1:11]"
   ]
  },
  {
   "cell_type": "code",
   "execution_count": 61,
   "id": "155caa74",
   "metadata": {
    "ExecuteTime": {
     "end_time": "2021-08-16T04:26:20.132804Z",
     "start_time": "2021-08-16T04:26:20.084029Z"
    }
   },
   "outputs": [
    {
     "data": {
      "text/html": [
       "<div>\n",
       "<style scoped>\n",
       "    .dataframe tbody tr th:only-of-type {\n",
       "        vertical-align: middle;\n",
       "    }\n",
       "\n",
       "    .dataframe tbody tr th {\n",
       "        vertical-align: top;\n",
       "    }\n",
       "\n",
       "    .dataframe thead th {\n",
       "        text-align: right;\n",
       "    }\n",
       "</style>\n",
       "<table border=\"1\" class=\"dataframe\">\n",
       "  <thead>\n",
       "    <tr style=\"text-align: right;\">\n",
       "      <th></th>\n",
       "      <th>tripduration</th>\n",
       "      <th>starttime</th>\n",
       "      <th>stoptime</th>\n",
       "      <th>start station id</th>\n",
       "      <th>start station name</th>\n",
       "      <th>end station id</th>\n",
       "      <th>end station name</th>\n",
       "      <th>bikeid</th>\n",
       "      <th>name_localizedValue</th>\n",
       "      <th>usertype</th>\n",
       "    </tr>\n",
       "  </thead>\n",
       "  <tbody>\n",
       "    <tr>\n",
       "      <th>1</th>\n",
       "      <td>1482</td>\n",
       "      <td>2018-05-01 01:31:10</td>\n",
       "      <td>2018-05-01 01:55:53</td>\n",
       "      <td>3681</td>\n",
       "      <td>Grand St</td>\n",
       "      <td>3185</td>\n",
       "      <td>City Hall</td>\n",
       "      <td>33593</td>\n",
       "      <td>24 Hour</td>\n",
       "      <td>Customer</td>\n",
       "    </tr>\n",
       "    <tr>\n",
       "      <th>2</th>\n",
       "      <td>232</td>\n",
       "      <td>2018-05-01 01:31:29</td>\n",
       "      <td>2018-05-01 01:35:22</td>\n",
       "      <td>3194</td>\n",
       "      <td>McGinley Square</td>\n",
       "      <td>3193</td>\n",
       "      <td>Lincoln Park</td>\n",
       "      <td>29217</td>\n",
       "      <td>FREE Bonus Month with Annual Membership</td>\n",
       "      <td>Subscriber</td>\n",
       "    </tr>\n",
       "    <tr>\n",
       "      <th>3</th>\n",
       "      <td>190</td>\n",
       "      <td>2018-05-01 02:03:29</td>\n",
       "      <td>2018-05-01 02:06:40</td>\n",
       "      <td>3185</td>\n",
       "      <td>City Hall</td>\n",
       "      <td>3186</td>\n",
       "      <td>Grove St PATH</td>\n",
       "      <td>29662</td>\n",
       "      <td>24 Hour</td>\n",
       "      <td>Customer</td>\n",
       "    </tr>\n",
       "    <tr>\n",
       "      <th>4</th>\n",
       "      <td>303</td>\n",
       "      <td>2018-05-01 04:27:12</td>\n",
       "      <td>2018-05-01 04:32:16</td>\n",
       "      <td>3207</td>\n",
       "      <td>Oakland Ave</td>\n",
       "      <td>3195</td>\n",
       "      <td>Sip Ave</td>\n",
       "      <td>15271</td>\n",
       "      <td>Annual Membership</td>\n",
       "      <td>Subscriber</td>\n",
       "    </tr>\n",
       "    <tr>\n",
       "      <th>5</th>\n",
       "      <td>176</td>\n",
       "      <td>2018-05-01 04:37:05</td>\n",
       "      <td>2018-05-01 04:40:01</td>\n",
       "      <td>3194</td>\n",
       "      <td>McGinley Square</td>\n",
       "      <td>3195</td>\n",
       "      <td>Sip Ave</td>\n",
       "      <td>29298</td>\n",
       "      <td>Annual Membership</td>\n",
       "      <td>Subscriber</td>\n",
       "    </tr>\n",
       "    <tr>\n",
       "      <th>6</th>\n",
       "      <td>577</td>\n",
       "      <td>2018-05-01 05:05:46</td>\n",
       "      <td>2018-05-01 05:15:23</td>\n",
       "      <td>3225</td>\n",
       "      <td>Baldwin at Montgomery</td>\n",
       "      <td>3186</td>\n",
       "      <td>Grove St PATH</td>\n",
       "      <td>33619</td>\n",
       "      <td>Annual Membership from Citi Bike App</td>\n",
       "      <td>Subscriber</td>\n",
       "    </tr>\n",
       "    <tr>\n",
       "      <th>7</th>\n",
       "      <td>830</td>\n",
       "      <td>2018-05-01 05:11:50</td>\n",
       "      <td>2018-05-01 05:25:41</td>\n",
       "      <td>3207</td>\n",
       "      <td>Oakland Ave</td>\n",
       "      <td>3185</td>\n",
       "      <td>City Hall</td>\n",
       "      <td>33624</td>\n",
       "      <td>Annual Membership</td>\n",
       "      <td>Subscriber</td>\n",
       "    </tr>\n",
       "    <tr>\n",
       "      <th>8</th>\n",
       "      <td>395</td>\n",
       "      <td>2018-05-01 05:12:07</td>\n",
       "      <td>2018-05-01 05:18:42</td>\n",
       "      <td>3225</td>\n",
       "      <td>Baldwin at Montgomery</td>\n",
       "      <td>3186</td>\n",
       "      <td>Grove St PATH</td>\n",
       "      <td>26300</td>\n",
       "      <td>Annual Membership</td>\n",
       "      <td>Subscriber</td>\n",
       "    </tr>\n",
       "    <tr>\n",
       "      <th>9</th>\n",
       "      <td>170</td>\n",
       "      <td>2018-05-01 05:13:52</td>\n",
       "      <td>2018-05-01 05:16:43</td>\n",
       "      <td>3206</td>\n",
       "      <td>Hilltop</td>\n",
       "      <td>3195</td>\n",
       "      <td>Sip Ave</td>\n",
       "      <td>33555</td>\n",
       "      <td>$25 Off Annual Membership</td>\n",
       "      <td>Subscriber</td>\n",
       "    </tr>\n",
       "    <tr>\n",
       "      <th>10</th>\n",
       "      <td>353</td>\n",
       "      <td>2018-05-01 05:18:36</td>\n",
       "      <td>2018-05-01 05:24:29</td>\n",
       "      <td>3225</td>\n",
       "      <td>Baldwin at Montgomery</td>\n",
       "      <td>3195</td>\n",
       "      <td>Sip Ave</td>\n",
       "      <td>33627</td>\n",
       "      <td>Annual Membership</td>\n",
       "      <td>Subscriber</td>\n",
       "    </tr>\n",
       "  </tbody>\n",
       "</table>\n",
       "</div>"
      ],
      "text/plain": [
       "    tripduration            starttime             stoptime  start station id  \\\n",
       "1           1482  2018-05-01 01:31:10  2018-05-01 01:55:53              3681   \n",
       "2            232  2018-05-01 01:31:29  2018-05-01 01:35:22              3194   \n",
       "3            190  2018-05-01 02:03:29  2018-05-01 02:06:40              3185   \n",
       "4            303  2018-05-01 04:27:12  2018-05-01 04:32:16              3207   \n",
       "5            176  2018-05-01 04:37:05  2018-05-01 04:40:01              3194   \n",
       "6            577  2018-05-01 05:05:46  2018-05-01 05:15:23              3225   \n",
       "7            830  2018-05-01 05:11:50  2018-05-01 05:25:41              3207   \n",
       "8            395  2018-05-01 05:12:07  2018-05-01 05:18:42              3225   \n",
       "9            170  2018-05-01 05:13:52  2018-05-01 05:16:43              3206   \n",
       "10           353  2018-05-01 05:18:36  2018-05-01 05:24:29              3225   \n",
       "\n",
       "       start station name  end station id end station name  bikeid  \\\n",
       "1                Grand St            3185        City Hall   33593   \n",
       "2         McGinley Square            3193     Lincoln Park   29217   \n",
       "3               City Hall            3186    Grove St PATH   29662   \n",
       "4             Oakland Ave            3195          Sip Ave   15271   \n",
       "5         McGinley Square            3195          Sip Ave   29298   \n",
       "6   Baldwin at Montgomery            3186    Grove St PATH   33619   \n",
       "7             Oakland Ave            3185        City Hall   33624   \n",
       "8   Baldwin at Montgomery            3186    Grove St PATH   26300   \n",
       "9                 Hilltop            3195          Sip Ave   33555   \n",
       "10  Baldwin at Montgomery            3195          Sip Ave   33627   \n",
       "\n",
       "                        name_localizedValue    usertype  \n",
       "1                                   24 Hour    Customer  \n",
       "2   FREE Bonus Month with Annual Membership  Subscriber  \n",
       "3                                   24 Hour    Customer  \n",
       "4                         Annual Membership  Subscriber  \n",
       "5                         Annual Membership  Subscriber  \n",
       "6      Annual Membership from Citi Bike App  Subscriber  \n",
       "7                         Annual Membership  Subscriber  \n",
       "8                         Annual Membership  Subscriber  \n",
       "9                 $25 Off Annual Membership  Subscriber  \n",
       "10                        Annual Membership  Subscriber  "
      ]
     },
     "execution_count": 61,
     "metadata": {},
     "output_type": "execute_result"
    }
   ],
   "source": [
    "new_bike_data"
   ]
  },
  {
   "cell_type": "code",
   "execution_count": 63,
   "id": "f1470aee",
   "metadata": {
    "ExecuteTime": {
     "end_time": "2021-08-16T04:27:20.987937Z",
     "start_time": "2021-08-16T04:27:20.944455Z"
    }
   },
   "outputs": [
    {
     "data": {
      "text/html": [
       "<div>\n",
       "<style scoped>\n",
       "    .dataframe tbody tr th:only-of-type {\n",
       "        vertical-align: middle;\n",
       "    }\n",
       "\n",
       "    .dataframe tbody tr th {\n",
       "        vertical-align: top;\n",
       "    }\n",
       "\n",
       "    .dataframe thead th {\n",
       "        text-align: right;\n",
       "    }\n",
       "</style>\n",
       "<table border=\"1\" class=\"dataframe\">\n",
       "  <thead>\n",
       "    <tr style=\"text-align: right;\">\n",
       "      <th></th>\n",
       "      <th>tripduration</th>\n",
       "      <th>starttime</th>\n",
       "      <th>stoptime</th>\n",
       "      <th>start station id</th>\n",
       "      <th>start station name</th>\n",
       "      <th>end station id</th>\n",
       "      <th>end station name</th>\n",
       "      <th>bikeid</th>\n",
       "      <th>name_localizedValue</th>\n",
       "      <th>usertype</th>\n",
       "    </tr>\n",
       "  </thead>\n",
       "  <tbody>\n",
       "    <tr>\n",
       "      <th>bike_data_1</th>\n",
       "      <td>1482</td>\n",
       "      <td>2018-05-01 01:31:10</td>\n",
       "      <td>2018-05-01 01:55:53</td>\n",
       "      <td>3681</td>\n",
       "      <td>Grand St</td>\n",
       "      <td>3185</td>\n",
       "      <td>City Hall</td>\n",
       "      <td>33593</td>\n",
       "      <td>24 Hour</td>\n",
       "      <td>Customer</td>\n",
       "    </tr>\n",
       "    <tr>\n",
       "      <th>bike_data_2</th>\n",
       "      <td>232</td>\n",
       "      <td>2018-05-01 01:31:29</td>\n",
       "      <td>2018-05-01 01:35:22</td>\n",
       "      <td>3194</td>\n",
       "      <td>McGinley Square</td>\n",
       "      <td>3193</td>\n",
       "      <td>Lincoln Park</td>\n",
       "      <td>29217</td>\n",
       "      <td>FREE Bonus Month with Annual Membership</td>\n",
       "      <td>Subscriber</td>\n",
       "    </tr>\n",
       "    <tr>\n",
       "      <th>bike_data_3</th>\n",
       "      <td>190</td>\n",
       "      <td>2018-05-01 02:03:29</td>\n",
       "      <td>2018-05-01 02:06:40</td>\n",
       "      <td>3185</td>\n",
       "      <td>City Hall</td>\n",
       "      <td>3186</td>\n",
       "      <td>Grove St PATH</td>\n",
       "      <td>29662</td>\n",
       "      <td>24 Hour</td>\n",
       "      <td>Customer</td>\n",
       "    </tr>\n",
       "    <tr>\n",
       "      <th>bike_data_4</th>\n",
       "      <td>303</td>\n",
       "      <td>2018-05-01 04:27:12</td>\n",
       "      <td>2018-05-01 04:32:16</td>\n",
       "      <td>3207</td>\n",
       "      <td>Oakland Ave</td>\n",
       "      <td>3195</td>\n",
       "      <td>Sip Ave</td>\n",
       "      <td>15271</td>\n",
       "      <td>Annual Membership</td>\n",
       "      <td>Subscriber</td>\n",
       "    </tr>\n",
       "    <tr>\n",
       "      <th>bike_data_5</th>\n",
       "      <td>176</td>\n",
       "      <td>2018-05-01 04:37:05</td>\n",
       "      <td>2018-05-01 04:40:01</td>\n",
       "      <td>3194</td>\n",
       "      <td>McGinley Square</td>\n",
       "      <td>3195</td>\n",
       "      <td>Sip Ave</td>\n",
       "      <td>29298</td>\n",
       "      <td>Annual Membership</td>\n",
       "      <td>Subscriber</td>\n",
       "    </tr>\n",
       "    <tr>\n",
       "      <th>bike_data_6</th>\n",
       "      <td>577</td>\n",
       "      <td>2018-05-01 05:05:46</td>\n",
       "      <td>2018-05-01 05:15:23</td>\n",
       "      <td>3225</td>\n",
       "      <td>Baldwin at Montgomery</td>\n",
       "      <td>3186</td>\n",
       "      <td>Grove St PATH</td>\n",
       "      <td>33619</td>\n",
       "      <td>Annual Membership from Citi Bike App</td>\n",
       "      <td>Subscriber</td>\n",
       "    </tr>\n",
       "    <tr>\n",
       "      <th>bike_data_7</th>\n",
       "      <td>830</td>\n",
       "      <td>2018-05-01 05:11:50</td>\n",
       "      <td>2018-05-01 05:25:41</td>\n",
       "      <td>3207</td>\n",
       "      <td>Oakland Ave</td>\n",
       "      <td>3185</td>\n",
       "      <td>City Hall</td>\n",
       "      <td>33624</td>\n",
       "      <td>Annual Membership</td>\n",
       "      <td>Subscriber</td>\n",
       "    </tr>\n",
       "    <tr>\n",
       "      <th>bike_data_8</th>\n",
       "      <td>395</td>\n",
       "      <td>2018-05-01 05:12:07</td>\n",
       "      <td>2018-05-01 05:18:42</td>\n",
       "      <td>3225</td>\n",
       "      <td>Baldwin at Montgomery</td>\n",
       "      <td>3186</td>\n",
       "      <td>Grove St PATH</td>\n",
       "      <td>26300</td>\n",
       "      <td>Annual Membership</td>\n",
       "      <td>Subscriber</td>\n",
       "    </tr>\n",
       "    <tr>\n",
       "      <th>bike_data_9</th>\n",
       "      <td>170</td>\n",
       "      <td>2018-05-01 05:13:52</td>\n",
       "      <td>2018-05-01 05:16:43</td>\n",
       "      <td>3206</td>\n",
       "      <td>Hilltop</td>\n",
       "      <td>3195</td>\n",
       "      <td>Sip Ave</td>\n",
       "      <td>33555</td>\n",
       "      <td>$25 Off Annual Membership</td>\n",
       "      <td>Subscriber</td>\n",
       "    </tr>\n",
       "    <tr>\n",
       "      <th>bike_data_10</th>\n",
       "      <td>353</td>\n",
       "      <td>2018-05-01 05:18:36</td>\n",
       "      <td>2018-05-01 05:24:29</td>\n",
       "      <td>3225</td>\n",
       "      <td>Baldwin at Montgomery</td>\n",
       "      <td>3195</td>\n",
       "      <td>Sip Ave</td>\n",
       "      <td>33627</td>\n",
       "      <td>Annual Membership</td>\n",
       "      <td>Subscriber</td>\n",
       "    </tr>\n",
       "  </tbody>\n",
       "</table>\n",
       "</div>"
      ],
      "text/plain": [
       "              tripduration            starttime             stoptime  \\\n",
       "bike_data_1           1482  2018-05-01 01:31:10  2018-05-01 01:55:53   \n",
       "bike_data_2            232  2018-05-01 01:31:29  2018-05-01 01:35:22   \n",
       "bike_data_3            190  2018-05-01 02:03:29  2018-05-01 02:06:40   \n",
       "bike_data_4            303  2018-05-01 04:27:12  2018-05-01 04:32:16   \n",
       "bike_data_5            176  2018-05-01 04:37:05  2018-05-01 04:40:01   \n",
       "bike_data_6            577  2018-05-01 05:05:46  2018-05-01 05:15:23   \n",
       "bike_data_7            830  2018-05-01 05:11:50  2018-05-01 05:25:41   \n",
       "bike_data_8            395  2018-05-01 05:12:07  2018-05-01 05:18:42   \n",
       "bike_data_9            170  2018-05-01 05:13:52  2018-05-01 05:16:43   \n",
       "bike_data_10           353  2018-05-01 05:18:36  2018-05-01 05:24:29   \n",
       "\n",
       "              start station id     start station name  end station id  \\\n",
       "bike_data_1               3681               Grand St            3185   \n",
       "bike_data_2               3194        McGinley Square            3193   \n",
       "bike_data_3               3185              City Hall            3186   \n",
       "bike_data_4               3207            Oakland Ave            3195   \n",
       "bike_data_5               3194        McGinley Square            3195   \n",
       "bike_data_6               3225  Baldwin at Montgomery            3186   \n",
       "bike_data_7               3207            Oakland Ave            3185   \n",
       "bike_data_8               3225  Baldwin at Montgomery            3186   \n",
       "bike_data_9               3206                Hilltop            3195   \n",
       "bike_data_10              3225  Baldwin at Montgomery            3195   \n",
       "\n",
       "             end station name  bikeid  \\\n",
       "bike_data_1         City Hall   33593   \n",
       "bike_data_2      Lincoln Park   29217   \n",
       "bike_data_3     Grove St PATH   29662   \n",
       "bike_data_4           Sip Ave   15271   \n",
       "bike_data_5           Sip Ave   29298   \n",
       "bike_data_6     Grove St PATH   33619   \n",
       "bike_data_7         City Hall   33624   \n",
       "bike_data_8     Grove St PATH   26300   \n",
       "bike_data_9           Sip Ave   33555   \n",
       "bike_data_10          Sip Ave   33627   \n",
       "\n",
       "                                  name_localizedValue    usertype  \n",
       "bike_data_1                                   24 Hour    Customer  \n",
       "bike_data_2   FREE Bonus Month with Annual Membership  Subscriber  \n",
       "bike_data_3                                   24 Hour    Customer  \n",
       "bike_data_4                         Annual Membership  Subscriber  \n",
       "bike_data_5                         Annual Membership  Subscriber  \n",
       "bike_data_6      Annual Membership from Citi Bike App  Subscriber  \n",
       "bike_data_7                         Annual Membership  Subscriber  \n",
       "bike_data_8                         Annual Membership  Subscriber  \n",
       "bike_data_9                 $25 Off Annual Membership  Subscriber  \n",
       "bike_data_10                        Annual Membership  Subscriber  "
      ]
     },
     "execution_count": 63,
     "metadata": {},
     "output_type": "execute_result"
    }
   ],
   "source": [
    "# Assiging some user defined index\n",
    "new_bike_data.index = ['bike_data_'+str(i) for i in range(1, 11)]\n",
    "new_bike_data"
   ]
  },
  {
   "cell_type": "code",
   "execution_count": 64,
   "id": "bc7c65e6",
   "metadata": {
    "ExecuteTime": {
     "end_time": "2021-08-16T04:28:12.460258Z",
     "start_time": "2021-08-16T04:28:12.451779Z"
    }
   },
   "outputs": [
    {
     "data": {
      "text/plain": [
       "tripduration                           830\n",
       "starttime              2018-05-01 05:11:50\n",
       "stoptime               2018-05-01 05:25:41\n",
       "start station id                      3207\n",
       "start station name             Oakland Ave\n",
       "end station id                        3185\n",
       "end station name                 City Hall\n",
       "bikeid                               33624\n",
       "name_localizedValue      Annual Membership\n",
       "usertype                        Subscriber\n",
       "Name: bike_data_7, dtype: object"
      ]
     },
     "execution_count": 64,
     "metadata": {},
     "output_type": "execute_result"
    }
   ],
   "source": [
    "# Accessing one row\n",
    "\n",
    "new_bike_data.loc['bike_data_7']        # Indexing using User-defined index"
   ]
  },
  {
   "cell_type": "code",
   "execution_count": 66,
   "id": "25d80faf",
   "metadata": {
    "ExecuteTime": {
     "end_time": "2021-08-16T04:28:34.218866Z",
     "start_time": "2021-08-16T04:28:34.205359Z"
    }
   },
   "outputs": [
    {
     "data": {
      "text/plain": [
       "tripduration                           830\n",
       "starttime              2018-05-01 05:11:50\n",
       "stoptime               2018-05-01 05:25:41\n",
       "start station id                      3207\n",
       "start station name             Oakland Ave\n",
       "end station id                        3185\n",
       "end station name                 City Hall\n",
       "bikeid                               33624\n",
       "name_localizedValue      Annual Membership\n",
       "usertype                        Subscriber\n",
       "Name: bike_data_7, dtype: object"
      ]
     },
     "execution_count": 66,
     "metadata": {},
     "output_type": "execute_result"
    }
   ],
   "source": [
    "new_bike_data.iloc[6]     # Indexing using built-in index"
   ]
  },
  {
   "cell_type": "code",
   "execution_count": 67,
   "id": "cfedccd1",
   "metadata": {
    "ExecuteTime": {
     "end_time": "2021-08-16T04:29:58.194852Z",
     "start_time": "2021-08-16T04:29:58.173985Z"
    }
   },
   "outputs": [
    {
     "data": {
      "text/plain": [
       "'Oakland Ave'"
      ]
     },
     "execution_count": 67,
     "metadata": {},
     "output_type": "execute_result"
    }
   ],
   "source": [
    "# Accessing value inside a cell\n",
    "\n",
    "new_bike_data.loc['bike_data_7', 'start station name']"
   ]
  },
  {
   "cell_type": "code",
   "execution_count": null,
   "id": "be2640f0",
   "metadata": {},
   "outputs": [],
   "source": []
  },
  {
   "cell_type": "code",
   "execution_count": null,
   "id": "ccf9b0fb",
   "metadata": {},
   "outputs": [],
   "source": []
  },
  {
   "cell_type": "code",
   "execution_count": null,
   "id": "43a59839",
   "metadata": {},
   "outputs": [],
   "source": []
  },
  {
   "cell_type": "code",
   "execution_count": null,
   "id": "2349e075",
   "metadata": {},
   "outputs": [],
   "source": []
  },
  {
   "cell_type": "code",
   "execution_count": null,
   "id": "927a3a21",
   "metadata": {},
   "outputs": [],
   "source": []
  },
  {
   "cell_type": "code",
   "execution_count": null,
   "id": "023b72b1",
   "metadata": {},
   "outputs": [],
   "source": []
  },
  {
   "cell_type": "code",
   "execution_count": null,
   "id": "c791f792",
   "metadata": {},
   "outputs": [],
   "source": []
  },
  {
   "cell_type": "code",
   "execution_count": null,
   "id": "74029928",
   "metadata": {},
   "outputs": [],
   "source": []
  },
  {
   "cell_type": "code",
   "execution_count": null,
   "id": "4f9dc9b3",
   "metadata": {},
   "outputs": [],
   "source": []
  },
  {
   "cell_type": "code",
   "execution_count": null,
   "id": "ff91e9b0",
   "metadata": {},
   "outputs": [],
   "source": []
  },
  {
   "cell_type": "code",
   "execution_count": null,
   "id": "874443d0",
   "metadata": {},
   "outputs": [],
   "source": []
  },
  {
   "cell_type": "code",
   "execution_count": null,
   "id": "7dfe02b2",
   "metadata": {},
   "outputs": [],
   "source": []
  },
  {
   "cell_type": "code",
   "execution_count": null,
   "id": "bc90228f",
   "metadata": {},
   "outputs": [],
   "source": []
  },
  {
   "cell_type": "code",
   "execution_count": null,
   "id": "31d81d9e",
   "metadata": {},
   "outputs": [],
   "source": []
  },
  {
   "cell_type": "code",
   "execution_count": null,
   "id": "a7e06fce",
   "metadata": {},
   "outputs": [],
   "source": []
  },
  {
   "cell_type": "code",
   "execution_count": null,
   "id": "443ca575",
   "metadata": {},
   "outputs": [],
   "source": []
  },
  {
   "cell_type": "code",
   "execution_count": null,
   "id": "bde4535d",
   "metadata": {},
   "outputs": [],
   "source": []
  },
  {
   "cell_type": "code",
   "execution_count": null,
   "id": "557b3a5d",
   "metadata": {},
   "outputs": [],
   "source": []
  },
  {
   "cell_type": "code",
   "execution_count": null,
   "id": "e83225f6",
   "metadata": {},
   "outputs": [],
   "source": []
  },
  {
   "cell_type": "code",
   "execution_count": null,
   "id": "54d4b0a4",
   "metadata": {},
   "outputs": [],
   "source": []
  },
  {
   "cell_type": "code",
   "execution_count": null,
   "id": "cee489bb",
   "metadata": {},
   "outputs": [],
   "source": []
  },
  {
   "cell_type": "code",
   "execution_count": null,
   "id": "9b8380bc",
   "metadata": {},
   "outputs": [],
   "source": []
  },
  {
   "cell_type": "code",
   "execution_count": null,
   "id": "73d87d3b",
   "metadata": {},
   "outputs": [],
   "source": []
  },
  {
   "cell_type": "code",
   "execution_count": null,
   "id": "80b698f8",
   "metadata": {},
   "outputs": [],
   "source": []
  },
  {
   "cell_type": "code",
   "execution_count": null,
   "id": "0e9c1478",
   "metadata": {},
   "outputs": [],
   "source": []
  },
  {
   "cell_type": "code",
   "execution_count": null,
   "id": "a3df41cf",
   "metadata": {},
   "outputs": [],
   "source": []
  },
  {
   "cell_type": "code",
   "execution_count": null,
   "id": "97e45195",
   "metadata": {},
   "outputs": [],
   "source": []
  },
  {
   "cell_type": "code",
   "execution_count": null,
   "id": "98538db5",
   "metadata": {},
   "outputs": [],
   "source": []
  },
  {
   "cell_type": "code",
   "execution_count": null,
   "id": "88cbe1e5",
   "metadata": {},
   "outputs": [],
   "source": []
  },
  {
   "cell_type": "code",
   "execution_count": null,
   "id": "9621ce65",
   "metadata": {},
   "outputs": [],
   "source": []
  },
  {
   "cell_type": "code",
   "execution_count": null,
   "id": "a7842a70",
   "metadata": {},
   "outputs": [],
   "source": []
  }
 ],
 "metadata": {
  "kernelspec": {
   "display_name": "Python 3",
   "language": "python",
   "name": "python3"
  },
  "language_info": {
   "codemirror_mode": {
    "name": "ipython",
    "version": 3
   },
   "file_extension": ".py",
   "mimetype": "text/x-python",
   "name": "python",
   "nbconvert_exporter": "python",
   "pygments_lexer": "ipython3",
   "version": "3.8.8"
  }
 },
 "nbformat": 4,
 "nbformat_minor": 5
}
