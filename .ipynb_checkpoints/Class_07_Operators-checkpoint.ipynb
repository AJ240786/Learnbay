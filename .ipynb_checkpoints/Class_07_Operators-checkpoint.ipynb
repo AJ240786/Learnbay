{
 "cells": [
  {
   "cell_type": "code",
   "execution_count": null,
   "id": "7b2d2450",
   "metadata": {},
   "outputs": [],
   "source": [
    "# Operators in Python\n",
    "Arithmetic Operators - +, -, *, /(FlorrDivision), //(Float Division), %(Modulo - Remainder), **(Exponent)\n",
    "Comparison Operator - <, <=, >, >=\n",
    "Equality Operator - ==, !=\n",
    "Logical Operator - and, or, not\n",
    "Bitwise Operator - &, |, ^, ~, <<, >>\n",
    "Assignent Operator - =\n",
    "Compound Assignment - +=, -=, *=, /=, //=, %=, **=, &=, |=, ^=, ~=, <<=, >>=\n",
    "Identity Operator - is, is not\n",
    "Membership Operator in, not in\n",
    "Ternary Operator - expr1 if cond1 else expr2 if cond2 else expr3 if cond3 else expr4\n",
    "Operator Precedence - "
   ]
  },
  {
   "cell_type": "code",
   "execution_count": 122,
   "id": "558c21ba",
   "metadata": {
    "ExecuteTime": {
     "end_time": "2021-07-15T04:29:22.820734Z",
     "start_time": "2021-07-15T04:29:22.809974Z"
    }
   },
   "outputs": [
    {
     "name": "stdout",
     "output_type": "stream",
     "text": [
      "30.3\n",
      "-4\n",
      "-4\n"
     ]
    }
   ],
   "source": [
    "# Arithmetic Operators - +, -, *, /(FloatDivision), //(Floor Division), %(Modulo - Remainder), **(Exponent)\n",
    "\n",
    "print(10+20.30)\n",
    "# print(10-20)\n",
    "# print(10*20)\n",
    "\n",
    "# print(10.20+20.30)\n",
    "# print(100.20-20.30)\n",
    "# print(100.20*20.30)\n",
    "\n",
    "# print(10.20+30j+20.30+50j)\n",
    "# print(100.20-100j-(20.30+20j))\n",
    "# print((100.20+10j)*(20.30+5j))\n",
    "\n",
    "#  /(FlorrDivision), //(Float Division),\n",
    "\n",
    "# Float Division - Divides the numerator with Denominator completely and return Float value\n",
    "# print(10/4)\n",
    "\n",
    "\n",
    "# Floor Division - Returns the floor value of Float division result - Does not work with complex number\n",
    "# print(10//4)\n",
    "\n",
    "# Modulo Operator - %(Remainder) - Does not work with complex number\n",
    "\n",
    "# print(10%3)\n",
    "# print(10.20%3)\n",
    "# print(10.20+30j%4)\n",
    "\n",
    "\n",
    "# Exponent - **\n",
    "# print(10**3)\n",
    "# print(10.30**3.4)\n",
    "# print(10.30+40j**3.4+5j)\n",
    "\n",
    "# Concatenation Operation - +\n",
    "# This operator works with Sequence types(List, String, Tuple, Bytes, Bytearrays) - (Iterable where the values are indexed)\n",
    "# Both the operand should be of same type\n",
    "# Concatenation operation creates a new object\n",
    "\n",
    "\n",
    "my_str1 = 'Python'\n",
    "# my_str2 = 'Class'\n",
    "# print(my_str1+my_str2)\n",
    "# print(my_str1)\n",
    "# print(my_str2)\n",
    "\n",
    "\n",
    "my_lst1 = [10,20,30,40]\n",
    "# # print(my_str1+my_lst1)        # TypeError: can only concatenate str (not \"list\") to str\n",
    "# my_lst2 = [1,2,3,4]\n",
    "# print(my_lst1+my_lst2)\n",
    "# print(my_lst1)\n",
    "# print(my_lst2)\n",
    "\n",
    "\n",
    "\n",
    "# Repetition Operation - *\n",
    "# This operator works with Sequence types(List, String, Tuple, Bytes, Bytearrays) - (Iterable where the values are indexed)\n",
    "# One of the operand should be of sequence type and other should be integer type\n",
    "# Repetition operation creates a new object\n",
    "\n",
    "# res = my_str1 * 3\n",
    "# print(res)\n",
    "# print(my_str1)\n",
    "\n",
    "# print(my_lst1*5)\n",
    "# print(my_lst1)\n",
    "\n",
    "# print(my_lst1*5.0)\n",
    "\n",
    "\n",
    "# Boolean Data Types - \n",
    "# True - 1\n",
    "# False - 0\n",
    "\n",
    "# print(True + True)\n",
    "# print(True * False)\n",
    "\n",
    "# my_num1 = '10'\n",
    "# my_num2 = '20'\n",
    "# print(my_num1+my_num2)\n",
    "\n",
    "\n",
    "# print(-10//3)\n",
    "\n",
    "\n",
    "# import math\n",
    "# print(math.floor(-3.333))\n",
    "\n",
    "\n",
    "\n",
    "\n",
    "\n"
   ]
  },
  {
   "cell_type": "code",
   "execution_count": 35,
   "id": "59e814fc",
   "metadata": {
    "ExecuteTime": {
     "end_time": "2021-07-15T03:30:47.028589Z",
     "start_time": "2021-07-15T03:30:47.021182Z"
    }
   },
   "outputs": [
    {
     "name": "stdout",
     "output_type": "stream",
     "text": [
      "['__doc__', '__file__', '__loader__', '__name__', '__package__', '__spec__', 'acos', 'acosh', 'asin', 'asinh', 'atan', 'atan2', 'atanh', 'ceil', 'comb', 'copysign', 'cos', 'cosh', 'degrees', 'dist', 'e', 'erf', 'erfc', 'exp', 'expm1', 'fabs', 'factorial', 'floor', 'fmod', 'frexp', 'fsum', 'gamma', 'gcd', 'hypot', 'inf', 'isclose', 'isfinite', 'isinf', 'isnan', 'isqrt', 'ldexp', 'lgamma', 'log', 'log10', 'log1p', 'log2', 'modf', 'nan', 'perm', 'pi', 'pow', 'prod', 'radians', 'remainder', 'sin', 'sinh', 'sqrt', 'tan', 'tanh', 'tau', 'trunc']\n",
      "Ceil Value of 3.333345 is 4\n",
      "Floor Value of 3.333345 is 3\n"
     ]
    }
   ],
   "source": [
    "# Ceil Value - Nearest Higehst Whole Number - Top\n",
    "\n",
    "import math\n",
    "print(dir(math))\n",
    "\n",
    "num = 3.333345\n",
    "print(f'Ceil Value of {num} is {math.ceil(num)}')\n",
    "\n",
    "print(f'Floor Value of {num} is {math.floor(num)}')\n",
    "# Floor Value - Nearest Lowest Whole Number"
   ]
  },
  {
   "cell_type": "code",
   "execution_count": 74,
   "id": "65416dc4",
   "metadata": {
    "ExecuteTime": {
     "end_time": "2021-07-15T03:58:55.916320Z",
     "start_time": "2021-07-15T03:58:55.909755Z"
    }
   },
   "outputs": [
    {
     "name": "stdout",
     "output_type": "stream",
     "text": [
      "False\n"
     ]
    }
   ],
   "source": [
    "# Comparison Operator - <, <=, >, >=\n",
    "# Returns Boolean Value\n",
    "# Works with similar data types except int and float\n",
    "\n",
    "# print(10<20)\n",
    "# print(10<20.30)\n",
    "\n",
    "\n",
    "# print(10<20+30j)      # TypeError: '<' not supported between instances of 'int' and 'complex'\n",
    "\n",
    "# print('Python'<100)   # TypeError: '<' not supported between instances of 'str' and 'int'\n",
    "\n",
    "# print('python'<='Python')\n",
    "\n",
    "print([10,20,30,40] <= [10, 20, 30, 40])\n",
    "\n",
    "# import numpy as np\n",
    "# arr1 = np.array([10,20,30,40])\n",
    "# arr2 = np.array([100,200,3,4])\n",
    "\n",
    "# print(arr1<arr2)\n",
    "\n",
    "\n",
    "# print(dir(tuple))\n",
    "\n",
    "\n",
    "# print(dir(dict))\n",
    "\n",
    "\n",
    "\n"
   ]
  },
  {
   "cell_type": "code",
   "execution_count": 48,
   "id": "9132acd1",
   "metadata": {
    "ExecuteTime": {
     "end_time": "2021-07-15T03:39:09.543657Z",
     "start_time": "2021-07-15T03:39:09.537154Z"
    }
   },
   "outputs": [
    {
     "name": "stdout",
     "output_type": "stream",
     "text": [
      "80\n",
      "112\n",
      "P\n",
      "p\n"
     ]
    }
   ],
   "source": [
    "# Finding the ASCII value of a letter - ord(one single letter)\n",
    "print(ord('P'))\n",
    "print(ord('p'))\n",
    "\n",
    "# Finding the corresponding characters value from ASCII number - chr(a number)\n",
    "print(chr(80))\n",
    "print(chr(112))\n",
    "\n",
    "\n"
   ]
  },
  {
   "cell_type": "code",
   "execution_count": 107,
   "id": "5fac9f10",
   "metadata": {
    "ExecuteTime": {
     "end_time": "2021-07-15T04:21:00.508788Z",
     "start_time": "2021-07-15T04:20:58.079200Z"
    }
   },
   "outputs": [
    {
     "name": "stdout",
     "output_type": "stream",
     "text": [
      "Enter 1st number: 100\n",
      "Enter 2nd number: 200\n",
      "The sum of 100 and 200 is 300\n",
      "10\n"
     ]
    }
   ],
   "source": [
    "## input() - USed to take input from user and converts all the data to integer type\n",
    "\n",
    "\n",
    "# Type casting\n",
    "\n",
    "# num1 = int(input('Enter a number: '))\n",
    "# print(num1, type(num1))\n",
    "\n",
    "\n",
    "# num1 = int(input('Enter a number: '))          # ValueError: invalid literal for int() with base 10: '10+20'\n",
    "# print(num1, type(num1))\n",
    "\n",
    "# lst1 = list(input('Enter a list: '))\n",
    "# print(lst1[0], type(lst1))\n",
    "\n",
    "\n",
    "# [10,20,30,40]\n",
    "\n",
    "# Using eval()\n",
    "# num1 = eval(input('Enter a number: '))\n",
    "# print(num1, type(num1))\n",
    "\n",
    "# lst1 = eval(input('Enter a list: '))\n",
    "# print(lst1, type(lst1))\n",
    "\n",
    "\n",
    "# Output function - print()\n",
    "# print(10, 20, 30, 40)\n",
    "# print(10, 20, 30, 40, sep = ' ')\n",
    "# print(10, 20, 30, 40, sep = '\\n')\n",
    "\n",
    "# print(10)\n",
    "# print(20)\n",
    "# print(30)\n",
    "# print(40)\n",
    "\n",
    "\n",
    "# print()\n",
    "\n",
    "\n",
    "# print(10, end = '\\n')\n",
    "# print(20, end = '\\n')\n",
    "# print(30, end = '\\n')\n",
    "# print(40, end = '\\n')\n",
    "\n",
    "\n",
    "# print()\n",
    "\n",
    "\n",
    "# print(10, end = '\\t')\n",
    "# print(20, end = '\\t')\n",
    "# print(30, end = '\\n')\n",
    "# print(40, end = '\\t')\n",
    "\n",
    "\n",
    "\n",
    "\n",
    "# Formatting output\n",
    "num1 = int(input('Enter 1st number: '))\n",
    "num2 = int(input('Enter 2nd number: '))\n",
    "print(f'The sum of {num1} and {num2} is {num1+num2}')\n",
    "print(10)\n",
    "\n",
    "\n",
    "\n",
    "\n",
    "\n"
   ]
  },
  {
   "cell_type": "code",
   "execution_count": 90,
   "id": "96e4a71a",
   "metadata": {
    "ExecuteTime": {
     "end_time": "2021-07-15T04:08:03.355398Z",
     "start_time": "2021-07-15T04:08:03.348159Z"
    }
   },
   "outputs": [
    {
     "data": {
      "text/plain": [
       "['P', 'y', 't', 'h', 'o', 'n']"
      ]
     },
     "execution_count": 90,
     "metadata": {},
     "output_type": "execute_result"
    }
   ],
   "source": [
    "# Synntax - eval('expr')\n",
    "\n",
    "# a = eval('10')\n",
    "# print(a, type(a))\n",
    "\n",
    "# a = eval('10+20')\n",
    "# print(a, type(a))\n",
    "\n",
    "# a = eval('[10,20,30,40]')\n",
    "# print(a, type(a))\n",
    "\n",
    "\n",
    "list('Python')"
   ]
  },
  {
   "cell_type": "code",
   "execution_count": 119,
   "id": "72895a6b",
   "metadata": {
    "ExecuteTime": {
     "end_time": "2021-07-15T04:27:15.718402Z",
     "start_time": "2021-07-15T04:27:15.712224Z"
    }
   },
   "outputs": [
    {
     "name": "stdout",
     "output_type": "stream",
     "text": [
      "True\n",
      "True\n",
      "False\n"
     ]
    }
   ],
   "source": [
    "# Equality Operator - ==, !=\n",
    "# Returns Boolean value\n",
    "# Works wth any data types\n",
    "\n",
    "\n",
    "\n",
    "# my_str1 = 'Python'\n",
    "# my_str2 = 'Python'\n",
    "# print(my_str1 == my_str2)\n",
    "# print(my_str1 != my_str2)\n",
    "\n",
    "# my_str3 = 'python'\n",
    "# print(my_str1 == my_str3)\n",
    "# print(my_str1 != my_str3)\n",
    "\n",
    "\n",
    "print('Python' == ['Python'][0])\n",
    "print('Python' == 'Python')\n",
    "\n",
    "print(10+20j == 20-30j)\n",
    "\n",
    "\n",
    "\n"
   ]
  },
  {
   "cell_type": "code",
   "execution_count": 118,
   "id": "c38f1336",
   "metadata": {
    "ExecuteTime": {
     "end_time": "2021-07-15T04:26:52.618007Z",
     "start_time": "2021-07-15T04:26:52.607885Z"
    }
   },
   "outputs": [
    {
     "data": {
      "text/plain": [
       "'Python'"
      ]
     },
     "execution_count": 118,
     "metadata": {},
     "output_type": "execute_result"
    }
   ],
   "source": [
    "['Python'][0]"
   ]
  },
  {
   "cell_type": "code",
   "execution_count": null,
   "id": "802d1549",
   "metadata": {},
   "outputs": [],
   "source": []
  },
  {
   "cell_type": "code",
   "execution_count": null,
   "id": "32e53d8f",
   "metadata": {},
   "outputs": [],
   "source": []
  },
  {
   "cell_type": "code",
   "execution_count": null,
   "id": "b3b6563f",
   "metadata": {},
   "outputs": [],
   "source": []
  },
  {
   "cell_type": "code",
   "execution_count": null,
   "id": "1f7ceebc",
   "metadata": {},
   "outputs": [],
   "source": []
  },
  {
   "cell_type": "code",
   "execution_count": null,
   "id": "f434177d",
   "metadata": {},
   "outputs": [],
   "source": []
  },
  {
   "cell_type": "code",
   "execution_count": null,
   "id": "73583aa1",
   "metadata": {},
   "outputs": [],
   "source": []
  },
  {
   "cell_type": "code",
   "execution_count": null,
   "id": "96696da9",
   "metadata": {},
   "outputs": [],
   "source": []
  },
  {
   "cell_type": "code",
   "execution_count": null,
   "id": "68531c7a",
   "metadata": {},
   "outputs": [],
   "source": []
  },
  {
   "cell_type": "code",
   "execution_count": null,
   "id": "12892333",
   "metadata": {},
   "outputs": [],
   "source": []
  },
  {
   "cell_type": "code",
   "execution_count": null,
   "id": "7d322ddd",
   "metadata": {},
   "outputs": [],
   "source": []
  },
  {
   "cell_type": "code",
   "execution_count": null,
   "id": "1761b734",
   "metadata": {},
   "outputs": [],
   "source": []
  },
  {
   "cell_type": "code",
   "execution_count": null,
   "id": "ba04e4de",
   "metadata": {},
   "outputs": [],
   "source": []
  },
  {
   "cell_type": "code",
   "execution_count": null,
   "id": "fd4df1fc",
   "metadata": {},
   "outputs": [],
   "source": []
  },
  {
   "cell_type": "code",
   "execution_count": null,
   "id": "311ea8fc",
   "metadata": {},
   "outputs": [],
   "source": []
  },
  {
   "cell_type": "code",
   "execution_count": null,
   "id": "d8dba5e4",
   "metadata": {},
   "outputs": [],
   "source": []
  },
  {
   "cell_type": "code",
   "execution_count": null,
   "id": "6c694dcb",
   "metadata": {},
   "outputs": [],
   "source": []
  },
  {
   "cell_type": "code",
   "execution_count": null,
   "id": "3ecc2bd2",
   "metadata": {},
   "outputs": [],
   "source": []
  },
  {
   "cell_type": "code",
   "execution_count": null,
   "id": "688b3bc1",
   "metadata": {},
   "outputs": [],
   "source": []
  },
  {
   "cell_type": "code",
   "execution_count": null,
   "id": "a149e47d",
   "metadata": {},
   "outputs": [],
   "source": []
  },
  {
   "cell_type": "code",
   "execution_count": null,
   "id": "802a73fe",
   "metadata": {},
   "outputs": [],
   "source": []
  },
  {
   "cell_type": "code",
   "execution_count": null,
   "id": "a18db5ab",
   "metadata": {},
   "outputs": [],
   "source": []
  },
  {
   "cell_type": "code",
   "execution_count": null,
   "id": "2af32bee",
   "metadata": {},
   "outputs": [],
   "source": []
  },
  {
   "cell_type": "code",
   "execution_count": null,
   "id": "5187299c",
   "metadata": {},
   "outputs": [],
   "source": []
  },
  {
   "cell_type": "code",
   "execution_count": null,
   "id": "b49efda5",
   "metadata": {},
   "outputs": [],
   "source": []
  },
  {
   "cell_type": "code",
   "execution_count": null,
   "id": "1336e97d",
   "metadata": {},
   "outputs": [],
   "source": []
  },
  {
   "cell_type": "code",
   "execution_count": null,
   "id": "75d47bcd",
   "metadata": {},
   "outputs": [],
   "source": []
  },
  {
   "cell_type": "code",
   "execution_count": null,
   "id": "22e1471f",
   "metadata": {},
   "outputs": [],
   "source": []
  },
  {
   "cell_type": "code",
   "execution_count": null,
   "id": "a2483537",
   "metadata": {},
   "outputs": [],
   "source": []
  },
  {
   "cell_type": "code",
   "execution_count": null,
   "id": "3e01d261",
   "metadata": {},
   "outputs": [],
   "source": []
  },
  {
   "cell_type": "code",
   "execution_count": null,
   "id": "2140d3b6",
   "metadata": {},
   "outputs": [],
   "source": []
  },
  {
   "cell_type": "code",
   "execution_count": null,
   "id": "ab4a69f0",
   "metadata": {},
   "outputs": [],
   "source": []
  },
  {
   "cell_type": "code",
   "execution_count": null,
   "id": "9726efe5",
   "metadata": {},
   "outputs": [],
   "source": []
  },
  {
   "cell_type": "code",
   "execution_count": null,
   "id": "b8314422",
   "metadata": {},
   "outputs": [],
   "source": []
  },
  {
   "cell_type": "code",
   "execution_count": null,
   "id": "109c90d9",
   "metadata": {},
   "outputs": [],
   "source": []
  },
  {
   "cell_type": "code",
   "execution_count": null,
   "id": "fbec5640",
   "metadata": {},
   "outputs": [],
   "source": []
  },
  {
   "cell_type": "code",
   "execution_count": null,
   "id": "0bb7af1b",
   "metadata": {},
   "outputs": [],
   "source": []
  },
  {
   "cell_type": "code",
   "execution_count": null,
   "id": "cf3d01b9",
   "metadata": {},
   "outputs": [],
   "source": []
  },
  {
   "cell_type": "code",
   "execution_count": null,
   "id": "3ddedcac",
   "metadata": {},
   "outputs": [],
   "source": []
  },
  {
   "cell_type": "code",
   "execution_count": null,
   "id": "59a61c41",
   "metadata": {},
   "outputs": [],
   "source": []
  },
  {
   "cell_type": "code",
   "execution_count": null,
   "id": "c4f9bb80",
   "metadata": {},
   "outputs": [],
   "source": []
  },
  {
   "cell_type": "code",
   "execution_count": null,
   "id": "6048c4d2",
   "metadata": {},
   "outputs": [],
   "source": []
  },
  {
   "cell_type": "code",
   "execution_count": null,
   "id": "4cf1b85d",
   "metadata": {},
   "outputs": [],
   "source": []
  },
  {
   "cell_type": "code",
   "execution_count": null,
   "id": "d1c00de1",
   "metadata": {},
   "outputs": [],
   "source": []
  },
  {
   "cell_type": "code",
   "execution_count": null,
   "id": "87a5625d",
   "metadata": {},
   "outputs": [],
   "source": []
  },
  {
   "cell_type": "code",
   "execution_count": null,
   "id": "afe2a8bb",
   "metadata": {},
   "outputs": [],
   "source": []
  },
  {
   "cell_type": "code",
   "execution_count": null,
   "id": "90b9cb70",
   "metadata": {},
   "outputs": [],
   "source": []
  },
  {
   "cell_type": "code",
   "execution_count": null,
   "id": "3e91eb06",
   "metadata": {},
   "outputs": [],
   "source": []
  },
  {
   "cell_type": "code",
   "execution_count": null,
   "id": "821bbe0d",
   "metadata": {},
   "outputs": [],
   "source": []
  },
  {
   "cell_type": "code",
   "execution_count": null,
   "id": "84aeefba",
   "metadata": {},
   "outputs": [],
   "source": []
  },
  {
   "cell_type": "code",
   "execution_count": null,
   "id": "7ce286aa",
   "metadata": {},
   "outputs": [],
   "source": []
  },
  {
   "cell_type": "code",
   "execution_count": null,
   "id": "4853349f",
   "metadata": {},
   "outputs": [],
   "source": []
  },
  {
   "cell_type": "code",
   "execution_count": null,
   "id": "354f4bce",
   "metadata": {},
   "outputs": [],
   "source": []
  },
  {
   "cell_type": "code",
   "execution_count": null,
   "id": "ff2ddda2",
   "metadata": {},
   "outputs": [],
   "source": []
  },
  {
   "cell_type": "code",
   "execution_count": null,
   "id": "ca2cac85",
   "metadata": {},
   "outputs": [],
   "source": []
  },
  {
   "cell_type": "code",
   "execution_count": null,
   "id": "81cfa1ad",
   "metadata": {},
   "outputs": [],
   "source": []
  },
  {
   "cell_type": "code",
   "execution_count": null,
   "id": "8862570b",
   "metadata": {},
   "outputs": [],
   "source": []
  },
  {
   "cell_type": "code",
   "execution_count": null,
   "id": "7e0892c1",
   "metadata": {},
   "outputs": [],
   "source": []
  },
  {
   "cell_type": "code",
   "execution_count": null,
   "id": "b62a290c",
   "metadata": {},
   "outputs": [],
   "source": []
  },
  {
   "cell_type": "code",
   "execution_count": null,
   "id": "6cd87586",
   "metadata": {},
   "outputs": [],
   "source": []
  },
  {
   "cell_type": "code",
   "execution_count": null,
   "id": "d702c0fa",
   "metadata": {},
   "outputs": [],
   "source": []
  },
  {
   "cell_type": "code",
   "execution_count": null,
   "id": "edb26cde",
   "metadata": {},
   "outputs": [],
   "source": []
  },
  {
   "cell_type": "code",
   "execution_count": null,
   "id": "ac1d49e4",
   "metadata": {},
   "outputs": [],
   "source": []
  },
  {
   "cell_type": "code",
   "execution_count": null,
   "id": "5a799098",
   "metadata": {},
   "outputs": [],
   "source": []
  },
  {
   "cell_type": "code",
   "execution_count": null,
   "id": "ad1c71e1",
   "metadata": {},
   "outputs": [],
   "source": []
  },
  {
   "cell_type": "code",
   "execution_count": null,
   "id": "62e0d4b1",
   "metadata": {},
   "outputs": [],
   "source": []
  },
  {
   "cell_type": "code",
   "execution_count": null,
   "id": "05cdb6bd",
   "metadata": {},
   "outputs": [],
   "source": []
  },
  {
   "cell_type": "code",
   "execution_count": null,
   "id": "39c3409b",
   "metadata": {},
   "outputs": [],
   "source": []
  },
  {
   "cell_type": "code",
   "execution_count": null,
   "id": "a16d1228",
   "metadata": {},
   "outputs": [],
   "source": []
  },
  {
   "cell_type": "code",
   "execution_count": null,
   "id": "d0c3868e",
   "metadata": {},
   "outputs": [],
   "source": []
  },
  {
   "cell_type": "code",
   "execution_count": null,
   "id": "520589ca",
   "metadata": {},
   "outputs": [],
   "source": []
  },
  {
   "cell_type": "code",
   "execution_count": null,
   "id": "45a22d0a",
   "metadata": {},
   "outputs": [],
   "source": []
  },
  {
   "cell_type": "code",
   "execution_count": null,
   "id": "2a36cbc5",
   "metadata": {},
   "outputs": [],
   "source": []
  },
  {
   "cell_type": "code",
   "execution_count": null,
   "id": "4cf06a1c",
   "metadata": {},
   "outputs": [],
   "source": []
  },
  {
   "cell_type": "code",
   "execution_count": null,
   "id": "e37f7213",
   "metadata": {},
   "outputs": [],
   "source": []
  },
  {
   "cell_type": "code",
   "execution_count": null,
   "id": "c16bf57a",
   "metadata": {},
   "outputs": [],
   "source": []
  },
  {
   "cell_type": "code",
   "execution_count": null,
   "id": "49515655",
   "metadata": {},
   "outputs": [],
   "source": []
  },
  {
   "cell_type": "code",
   "execution_count": null,
   "id": "8fb17289",
   "metadata": {},
   "outputs": [],
   "source": []
  },
  {
   "cell_type": "code",
   "execution_count": null,
   "id": "27c21df1",
   "metadata": {},
   "outputs": [],
   "source": []
  },
  {
   "cell_type": "code",
   "execution_count": null,
   "id": "861fb5d5",
   "metadata": {},
   "outputs": [],
   "source": []
  },
  {
   "cell_type": "code",
   "execution_count": null,
   "id": "2aa157d1",
   "metadata": {},
   "outputs": [],
   "source": []
  },
  {
   "cell_type": "code",
   "execution_count": null,
   "id": "63bd676f",
   "metadata": {},
   "outputs": [],
   "source": []
  },
  {
   "cell_type": "code",
   "execution_count": null,
   "id": "7ba0dce2",
   "metadata": {},
   "outputs": [],
   "source": []
  },
  {
   "cell_type": "code",
   "execution_count": null,
   "id": "3416580f",
   "metadata": {},
   "outputs": [],
   "source": []
  },
  {
   "cell_type": "code",
   "execution_count": null,
   "id": "e9c55a11",
   "metadata": {},
   "outputs": [],
   "source": []
  },
  {
   "cell_type": "code",
   "execution_count": null,
   "id": "039dda2c",
   "metadata": {},
   "outputs": [],
   "source": []
  },
  {
   "cell_type": "code",
   "execution_count": null,
   "id": "6b69ca63",
   "metadata": {},
   "outputs": [],
   "source": []
  },
  {
   "cell_type": "code",
   "execution_count": null,
   "id": "bb6d1f91",
   "metadata": {},
   "outputs": [],
   "source": []
  },
  {
   "cell_type": "code",
   "execution_count": null,
   "id": "ab891926",
   "metadata": {},
   "outputs": [],
   "source": []
  },
  {
   "cell_type": "code",
   "execution_count": null,
   "id": "ec031404",
   "metadata": {},
   "outputs": [],
   "source": []
  },
  {
   "cell_type": "code",
   "execution_count": null,
   "id": "dd29af44",
   "metadata": {},
   "outputs": [],
   "source": []
  },
  {
   "cell_type": "code",
   "execution_count": null,
   "id": "67394794",
   "metadata": {},
   "outputs": [],
   "source": []
  },
  {
   "cell_type": "code",
   "execution_count": null,
   "id": "7e0eeaec",
   "metadata": {},
   "outputs": [],
   "source": []
  },
  {
   "cell_type": "code",
   "execution_count": null,
   "id": "96a4f30f",
   "metadata": {},
   "outputs": [],
   "source": []
  }
 ],
 "metadata": {
  "kernelspec": {
   "display_name": "Python 3",
   "language": "python",
   "name": "python3"
  },
  "language_info": {
   "codemirror_mode": {
    "name": "ipython",
    "version": 3
   },
   "file_extension": ".py",
   "mimetype": "text/x-python",
   "name": "python",
   "nbconvert_exporter": "python",
   "pygments_lexer": "ipython3",
   "version": "3.8.8"
  }
 },
 "nbformat": 4,
 "nbformat_minor": 5
}
