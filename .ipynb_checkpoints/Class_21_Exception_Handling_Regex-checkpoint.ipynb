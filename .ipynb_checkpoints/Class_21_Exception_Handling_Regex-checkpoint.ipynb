{
 "cells": [
  {
   "cell_type": "code",
   "execution_count": null,
   "id": "8f5287e8",
   "metadata": {},
   "outputs": [],
   "source": [
    "# Built-in Exceptions\n",
    "# User Defined Exceptions"
   ]
  },
  {
   "cell_type": "code",
   "execution_count": null,
   "id": "603edc97",
   "metadata": {},
   "outputs": [],
   "source": [
    "# Compile Time Error\n",
    "# Run Time Error"
   ]
  },
  {
   "cell_type": "code",
   "execution_count": 2,
   "id": "c9655015",
   "metadata": {
    "ExecuteTime": {
     "end_time": "2021-08-09T02:40:09.144758Z",
     "start_time": "2021-08-09T02:40:07.505793Z"
    }
   },
   "outputs": [
    {
     "name": "stdout",
     "output_type": "stream",
     "text": [
      "Enter 1st number: 10\n",
      "Enter 2nd number: 0\n",
      "Except block\n",
      "Number can not be divided by 0\n"
     ]
    }
   ],
   "source": [
    "num1 = int(input('Enter 1st number: '))\n",
    "num2 = int(input('Enter 2nd number: '))\n",
    "try:\n",
    "    res = num1/num2\n",
    "except:\n",
    "    print('Except block')\n",
    "    print('Number can not be divided by 0')\n",
    "else:\n",
    "    print(res)"
   ]
  },
  {
   "cell_type": "code",
   "execution_count": 10,
   "id": "9fef9647",
   "metadata": {
    "ExecuteTime": {
     "end_time": "2021-08-09T02:50:19.658365Z",
     "start_time": "2021-08-09T02:50:05.038134Z"
    }
   },
   "outputs": [
    {
     "name": "stdout",
     "output_type": "stream",
     "text": [
      "Enter an amount: 9000\n",
      "Enter your pin: Abhishek\n",
      "Enter only numbers\n",
      "Release the card\n"
     ]
    }
   ],
   "source": [
    "\n",
    "try:\n",
    "    amount = int(input('Enter an amount: '))\n",
    "    pin = int(input('Enter your pin: '))\n",
    "    print('Trying to withdraw the amount')\n",
    "    raise FileNotFoundError\n",
    "except ValueError:\n",
    "    print('Enter only numbers')\n",
    "except FileNotFoundError:\n",
    "    print('ATM is Out of Cash')\n",
    "finally:\n",
    "    print('Release the card')"
   ]
  },
  {
   "cell_type": "code",
   "execution_count": 14,
   "id": "a2d7b581",
   "metadata": {
    "ExecuteTime": {
     "end_time": "2021-08-09T02:57:21.444684Z",
     "start_time": "2021-08-09T02:57:19.454858Z"
    }
   },
   "outputs": [
    {
     "name": "stdout",
     "output_type": "stream",
     "text": [
      "Enter an amount: A\n",
      "invalid literal for int() with base 10: 'A'\n",
      "Release the card\n"
     ]
    }
   ],
   "source": [
    "\n",
    "try:\n",
    "    amount = int(input('Enter an amount: '))\n",
    "    pin = int(input('Enter your pin: '))\n",
    "    print('Trying to withdraw the amount')\n",
    "    raise FileNotFoundError\n",
    "except ValueError as e1:\n",
    "    print(e1)\n",
    "except FileNotFoundError as e2:\n",
    "    print('ATM is Out of Cash', e2)\n",
    "finally:\n",
    "    print('Release the card')"
   ]
  },
  {
   "cell_type": "code",
   "execution_count": 11,
   "id": "be40fdd7",
   "metadata": {
    "ExecuteTime": {
     "end_time": "2021-08-09T02:56:08.110850Z",
     "start_time": "2021-08-09T02:56:08.083746Z"
    }
   },
   "outputs": [
    {
     "ename": "ValueError",
     "evalue": "invalid literal for int() with base 10: 'A'",
     "output_type": "error",
     "traceback": [
      "\u001b[0;31m---------------------------------------------------------------------------\u001b[0m",
      "\u001b[0;31mValueError\u001b[0m                                Traceback (most recent call last)",
      "\u001b[0;32m<ipython-input-11-58e5992d18f7>\u001b[0m in \u001b[0;36m<module>\u001b[0;34m\u001b[0m\n\u001b[0;32m----> 1\u001b[0;31m \u001b[0mint\u001b[0m\u001b[0;34m(\u001b[0m\u001b[0;34m'A'\u001b[0m\u001b[0;34m)\u001b[0m\u001b[0;34m\u001b[0m\u001b[0;34m\u001b[0m\u001b[0m\n\u001b[0m",
      "\u001b[0;31mValueError\u001b[0m: invalid literal for int() with base 10: 'A'"
     ]
    }
   ],
   "source": [
    "int('A')"
   ]
  },
  {
   "cell_type": "code",
   "execution_count": 13,
   "id": "d690af23",
   "metadata": {
    "ExecuteTime": {
     "end_time": "2021-08-09T02:56:59.374846Z",
     "start_time": "2021-08-09T02:56:59.355347Z"
    }
   },
   "outputs": [
    {
     "ename": "FileNotFoundError",
     "evalue": "[Errno 2] No such file or directory: 'hello.txt'",
     "output_type": "error",
     "traceback": [
      "\u001b[0;31m---------------------------------------------------------------------------\u001b[0m",
      "\u001b[0;31mFileNotFoundError\u001b[0m                         Traceback (most recent call last)",
      "\u001b[0;32m<ipython-input-13-0622df8bf3b3>\u001b[0m in \u001b[0;36m<module>\u001b[0;34m\u001b[0m\n\u001b[0;32m----> 1\u001b[0;31m \u001b[0mopen\u001b[0m\u001b[0;34m(\u001b[0m\u001b[0;34m'hello.txt'\u001b[0m\u001b[0;34m)\u001b[0m\u001b[0;34m\u001b[0m\u001b[0;34m\u001b[0m\u001b[0m\n\u001b[0m",
      "\u001b[0;31mFileNotFoundError\u001b[0m: [Errno 2] No such file or directory: 'hello.txt'"
     ]
    }
   ],
   "source": [
    "open('hello.txt')"
   ]
  },
  {
   "cell_type": "code",
   "execution_count": 15,
   "id": "d92a989a",
   "metadata": {
    "ExecuteTime": {
     "end_time": "2021-08-09T02:58:12.898500Z",
     "start_time": "2021-08-09T02:58:12.887957Z"
    }
   },
   "outputs": [
    {
     "name": "stdout",
     "output_type": "stream",
     "text": [
      "<__main__.A object at 0x110516460>\n"
     ]
    }
   ],
   "source": [
    "class A:\n",
    "    pass\n",
    "a = A()\n",
    "print(a)"
   ]
  },
  {
   "cell_type": "code",
   "execution_count": 17,
   "id": "cc95a859",
   "metadata": {
    "ExecuteTime": {
     "end_time": "2021-08-09T02:59:31.283045Z",
     "start_time": "2021-08-09T02:59:27.801582Z"
    }
   },
   "outputs": [
    {
     "name": "stdout",
     "output_type": "stream",
     "text": [
      "Enter an amount: 900\n",
      "Enter your pin: 800\n",
      "Trying to withdraw the amount\n",
      "\n",
      "Release the card\n"
     ]
    }
   ],
   "source": [
    "try:\n",
    "    amount = int(input('Enter an amount: '))\n",
    "    pin = int(input('Enter your pin: '))\n",
    "    print('Trying to withdraw the amount')\n",
    "    raise FileNotFoundError\n",
    "except (ValueError, FileNotFoundError) as e1:\n",
    "    print(e1)\n",
    "\n",
    "finally:\n",
    "    print('Release the card')"
   ]
  },
  {
   "cell_type": "code",
   "execution_count": 24,
   "id": "b2d2492a",
   "metadata": {
    "ExecuteTime": {
     "end_time": "2021-08-09T03:14:07.647917Z",
     "start_time": "2021-08-09T03:13:53.442504Z"
    }
   },
   "outputs": [
    {
     "name": "stdout",
     "output_type": "stream",
     "text": [
      "Enter 1st number: 10\n",
      "Enter 2nd number: 10.20\n",
      "Enter a number\n",
      "Enter 1st number: 10\n",
      "Enter 2nd number: 'A'\n",
      "Enter a number\n",
      "Enter 1st number: 10\n",
      "Enter 2nd number: 9\n",
      "all code excuted\n"
     ]
    }
   ],
   "source": [
    "while True:\n",
    "    try:\n",
    "        num1 = eval(input('Enter 1st number: '))\n",
    "        num2 = int(input('Enter 2nd number: '))\n",
    "        f = open('my_module.py', 'r+')\n",
    "        res2 = num1+num2\n",
    "        res1 = num1/num2\n",
    "        f.write('Hello')\n",
    "    except ZeroDivisionError:\n",
    "        print('Denominator can not be zero')\n",
    "    except IOError:\n",
    "        print('File is opened in read mode, so you can not write into the file')\n",
    "    except ValueError:\n",
    "        print('Enter a number')\n",
    "    except Exception:\n",
    "        print('Some Error has occurred')\n",
    "    else:\n",
    "        print('all code excuted')\n",
    "        break"
   ]
  },
  {
   "cell_type": "code",
   "execution_count": 27,
   "id": "a13f457e",
   "metadata": {
    "ExecuteTime": {
     "end_time": "2021-08-09T03:21:11.473795Z",
     "start_time": "2021-08-09T03:21:06.382509Z"
    }
   },
   "outputs": [
    {
     "name": "stdout",
     "output_type": "stream",
     "text": [
      "Enter a number: 10\n",
      "Enter a number: 9\n",
      "Inner Finally\n",
      "Outer finally\n"
     ]
    }
   ],
   "source": [
    "try:\n",
    "    num1 = int(input('Enter a number: '))\n",
    "    try:\n",
    "        num2 = int(input('Enter a number: '))\n",
    "    except:\n",
    "        print('Error')\n",
    "    finally:\n",
    "        print('Inner Finally')\n",
    "except:\n",
    "    print('Error')\n",
    "finally:\n",
    "    print('Outer finally')"
   ]
  },
  {
   "cell_type": "code",
   "execution_count": 29,
   "id": "85f89ac6",
   "metadata": {
    "ExecuteTime": {
     "end_time": "2021-08-09T03:23:54.188385Z",
     "start_time": "2021-08-09T03:23:54.183151Z"
    }
   },
   "outputs": [],
   "source": [
    "# User defined Exceptions\n",
    "\n",
    "class MyException(Exception):\n",
    "    def __init__(self, msg):\n",
    "        self.msg = msg\n",
    "\n",
    "\n",
    "\n",
    "\n",
    "\n"
   ]
  },
  {
   "cell_type": "code",
   "execution_count": 41,
   "id": "564c1e84",
   "metadata": {
    "ExecuteTime": {
     "end_time": "2021-08-09T03:32:40.788667Z",
     "start_time": "2021-08-09T03:32:40.782172Z"
    }
   },
   "outputs": [],
   "source": [
    "def withdraw_amount(amt):\n",
    "    if amt > 50000:\n",
    "        raise MyException('Amount is too high to Withdraw')\n",
    "    else:\n",
    "        print('Withdraw Proocessed')\n",
    "        \n",
    "def pan_check(pan):\n",
    "    if len(pan) == 10:\n",
    "        print('Valid Pan')\n",
    "        print('Withdrawe processed')\n",
    "    else:\n",
    "        raise MyException('Invalid Pan')"
   ]
  },
  {
   "cell_type": "code",
   "execution_count": 42,
   "id": "608b2dc4",
   "metadata": {
    "ExecuteTime": {
     "end_time": "2021-08-09T03:32:53.730068Z",
     "start_time": "2021-08-09T03:32:49.601964Z"
    }
   },
   "outputs": [
    {
     "name": "stdout",
     "output_type": "stream",
     "text": [
      "Enter an amount: 45000\n",
      "Withdraw Proocessed\n"
     ]
    }
   ],
   "source": [
    "try:\n",
    "    amt = int(input('Enter an amount: '))\n",
    "    withdraw_amount(amt)\n",
    "except MyException as e1:\n",
    "    print(e1)\n",
    "    pan = input('Enter your pan: ')\n",
    "    try:\n",
    "        pan_check(pan)\n",
    "    except MyException as e2:\n",
    "        print(e2)"
   ]
  },
  {
   "cell_type": "code",
   "execution_count": null,
   "id": "c721f099",
   "metadata": {},
   "outputs": [],
   "source": [
    "# Regular Expression\n",
    "\n",
    "# Pattrens written in raw string format to extract the information from a given string or data.\n",
    "\n"
   ]
  },
  {
   "cell_type": "code",
   "execution_count": null,
   "id": "ac8b7782",
   "metadata": {},
   "outputs": [],
   "source": [
    "'''\n",
    ".       - Any Character Except New Line\n",
    "\\d      - Digit (0-9)\n",
    "\\D      - Not a Digit (0-9)\n",
    "\\w      - Alphanumeric Character (a-z, A-Z, 0-9, _)\n",
    "\\W      - Non Alphanumeric Character\n",
    "\\s      - Whitespace (space, tab, newline)\n",
    "\\S      - Not Whitespace (space, tab, newline)\n",
    "\n",
    "\\b      - Word Boundary\n",
    "\\B      - Not a Word Boundary\n",
    "^       - Beginning of a String\n",
    "$       - End of a String\n",
    "\n",
    "[A-Z]   - Matches one Characters in brackets\n",
    "[^A-Z]  - Matches Characters NOT in brackets\n",
    "|       - Either Or\n",
    "(com|net)     - Group\n",
    "\n",
    "Quantifiers:\n",
    "*       - 0 or More\n",
    "+       - 1 or More\n",
    "?       - 0 or One\n",
    "{3}     - Exact Number\n",
    "{3,4}   - Range of Numbers (Minimum, Maximum)"
   ]
  },
  {
   "cell_type": "code",
   "execution_count": null,
   "id": "5e00e00d",
   "metadata": {},
   "outputs": [],
   "source": [
    "# match - always finds the pattern in the begining of the string\n",
    "#      If the pattern matches then returns match object else returns None\n",
    "# search - always finds the first occurremce of the pattern\n",
    "#      If the pattern matches then returns match object else returns None\n",
    "# finditer - finds all the occurences of the pattern and returns an iterator object\n",
    "#      If the pattern matches then returns iterator object\n",
    "# findall - finds all the occurrences of the pattern and returns a list\n",
    "#      If the pattern matches then returns list object with all matching values else returns []\n",
    "# sub - substitute an old pattern with new pattern"
   ]
  },
  {
   "cell_type": "code",
   "execution_count": 59,
   "id": "1f494340",
   "metadata": {
    "ExecuteTime": {
     "end_time": "2021-08-09T04:10:41.609279Z",
     "start_time": "2021-08-09T04:10:41.597971Z"
    }
   },
   "outputs": [
    {
     "name": "stdout",
     "output_type": "stream",
     "text": [
      "9at\n",
      "0\n",
      "3\n",
      "0\n",
      "3\n"
     ]
    }
   ],
   "source": [
    "import re\n",
    "f = open('my_module.py', 'r')\n",
    "content = f.read()\n",
    "pattern = r'[0-9]at'\n",
    "m_obj = re.match(pattern, content)\n",
    "print(m_obj.group())\n",
    "print(m_obj.span()[0])\n",
    "print(m_obj.span()[1])\n",
    "print(m_obj.start())\n",
    "print(m_obj.end())\n",
    "f.close()"
   ]
  },
  {
   "cell_type": "code",
   "execution_count": 58,
   "id": "0f13fa95",
   "metadata": {
    "ExecuteTime": {
     "end_time": "2021-08-09T04:10:25.227712Z",
     "start_time": "2021-08-09T04:10:25.221387Z"
    }
   },
   "outputs": [
    {
     "name": "stdout",
     "output_type": "stream",
     "text": [
      "['A', 'ASCII', 'DEBUG', 'DOTALL', 'I', 'IGNORECASE', 'L', 'LOCALE', 'M', 'MULTILINE', 'Match', 'Pattern', 'RegexFlag', 'S', 'Scanner', 'T', 'TEMPLATE', 'U', 'UNICODE', 'VERBOSE', 'X', '_MAXCACHE', '__all__', '__builtins__', '__cached__', '__doc__', '__file__', '__loader__', '__name__', '__package__', '__spec__', '__version__', '_cache', '_compile', '_compile_repl', '_expand', '_locale', '_pickle', '_special_chars_map', '_subx', 'compile', 'copyreg', 'enum', 'error', 'escape', 'findall', 'finditer', 'fullmatch', 'functools', 'match', 'purge', 'search', 'split', 'sre_compile', 'sre_parse', 'sub', 'subn', 'template']\n"
     ]
    }
   ],
   "source": [
    "print(dir(re))"
   ]
  },
  {
   "cell_type": "code",
   "execution_count": 69,
   "id": "14ecf83c",
   "metadata": {
    "ExecuteTime": {
     "end_time": "2021-08-09T04:15:30.438914Z",
     "start_time": "2021-08-09T04:15:30.420496Z"
    }
   },
   "outputs": [
    {
     "name": "stdout",
     "output_type": "stream",
     "text": [
      "mat\n",
      "(12, 15)\n",
      "(12, 15)\n",
      "12\n",
      "15\n"
     ]
    }
   ],
   "source": [
    "import re\n",
    "f = open('my_module.py', 'r')\n",
    "content = f.read()\n",
    "pattern = r'[a-z]at'\n",
    "m_obj = re.search(pattern, content)\n",
    "print(m_obj.group())\n",
    "print(m_obj.span())\n",
    "print(m_obj.span())\n",
    "print(m_obj.start())\n",
    "print(m_obj.end())\n",
    "f.close()\n",
    "\n",
    "\n",
    "# print(dir(m_obj))"
   ]
  },
  {
   "cell_type": "code",
   "execution_count": 62,
   "id": "945aff60",
   "metadata": {
    "ExecuteTime": {
     "end_time": "2021-08-09T04:12:48.506316Z",
     "start_time": "2021-08-09T04:12:48.501094Z"
    }
   },
   "outputs": [
    {
     "name": "stdout",
     "output_type": "stream",
     "text": [
      "9at Cat c9T mat bat rat hat\n",
      "abcdefghijklmnopqurtuvwxyz\n",
      "ABCDEFGHIJKLMNOPQRSTUVWXYZ\\s\n",
      "321-555-4321\n",
      "1234567890\n",
      "Ha HaHa\n",
      "MetaCharacters (Need to be escaped):\n",
      ". ^ $ * + ? { } [ ] \\ | ( )\n",
      "guptaabhishek.com\n",
      "abhishek-8765-gupta@yahoo.com\n",
      "abhi_gyupta@gamil.abc\n",
      "321-555-4321\n",
      "123.555.1234\n",
      "123*555*1234\n",
      "123.555.1234\n",
      "800-555-1234\n",
      "900-555-1234\n",
      "Mr. Schafer\n",
      "Mr Smith\n",
      "Ms Davis\n",
      "Mrs. Robinson\n",
      "Mr. T\n",
      "Mr_hello\n",
      "abhsihek.gupta@gmail.com\n",
      "abhishek-1234gupta@gmail.org\n",
      "abhishek@hotmail.net\n"
     ]
    }
   ],
   "source": [
    "print(content)"
   ]
  },
  {
   "cell_type": "code",
   "execution_count": 64,
   "id": "3273af12",
   "metadata": {
    "ExecuteTime": {
     "end_time": "2021-08-09T04:13:33.687188Z",
     "start_time": "2021-08-09T04:13:33.672177Z"
    }
   },
   "outputs": [
    {
     "name": "stdout",
     "output_type": "stream",
     "text": [
      "['__annotations__', '__call__', '__class__', '__closure__', '__code__', '__defaults__', '__delattr__', '__dict__', '__dir__', '__doc__', '__eq__', '__format__', '__ge__', '__get__', '__getattribute__', '__globals__', '__gt__', '__hash__', '__init__', '__init_subclass__', '__kwdefaults__', '__le__', '__lt__', '__module__', '__name__', '__ne__', '__new__', '__qualname__', '__reduce__', '__reduce_ex__', '__repr__', '__setattr__', '__sizeof__', '__str__', '__subclasshook__']\n"
     ]
    }
   ],
   "source": [
    "print(dir(re.match))"
   ]
  },
  {
   "cell_type": "code",
   "execution_count": 76,
   "id": "15b70eb7",
   "metadata": {
    "ExecuteTime": {
     "end_time": "2021-08-09T04:17:33.237442Z",
     "start_time": "2021-08-09T04:17:33.223598Z"
    }
   },
   "outputs": [
    {
     "name": "stdout",
     "output_type": "stream",
     "text": [
      "mat\n",
      "(12, 15)\n",
      "\n",
      "bat\n",
      "(16, 19)\n",
      "\n",
      "rat\n",
      "(20, 23)\n",
      "\n",
      "hat\n",
      "(24, 27)\n",
      "\n"
     ]
    }
   ],
   "source": [
    "import re\n",
    "f = open('my_module.py', 'r')\n",
    "content = f.read()\n",
    "pattern = r'[a-z]at'\n",
    "m_obj = re.finditer(pattern, content)\n",
    "for i in m_obj:\n",
    "    print(i.group())\n",
    "    print(i.span())\n",
    "    print()\n",
    "f.close()\n",
    "\n",
    "\n",
    "# print(dir(m_obj))"
   ]
  },
  {
   "cell_type": "code",
   "execution_count": 77,
   "id": "9359a74d",
   "metadata": {
    "ExecuteTime": {
     "end_time": "2021-08-09T04:17:51.249767Z",
     "start_time": "2021-08-09T04:17:51.240212Z"
    }
   },
   "outputs": [
    {
     "name": "stdout",
     "output_type": "stream",
     "text": [
      "['mat', 'bat', 'rat', 'hat']\n"
     ]
    }
   ],
   "source": [
    "import re\n",
    "f = open('my_module.py', 'r')\n",
    "content = f.read()\n",
    "pattern = r'[a-z]at'\n",
    "m_obj = re.findall(pattern, content)\n",
    "print(m_obj)\n",
    "f.close()"
   ]
  },
  {
   "cell_type": "code",
   "execution_count": 81,
   "id": "828e89ba",
   "metadata": {
    "ExecuteTime": {
     "end_time": "2021-08-09T04:18:55.792734Z",
     "start_time": "2021-08-09T04:18:55.778459Z"
    }
   },
   "outputs": [
    {
     "name": "stdout",
     "output_type": "stream",
     "text": [
      "9at Cat c9T 000 000 000 000\n",
      "abcdefghijklmnopqurtuvwxyz\n",
      "ABCDEFGHIJKLMNOPQRSTUVWXYZ\\s\n",
      "321-555-4321\n",
      "1234567890\n",
      "Ha HaHa\n",
      "MetaCharacters (Need to be escaped):\n",
      ". ^ $ * + ? { } [ ] \\ | ( )\n",
      "guptaabhishek.com\n",
      "abhishek-8765-gupta@yahoo.com\n",
      "abhi_gyupta@gamil.abc\n",
      "321-555-4321\n",
      "123.555.1234\n",
      "123*555*1234\n",
      "123.555.1234\n",
      "800-555-1234\n",
      "900-555-1234\n",
      "Mr. Schafer\n",
      "Mr Smith\n",
      "Ms Davis\n",
      "Mrs. Robinson\n",
      "Mr. T\n",
      "Mr_hello\n",
      "abhsihek.gupta@gmail.com\n",
      "abhishek-1234gupta@gmail.org\n",
      "abhishek@hotmail.net\n",
      "9at Cat c9T mat bat rat hat\n",
      "abcdefghijklmnopqurtuvwxyz\n",
      "ABCDEFGHIJKLMNOPQRSTUVWXYZ\\s\n",
      "321-555-4321\n",
      "1234567890\n",
      "Ha HaHa\n",
      "MetaCharacters (Need to be escaped):\n",
      ". ^ $ * + ? { } [ ] \\ | ( )\n",
      "guptaabhishek.com\n",
      "abhishek-8765-gupta@yahoo.com\n",
      "abhi_gyupta@gamil.abc\n",
      "321-555-4321\n",
      "123.555.1234\n",
      "123*555*1234\n",
      "123.555.1234\n",
      "800-555-1234\n",
      "900-555-1234\n",
      "Mr. Schafer\n",
      "Mr Smith\n",
      "Ms Davis\n",
      "Mrs. Robinson\n",
      "Mr. T\n",
      "Mr_hello\n",
      "abhsihek.gupta@gmail.com\n",
      "abhishek-1234gupta@gmail.org\n",
      "abhishek@hotmail.net\n"
     ]
    }
   ],
   "source": [
    "import re\n",
    "f = open('my_module.py', 'r')\n",
    "content = f.read()\n",
    "pattern = r'[a-z]at'\n",
    "m_obj = re.sub(pattern, '000', content)\n",
    "print(m_obj)\n",
    "print(content)\n",
    "f.close()"
   ]
  },
  {
   "cell_type": "code",
   "execution_count": null,
   "id": "e927cf07",
   "metadata": {},
   "outputs": [],
   "source": [
    "#Q.24 For a given list of values in descending order, write a method in python to search \n",
    "# for a value with the help of Binary Search method. \n",
    "# The method should return position of the value and should return -1 if the value not present in the list."
   ]
  },
  {
   "cell_type": "code",
   "execution_count": null,
   "id": "8137c924",
   "metadata": {},
   "outputs": [],
   "source": []
  },
  {
   "cell_type": "code",
   "execution_count": null,
   "id": "6f3886fb",
   "metadata": {},
   "outputs": [],
   "source": []
  },
  {
   "cell_type": "code",
   "execution_count": null,
   "id": "e13b9991",
   "metadata": {},
   "outputs": [],
   "source": []
  },
  {
   "cell_type": "code",
   "execution_count": null,
   "id": "685e0c95",
   "metadata": {},
   "outputs": [],
   "source": []
  },
  {
   "cell_type": "code",
   "execution_count": null,
   "id": "0bd27fb5",
   "metadata": {},
   "outputs": [],
   "source": []
  },
  {
   "cell_type": "code",
   "execution_count": null,
   "id": "2b1d2229",
   "metadata": {},
   "outputs": [],
   "source": []
  },
  {
   "cell_type": "code",
   "execution_count": null,
   "id": "dcbb1a48",
   "metadata": {},
   "outputs": [],
   "source": []
  },
  {
   "cell_type": "code",
   "execution_count": null,
   "id": "724801a3",
   "metadata": {},
   "outputs": [],
   "source": []
  },
  {
   "cell_type": "code",
   "execution_count": null,
   "id": "14771255",
   "metadata": {},
   "outputs": [],
   "source": []
  },
  {
   "cell_type": "code",
   "execution_count": null,
   "id": "bd36b218",
   "metadata": {},
   "outputs": [],
   "source": []
  },
  {
   "cell_type": "code",
   "execution_count": null,
   "id": "426b0ce8",
   "metadata": {},
   "outputs": [],
   "source": []
  },
  {
   "cell_type": "code",
   "execution_count": null,
   "id": "c7f8ca4d",
   "metadata": {},
   "outputs": [],
   "source": []
  },
  {
   "cell_type": "code",
   "execution_count": null,
   "id": "b4a72fd8",
   "metadata": {},
   "outputs": [],
   "source": []
  },
  {
   "cell_type": "code",
   "execution_count": null,
   "id": "4260c4fe",
   "metadata": {},
   "outputs": [],
   "source": []
  },
  {
   "cell_type": "code",
   "execution_count": null,
   "id": "d9d8bca0",
   "metadata": {},
   "outputs": [],
   "source": []
  },
  {
   "cell_type": "code",
   "execution_count": null,
   "id": "a8590adf",
   "metadata": {},
   "outputs": [],
   "source": []
  },
  {
   "cell_type": "code",
   "execution_count": null,
   "id": "951cc458",
   "metadata": {},
   "outputs": [],
   "source": []
  },
  {
   "cell_type": "code",
   "execution_count": null,
   "id": "f9d0fc48",
   "metadata": {},
   "outputs": [],
   "source": []
  },
  {
   "cell_type": "code",
   "execution_count": null,
   "id": "a2ce5cec",
   "metadata": {},
   "outputs": [],
   "source": []
  },
  {
   "cell_type": "code",
   "execution_count": null,
   "id": "367b9527",
   "metadata": {},
   "outputs": [],
   "source": []
  },
  {
   "cell_type": "code",
   "execution_count": null,
   "id": "b0fbf67c",
   "metadata": {},
   "outputs": [],
   "source": []
  },
  {
   "cell_type": "code",
   "execution_count": null,
   "id": "4592c0b0",
   "metadata": {},
   "outputs": [],
   "source": []
  },
  {
   "cell_type": "code",
   "execution_count": null,
   "id": "210cb879",
   "metadata": {},
   "outputs": [],
   "source": []
  },
  {
   "cell_type": "code",
   "execution_count": null,
   "id": "5c85f4a9",
   "metadata": {},
   "outputs": [],
   "source": []
  },
  {
   "cell_type": "code",
   "execution_count": null,
   "id": "cd4d88fc",
   "metadata": {},
   "outputs": [],
   "source": []
  },
  {
   "cell_type": "code",
   "execution_count": null,
   "id": "ffa24520",
   "metadata": {},
   "outputs": [],
   "source": []
  },
  {
   "cell_type": "code",
   "execution_count": null,
   "id": "9fca1b56",
   "metadata": {},
   "outputs": [],
   "source": []
  },
  {
   "cell_type": "code",
   "execution_count": null,
   "id": "99e9f8cb",
   "metadata": {},
   "outputs": [],
   "source": []
  },
  {
   "cell_type": "code",
   "execution_count": null,
   "id": "7f8dab41",
   "metadata": {},
   "outputs": [],
   "source": []
  },
  {
   "cell_type": "code",
   "execution_count": null,
   "id": "1b1e7fa3",
   "metadata": {},
   "outputs": [],
   "source": []
  },
  {
   "cell_type": "code",
   "execution_count": null,
   "id": "9083af8f",
   "metadata": {},
   "outputs": [],
   "source": []
  },
  {
   "cell_type": "code",
   "execution_count": null,
   "id": "ba055333",
   "metadata": {},
   "outputs": [],
   "source": []
  },
  {
   "cell_type": "code",
   "execution_count": null,
   "id": "f9ab8ee3",
   "metadata": {},
   "outputs": [],
   "source": []
  },
  {
   "cell_type": "code",
   "execution_count": null,
   "id": "a06fbb5e",
   "metadata": {},
   "outputs": [],
   "source": []
  },
  {
   "cell_type": "code",
   "execution_count": null,
   "id": "23c8a78b",
   "metadata": {},
   "outputs": [],
   "source": []
  },
  {
   "cell_type": "code",
   "execution_count": null,
   "id": "5c1acc91",
   "metadata": {},
   "outputs": [],
   "source": []
  },
  {
   "cell_type": "code",
   "execution_count": null,
   "id": "ce6a3b25",
   "metadata": {},
   "outputs": [],
   "source": []
  },
  {
   "cell_type": "code",
   "execution_count": null,
   "id": "1ba17943",
   "metadata": {},
   "outputs": [],
   "source": []
  },
  {
   "cell_type": "code",
   "execution_count": null,
   "id": "ebdebe31",
   "metadata": {},
   "outputs": [],
   "source": []
  },
  {
   "cell_type": "code",
   "execution_count": null,
   "id": "d81fc779",
   "metadata": {},
   "outputs": [],
   "source": []
  },
  {
   "cell_type": "code",
   "execution_count": null,
   "id": "d4a595c2",
   "metadata": {},
   "outputs": [],
   "source": []
  },
  {
   "cell_type": "code",
   "execution_count": null,
   "id": "2bc5ad6c",
   "metadata": {},
   "outputs": [],
   "source": []
  },
  {
   "cell_type": "code",
   "execution_count": null,
   "id": "a415da9d",
   "metadata": {},
   "outputs": [],
   "source": []
  },
  {
   "cell_type": "code",
   "execution_count": null,
   "id": "d38c7406",
   "metadata": {},
   "outputs": [],
   "source": []
  },
  {
   "cell_type": "code",
   "execution_count": null,
   "id": "e393ae68",
   "metadata": {},
   "outputs": [],
   "source": []
  },
  {
   "cell_type": "code",
   "execution_count": null,
   "id": "d59995c4",
   "metadata": {},
   "outputs": [],
   "source": []
  },
  {
   "cell_type": "code",
   "execution_count": null,
   "id": "31c9e4d2",
   "metadata": {},
   "outputs": [],
   "source": []
  },
  {
   "cell_type": "code",
   "execution_count": null,
   "id": "a80e9c6b",
   "metadata": {},
   "outputs": [],
   "source": []
  },
  {
   "cell_type": "code",
   "execution_count": null,
   "id": "7bd3011c",
   "metadata": {},
   "outputs": [],
   "source": []
  },
  {
   "cell_type": "code",
   "execution_count": null,
   "id": "7befee18",
   "metadata": {},
   "outputs": [],
   "source": []
  }
 ],
 "metadata": {
  "kernelspec": {
   "display_name": "Python 3",
   "language": "python",
   "name": "python3"
  },
  "language_info": {
   "codemirror_mode": {
    "name": "ipython",
    "version": 3
   },
   "file_extension": ".py",
   "mimetype": "text/x-python",
   "name": "python",
   "nbconvert_exporter": "python",
   "pygments_lexer": "ipython3",
   "version": "3.8.8"
  }
 },
 "nbformat": 4,
 "nbformat_minor": 5
}
