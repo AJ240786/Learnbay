{
 "cells": [
  {
   "cell_type": "code",
   "execution_count": null,
   "id": "348255d6",
   "metadata": {},
   "outputs": [],
   "source": [
    "# Iterators & Generators\n",
    "# Module in Python"
   ]
  },
  {
   "cell_type": "code",
   "execution_count": null,
   "id": "dc0e0324",
   "metadata": {},
   "outputs": [],
   "source": [
    "# Iterators & Generators"
   ]
  },
  {
   "cell_type": "code",
   "execution_count": 13,
   "id": "ee449c10",
   "metadata": {
    "ExecuteTime": {
     "end_time": "2021-08-04T02:45:26.545166Z",
     "start_time": "2021-08-04T02:45:26.538091Z"
    }
   },
   "outputs": [],
   "source": [
    "# Iterable - __iter__\n",
    "# list, string, tuple, dictonary, set, \n",
    "\n",
    "b = [10,20,30,40]\n",
    "# print(next(b))\n",
    "my_iter = iter(b)\n",
    "# print(my_iter)\n",
    "# print(dir(my_iter))\n",
    "# print(next(my_iter))\n",
    "# print(next(my_iter))\n",
    "# print(next(my_iter))\n",
    "# print(next(my_iter))\n",
    "# print(next(my_iter))\n",
    "\n"
   ]
  },
  {
   "cell_type": "code",
   "execution_count": 11,
   "id": "fe263323",
   "metadata": {
    "ExecuteTime": {
     "end_time": "2021-08-04T02:45:18.629318Z",
     "start_time": "2021-08-04T02:45:18.616333Z"
    }
   },
   "outputs": [],
   "source": [
    "# Iterator - __iter__, __next__\n",
    "# enumerate, zip, filter, map\n",
    "\n",
    "a = enumerate('Python')\n",
    "# print(type(a))\n",
    "# print(dir(a))\n",
    "# print(next(a))\n",
    "# print(next(a))\n",
    "# print(next(a))\n",
    "# print(next(a))\n",
    "# print(next(a))\n",
    "# print(next(a))\n",
    "# print(next(a))\n",
    "\n"
   ]
  },
  {
   "cell_type": "code",
   "execution_count": 14,
   "id": "c2c235de",
   "metadata": {
    "ExecuteTime": {
     "end_time": "2021-08-04T02:45:30.379372Z",
     "start_time": "2021-08-04T02:45:30.376496Z"
    }
   },
   "outputs": [],
   "source": [
    "# for i in [10,20,30,40]:\n",
    "#     print(i)"
   ]
  },
  {
   "cell_type": "code",
   "execution_count": 31,
   "id": "f989e14d",
   "metadata": {
    "ExecuteTime": {
     "end_time": "2021-08-04T03:07:22.110517Z",
     "start_time": "2021-08-04T03:07:22.101492Z"
    }
   },
   "outputs": [],
   "source": [
    "# Generators - fixed\n",
    "\n",
    "# import sys\n",
    "# lst = list(range(10000))\n",
    "# print(lst)\n",
    "# print(sys.getsizeof(lst))\n",
    "\n",
    "# Tuple comprehension returns generator object\n",
    "# a = (i for i in range(100000))\n",
    "# print(sys.getsizeof(a))\n",
    "# print(a)\n",
    "# print(dir(a))\n",
    "# print(next(a))\n",
    "# for i in a:\n",
    "#     print(i)\n",
    "\n",
    "\n",
    "# yield - similar to return\n",
    "# return marks the end of the function\n",
    "# yield returns the value and remembers the last state\n",
    "# return will be executed only once per function yield can be executed or written multiple time in a generator\n",
    "\n",
    "def my_gen():\n",
    "    emp_name = input('Enter your Name: ')\n",
    "    emp_id = input('Enter your ID: ')\n",
    "    emp_sal = input('Enter your Salary: ')\n",
    "    emp_city = input('Enter your current city: ')\n",
    "    emp_state = input('Enter your current state: ')\n",
    "    yield emp_name\n",
    "    yield emp_id\n",
    "    yield emp_sal\n",
    "    yield emp_city\n",
    "    yield emp_state\n",
    "    \n",
    "# g = my_gen()\n",
    "# print(g)\n",
    "# print(next(g))\n",
    "# print(next(g))\n",
    "# print(next(g))\n",
    "# print(next(g))\n",
    "# print(next(g))\n",
    "# print(next(g))\n",
    "# print(sys.getsizeof(g))\n",
    "# for i in g:\n",
    "#     print(i)\n",
    "\n",
    "\n"
   ]
  },
  {
   "cell_type": "code",
   "execution_count": 33,
   "id": "5df08f78",
   "metadata": {
    "ExecuteTime": {
     "end_time": "2021-08-04T03:09:24.648638Z",
     "start_time": "2021-08-04T03:09:24.641418Z"
    }
   },
   "outputs": [],
   "source": [
    "# def gen_email(no_of_email):\n",
    "#     for i in range(no_of_email):\n",
    "#         yield input(f'Enter the email id no {i+1}: ')\n",
    "        \n",
    "# g = gen_email(5)\n",
    "# for i in g:\n",
    "#     print(i)"
   ]
  },
  {
   "cell_type": "code",
   "execution_count": null,
   "id": "c35fff7d",
   "metadata": {},
   "outputs": [],
   "source": [
    "# Module in Python\n",
    "# Any python file - with extension - ****.py\n",
    "\n",
    "# Types of module\n",
    "1. Built-in modules -> math, random, sys, os, datetime\n",
    "2. User defined modules\n",
    "\n"
   ]
  },
  {
   "cell_type": "code",
   "execution_count": 2,
   "id": "116b9a23",
   "metadata": {
    "ExecuteTime": {
     "end_time": "2021-08-04T03:20:39.276627Z",
     "start_time": "2021-08-04T03:20:39.270301Z"
    }
   },
   "outputs": [
    {
     "name": "stdout",
     "output_type": "stream",
     "text": [
      "['In', 'Out', '_', '__', '___', '__builtin__', '__builtins__', '__doc__', '__loader__', '__name__', '__package__', '__spec__', '_dh', '_i', '_i1', '_i2', '_ih', '_ii', '_iii', '_oh', 'exit', 'get_ipython', 'quit']\n",
      "['In', 'Out', '_', '__', '___', '__builtin__', '__builtins__', '__doc__', '__loader__', '__name__', '__package__', '__spec__', '_dh', '_i', '_i1', '_i2', '_ih', '_ii', '_iii', '_oh', 'exit', 'get_ipython', 'math', 'quit']\n"
     ]
    }
   ],
   "source": [
    "# How to import a module\n",
    "\n",
    "print(dir())\n",
    "\n",
    "import math\n",
    "\n",
    "print(dir())\n",
    "\n",
    "\n",
    "\n"
   ]
  },
  {
   "cell_type": "code",
   "execution_count": 8,
   "id": "8f53a59a",
   "metadata": {
    "ExecuteTime": {
     "end_time": "2021-08-04T03:24:41.583781Z",
     "start_time": "2021-08-04T03:24:41.576654Z"
    }
   },
   "outputs": [],
   "source": [
    "# print(dir(math))\n",
    "\n",
    "# math.sqrt(4)\n",
    "\n",
    "# sqrt(4)\n",
    "\n",
    "# help(math)"
   ]
  },
  {
   "cell_type": "code",
   "execution_count": 1,
   "id": "dc44bd5f",
   "metadata": {
    "ExecuteTime": {
     "end_time": "2021-08-04T03:25:26.558706Z",
     "start_time": "2021-08-04T03:25:26.535923Z"
    }
   },
   "outputs": [
    {
     "name": "stdout",
     "output_type": "stream",
     "text": [
      "['In', 'Out', '_', '__', '___', '__builtin__', '__builtins__', '__doc__', '__loader__', '__name__', '__package__', '__spec__', '_dh', '_i', '_i1', '_ih', '_ii', '_iii', '_oh', 'exit', 'get_ipython', 'quit']\n",
      "\n",
      "['In', 'Out', '_', '__', '___', '__builtin__', '__builtins__', '__doc__', '__loader__', '__name__', '__package__', '__spec__', '_dh', '_i', '_i1', '_ih', '_ii', '_iii', '_oh', 'acos', 'acosh', 'asin', 'asinh', 'atan', 'atan2', 'atanh', 'ceil', 'comb', 'copysign', 'cos', 'cosh', 'degrees', 'dist', 'e', 'erf', 'erfc', 'exit', 'exp', 'expm1', 'fabs', 'factorial', 'floor', 'fmod', 'frexp', 'fsum', 'gamma', 'gcd', 'get_ipython', 'hypot', 'inf', 'isclose', 'isfinite', 'isinf', 'isnan', 'isqrt', 'ldexp', 'lgamma', 'log', 'log10', 'log1p', 'log2', 'modf', 'nan', 'perm', 'pi', 'pow', 'prod', 'quit', 'radians', 'remainder', 'sin', 'sinh', 'sqrt', 'tan', 'tanh', 'tau', 'trunc']\n"
     ]
    }
   ],
   "source": [
    "print(dir())\n",
    "\n",
    "print()\n",
    "\n",
    "from math import *\n",
    "\n",
    "print(dir())"
   ]
  },
  {
   "cell_type": "code",
   "execution_count": 2,
   "id": "cd32e48e",
   "metadata": {
    "ExecuteTime": {
     "end_time": "2021-08-04T03:26:01.824645Z",
     "start_time": "2021-08-04T03:26:01.817793Z"
    }
   },
   "outputs": [
    {
     "name": "stdout",
     "output_type": "stream",
     "text": [
      "2.0\n"
     ]
    }
   ],
   "source": [
    "print(sqrt(4))"
   ]
  },
  {
   "cell_type": "code",
   "execution_count": 1,
   "id": "9e2a8575",
   "metadata": {
    "ExecuteTime": {
     "end_time": "2021-08-04T03:28:03.132498Z",
     "start_time": "2021-08-04T03:28:03.118258Z"
    }
   },
   "outputs": [
    {
     "name": "stdout",
     "output_type": "stream",
     "text": [
      "['In', 'Out', '_', '__', '___', '__builtin__', '__builtins__', '__doc__', '__loader__', '__name__', '__package__', '__spec__', '_dh', '_i', '_i1', '_ih', '_ii', '_iii', '_oh', 'exit', 'get_ipython', 'quit']\n",
      "\n",
      "['In', 'Out', '_', '__', '___', '__builtin__', '__builtins__', '__doc__', '__loader__', '__name__', '__package__', '__spec__', '_dh', '_i', '_i1', '_ih', '_ii', '_iii', '_oh', 'exit', 'factorial', 'get_ipython', 'quit', 'sqrt']\n"
     ]
    }
   ],
   "source": [
    "print(dir())\n",
    "\n",
    "print()\n",
    "\n",
    "from math import factorial, sqrt\n",
    "\n",
    "print(dir())\n"
   ]
  },
  {
   "cell_type": "code",
   "execution_count": 5,
   "id": "13d43a57",
   "metadata": {
    "ExecuteTime": {
     "end_time": "2021-08-04T03:29:00.525061Z",
     "start_time": "2021-08-04T03:29:00.516891Z"
    }
   },
   "outputs": [
    {
     "name": "stdout",
     "output_type": "stream",
     "text": [
      "120\n",
      "2.0\n"
     ]
    }
   ],
   "source": [
    "print(factorial(5))\n",
    "print(sqrt(4))\n",
    "\n",
    "# print(math.tan(90))"
   ]
  },
  {
   "cell_type": "code",
   "execution_count": 1,
   "id": "43ce6e3f",
   "metadata": {
    "ExecuteTime": {
     "end_time": "2021-08-04T03:29:38.543916Z",
     "start_time": "2021-08-04T03:29:38.510210Z"
    }
   },
   "outputs": [
    {
     "name": "stdout",
     "output_type": "stream",
     "text": [
      "['In', 'Out', '_', '__', '___', '__builtin__', '__builtins__', '__doc__', '__loader__', '__name__', '__package__', '__spec__', '_dh', '_i', '_i1', '_ih', '_ii', '_iii', '_oh', 'exit', 'get_ipython', 'quit']\n",
      "\n",
      "['In', 'Out', '_', '__', '___', '__builtin__', '__builtins__', '__doc__', '__loader__', '__name__', '__package__', '__spec__', '_dh', '_i', '_i1', '_ih', '_ii', '_iii', '_oh', 'exit', 'get_ipython', 'm', 'quit']\n"
     ]
    }
   ],
   "source": [
    "print(dir())\n",
    "\n",
    "print()\n",
    "\n",
    "import math as m\n",
    "\n",
    "print(dir())"
   ]
  },
  {
   "cell_type": "code",
   "execution_count": 3,
   "id": "fdccc5ed",
   "metadata": {
    "ExecuteTime": {
     "end_time": "2021-08-04T03:30:11.430718Z",
     "start_time": "2021-08-04T03:30:11.410523Z"
    }
   },
   "outputs": [
    {
     "data": {
      "text/plain": [
       "2.0"
      ]
     },
     "execution_count": 3,
     "metadata": {},
     "output_type": "execute_result"
    }
   ],
   "source": [
    "m.sqrt(4)"
   ]
  },
  {
   "cell_type": "code",
   "execution_count": 1,
   "id": "0a3221f2",
   "metadata": {
    "ExecuteTime": {
     "end_time": "2021-08-04T03:47:55.724282Z",
     "start_time": "2021-08-04T03:47:55.695169Z"
    }
   },
   "outputs": [
    {
     "name": "stdout",
     "output_type": "stream",
     "text": [
      "['In', 'Out', '_', '__', '___', '__builtin__', '__builtins__', '__doc__', '__loader__', '__name__', '__package__', '__spec__', '_dh', '_i', '_i1', '_ih', '_ii', '_iii', '_oh', 'exit', 'get_ipython', 'quit']\n",
      "\n",
      "Line no 1 in my_module my_module\n",
      "['In', 'Out', '_', '__', '___', '__builtin__', '__builtins__', '__doc__', '__loader__', '__name__', '__package__', '__spec__', '_dh', '_i', '_i1', '_ih', '_ii', '_iii', '_oh', 'exit', 'get_ipython', 'm', 'quit']\n"
     ]
    }
   ],
   "source": [
    "# Importing user defined module\n",
    "print(dir())\n",
    "print()\n",
    "import my_module as m\n",
    "print(dir())"
   ]
  },
  {
   "cell_type": "code",
   "execution_count": 2,
   "id": "853658ba",
   "metadata": {
    "ExecuteTime": {
     "end_time": "2021-08-04T03:43:35.789142Z",
     "start_time": "2021-08-04T03:43:35.782782Z"
    }
   },
   "outputs": [
    {
     "name": "stdout",
     "output_type": "stream",
     "text": [
      "['__builtins__', '__cached__', '__doc__', '__file__', '__loader__', '__name__', '__package__', '__spec__', 'email_valid', 'pwd_valid', 're']\n"
     ]
    }
   ],
   "source": [
    "print(dir(my_module))"
   ]
  },
  {
   "cell_type": "code",
   "execution_count": 2,
   "id": "a983bb43",
   "metadata": {
    "ExecuteTime": {
     "end_time": "2021-08-04T03:44:07.184384Z",
     "start_time": "2021-08-04T03:44:07.177272Z"
    }
   },
   "outputs": [
    {
     "name": "stdout",
     "output_type": "stream",
     "text": [
      "Valid Email ID\n"
     ]
    }
   ],
   "source": [
    "m.email_valid('abc@gmail.com')"
   ]
  },
  {
   "cell_type": "code",
   "execution_count": 4,
   "id": "6a4c8804",
   "metadata": {
    "ExecuteTime": {
     "end_time": "2021-08-04T03:53:53.042172Z",
     "start_time": "2021-08-04T03:53:53.034408Z"
    }
   },
   "outputs": [],
   "source": [
    "# m.main()"
   ]
  },
  {
   "cell_type": "code",
   "execution_count": 15,
   "id": "e4d30c3a",
   "metadata": {
    "ExecuteTime": {
     "end_time": "2021-08-04T04:03:04.876237Z",
     "start_time": "2021-08-04T04:03:04.861429Z"
    }
   },
   "outputs": [
    {
     "data": {
      "text/plain": [
       "['a']"
      ]
     },
     "execution_count": 15,
     "metadata": {},
     "output_type": "execute_result"
    }
   ],
   "source": [
    "# Write a function reverseLookup(dictionary, value) that takes in a dictionary \n",
    "# and a value as arguments and returns a sorted list of all keys that contains the value. \n",
    "# The function will return an empty list if no match is found.\n",
    "\n",
    "# In - reverseLookup({'a':1, 'b':2, 'c':2}, 1)\n",
    "# Out - ['a']\n",
    "# In - reverseLookup({'a':1, 'b':2, 'c':2}, 2)\n",
    "# Out - ['b', 'c']\n",
    "# In - reverseLookup({'a':1, 'b':2, 'c':2}, 3)\n",
    "# Out - []\n",
    "\n",
    "\n",
    "\n",
    "def reverseLookup(my_dict, val):\n",
    "    lst_key = list(my_dict.keys())\n",
    "    lst_val = list(my_dict.values())\n",
    "    out_dict = {}\n",
    "    out_dict = out_dict.fromkeys(lst_val, [])\n",
    "    for i in lst_val:\n",
    "        ind = lst_val.index(i)\n",
    "        out_dict[i] = out_dict[i] + [lst_key[ind]]\n",
    "        lst_val[ind] = None\n",
    "    if val in out_dict:\n",
    "        return out_dict[val]\n",
    "    else:\n",
    "        return []\n",
    "\n",
    "reverseLookup({'a':1, 'b':2, 'c':2}, 1)\n",
    "\n"
   ]
  },
  {
   "cell_type": "code",
   "execution_count": null,
   "id": "068e8f72",
   "metadata": {},
   "outputs": [],
   "source": [
    "This is Python class\n",
    "\n",
    "********Python******"
   ]
  },
  {
   "cell_type": "code",
   "execution_count": 20,
   "id": "d8ed09ac",
   "metadata": {
    "ExecuteTime": {
     "end_time": "2021-08-04T04:13:17.772007Z",
     "start_time": "2021-08-04T04:13:17.763334Z"
    }
   },
   "outputs": [
    {
     "name": "stdout",
     "output_type": "stream",
     "text": [
      "[1, 0, 0, 2, 0, 0, 0, 3, 0, 0, 0, 0, 4]\n"
     ]
    }
   ],
   "source": [
    "# Write a function that converts a dictionary back to its sparse vector representation.\n",
    "# In - convertDictionary({0: 1, 3: 2, 7: 3, 12: 4})\n",
    "# Out - [1, 0, 0, 2, 0, 0, 0, 3, 0, 0, 0, 0, 4]\n",
    "# In - convertDictionary({0: 1, 2: 1, 4: 2, 6: 1, 9: 1})\n",
    "# Out - [1, 0, 1, 0, 2, 0, 1, 0, 0, 1]\n",
    "# In - convertDictionary({})\n",
    "# Out - []\n",
    "\n",
    "def convertDictionary(my_dict):\n",
    "    lst_key = list(my_dict.keys())\n",
    "    lst_val = list(my_dict.values())\n",
    "    out_lst = [0] * (max(lst_key)+1)\n",
    "    for i in lst_key:\n",
    "        ind = lst_key.index(i)\n",
    "        lst_key[ind] = None\n",
    "        out_lst[i] = lst_val[ind]\n",
    "    print(out_lst)\n",
    "\n",
    "convertDictionary({0: 1, 3: 2, 7: 3, 12: 4})\n",
    "\n",
    "\n",
    "\n"
   ]
  },
  {
   "cell_type": "code",
   "execution_count": 26,
   "id": "51a57fe7",
   "metadata": {
    "ExecuteTime": {
     "end_time": "2021-08-04T04:20:25.944447Z",
     "start_time": "2021-08-04T04:20:25.928645Z"
    }
   },
   "outputs": [
    {
     "name": "stdout",
     "output_type": "stream",
     "text": [
      "41\n"
     ]
    }
   ],
   "source": [
    "# Write a python program to implement index method using loop. If\n",
    "# sub_str is found in my_str then it will print the index\n",
    "# of first occurrence of first character of matching string in my_str:-\n",
    "# Input:- my_str = 'Peter Piper Picked A Peck Of Pickled Peppers.' ,\n",
    "# sub_str = 'Pickl'\n",
    "# Output:- 29\n",
    "\n",
    "my_str = 'Peter Piper Picked A Peck Of Pickled Peppers.'\n",
    "sub_str = 'ers'\n",
    "new_str = ''\n",
    "j = 0\n",
    "for i in range(len(my_str)):\n",
    "    if my_str[i] == sub_str[j]:\n",
    "        new_str += my_str[i]\n",
    "        j += 1\n",
    "        if new_str == sub_str:\n",
    "            print(i-len(sub_str)+1)\n",
    "            break\n",
    "    elif i == len(my_str)-1:\n",
    "        print('Not found')\n",
    "    else:\n",
    "        new_str = ''\n",
    "        j = 0\n",
    "        \n",
    "\n"
   ]
  },
  {
   "cell_type": "code",
   "execution_count": null,
   "id": "cde234d8",
   "metadata": {},
   "outputs": [],
   "source": []
  },
  {
   "cell_type": "code",
   "execution_count": null,
   "id": "1d7b6ebd",
   "metadata": {},
   "outputs": [],
   "source": []
  },
  {
   "cell_type": "code",
   "execution_count": null,
   "id": "74d7c8a3",
   "metadata": {},
   "outputs": [],
   "source": []
  },
  {
   "cell_type": "code",
   "execution_count": null,
   "id": "fbce4f11",
   "metadata": {},
   "outputs": [],
   "source": []
  },
  {
   "cell_type": "code",
   "execution_count": null,
   "id": "330eddcc",
   "metadata": {},
   "outputs": [],
   "source": []
  },
  {
   "cell_type": "code",
   "execution_count": null,
   "id": "7f1c1fde",
   "metadata": {},
   "outputs": [],
   "source": []
  },
  {
   "cell_type": "code",
   "execution_count": null,
   "id": "945fd27f",
   "metadata": {},
   "outputs": [],
   "source": []
  },
  {
   "cell_type": "code",
   "execution_count": null,
   "id": "f6be8c25",
   "metadata": {},
   "outputs": [],
   "source": []
  },
  {
   "cell_type": "code",
   "execution_count": null,
   "id": "1bbdce7a",
   "metadata": {},
   "outputs": [],
   "source": []
  },
  {
   "cell_type": "code",
   "execution_count": null,
   "id": "94cf99ea",
   "metadata": {},
   "outputs": [],
   "source": []
  },
  {
   "cell_type": "code",
   "execution_count": null,
   "id": "155b3152",
   "metadata": {},
   "outputs": [],
   "source": []
  },
  {
   "cell_type": "code",
   "execution_count": null,
   "id": "9d20b5bb",
   "metadata": {},
   "outputs": [],
   "source": []
  },
  {
   "cell_type": "code",
   "execution_count": null,
   "id": "dfc21f3c",
   "metadata": {},
   "outputs": [],
   "source": []
  },
  {
   "cell_type": "code",
   "execution_count": null,
   "id": "753050ce",
   "metadata": {},
   "outputs": [],
   "source": []
  },
  {
   "cell_type": "code",
   "execution_count": null,
   "id": "34da29ec",
   "metadata": {},
   "outputs": [],
   "source": []
  },
  {
   "cell_type": "code",
   "execution_count": null,
   "id": "f4de50e1",
   "metadata": {},
   "outputs": [],
   "source": []
  },
  {
   "cell_type": "code",
   "execution_count": null,
   "id": "9a564ee5",
   "metadata": {},
   "outputs": [],
   "source": []
  },
  {
   "cell_type": "code",
   "execution_count": null,
   "id": "145f4920",
   "metadata": {},
   "outputs": [],
   "source": []
  },
  {
   "cell_type": "code",
   "execution_count": null,
   "id": "13240ee2",
   "metadata": {},
   "outputs": [],
   "source": []
  },
  {
   "cell_type": "code",
   "execution_count": null,
   "id": "cca1cac0",
   "metadata": {},
   "outputs": [],
   "source": []
  },
  {
   "cell_type": "code",
   "execution_count": null,
   "id": "5dd35bcb",
   "metadata": {},
   "outputs": [],
   "source": []
  },
  {
   "cell_type": "code",
   "execution_count": null,
   "id": "fcbf219d",
   "metadata": {},
   "outputs": [],
   "source": []
  },
  {
   "cell_type": "code",
   "execution_count": null,
   "id": "f1ce323a",
   "metadata": {},
   "outputs": [],
   "source": []
  },
  {
   "cell_type": "code",
   "execution_count": null,
   "id": "0d4e5a70",
   "metadata": {},
   "outputs": [],
   "source": []
  },
  {
   "cell_type": "code",
   "execution_count": null,
   "id": "ea2cfc22",
   "metadata": {},
   "outputs": [],
   "source": []
  },
  {
   "cell_type": "code",
   "execution_count": null,
   "id": "b0e801d1",
   "metadata": {},
   "outputs": [],
   "source": []
  },
  {
   "cell_type": "code",
   "execution_count": null,
   "id": "4a7732bd",
   "metadata": {},
   "outputs": [],
   "source": []
  },
  {
   "cell_type": "code",
   "execution_count": null,
   "id": "d8af1fad",
   "metadata": {},
   "outputs": [],
   "source": []
  },
  {
   "cell_type": "code",
   "execution_count": null,
   "id": "4f697627",
   "metadata": {},
   "outputs": [],
   "source": []
  },
  {
   "cell_type": "code",
   "execution_count": null,
   "id": "409b1fea",
   "metadata": {},
   "outputs": [],
   "source": []
  },
  {
   "cell_type": "code",
   "execution_count": null,
   "id": "d3d0e107",
   "metadata": {},
   "outputs": [],
   "source": []
  },
  {
   "cell_type": "code",
   "execution_count": null,
   "id": "03a77309",
   "metadata": {},
   "outputs": [],
   "source": []
  },
  {
   "cell_type": "code",
   "execution_count": null,
   "id": "faa8ac07",
   "metadata": {},
   "outputs": [],
   "source": []
  },
  {
   "cell_type": "code",
   "execution_count": null,
   "id": "b49114e0",
   "metadata": {},
   "outputs": [],
   "source": []
  },
  {
   "cell_type": "code",
   "execution_count": null,
   "id": "5bcdd150",
   "metadata": {},
   "outputs": [],
   "source": []
  },
  {
   "cell_type": "code",
   "execution_count": null,
   "id": "17fc1562",
   "metadata": {},
   "outputs": [],
   "source": []
  },
  {
   "cell_type": "code",
   "execution_count": null,
   "id": "63d0c3d6",
   "metadata": {},
   "outputs": [],
   "source": []
  },
  {
   "cell_type": "code",
   "execution_count": null,
   "id": "9533fd61",
   "metadata": {},
   "outputs": [],
   "source": []
  },
  {
   "cell_type": "code",
   "execution_count": null,
   "id": "56f86927",
   "metadata": {},
   "outputs": [],
   "source": []
  },
  {
   "cell_type": "code",
   "execution_count": null,
   "id": "3d32bcea",
   "metadata": {},
   "outputs": [],
   "source": []
  },
  {
   "cell_type": "code",
   "execution_count": null,
   "id": "d399d1c3",
   "metadata": {},
   "outputs": [],
   "source": []
  },
  {
   "cell_type": "code",
   "execution_count": null,
   "id": "4ff8c579",
   "metadata": {},
   "outputs": [],
   "source": []
  },
  {
   "cell_type": "code",
   "execution_count": null,
   "id": "4a7975c9",
   "metadata": {},
   "outputs": [],
   "source": []
  },
  {
   "cell_type": "code",
   "execution_count": null,
   "id": "12449ae0",
   "metadata": {},
   "outputs": [],
   "source": []
  },
  {
   "cell_type": "code",
   "execution_count": null,
   "id": "3c5ad417",
   "metadata": {},
   "outputs": [],
   "source": []
  },
  {
   "cell_type": "code",
   "execution_count": null,
   "id": "daf499fb",
   "metadata": {},
   "outputs": [],
   "source": []
  },
  {
   "cell_type": "code",
   "execution_count": null,
   "id": "c49751a6",
   "metadata": {},
   "outputs": [],
   "source": []
  },
  {
   "cell_type": "code",
   "execution_count": null,
   "id": "16937294",
   "metadata": {},
   "outputs": [],
   "source": []
  },
  {
   "cell_type": "code",
   "execution_count": null,
   "id": "b05970ec",
   "metadata": {},
   "outputs": [],
   "source": []
  },
  {
   "cell_type": "code",
   "execution_count": null,
   "id": "198bf128",
   "metadata": {},
   "outputs": [],
   "source": []
  },
  {
   "cell_type": "code",
   "execution_count": null,
   "id": "d4e513e9",
   "metadata": {},
   "outputs": [],
   "source": []
  },
  {
   "cell_type": "code",
   "execution_count": null,
   "id": "3dad64a4",
   "metadata": {},
   "outputs": [],
   "source": []
  },
  {
   "cell_type": "code",
   "execution_count": null,
   "id": "71cd37e8",
   "metadata": {},
   "outputs": [],
   "source": []
  },
  {
   "cell_type": "code",
   "execution_count": null,
   "id": "e821000d",
   "metadata": {},
   "outputs": [],
   "source": []
  },
  {
   "cell_type": "code",
   "execution_count": null,
   "id": "923e4195",
   "metadata": {},
   "outputs": [],
   "source": []
  },
  {
   "cell_type": "code",
   "execution_count": null,
   "id": "034af261",
   "metadata": {},
   "outputs": [],
   "source": []
  },
  {
   "cell_type": "code",
   "execution_count": null,
   "id": "b5327c64",
   "metadata": {},
   "outputs": [],
   "source": []
  },
  {
   "cell_type": "code",
   "execution_count": null,
   "id": "1a93a44f",
   "metadata": {},
   "outputs": [],
   "source": []
  }
 ],
 "metadata": {
  "kernelspec": {
   "display_name": "Python 3",
   "language": "python",
   "name": "python3"
  },
  "language_info": {
   "codemirror_mode": {
    "name": "ipython",
    "version": 3
   },
   "file_extension": ".py",
   "mimetype": "text/x-python",
   "name": "python",
   "nbconvert_exporter": "python",
   "pygments_lexer": "ipython3",
   "version": "3.8.8"
  }
 },
 "nbformat": 4,
 "nbformat_minor": 5
}
