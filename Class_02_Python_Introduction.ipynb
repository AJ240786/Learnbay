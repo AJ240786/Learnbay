{
 "cells": [
  {
   "cell_type": "code",
   "execution_count": null,
   "id": "105752cd",
   "metadata": {},
   "outputs": [],
   "source": [
    "# Why we use OS and Programming Language? \n",
    "# High Level vs Low Level Programming Language \n",
    "# Why are we Learning Python?\n",
    "# Compiler vs Interpreter\n",
    "# Compiled vs Interpreted Languages\n",
    "# Different Types of Errors in Python\n",
    "# Compile time vs Run time Errors in Python \n",
    "# Source code, Byte code, Machine code\n",
    "# How a Python Program runs on our system.\n",
    "# Memory Management in Python\n",
    "# Raw Memory Allocator, Object Specific Allocator Python Virtual Machine & Interpreter\n",
    "# Memory deallocation in Python\n",
    "# Automatic garbage collection in Python \n",
    "# Memory management visualisation\n",
    "# Input and Output functions in Python"
   ]
  },
  {
   "cell_type": "code",
   "execution_count": null,
   "id": "46f40082",
   "metadata": {},
   "outputs": [],
   "source": [
    "# What is OS and why do we need this?\n",
    "1. Interface between user and system.\n",
    "2. It manages and allocates the resources to the applications running on our system.\n",
    "3. OS is the first application which gets loaded into the RAM.\n",
    "\n",
    "\n",
    "\n",
    "\n"
   ]
  },
  {
   "cell_type": "code",
   "execution_count": 2,
   "id": "825bda8c",
   "metadata": {
    "ExecuteTime": {
     "end_time": "2021-07-25T03:30:06.167002Z",
     "start_time": "2021-07-25T03:30:06.152971Z"
    }
   },
   "outputs": [],
   "source": [
    "# What is Programming Language and why do we need it?\n",
    "# 1. A programming Languages is a set of protocols\n",
    "#     a. A set of predefined keywords - Reserved Words\n",
    "#     b. A set of predefined instructions - Syntax(Grammar)\n",
    "# 2. When we write a set of instructions using reserved words and Syntax - then it gives us the program or application.\n",
    "\n",
    "# Calculator\n",
    "# Contact\n",
    "# Browser\n",
    "# etc\n",
    "    \n"
   ]
  },
  {
   "cell_type": "code",
   "execution_count": 3,
   "id": "7ff86bd3",
   "metadata": {
    "ExecuteTime": {
     "end_time": "2021-07-25T03:49:41.869178Z",
     "start_time": "2021-07-25T03:49:41.853061Z"
    }
   },
   "outputs": [
    {
     "name": "stdout",
     "output_type": "stream",
     "text": [
      "30\n"
     ]
    }
   ],
   "source": [
    "a = 10\n",
    "b = 20\n",
    "c = a+b\n",
    "print(c)"
   ]
  },
  {
   "cell_type": "code",
   "execution_count": null,
   "id": "3864e1d6",
   "metadata": {},
   "outputs": [],
   "source": [
    "# Different types of Programming Languages\n",
    "1. Low Level - Machine Language(Binary Language), Assembly Language etc\n",
    "2. High Level - C, C++, C#, Java, Python, JS etc\n",
    "\n"
   ]
  },
  {
   "cell_type": "code",
   "execution_count": null,
   "id": "167ae705",
   "metadata": {},
   "outputs": [],
   "source": [
    "# Why we are not learning Low Level Programming Languages.\n",
    "1. It is not convenient to develop the complex application using Low Level PL.\n",
    "2. Low level Pl are not portable.\n",
    "3. Easyness and Simplicity of the PL.\n",
    "4. Not Manageable\n",
    "5. We need to know the underlying architecture of the computer.\n",
    "6. Security Concerns and Memory Management.\n"
   ]
  },
  {
   "cell_type": "code",
   "execution_count": null,
   "id": "cb33cfad",
   "metadata": {},
   "outputs": [],
   "source": [
    "# Why Python?\n",
    "1. Python is simple, easy to learn and expressive Language.\n",
    "2. Python is General Purpose Programming Language.\n",
    "    a. Web Application, Desktop Application, Database Application\n",
    "    b. AI/ML application\n",
    "    c. Data Analysis\n",
    "    d. Game Development\n",
    "    e. Researchers and Scientist\n",
    "    f. Automation and Testing\n",
    "3. Python is Free(No need to purchase License) and Open Source(Source code is Freely Available).\n",
    "4. Python is Portable(Source code) and Platform Independent(Intermediate code).\n",
    "5. Python is Extensible(The code written in other PL can be used in Python) and Embedded(The code written in Python\n",
    "                                                                                    can be used in other PL).\n",
    "6. Python is Dynamically Typed Programming Language.\n",
    "7. Python is Interpreted PL.\n",
    "\n",
    "\n",
    "\n"
   ]
  },
  {
   "cell_type": "code",
   "execution_count": null,
   "id": "08a633ed",
   "metadata": {},
   "outputs": [],
   "source": [
    "Source code - The code which we write\n",
    "Byte code - It is an intermediate code which is created after compilation of Source code.\n",
    "Machine code - It is low level code which system can undersatnd.\n",
    "Native Code - equivalent to machine code\n",
    "\n",
    "\n",
    "\n",
    "\n",
    "\n",
    "\n"
   ]
  },
  {
   "cell_type": "code",
   "execution_count": 9,
   "id": "dec20dfe",
   "metadata": {
    "ExecuteTime": {
     "end_time": "2021-07-25T05:25:09.000909Z",
     "start_time": "2021-07-25T05:25:08.990482Z"
    }
   },
   "outputs": [
    {
     "ename": "SyntaxError",
     "evalue": "unexpected EOF while parsing (<ipython-input-9-3000c975f77e>, line 6)",
     "output_type": "error",
     "traceback": [
      "\u001b[0;36m  File \u001b[0;32m\"<ipython-input-9-3000c975f77e>\"\u001b[0;36m, line \u001b[0;32m6\u001b[0m\n\u001b[0;31m    print(a\u001b[0m\n\u001b[0m           ^\u001b[0m\n\u001b[0;31mSyntaxError\u001b[0m\u001b[0;31m:\u001b[0m unexpected EOF while parsing\n"
     ]
    }
   ],
   "source": [
    "# SyntaxError\n",
    "a = 10\n",
    "b = 20\n",
    "c = a+b\n",
    "print(c)\n",
    "print(a"
   ]
  },
  {
   "cell_type": "code",
   "execution_count": 15,
   "id": "ee02fd8a",
   "metadata": {
    "ExecuteTime": {
     "end_time": "2021-07-25T05:27:43.914109Z",
     "start_time": "2021-07-25T05:27:43.906232Z"
    }
   },
   "outputs": [
    {
     "name": "stdout",
     "output_type": "stream",
     "text": [
      "30\n",
      "10\n",
      "10\n"
     ]
    }
   ],
   "source": [
    "# indentation Error\n",
    "a = 10\n",
    "b = 20\n",
    "c = a+b\n",
    "print(c)\n",
    "print(a)\n",
    "if a<b:\n",
    "    print(b-a)"
   ]
  },
  {
   "cell_type": "code",
   "execution_count": 16,
   "id": "c8da1217",
   "metadata": {
    "ExecuteTime": {
     "end_time": "2021-07-25T05:28:07.768617Z",
     "start_time": "2021-07-25T05:28:07.591367Z"
    }
   },
   "outputs": [
    {
     "name": "stdout",
     "output_type": "stream",
     "text": [
      "30\n",
      "10\n"
     ]
    },
    {
     "ename": "NameError",
     "evalue": "name 'd' is not defined",
     "output_type": "error",
     "traceback": [
      "\u001b[0;31m---------------------------------------------------------------------------\u001b[0m",
      "\u001b[0;31mNameError\u001b[0m                                 Traceback (most recent call last)",
      "\u001b[0;32m<ipython-input-16-3c3979b5d2a8>\u001b[0m in \u001b[0;36m<module>\u001b[0;34m\u001b[0m\n\u001b[1;32m      5\u001b[0m \u001b[0mprint\u001b[0m\u001b[0;34m(\u001b[0m\u001b[0mc\u001b[0m\u001b[0;34m)\u001b[0m\u001b[0;34m\u001b[0m\u001b[0;34m\u001b[0m\u001b[0m\n\u001b[1;32m      6\u001b[0m \u001b[0mprint\u001b[0m\u001b[0;34m(\u001b[0m\u001b[0ma\u001b[0m\u001b[0;34m)\u001b[0m\u001b[0;34m\u001b[0m\u001b[0;34m\u001b[0m\u001b[0m\n\u001b[0;32m----> 7\u001b[0;31m \u001b[0mprint\u001b[0m\u001b[0;34m(\u001b[0m\u001b[0md\u001b[0m\u001b[0;34m)\u001b[0m\u001b[0;34m\u001b[0m\u001b[0;34m\u001b[0m\u001b[0m\n\u001b[0m\u001b[1;32m      8\u001b[0m \u001b[0mprint\u001b[0m\u001b[0;34m(\u001b[0m\u001b[0mb\u001b[0m\u001b[0;34m)\u001b[0m\u001b[0;34m\u001b[0m\u001b[0;34m\u001b[0m\u001b[0m\n",
      "\u001b[0;31mNameError\u001b[0m: name 'd' is not defined"
     ]
    }
   ],
   "source": [
    "# Run Time Error\n",
    "a = 10\n",
    "b = 20\n",
    "c = a+b\n",
    "print(c)\n",
    "print(a)\n",
    "print(d)\n",
    "print(c)\n",
    "print(b)"
   ]
  },
  {
   "cell_type": "code",
   "execution_count": null,
   "id": "6a54a276",
   "metadata": {},
   "outputs": [],
   "source": [
    "# Conclusion\n",
    "1. If there is no compile time Error then byte code will be generated.\n",
    "2. If there is any compile time Error then byte code will not be generated.\n",
    "3. If there is any run time error then byte code will be generated bute it will be executed partially."
   ]
  },
  {
   "cell_type": "code",
   "execution_count": null,
   "id": "dbab7b18",
   "metadata": {},
   "outputs": [],
   "source": [
    "# Memory Management in Python - Automatic\n",
    "1. Memory Allocation - Raw Memory Allocator, Object Specific llocator, Python Virtual Machine\n",
    "2. Memory Deallocation - Garbge Collector\n",
    "\n",
    "\n"
   ]
  },
  {
   "cell_type": "code",
   "execution_count": null,
   "id": "4779760d",
   "metadata": {},
   "outputs": [],
   "source": [
    "emp_name = 'Krishna'\n",
    "emp_id = 101\n",
    "emp_sal = 30000\n",
    "def student_details():\n",
    "    st_name = 'Rahul'\n",
    "    st_id = 102\n",
    "    st_marks = 99\n",
    "    \n",
    "Global Names - emp_name, emp_id, emp_sal, student_details\n",
    "Local Names - st_name, st_id, st_marks"
   ]
  },
  {
   "cell_type": "code",
   "execution_count": null,
   "id": "cb4ef118",
   "metadata": {},
   "outputs": [],
   "source": []
  },
  {
   "cell_type": "code",
   "execution_count": null,
   "id": "ea255276",
   "metadata": {},
   "outputs": [],
   "source": []
  },
  {
   "cell_type": "code",
   "execution_count": null,
   "id": "9d9552db",
   "metadata": {},
   "outputs": [],
   "source": []
  },
  {
   "cell_type": "code",
   "execution_count": null,
   "id": "8865ad09",
   "metadata": {},
   "outputs": [],
   "source": []
  },
  {
   "cell_type": "code",
   "execution_count": null,
   "id": "b1286709",
   "metadata": {},
   "outputs": [],
   "source": []
  },
  {
   "cell_type": "code",
   "execution_count": null,
   "id": "67153041",
   "metadata": {},
   "outputs": [],
   "source": []
  },
  {
   "cell_type": "code",
   "execution_count": null,
   "id": "42e5fc71",
   "metadata": {},
   "outputs": [],
   "source": []
  },
  {
   "cell_type": "code",
   "execution_count": null,
   "id": "cc492422",
   "metadata": {},
   "outputs": [],
   "source": []
  },
  {
   "cell_type": "code",
   "execution_count": null,
   "id": "4f172660",
   "metadata": {},
   "outputs": [],
   "source": []
  },
  {
   "cell_type": "code",
   "execution_count": null,
   "id": "ab0e281b",
   "metadata": {},
   "outputs": [],
   "source": []
  },
  {
   "cell_type": "code",
   "execution_count": null,
   "id": "b18eb1c0",
   "metadata": {},
   "outputs": [],
   "source": []
  },
  {
   "cell_type": "code",
   "execution_count": null,
   "id": "0be96a98",
   "metadata": {},
   "outputs": [],
   "source": []
  },
  {
   "cell_type": "code",
   "execution_count": null,
   "id": "54f2ff59",
   "metadata": {},
   "outputs": [],
   "source": []
  },
  {
   "cell_type": "code",
   "execution_count": null,
   "id": "e39f3d8d",
   "metadata": {},
   "outputs": [],
   "source": []
  },
  {
   "cell_type": "code",
   "execution_count": null,
   "id": "708692c4",
   "metadata": {},
   "outputs": [],
   "source": []
  },
  {
   "cell_type": "code",
   "execution_count": null,
   "id": "90b07723",
   "metadata": {},
   "outputs": [],
   "source": []
  },
  {
   "cell_type": "code",
   "execution_count": null,
   "id": "381350da",
   "metadata": {},
   "outputs": [],
   "source": []
  },
  {
   "cell_type": "code",
   "execution_count": null,
   "id": "442d9f1b",
   "metadata": {},
   "outputs": [],
   "source": []
  },
  {
   "cell_type": "code",
   "execution_count": null,
   "id": "9815631d",
   "metadata": {},
   "outputs": [],
   "source": []
  },
  {
   "cell_type": "code",
   "execution_count": null,
   "id": "8036e90e",
   "metadata": {},
   "outputs": [],
   "source": []
  },
  {
   "cell_type": "code",
   "execution_count": null,
   "id": "6d7aef70",
   "metadata": {},
   "outputs": [],
   "source": []
  },
  {
   "cell_type": "code",
   "execution_count": null,
   "id": "e2ba3801",
   "metadata": {},
   "outputs": [],
   "source": []
  },
  {
   "cell_type": "code",
   "execution_count": null,
   "id": "e1d5e61a",
   "metadata": {},
   "outputs": [],
   "source": []
  },
  {
   "cell_type": "code",
   "execution_count": null,
   "id": "7dbf8ffe",
   "metadata": {},
   "outputs": [],
   "source": []
  },
  {
   "cell_type": "code",
   "execution_count": null,
   "id": "852d21a2",
   "metadata": {},
   "outputs": [],
   "source": []
  },
  {
   "cell_type": "code",
   "execution_count": null,
   "id": "3ffbf0e9",
   "metadata": {},
   "outputs": [],
   "source": []
  },
  {
   "cell_type": "code",
   "execution_count": null,
   "id": "518ff08a",
   "metadata": {},
   "outputs": [],
   "source": []
  },
  {
   "cell_type": "code",
   "execution_count": null,
   "id": "c94f06fb",
   "metadata": {},
   "outputs": [],
   "source": []
  },
  {
   "cell_type": "code",
   "execution_count": null,
   "id": "835e5f50",
   "metadata": {},
   "outputs": [],
   "source": []
  },
  {
   "cell_type": "code",
   "execution_count": null,
   "id": "bd4e4dc4",
   "metadata": {},
   "outputs": [],
   "source": []
  },
  {
   "cell_type": "code",
   "execution_count": null,
   "id": "376501ae",
   "metadata": {},
   "outputs": [],
   "source": []
  },
  {
   "cell_type": "code",
   "execution_count": null,
   "id": "4e844880",
   "metadata": {},
   "outputs": [],
   "source": []
  },
  {
   "cell_type": "code",
   "execution_count": null,
   "id": "7a39715a",
   "metadata": {},
   "outputs": [],
   "source": []
  },
  {
   "cell_type": "code",
   "execution_count": null,
   "id": "fa69e896",
   "metadata": {},
   "outputs": [],
   "source": []
  },
  {
   "cell_type": "code",
   "execution_count": null,
   "id": "e1b288d3",
   "metadata": {},
   "outputs": [],
   "source": []
  },
  {
   "cell_type": "code",
   "execution_count": null,
   "id": "9d465f3d",
   "metadata": {},
   "outputs": [],
   "source": []
  }
 ],
 "metadata": {
  "kernelspec": {
   "display_name": "Python 3",
   "language": "python",
   "name": "python3"
  },
  "language_info": {
   "codemirror_mode": {
    "name": "ipython",
    "version": 3
   },
   "file_extension": ".py",
   "mimetype": "text/x-python",
   "name": "python",
   "nbconvert_exporter": "python",
   "pygments_lexer": "ipython3",
   "version": "3.8.2"
  }
 },
 "nbformat": 4,
 "nbformat_minor": 5
}
