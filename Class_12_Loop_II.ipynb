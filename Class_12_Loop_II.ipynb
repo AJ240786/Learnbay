{
 "cells": [
  {
   "cell_type": "code",
   "execution_count": 11,
   "id": "1d697f7b",
   "metadata": {
    "ExecuteTime": {
     "end_time": "2021-07-23T02:49:39.536331Z",
     "start_time": "2021-07-23T02:49:39.514497Z"
    }
   },
   "outputs": [
    {
     "name": "stdout",
     "output_type": "stream",
     "text": [
      "PPPPPPP\n",
      "yyyyyyy\n",
      "ttttttt\n",
      "hhhhhhh\n",
      "ooooooo\n",
      "nnnnnnn\n"
     ]
    }
   ],
   "source": [
    "my_str = 'Python'\n",
    "# Output1\n",
    "# P\n",
    "# yy\n",
    "# ttt\n",
    "# hhhh\n",
    "# ooooo\n",
    "# nnnnnn\n",
    "\n",
    "# print(my_str[0] * 1)\n",
    "# print(my_str[1] * 2)\n",
    "# print(my_str[2] * 3)\n",
    "# print(my_str[3] * 4)\n",
    "# print(my_str[4] * 5)\n",
    "# print(my_str[5] * 6)\n",
    "\n",
    "# for ind in range(len(my_str)):\n",
    "#     print(my_str[ind] * (ind+1))\n",
    "\n",
    "# mul_factor = 1\n",
    "# for i in my_str:\n",
    "#     print(i * mul_factor)\n",
    "#     mul_factor += 1\n",
    "\n",
    "\n",
    "\n",
    "\n",
    "\n",
    "# output2\n",
    "# n\n",
    "# oo\n",
    "# hhh\n",
    "# tttt\n",
    "# yyyyy\n",
    "# PPPPPP\n",
    "\n",
    "# print(my_str[-1] * abs(-1))\n",
    "# print(my_str[-2] * abs(-2))\n",
    "# print(my_str[-3] * abs(-3))\n",
    "# print(my_str[-4] * abs(-4))\n",
    "# print(my_str[-5] * abs(-5))\n",
    "# print(my_str[-6] * abs(-6))\n",
    "\n",
    "# for ind in range(-1, -len(my_str)-1, -1):\n",
    "#     print(my_str[ind] * abs(ind))\n",
    "\n",
    "\n",
    "# mul_factor = 1\n",
    "# for i in my_str[::-1]:\n",
    "#     print(i * mul_factor)\n",
    "#     mul_factor += 1\n",
    "\n",
    "# mystr = 'Python'\n",
    "# for i in mystr:\n",
    "#     print(i*(len(mystr)+1))\n"
   ]
  },
  {
   "cell_type": "code",
   "execution_count": 31,
   "id": "855eac8e",
   "metadata": {
    "ExecuteTime": {
     "end_time": "2021-07-23T03:18:47.540557Z",
     "start_time": "2021-07-23T03:18:47.525403Z"
    }
   },
   "outputs": [
    {
     "name": "stdout",
     "output_type": "stream",
     "text": [
      "['peter', 'piper', 'picked', 'a', 'peck', 'of', 'pickled', 'peppers']\n",
      "Step 2\n",
      "peppers pickled of peck a picked piper peter\n"
     ]
    }
   ],
   "source": [
    "my_str = 'peter piper picked a peck of pickled peppers'\n",
    "\n",
    "# output = 'retep repip dekcip a kcep fo delkcip sreppep'\n",
    "\n",
    "# Step1 - ['peter', 'piper', 'picked', 'a', 'peck', 'of', 'pickled', 'peppers']\n",
    "# Step2 - ['retep', 'repip', 'picked', 'a', 'kcep', 'fo', 'delkcip', 'sreppep']\n",
    "# Step3 - 'retep repip picked a kcep fo delkcip sreppep'\n",
    "\n",
    "# print('Step 1')\n",
    "# out_lst = []\n",
    "# out_word = ''\n",
    "# out_str = ''\n",
    "# for i in range(len(my_str)):\n",
    "#     if my_str[i] == ' ':\n",
    "#         if len(out_str) == 0:\n",
    "#             out_str += out_word[::-1]\n",
    "#             out_word = ''\n",
    "#         else:\n",
    "#             out_str = out_str + ' ' + out_word[::-1]\n",
    "#             out_word = ''\n",
    "#     elif i == len(my_str)-1:\n",
    "#         out_word += my_str[i]\n",
    "#         out_lst += [out_word]\n",
    "#     else:\n",
    "#         out_word += my_str[i]\n",
    "# print(out_str)\n",
    "\n",
    "# print('Step 2')\n",
    "# res_lst = []\n",
    "# for word in out_lst:\n",
    "#     res_lst += [word[::-1]]\n",
    "# print(res_lst)\n",
    "\n",
    "# out_str = ''\n",
    "# for word in res_lst:\n",
    "#     out_str = out_str + ' ' +word\n",
    "# print(out_str)\n",
    "\n",
    "# output2 = 'peppers pickled of peck a picked piper peter'\n",
    "\n",
    "# my_str='peter piper picked a peck of pickled peppers'\n",
    "# def my_split(str1):\n",
    "#     out_str=''\n",
    "#     res_str=''\n",
    "#     for i in range(len(str1)-1,-1,-1):\n",
    "#         if str1[i] == ' ':\n",
    "#             res_str = res_str + out_str + ' '\n",
    "#             out_str = ''\n",
    "#         elif i == 0:\n",
    "#             out_str = str1[i] + out_str\n",
    "#             res_str = res_str + out_str\n",
    "#         else:\n",
    "#             out_str = str1[i] + out_str\n",
    "#     return res_str\n",
    "# my_split(my_str)\n",
    "\n",
    "# my_str='peter piper picked a peck of pickled peppers'\n",
    "# out_lst = []\n",
    "# out_word = ''Or\n",
    "# out_str = ''\n",
    "# for i in range(len(my_str)):\n",
    "#     if my_str[i] == ' ':\n",
    "#         out_lst += [out_word]\n",
    "#         out_word = ''\n",
    "#     elif i == len(my_str)-1:\n",
    "#         out_word += my_str[i]\n",
    "#         out_lst += [out_word]\n",
    "#     else:\n",
    "#         out_word += my_str[i]\n",
    "# print(out_lst)\n",
    "\n",
    "# print('Step 2')\n",
    "# for ind in range(-1, -len(out_lst)-1, -1):\n",
    "#     if ind == -1:\n",
    "#         out_str += out_lst[ind]\n",
    "#     else:\n",
    "#         out_str = out_str + ' ' + out_lst[ind]\n",
    "# print(out_str)\n",
    "\n",
    "\n",
    "\n",
    "\n",
    "\n",
    "\n",
    "\n"
   ]
  },
  {
   "cell_type": "code",
   "execution_count": 49,
   "id": "edc1df67",
   "metadata": {
    "ExecuteTime": {
     "end_time": "2021-07-23T03:40:58.679849Z",
     "start_time": "2021-07-23T03:40:58.506603Z"
    }
   },
   "outputs": [
    {
     "data": {
      "text/html": [
       "<div>\n",
       "<style scoped>\n",
       "    .dataframe tbody tr th:only-of-type {\n",
       "        vertical-align: middle;\n",
       "    }\n",
       "\n",
       "    .dataframe tbody tr th {\n",
       "        vertical-align: top;\n",
       "    }\n",
       "\n",
       "    .dataframe thead th {\n",
       "        text-align: right;\n",
       "    }\n",
       "</style>\n",
       "<table border=\"1\" class=\"dataframe\">\n",
       "  <thead>\n",
       "    <tr style=\"text-align: right;\">\n",
       "      <th></th>\n",
       "      <th>tripduration</th>\n",
       "      <th>starttime</th>\n",
       "      <th>stoptime</th>\n",
       "      <th>start station id</th>\n",
       "      <th>start station name</th>\n",
       "      <th>end station id</th>\n",
       "      <th>end station name</th>\n",
       "      <th>bikeid</th>\n",
       "      <th>name_localizedValue</th>\n",
       "      <th>usertype</th>\n",
       "    </tr>\n",
       "  </thead>\n",
       "  <tbody>\n",
       "    <tr>\n",
       "      <th>0</th>\n",
       "      <td>338</td>\n",
       "      <td>2018-05-01 00:04:47</td>\n",
       "      <td>2018-05-01 00:10:25</td>\n",
       "      <td>3639</td>\n",
       "      <td>Harborside</td>\n",
       "      <td>3199</td>\n",
       "      <td>Newport Pkwy</td>\n",
       "      <td>33558</td>\n",
       "      <td>Annual Membership</td>\n",
       "      <td>Subscriber</td>\n",
       "    </tr>\n",
       "    <tr>\n",
       "      <th>2</th>\n",
       "      <td>232</td>\n",
       "      <td>2018-05-01 01:31:29</td>\n",
       "      <td>2018-05-01 01:35:22</td>\n",
       "      <td>3194</td>\n",
       "      <td>McGinley Square</td>\n",
       "      <td>3193</td>\n",
       "      <td>Lincoln Park</td>\n",
       "      <td>29217</td>\n",
       "      <td>FREE Bonus Month with Annual Membership</td>\n",
       "      <td>Subscriber</td>\n",
       "    </tr>\n",
       "    <tr>\n",
       "      <th>4</th>\n",
       "      <td>303</td>\n",
       "      <td>2018-05-01 04:27:12</td>\n",
       "      <td>2018-05-01 04:32:16</td>\n",
       "      <td>3207</td>\n",
       "      <td>Oakland Ave</td>\n",
       "      <td>3195</td>\n",
       "      <td>Sip Ave</td>\n",
       "      <td>15271</td>\n",
       "      <td>Annual Membership</td>\n",
       "      <td>Subscriber</td>\n",
       "    </tr>\n",
       "    <tr>\n",
       "      <th>5</th>\n",
       "      <td>176</td>\n",
       "      <td>2018-05-01 04:37:05</td>\n",
       "      <td>2018-05-01 04:40:01</td>\n",
       "      <td>3194</td>\n",
       "      <td>McGinley Square</td>\n",
       "      <td>3195</td>\n",
       "      <td>Sip Ave</td>\n",
       "      <td>29298</td>\n",
       "      <td>Annual Membership</td>\n",
       "      <td>Subscriber</td>\n",
       "    </tr>\n",
       "    <tr>\n",
       "      <th>6</th>\n",
       "      <td>577</td>\n",
       "      <td>2018-05-01 05:05:46</td>\n",
       "      <td>2018-05-01 05:15:23</td>\n",
       "      <td>3225</td>\n",
       "      <td>Baldwin at Montgomery</td>\n",
       "      <td>3186</td>\n",
       "      <td>Grove St PATH</td>\n",
       "      <td>33619</td>\n",
       "      <td>Annual Membership from Citi Bike App</td>\n",
       "      <td>Subscriber</td>\n",
       "    </tr>\n",
       "    <tr>\n",
       "      <th>...</th>\n",
       "      <td>...</td>\n",
       "      <td>...</td>\n",
       "      <td>...</td>\n",
       "      <td>...</td>\n",
       "      <td>...</td>\n",
       "      <td>...</td>\n",
       "      <td>...</td>\n",
       "      <td>...</td>\n",
       "      <td>...</td>\n",
       "      <td>...</td>\n",
       "    </tr>\n",
       "    <tr>\n",
       "      <th>32423</th>\n",
       "      <td>396</td>\n",
       "      <td>2018-05-30 13:49:18</td>\n",
       "      <td>2018-05-30 13:55:55</td>\n",
       "      <td>3184</td>\n",
       "      <td>Paulus Hook</td>\n",
       "      <td>3279</td>\n",
       "      <td>Dixon Mills</td>\n",
       "      <td>29639</td>\n",
       "      <td>Join Citi Bike for $14.95/month</td>\n",
       "      <td>Subscriber</td>\n",
       "    </tr>\n",
       "    <tr>\n",
       "      <th>32424</th>\n",
       "      <td>313</td>\n",
       "      <td>2018-05-30 13:49:21</td>\n",
       "      <td>2018-05-30 13:54:35</td>\n",
       "      <td>3202</td>\n",
       "      <td>Newport PATH</td>\n",
       "      <td>3639</td>\n",
       "      <td>Harborside</td>\n",
       "      <td>26301</td>\n",
       "      <td>$25 Off Annual Membership</td>\n",
       "      <td>Subscriber</td>\n",
       "    </tr>\n",
       "    <tr>\n",
       "      <th>32425</th>\n",
       "      <td>316</td>\n",
       "      <td>2018-05-30 13:49:51</td>\n",
       "      <td>2018-05-30 13:55:08</td>\n",
       "      <td>3220</td>\n",
       "      <td>5 Corners Library</td>\n",
       "      <td>3195</td>\n",
       "      <td>Sip Ave</td>\n",
       "      <td>29260</td>\n",
       "      <td>Annual Membership</td>\n",
       "      <td>Subscriber</td>\n",
       "    </tr>\n",
       "    <tr>\n",
       "      <th>32426</th>\n",
       "      <td>1130</td>\n",
       "      <td>2018-05-30 13:50:52</td>\n",
       "      <td>2018-05-30 14:09:42</td>\n",
       "      <td>3281</td>\n",
       "      <td>Leonard Gordon Park</td>\n",
       "      <td>3213</td>\n",
       "      <td>Van Vorst Park</td>\n",
       "      <td>26239</td>\n",
       "      <td>Annual Membership</td>\n",
       "      <td>Subscriber</td>\n",
       "    </tr>\n",
       "    <tr>\n",
       "      <th>32427</th>\n",
       "      <td>369</td>\n",
       "      <td>2018-05-30 13:50:58</td>\n",
       "      <td>2018-05-30 13:57:08</td>\n",
       "      <td>3220</td>\n",
       "      <td>5 Corners Library</td>\n",
       "      <td>3207</td>\n",
       "      <td>Oakland Ave</td>\n",
       "      <td>33660</td>\n",
       "      <td>Annual Membership</td>\n",
       "      <td>Subscriber</td>\n",
       "    </tr>\n",
       "  </tbody>\n",
       "</table>\n",
       "<p>30053 rows × 10 columns</p>\n",
       "</div>"
      ],
      "text/plain": [
       "       tripduration            starttime             stoptime  \\\n",
       "0               338  2018-05-01 00:04:47  2018-05-01 00:10:25   \n",
       "2               232  2018-05-01 01:31:29  2018-05-01 01:35:22   \n",
       "4               303  2018-05-01 04:27:12  2018-05-01 04:32:16   \n",
       "5               176  2018-05-01 04:37:05  2018-05-01 04:40:01   \n",
       "6               577  2018-05-01 05:05:46  2018-05-01 05:15:23   \n",
       "...             ...                  ...                  ...   \n",
       "32423           396  2018-05-30 13:49:18  2018-05-30 13:55:55   \n",
       "32424           313  2018-05-30 13:49:21  2018-05-30 13:54:35   \n",
       "32425           316  2018-05-30 13:49:51  2018-05-30 13:55:08   \n",
       "32426          1130  2018-05-30 13:50:52  2018-05-30 14:09:42   \n",
       "32427           369  2018-05-30 13:50:58  2018-05-30 13:57:08   \n",
       "\n",
       "       start station id     start station name  end station id  \\\n",
       "0                  3639             Harborside            3199   \n",
       "2                  3194        McGinley Square            3193   \n",
       "4                  3207            Oakland Ave            3195   \n",
       "5                  3194        McGinley Square            3195   \n",
       "6                  3225  Baldwin at Montgomery            3186   \n",
       "...                 ...                    ...             ...   \n",
       "32423              3184            Paulus Hook            3279   \n",
       "32424              3202           Newport PATH            3639   \n",
       "32425              3220      5 Corners Library            3195   \n",
       "32426              3281    Leonard Gordon Park            3213   \n",
       "32427              3220      5 Corners Library            3207   \n",
       "\n",
       "      end station name  bikeid                      name_localizedValue  \\\n",
       "0         Newport Pkwy   33558                        Annual Membership   \n",
       "2         Lincoln Park   29217  FREE Bonus Month with Annual Membership   \n",
       "4              Sip Ave   15271                        Annual Membership   \n",
       "5              Sip Ave   29298                        Annual Membership   \n",
       "6        Grove St PATH   33619     Annual Membership from Citi Bike App   \n",
       "...                ...     ...                                      ...   \n",
       "32423      Dixon Mills   29639          Join Citi Bike for $14.95/month   \n",
       "32424       Harborside   26301                $25 Off Annual Membership   \n",
       "32425          Sip Ave   29260                        Annual Membership   \n",
       "32426   Van Vorst Park   26239                        Annual Membership   \n",
       "32427      Oakland Ave   33660                        Annual Membership   \n",
       "\n",
       "         usertype  \n",
       "0      Subscriber  \n",
       "2      Subscriber  \n",
       "4      Subscriber  \n",
       "5      Subscriber  \n",
       "6      Subscriber  \n",
       "...           ...  \n",
       "32423  Subscriber  \n",
       "32424  Subscriber  \n",
       "32425  Subscriber  \n",
       "32426  Subscriber  \n",
       "32427  Subscriber  \n",
       "\n",
       "[30053 rows x 10 columns]"
      ]
     },
     "execution_count": 49,
     "metadata": {},
     "output_type": "execute_result"
    }
   ],
   "source": [
    "import pandas as pd\n",
    "bike_data = pd.read_csv('datasets/citibike_tripdata.csv')\n",
    "# print(bike_data.info())\n",
    "# for i in bike_data['starttime']:\n",
    "#     print(i.split()[0])\n",
    "\n",
    "# bike_data.head()\n",
    "\n",
    "# lst_data = list(bike_data['usertype'])\n",
    "# ind = -1\n",
    "# for i in range(len(bike_data['usertype'])):\n",
    "#     ind = lst_data.index('Subscriber', ind+1)\n",
    "#     print(bike_data.loc[ind])\n",
    "\n",
    "bike_data[bike_data['usertype'] == 'Subscriber']\n",
    "\n",
    "        \n"
   ]
  },
  {
   "cell_type": "code",
   "execution_count": 64,
   "id": "641eeafb",
   "metadata": {
    "ExecuteTime": {
     "end_time": "2021-07-23T04:06:20.275386Z",
     "start_time": "2021-07-23T04:06:20.268215Z"
    }
   },
   "outputs": [
    {
     "name": "stdout",
     "output_type": "stream",
     "text": [
      "    * \n",
      "   * * \n",
      "  * * * \n",
      " * * * * \n",
      "* * * * * \n"
     ]
    }
   ],
   "source": [
    "# *\n",
    "# **\n",
    "# ***\n",
    "# ****\n",
    "# *****\n",
    "# i = 1\n",
    "# while(i <= 5):\n",
    "#     print('*'*i)\n",
    "#     i+=1\n",
    "\n",
    "\n",
    "\n",
    "\n",
    "#     *\n",
    "#    * *\n",
    "#   * * *\n",
    "#  * * * *\n",
    "# * * * * *\n",
    "\n",
    "# i = 0\n",
    "# while i < 5:\n",
    "#     print(i)\n",
    "#     i += 1\n",
    "\n",
    "\n",
    "# print(' '* 4, end = '')\n",
    "# print('* '* 1)\n",
    "\n",
    "# print(' '* 3, end = '')\n",
    "# print('* '* 2)\n",
    "\n",
    "# print(' '* 2, end = '')\n",
    "# print('* '* 3)\n",
    "\n",
    "# print(' '* 1, end = '')\n",
    "# print('* '* 4)\n",
    "\n",
    "# print(' '* 0, end = '')\n",
    "# print('* '* 5)\n",
    "\n",
    "i = 1\n",
    "no_of_rows = 5\n",
    "while i < 6:\n",
    "    print(' '*(no_of_rows-1), end = '')\n",
    "    print('* '*i)\n",
    "    i += 1\n",
    "    no_of_rows -= 1\n",
    "\n",
    "\n",
    "\n"
   ]
  },
  {
   "cell_type": "code",
   "execution_count": 62,
   "id": "abe5fa22",
   "metadata": {
    "ExecuteTime": {
     "end_time": "2021-07-23T04:03:41.939342Z",
     "start_time": "2021-07-23T04:03:41.929436Z"
    }
   },
   "outputs": [
    {
     "name": "stdout",
     "output_type": "stream",
     "text": [
      "10-->20-->30-->"
     ]
    }
   ],
   "source": [
    "print(10, end =' ')\n",
    "print(20, end = '-->')\n",
    "print(30, end ='-->')"
   ]
  },
  {
   "cell_type": "code",
   "execution_count": null,
   "id": "dd03147a",
   "metadata": {
    "ExecuteTime": {
     "end_time": "2021-07-23T04:08:25.931880Z",
     "start_time": "2021-07-23T04:08:23.491Z"
    }
   },
   "outputs": [],
   "source": [
    "# To implement infinite loop we use while loop\n",
    "# while True:\n",
    "#     print(10)\n",
    "\n",
    "\n",
    "i = 1\n",
    "no_of_rows = 5\n",
    "while i < 6:\n",
    "    print(' '*(no_of_rows-1), end = '')\n",
    "    print('* '*i)\n",
    "    i += 1\n",
    "    no_of_rows -= 1\n",
    "\n"
   ]
  },
  {
   "cell_type": "code",
   "execution_count": 72,
   "id": "4beef0e2",
   "metadata": {
    "ExecuteTime": {
     "end_time": "2021-07-23T04:14:48.183330Z",
     "start_time": "2021-07-23T04:14:48.174811Z"
    }
   },
   "outputs": [
    {
     "name": "stdout",
     "output_type": "stream",
     "text": [
      "1\n",
      "2\n",
      "3\n",
      "4\n",
      "1\n",
      "2\n",
      "3\n",
      "4\n",
      "1\n",
      "2\n",
      "3\n",
      "4\n",
      "1\n",
      "2\n",
      "3\n",
      "4\n"
     ]
    }
   ],
   "source": [
    "# Break and continue\n",
    "\n",
    "# Break - used to break the loop\n",
    "# total_bill = 0\n",
    "# for i in [10, 20, 100, 200, 29, 290, 5000, 500, 110]:\n",
    "#     if i > 500:\n",
    "#         break\n",
    "#     else:\n",
    "#         total_bill += i\n",
    "# print(total_bill)\n",
    "\n",
    "\n",
    "\n",
    "\n",
    "\n",
    "\n",
    "# Continue - To skip the current iteration\n",
    "# total_bill = 0\n",
    "# for i in [10, 20, 100, 200, 29, 290, 5000, 500, 110]:\n",
    "#     if i > 500:\n",
    "#         continue\n",
    "#     else:\n",
    "#         total_bill += i\n",
    "# print(total_bill)\n",
    "\n",
    "\n",
    "for i in [10,20,300, 40,50]:\n",
    "    for j in range(1, 5):\n",
    "        if i == 300:\n",
    "            break\n",
    "        print(j)\n",
    "        \n",
    "i = 50\n",
    "j = \n",
    "\n"
   ]
  },
  {
   "cell_type": "code",
   "execution_count": null,
   "id": "0b69b573",
   "metadata": {},
   "outputs": [],
   "source": [
    "def f1():\n",
    "    pass\n",
    "\n",
    "class MyFirstClass:\n",
    "    pass\n",
    "\n"
   ]
  },
  {
   "cell_type": "code",
   "execution_count": null,
   "id": "504aee63",
   "metadata": {},
   "outputs": [],
   "source": []
  },
  {
   "cell_type": "code",
   "execution_count": null,
   "id": "c29fcaac",
   "metadata": {},
   "outputs": [],
   "source": []
  },
  {
   "cell_type": "code",
   "execution_count": null,
   "id": "1cc61cd3",
   "metadata": {},
   "outputs": [],
   "source": []
  },
  {
   "cell_type": "code",
   "execution_count": null,
   "id": "52d91018",
   "metadata": {},
   "outputs": [],
   "source": []
  },
  {
   "cell_type": "code",
   "execution_count": null,
   "id": "0772841c",
   "metadata": {},
   "outputs": [],
   "source": []
  },
  {
   "cell_type": "code",
   "execution_count": null,
   "id": "e0584b5f",
   "metadata": {},
   "outputs": [],
   "source": []
  },
  {
   "cell_type": "code",
   "execution_count": null,
   "id": "3f596bd4",
   "metadata": {},
   "outputs": [],
   "source": []
  },
  {
   "cell_type": "code",
   "execution_count": null,
   "id": "36a1514e",
   "metadata": {},
   "outputs": [],
   "source": []
  },
  {
   "cell_type": "code",
   "execution_count": null,
   "id": "b31783d4",
   "metadata": {},
   "outputs": [],
   "source": []
  },
  {
   "cell_type": "code",
   "execution_count": null,
   "id": "7cc4772d",
   "metadata": {},
   "outputs": [],
   "source": []
  },
  {
   "cell_type": "code",
   "execution_count": null,
   "id": "de4046eb",
   "metadata": {},
   "outputs": [],
   "source": []
  },
  {
   "cell_type": "code",
   "execution_count": null,
   "id": "05329bbb",
   "metadata": {},
   "outputs": [],
   "source": []
  },
  {
   "cell_type": "code",
   "execution_count": null,
   "id": "8c124570",
   "metadata": {},
   "outputs": [],
   "source": []
  },
  {
   "cell_type": "code",
   "execution_count": null,
   "id": "b1fee9dc",
   "metadata": {},
   "outputs": [],
   "source": []
  },
  {
   "cell_type": "code",
   "execution_count": null,
   "id": "70f6fb58",
   "metadata": {},
   "outputs": [],
   "source": []
  },
  {
   "cell_type": "code",
   "execution_count": null,
   "id": "1f928d36",
   "metadata": {},
   "outputs": [],
   "source": []
  },
  {
   "cell_type": "code",
   "execution_count": null,
   "id": "400dbdc6",
   "metadata": {},
   "outputs": [],
   "source": []
  },
  {
   "cell_type": "code",
   "execution_count": null,
   "id": "6cf8ffed",
   "metadata": {},
   "outputs": [],
   "source": []
  },
  {
   "cell_type": "code",
   "execution_count": null,
   "id": "6b62f0fb",
   "metadata": {},
   "outputs": [],
   "source": []
  },
  {
   "cell_type": "code",
   "execution_count": null,
   "id": "428d9a39",
   "metadata": {},
   "outputs": [],
   "source": []
  },
  {
   "cell_type": "code",
   "execution_count": null,
   "id": "6dd82d70",
   "metadata": {},
   "outputs": [],
   "source": []
  },
  {
   "cell_type": "code",
   "execution_count": null,
   "id": "615a2b8b",
   "metadata": {},
   "outputs": [],
   "source": []
  },
  {
   "cell_type": "code",
   "execution_count": null,
   "id": "845c17ca",
   "metadata": {},
   "outputs": [],
   "source": []
  },
  {
   "cell_type": "code",
   "execution_count": null,
   "id": "e2044ca3",
   "metadata": {},
   "outputs": [],
   "source": []
  },
  {
   "cell_type": "code",
   "execution_count": null,
   "id": "1b332f6b",
   "metadata": {},
   "outputs": [],
   "source": []
  },
  {
   "cell_type": "code",
   "execution_count": null,
   "id": "1ecfd7d7",
   "metadata": {},
   "outputs": [],
   "source": []
  },
  {
   "cell_type": "code",
   "execution_count": null,
   "id": "f40ae5b9",
   "metadata": {},
   "outputs": [],
   "source": []
  },
  {
   "cell_type": "code",
   "execution_count": null,
   "id": "488591f7",
   "metadata": {},
   "outputs": [],
   "source": []
  },
  {
   "cell_type": "code",
   "execution_count": null,
   "id": "db3502d8",
   "metadata": {},
   "outputs": [],
   "source": []
  },
  {
   "cell_type": "code",
   "execution_count": null,
   "id": "68a21b6a",
   "metadata": {},
   "outputs": [],
   "source": []
  },
  {
   "cell_type": "code",
   "execution_count": null,
   "id": "bd89654d",
   "metadata": {},
   "outputs": [],
   "source": []
  },
  {
   "cell_type": "code",
   "execution_count": null,
   "id": "0c1f12a0",
   "metadata": {},
   "outputs": [],
   "source": []
  },
  {
   "cell_type": "code",
   "execution_count": null,
   "id": "70f5787b",
   "metadata": {},
   "outputs": [],
   "source": []
  },
  {
   "cell_type": "code",
   "execution_count": null,
   "id": "50f54243",
   "metadata": {},
   "outputs": [],
   "source": []
  },
  {
   "cell_type": "code",
   "execution_count": null,
   "id": "9a8429c4",
   "metadata": {},
   "outputs": [],
   "source": []
  },
  {
   "cell_type": "code",
   "execution_count": null,
   "id": "b88160de",
   "metadata": {},
   "outputs": [],
   "source": []
  },
  {
   "cell_type": "code",
   "execution_count": null,
   "id": "dfbb3d11",
   "metadata": {},
   "outputs": [],
   "source": []
  },
  {
   "cell_type": "code",
   "execution_count": null,
   "id": "14304ff5",
   "metadata": {},
   "outputs": [],
   "source": []
  },
  {
   "cell_type": "code",
   "execution_count": null,
   "id": "7f8e6b33",
   "metadata": {},
   "outputs": [],
   "source": []
  },
  {
   "cell_type": "code",
   "execution_count": null,
   "id": "3f430668",
   "metadata": {},
   "outputs": [],
   "source": []
  },
  {
   "cell_type": "code",
   "execution_count": null,
   "id": "299cf87f",
   "metadata": {},
   "outputs": [],
   "source": []
  },
  {
   "cell_type": "code",
   "execution_count": null,
   "id": "d188ea85",
   "metadata": {},
   "outputs": [],
   "source": []
  },
  {
   "cell_type": "code",
   "execution_count": null,
   "id": "18121598",
   "metadata": {},
   "outputs": [],
   "source": []
  },
  {
   "cell_type": "code",
   "execution_count": null,
   "id": "c2f37ab1",
   "metadata": {},
   "outputs": [],
   "source": []
  },
  {
   "cell_type": "code",
   "execution_count": null,
   "id": "5c54eabb",
   "metadata": {},
   "outputs": [],
   "source": []
  },
  {
   "cell_type": "code",
   "execution_count": null,
   "id": "6fefa0d6",
   "metadata": {},
   "outputs": [],
   "source": []
  },
  {
   "cell_type": "code",
   "execution_count": null,
   "id": "f515f39d",
   "metadata": {},
   "outputs": [],
   "source": []
  },
  {
   "cell_type": "code",
   "execution_count": null,
   "id": "f78eb6fb",
   "metadata": {},
   "outputs": [],
   "source": []
  },
  {
   "cell_type": "code",
   "execution_count": null,
   "id": "3925ae29",
   "metadata": {},
   "outputs": [],
   "source": []
  },
  {
   "cell_type": "code",
   "execution_count": null,
   "id": "5703cd73",
   "metadata": {},
   "outputs": [],
   "source": []
  },
  {
   "cell_type": "code",
   "execution_count": null,
   "id": "1bedc6b1",
   "metadata": {},
   "outputs": [],
   "source": []
  },
  {
   "cell_type": "code",
   "execution_count": null,
   "id": "7f3245e1",
   "metadata": {},
   "outputs": [],
   "source": []
  },
  {
   "cell_type": "code",
   "execution_count": null,
   "id": "0f2dca9b",
   "metadata": {},
   "outputs": [],
   "source": []
  },
  {
   "cell_type": "code",
   "execution_count": null,
   "id": "ad0c3450",
   "metadata": {},
   "outputs": [],
   "source": []
  },
  {
   "cell_type": "code",
   "execution_count": null,
   "id": "57a9006a",
   "metadata": {},
   "outputs": [],
   "source": []
  },
  {
   "cell_type": "code",
   "execution_count": null,
   "id": "01ca889e",
   "metadata": {},
   "outputs": [],
   "source": []
  },
  {
   "cell_type": "code",
   "execution_count": null,
   "id": "d5cfd2cc",
   "metadata": {},
   "outputs": [],
   "source": []
  },
  {
   "cell_type": "code",
   "execution_count": null,
   "id": "112bfe57",
   "metadata": {},
   "outputs": [],
   "source": []
  },
  {
   "cell_type": "code",
   "execution_count": null,
   "id": "b9027861",
   "metadata": {},
   "outputs": [],
   "source": []
  },
  {
   "cell_type": "code",
   "execution_count": null,
   "id": "347867ff",
   "metadata": {},
   "outputs": [],
   "source": []
  },
  {
   "cell_type": "code",
   "execution_count": null,
   "id": "2d90c11d",
   "metadata": {},
   "outputs": [],
   "source": []
  },
  {
   "cell_type": "code",
   "execution_count": null,
   "id": "65150654",
   "metadata": {},
   "outputs": [],
   "source": []
  },
  {
   "cell_type": "code",
   "execution_count": null,
   "id": "8a4a0385",
   "metadata": {},
   "outputs": [],
   "source": []
  },
  {
   "cell_type": "code",
   "execution_count": null,
   "id": "61008591",
   "metadata": {},
   "outputs": [],
   "source": []
  },
  {
   "cell_type": "code",
   "execution_count": null,
   "id": "5ff199f7",
   "metadata": {},
   "outputs": [],
   "source": []
  },
  {
   "cell_type": "code",
   "execution_count": null,
   "id": "0dc3397f",
   "metadata": {},
   "outputs": [],
   "source": []
  },
  {
   "cell_type": "code",
   "execution_count": null,
   "id": "af973147",
   "metadata": {},
   "outputs": [],
   "source": []
  },
  {
   "cell_type": "code",
   "execution_count": null,
   "id": "0431752a",
   "metadata": {},
   "outputs": [],
   "source": []
  },
  {
   "cell_type": "code",
   "execution_count": null,
   "id": "ce948458",
   "metadata": {},
   "outputs": [],
   "source": []
  },
  {
   "cell_type": "code",
   "execution_count": null,
   "id": "6450ef3a",
   "metadata": {},
   "outputs": [],
   "source": []
  },
  {
   "cell_type": "code",
   "execution_count": null,
   "id": "4c29239d",
   "metadata": {},
   "outputs": [],
   "source": []
  },
  {
   "cell_type": "code",
   "execution_count": null,
   "id": "9128669a",
   "metadata": {},
   "outputs": [],
   "source": []
  },
  {
   "cell_type": "code",
   "execution_count": null,
   "id": "7b877fda",
   "metadata": {},
   "outputs": [],
   "source": []
  },
  {
   "cell_type": "code",
   "execution_count": null,
   "id": "4b37e10d",
   "metadata": {},
   "outputs": [],
   "source": []
  },
  {
   "cell_type": "code",
   "execution_count": null,
   "id": "80d1e868",
   "metadata": {},
   "outputs": [],
   "source": []
  },
  {
   "cell_type": "code",
   "execution_count": null,
   "id": "7feaf1a4",
   "metadata": {},
   "outputs": [],
   "source": []
  },
  {
   "cell_type": "code",
   "execution_count": null,
   "id": "fad60e10",
   "metadata": {},
   "outputs": [],
   "source": []
  }
 ],
 "metadata": {
  "kernelspec": {
   "display_name": "Python 3",
   "language": "python",
   "name": "python3"
  },
  "language_info": {
   "codemirror_mode": {
    "name": "ipython",
    "version": 3
   },
   "file_extension": ".py",
   "mimetype": "text/x-python",
   "name": "python",
   "nbconvert_exporter": "python",
   "pygments_lexer": "ipython3",
   "version": "3.8.2"
  }
 },
 "nbformat": 4,
 "nbformat_minor": 5
}
