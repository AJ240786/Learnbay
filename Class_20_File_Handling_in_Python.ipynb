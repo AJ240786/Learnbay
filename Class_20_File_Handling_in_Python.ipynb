{
 "cells": [
  {
   "cell_type": "code",
   "execution_count": 2,
   "id": "f6718413",
   "metadata": {
    "ExecuteTime": {
     "end_time": "2021-08-06T02:38:52.606704Z",
     "start_time": "2021-08-06T02:38:52.597140Z"
    }
   },
   "outputs": [],
   "source": [
    "# emp_name = 'Krishna'\n",
    "# emp_id = input()\n"
   ]
  },
  {
   "cell_type": "code",
   "execution_count": null,
   "id": "7397eacb",
   "metadata": {},
   "outputs": [],
   "source": [
    "# File Handling\n",
    "    1. Text Files\n",
    "    2. Binary Files"
   ]
  },
  {
   "cell_type": "code",
   "execution_count": null,
   "id": "16309a90",
   "metadata": {},
   "outputs": [],
   "source": [
    "# open a file\n",
    "# Operation on the file\n",
    "# Close the file"
   ]
  },
  {
   "cell_type": "code",
   "execution_count": null,
   "id": "9a7e3920",
   "metadata": {},
   "outputs": [],
   "source": [
    "# Syntax for openning a file - \n",
    "# f = open('file_name.ext', 'mode')\n",
    "# f.write()\n",
    "# f.read()\n",
    "# f.close()\n",
    "\n"
   ]
  },
  {
   "cell_type": "code",
   "execution_count": null,
   "id": "12965515",
   "metadata": {},
   "outputs": [],
   "source": [
    "# Mode of Operations on text file\n",
    "Read Mode - 'r'\n",
    "Write Mode - 'w'\n",
    "Append Mode - 'a'\n",
    "Read and Write Mode - 'r+'\n",
    "Write and Read Mode - 'w+'\n",
    "Append and Read Mode - 'a+'"
   ]
  },
  {
   "cell_type": "code",
   "execution_count": null,
   "id": "843aa206",
   "metadata": {},
   "outputs": [],
   "source": [
    "# Mode of Operations on binary file\n",
    "Read Mode - 'rb'\n",
    "Write Mode - 'wb'\n",
    "Append Mode - 'ab'\n",
    "Read and Write Mode - 'r+b'\n",
    "Write and Read Mode - 'w+b'\n",
    "Append and Read Mode - 'a+b'"
   ]
  },
  {
   "cell_type": "code",
   "execution_count": 23,
   "id": "70c9c10a",
   "metadata": {
    "ExecuteTime": {
     "end_time": "2021-08-06T03:03:37.464043Z",
     "start_time": "2021-08-06T03:03:37.455452Z"
    }
   },
   "outputs": [
    {
     "name": "stdout",
     "output_type": "stream",
     "text": [
      "Hello\n"
     ]
    }
   ],
   "source": [
    "# Read Mode - 'r'\n",
    "# If file exists then it will open the file in read mode and places the cursor in the begining of the file.\n",
    "# If file does not exist then it will raise FileNotFoundError\n",
    "# In this mode you are allowed only to read but not allowed to write into the file.\n",
    "\n",
    "# f = open('my_module.py', 'r')\n",
    "# print(f.tell())                # Curent cursor Position\n",
    "# print(f.read())\n",
    "# print(f.tell())\n",
    "# f.seek(100)\n",
    "# print(f.tell())\n",
    "# print('\\n\\n\\n\\n')\n",
    "# print(f.read())\n",
    "# # f.write('Hello')             # UnsupportedOperation: not writable\n",
    "# f.close()\n",
    "\n",
    "\n",
    "# f = open('my_mod.txt', 'r')\n",
    "# f.close()\n",
    "\n",
    "\n",
    "# Read and Write Mode - 'r+'\n",
    "# If file exists then it will open the file in read mode and places the cursor in the begining of the file.\n",
    "# If file does not exist then it will raise FileNotFoundError\n",
    "# In this mode you are allowed to read and write both.\n",
    "\n",
    "f = open('my_module.py', 'r+')\n",
    "# print(f.tell())                # Curent cursor Position\n",
    "# print(f.read())\n",
    "# print(f.tell())\n",
    "# f.seek(100)\n",
    "# print(f.tell())\n",
    "# print('\\n\\n\\n\\n')\n",
    "print(f.read())\n",
    "f.write('Hello')             # UnsupportedOperation: not writable\n",
    "f.close()\n",
    "\n",
    "\n",
    "\n",
    "\n"
   ]
  },
  {
   "cell_type": "code",
   "execution_count": 6,
   "id": "af090970",
   "metadata": {
    "ExecuteTime": {
     "end_time": "2021-08-06T03:13:16.959881Z",
     "start_time": "2021-08-06T03:13:16.939555Z"
    }
   },
   "outputs": [
    {
     "name": "stdout",
     "output_type": "stream",
     "text": [
      "0\n",
      "# Mode of Operations on binary file\n",
      "Read Mode - 'rb'\n",
      "Write Mode - 'wb'\n",
      "Append Mode - 'ab'\n",
      "Read and Write Mode - 'r+b'\n",
      "Write and Read Mode - 'w+b'\n",
      "Append and Read Mode - 'a+b\n"
     ]
    }
   ],
   "source": [
    "# Write Mode - 'w'\n",
    "# If file exists then it will open the file in write mode and places the cursor in the begining of the file \n",
    "    # after deleting the conent of teh file.\n",
    "# If file does not exist then it will create a file with given name.\n",
    "# In this mode you are allowed only to write but not allowed to read from the file.\n",
    "\n",
    "# f = open('class_01.py', 'w')\n",
    "# print(f.tell())\n",
    "# f.write('''# Mode of Operations on binary file\n",
    "# Read Mode - 'rb'\n",
    "# Write Mode - 'wb'\n",
    "# Append Mode - 'ab'\n",
    "# Read and Write Mode - 'r+b'\n",
    "# Write and Read Mode - 'w+b'\n",
    "# Append and Read Mode - 'a+b''')\n",
    "# # print(f.read())\n",
    "# f.close()\n",
    "\n",
    "\n",
    "f = open('my_mod.html', 'w')\n",
    "f.close()\n",
    "\n",
    "# Write and Read Mode - 'w+'\n",
    "# If file exists then it will open the file in write mode and places the cursor in the begining of the file \n",
    "    # after deleting the conent of teh file.\n",
    "# If file does not exist then it will create a file with given name.\n",
    "# In this mode you are allowed to read and write both.\n",
    "\n",
    "f = open('class_01.py', 'w+')\n",
    "print(f.tell())\n",
    "f.write('''# Mode of Operations on binary file\n",
    "Read Mode - 'rb'\n",
    "Write Mode - 'wb'\n",
    "Append Mode - 'ab'\n",
    "Read and Write Mode - 'r+b'\n",
    "Write and Read Mode - 'w+b'\n",
    "Append and Read Mode - 'a+b''')\n",
    "f.seek(0)\n",
    "print(f.read())\n",
    "f.close()\n",
    "\n",
    "\n"
   ]
  },
  {
   "cell_type": "code",
   "execution_count": 8,
   "id": "21206913",
   "metadata": {
    "ExecuteTime": {
     "end_time": "2021-08-06T03:21:39.543735Z",
     "start_time": "2021-08-06T03:21:39.528300Z"
    }
   },
   "outputs": [
    {
     "name": "stdout",
     "output_type": "stream",
     "text": [
      "195\n",
      "# Mode of Operations on binary file\n",
      "Read Mode - 'rb'\n",
      "Write Mode - 'wb'\n",
      "Append Mode - 'ab'\n",
      "Read and Write Mode - 'r+b'\n",
      "Write and Read Mode - 'w+b'\n",
      "Append and Read Mode - 'a+b\n",
      "\n",
      "Hello Python\n",
      "\n",
      "Hello Python\n"
     ]
    }
   ],
   "source": [
    "# Append Mode\n",
    "# If file exists then it will open the file in append mode and places the cursor at the end of the file \n",
    "# If file does not exist then it will create a file with given name.\n",
    "# In this mode you are allowed to write but not allowed to read from teh file.\n",
    "\n",
    "# f = open('class_01.py', 'a')\n",
    "# print(f.tell())\n",
    "# f.write('\\n\\nHello Python')\n",
    "# f.seek(0)\n",
    "# print(f.read())\n",
    "# f.close()\n",
    "\n",
    "# Append and read Mode = a+\n",
    "# If file exists then it will open the file in append mode and places the cursor at the end of the file \n",
    "# If file does not exist then it will create a file with given name.\n",
    "# In this mode you are allowed to read and write both.\n",
    "f = open('class_01.py', 'a+')\n",
    "print(f.tell())\n",
    "f.write('\\n\\nHello Python')\n",
    "f.seek(0)\n",
    "print(f.read())\n",
    "f.close()\n"
   ]
  },
  {
   "cell_type": "code",
   "execution_count": 23,
   "id": "3716de32",
   "metadata": {
    "ExecuteTime": {
     "end_time": "2021-08-06T03:22:42.451326Z",
     "start_time": "2021-08-06T03:22:42.442292Z"
    }
   },
   "outputs": [
    {
     "name": "stdout",
     "output_type": "stream",
     "text": [
      "201\n",
      "10\n"
     ]
    }
   ],
   "source": [
    "f = open('class_01.py', 'a+')\n",
    "print(f.tell())\n",
    "f.seek(10)\n",
    "print(f.tell())\n",
    "f.write('\\n\\Learnbay Python')\n",
    "f.close()"
   ]
  },
  {
   "cell_type": "code",
   "execution_count": 24,
   "id": "0d5f7b99",
   "metadata": {
    "ExecuteTime": {
     "end_time": "2021-08-06T03:24:45.404262Z",
     "start_time": "2021-08-06T03:24:45.382308Z"
    }
   },
   "outputs": [
    {
     "name": "stdout",
     "output_type": "stream",
     "text": [
      "0\n"
     ]
    }
   ],
   "source": [
    "f = open('class_01.py', 'r+')\n",
    "print(f.tell())\n",
    "f.seek(20)\n",
    "f.write('Learnbay Python')\n",
    "f.close()"
   ]
  },
  {
   "cell_type": "code",
   "execution_count": null,
   "id": "c0d6dede",
   "metadata": {},
   "outputs": [],
   "source": [
    "# Mode of OperationsLearnbay Pythone\n",
    "Read Mode - 'rb'\n",
    "Write Mode - 'wb'\n",
    "Append Mode - 'ab'\n",
    "Read and Write Mode - 'r+b'\n",
    "Write and Read Mode - 'w+b'\n",
    "Append and Read Mode - 'a+b\n",
    "\n",
    "Hello Python\n",
    "\n",
    "Hello Python\n",
    "\\Learnbay Python"
   ]
  },
  {
   "cell_type": "code",
   "execution_count": 27,
   "id": "446fefdc",
   "metadata": {
    "ExecuteTime": {
     "end_time": "2021-08-06T03:28:08.907286Z",
     "start_time": "2021-08-06T03:28:08.886131Z"
    }
   },
   "outputs": [
    {
     "name": "stdout",
     "output_type": "stream",
     "text": [
      "0\n"
     ]
    },
    {
     "ename": "UnsupportedOperation",
     "evalue": "not readable",
     "output_type": "error",
     "traceback": [
      "\u001b[0;31m---------------------------------------------------------------------------\u001b[0m",
      "\u001b[0;31mUnsupportedOperation\u001b[0m                      Traceback (most recent call last)",
      "\u001b[0;32m<ipython-input-27-02a5f81bf410>\u001b[0m in \u001b[0;36m<module>\u001b[0;34m\u001b[0m\n\u001b[1;32m     10\u001b[0m     \u001b[0mWrite\u001b[0m \u001b[0;32mand\u001b[0m \u001b[0mRead\u001b[0m \u001b[0mMode\u001b[0m \u001b[0;34m-\u001b[0m \u001b[0;34m'w+b'\u001b[0m\u001b[0;34m\u001b[0m\u001b[0;34m\u001b[0m\u001b[0m\n\u001b[1;32m     11\u001b[0m     Append and Read Mode - 'a+b''')\n\u001b[0;32m---> 12\u001b[0;31m     \u001b[0mprint\u001b[0m\u001b[0;34m(\u001b[0m\u001b[0mf\u001b[0m\u001b[0;34m.\u001b[0m\u001b[0mread\u001b[0m\u001b[0;34m(\u001b[0m\u001b[0;34m)\u001b[0m\u001b[0;34m)\u001b[0m\u001b[0;34m\u001b[0m\u001b[0;34m\u001b[0m\u001b[0m\n\u001b[0m\u001b[1;32m     13\u001b[0m     \u001b[0mf\u001b[0m\u001b[0;34m.\u001b[0m\u001b[0mclose\u001b[0m\u001b[0;34m(\u001b[0m\u001b[0;34m)\u001b[0m\u001b[0;34m\u001b[0m\u001b[0;34m\u001b[0m\u001b[0m\n\u001b[1;32m     14\u001b[0m \u001b[0;34m\u001b[0m\u001b[0m\n",
      "\u001b[0;31mUnsupportedOperation\u001b[0m: not readable"
     ]
    }
   ],
   "source": [
    "# with statements\n",
    "\n",
    "with open('class_01.py', 'w') as f:\n",
    "    print(f.tell())\n",
    "    f.write('''# Mode of Operations on binary file\n",
    "    Read Mode - 'rb'\n",
    "    Write Mode - 'wb'\n",
    "    Append Mode - 'ab'\n",
    "    Read and Write Mode - 'r+b'\n",
    "    Write and Read Mode - 'w+b'\n",
    "    Append and Read Mode - 'a+b''')\n",
    "    print(f.read())\n",
    "    f.close()\n",
    "\n"
   ]
  },
  {
   "cell_type": "code",
   "execution_count": 1,
   "id": "ba1961ea",
   "metadata": {
    "ExecuteTime": {
     "end_time": "2021-08-06T03:47:28.364612Z",
     "start_time": "2021-08-06T03:47:28.352877Z"
    }
   },
   "outputs": [
    {
     "name": "stdout",
     "output_type": "stream",
     "text": [
      "['Learnbay Python', 'AnuragAnuragShubhamAjayAnuragAnuragShubham'] <class 'list'>\n"
     ]
    }
   ],
   "source": [
    "# Reading from the file\n",
    "# read() - Reads the whole content of the file from the current cursor position and returns a string object\n",
    "# read(no_of_cahr) - Reads the specified no of characters from the current cursor position and returns a string object\n",
    "# readline() - Reads the current line from current cursor position and returns a string object\n",
    "# readlines() - reads the whole cotent of the file and returns a list object where each line in the file is an element of list in string format.\n",
    "\n",
    "\n",
    "# with open('my_module.py', 'r') as f:\n",
    "#     content = f.read()\n",
    "#     print(content, type(content))\n",
    "\n",
    "# with open('my_module.py', 'r') as f:\n",
    "#     content = f.read(100)\n",
    "#     print(content, type(content))\n",
    "\n",
    "# with open('my_module.py', 'r') as f:\n",
    "#     content = f.readline()\n",
    "#     print(content, type(content))\n",
    "\n",
    "with open('my_module.py', 'r+') as f:\n",
    "#     f.write(\"my name is Anurag\")\n",
    "    content = f.readlines()\n",
    "#     f.seek(0)\n",
    "    content.insert(0, 'Learnbay Python')\n",
    "    f.writelines(content)\n",
    "    print(content, type(content))\n"
   ]
  },
  {
   "cell_type": "code",
   "execution_count": null,
   "id": "105b3257",
   "metadata": {},
   "outputs": [],
   "source": []
  },
  {
   "cell_type": "code",
   "execution_count": null,
   "id": "d315444e",
   "metadata": {},
   "outputs": [],
   "source": [
    "# Methods to write into the file\n",
    "# write('Str') - Write the string into the file\n",
    "# writelines(['str1\\n', 'str2\\n', 'str3\\n', 'str4\\n'...])"
   ]
  },
  {
   "cell_type": "code",
   "execution_count": null,
   "id": "79169878",
   "metadata": {},
   "outputs": [],
   "source": [
    "# Mode of Operations on binary file\n",
    "Read Mode - 'rb'\n",
    "Write Mode - 'wb'\n",
    "Append Mode - 'ab'\n",
    "Read and Write Mode - 'r+b'\n",
    "Write and Read Mode - 'w+b'\n",
    "# Append and Read Mode - 'a+b'"
   ]
  },
  {
   "cell_type": "code",
   "execution_count": null,
   "id": "69672a98",
   "metadata": {},
   "outputs": [],
   "source": []
  },
  {
   "cell_type": "code",
   "execution_count": 39,
   "id": "1619274a",
   "metadata": {
    "ExecuteTime": {
     "end_time": "2021-08-06T04:04:18.394944Z",
     "start_time": "2021-08-06T04:04:18.390391Z"
    }
   },
   "outputs": [],
   "source": [
    "# What is Lorem Ipsum?\n",
    "# Lorem Ipsum is simply dummy text of the printing and typesetting industry. \n",
    "# Lorem Ipsum has been the industrys standard dummy text ever since the 1500s, when an unknown printer took a galley of type and scrambled it to make a type specimen book. \n",
    "# It has survived not only five centuries, but also the leap into electronic typesetting, remaining essentially unchanged. \n",
    "# It was popularised in the 1960s with the release of Letraset sheets containing Lorem Ipsum passages, and more recently with desktop publishing software like Aldus PageMaker including versions of Lorem Ipsum.\n",
    "\n",
    "# Why do we use it?\n",
    "# It is a long established fact that a reader will be distracted by the readable content of a page when looking at its layout. \n",
    "# The point of using Lorem Ipsum is that it has a more-or-less normal distribution of letters, as opposed to using Content here, content here, making it look like readable English. \n",
    "# Many desktop publishing packages and web page editors now use Lorem Ipsum as their default model text, and a search for lorem ipsum will uncover many web sites still in their infancy. \n",
    "# Various versions have evolved over the years, sometimes by accident, sometimes on purpose (injected humour and the like).\n",
    "\n",
    "\n",
    "# Find the no of char, no of words and no of lines from the file.\n",
    "# with open('my_module.py', 'r+') as f:\n",
    "#     content = f.read()\n",
    "#     print('No. of Characters = ', f.tell()+1)\n",
    "#     print('No of Words = ', len(content.split()))\n",
    "#     f.seek(0)\n",
    "#     print('No of Lines = ', len(f.readlines()))\n",
    "\n",
    "# Copy the python.png to new.jpeg using python code.\n",
    "# with open('python.png', 'r+b') as f1:\n",
    "#     with open('new.jpeg', 'w+b') as f2:\n",
    "#         f2.write(f1.read())\n",
    "\n"
   ]
  },
  {
   "cell_type": "code",
   "execution_count": null,
   "id": "49f89819",
   "metadata": {},
   "outputs": [],
   "source": [
    "# Exception Handling\n",
    "\n",
    "# stat1\n",
    "# stat2\n",
    "# stat3\n",
    "# stat4\n",
    "# stat5\n",
    "# stat6\n",
    "\n",
    "\n",
    "\n"
   ]
  },
  {
   "cell_type": "code",
   "execution_count": 51,
   "id": "3b7ee7e8",
   "metadata": {
    "ExecuteTime": {
     "end_time": "2021-08-06T04:20:30.784448Z",
     "start_time": "2021-08-06T04:20:30.778865Z"
    }
   },
   "outputs": [],
   "source": [
    "# num1 = int(input('Enter 1st number: '))\n",
    "# num2 = int(input('Enter 2nd number: '))\n",
    "# try:\n",
    "#     res = num1/num2\n",
    "# except:\n",
    "#     print('Except block')\n",
    "#     print('Number can not be divided by 0')\n",
    "# else:\n",
    "#     print('Else Block')\n",
    "#     print(res)\n",
    "# finally:\n",
    "#     print('Finally Block')\n",
    "#     print(num1)\n",
    "#     print(num2)\n"
   ]
  },
  {
   "cell_type": "code",
   "execution_count": null,
   "id": "8277c07f",
   "metadata": {},
   "outputs": [],
   "source": [
    "try - The code which is going to give the error\n",
    "except - if the error is raised then whatever code you want to execute should be written into except block\n",
    "else - if the error is not raised then whatever code you want to execute should be written into else block\n",
    "finally - the code which you want to execute irrespective of the error"
   ]
  },
  {
   "cell_type": "code",
   "execution_count": null,
   "id": "afa3f3e0",
   "metadata": {},
   "outputs": [],
   "source": [
    "# For each try block there should be at least one except block\n",
    "# For an except block there should be at least one try block\n",
    "# else and finally are optional\n",
    "# For one try block we may have multiple except block"
   ]
  },
  {
   "cell_type": "code",
   "execution_count": null,
   "id": "28885f11",
   "metadata": {},
   "outputs": [],
   "source": []
  },
  {
   "cell_type": "code",
   "execution_count": null,
   "id": "97ff7557",
   "metadata": {},
   "outputs": [],
   "source": []
  },
  {
   "cell_type": "code",
   "execution_count": null,
   "id": "48454e90",
   "metadata": {},
   "outputs": [],
   "source": []
  },
  {
   "cell_type": "code",
   "execution_count": null,
   "id": "1d40d8f7",
   "metadata": {},
   "outputs": [],
   "source": []
  },
  {
   "cell_type": "code",
   "execution_count": null,
   "id": "3c2690a9",
   "metadata": {},
   "outputs": [],
   "source": []
  },
  {
   "cell_type": "code",
   "execution_count": null,
   "id": "e1642a20",
   "metadata": {},
   "outputs": [],
   "source": []
  },
  {
   "cell_type": "code",
   "execution_count": null,
   "id": "f860e995",
   "metadata": {},
   "outputs": [],
   "source": []
  },
  {
   "cell_type": "code",
   "execution_count": null,
   "id": "c28a719d",
   "metadata": {},
   "outputs": [],
   "source": []
  },
  {
   "cell_type": "code",
   "execution_count": null,
   "id": "a9377848",
   "metadata": {},
   "outputs": [],
   "source": []
  },
  {
   "cell_type": "code",
   "execution_count": null,
   "id": "b6b3c97d",
   "metadata": {},
   "outputs": [],
   "source": []
  },
  {
   "cell_type": "code",
   "execution_count": null,
   "id": "4146b845",
   "metadata": {},
   "outputs": [],
   "source": []
  },
  {
   "cell_type": "code",
   "execution_count": null,
   "id": "b4a0f263",
   "metadata": {},
   "outputs": [],
   "source": []
  },
  {
   "cell_type": "code",
   "execution_count": null,
   "id": "aab5c678",
   "metadata": {},
   "outputs": [],
   "source": []
  },
  {
   "cell_type": "code",
   "execution_count": null,
   "id": "f841e92b",
   "metadata": {},
   "outputs": [],
   "source": []
  },
  {
   "cell_type": "code",
   "execution_count": null,
   "id": "8325f4d9",
   "metadata": {},
   "outputs": [],
   "source": []
  },
  {
   "cell_type": "code",
   "execution_count": null,
   "id": "d8b5ab3f",
   "metadata": {},
   "outputs": [],
   "source": []
  },
  {
   "cell_type": "code",
   "execution_count": null,
   "id": "689acf19",
   "metadata": {},
   "outputs": [],
   "source": []
  },
  {
   "cell_type": "code",
   "execution_count": null,
   "id": "1eaf1303",
   "metadata": {},
   "outputs": [],
   "source": []
  },
  {
   "cell_type": "code",
   "execution_count": null,
   "id": "5bb8bff0",
   "metadata": {},
   "outputs": [],
   "source": []
  },
  {
   "cell_type": "code",
   "execution_count": null,
   "id": "1c6346a5",
   "metadata": {},
   "outputs": [],
   "source": []
  },
  {
   "cell_type": "code",
   "execution_count": null,
   "id": "663f2243",
   "metadata": {},
   "outputs": [],
   "source": []
  },
  {
   "cell_type": "code",
   "execution_count": null,
   "id": "4f63e9a4",
   "metadata": {},
   "outputs": [],
   "source": []
  },
  {
   "cell_type": "code",
   "execution_count": null,
   "id": "f30f9420",
   "metadata": {},
   "outputs": [],
   "source": []
  },
  {
   "cell_type": "code",
   "execution_count": null,
   "id": "1aa05a07",
   "metadata": {},
   "outputs": [],
   "source": []
  },
  {
   "cell_type": "code",
   "execution_count": null,
   "id": "d228e5c2",
   "metadata": {},
   "outputs": [],
   "source": []
  },
  {
   "cell_type": "code",
   "execution_count": null,
   "id": "86dd4b4f",
   "metadata": {},
   "outputs": [],
   "source": []
  },
  {
   "cell_type": "code",
   "execution_count": null,
   "id": "f0571b70",
   "metadata": {},
   "outputs": [],
   "source": []
  },
  {
   "cell_type": "code",
   "execution_count": null,
   "id": "6883536b",
   "metadata": {},
   "outputs": [],
   "source": []
  },
  {
   "cell_type": "code",
   "execution_count": null,
   "id": "fa3f257c",
   "metadata": {},
   "outputs": [],
   "source": []
  },
  {
   "cell_type": "code",
   "execution_count": null,
   "id": "2c576d6d",
   "metadata": {},
   "outputs": [],
   "source": []
  },
  {
   "cell_type": "code",
   "execution_count": null,
   "id": "05efe8d2",
   "metadata": {},
   "outputs": [],
   "source": []
  },
  {
   "cell_type": "code",
   "execution_count": null,
   "id": "e073da5f",
   "metadata": {},
   "outputs": [],
   "source": []
  },
  {
   "cell_type": "code",
   "execution_count": null,
   "id": "9092ea3e",
   "metadata": {},
   "outputs": [],
   "source": []
  },
  {
   "cell_type": "code",
   "execution_count": null,
   "id": "665e4cd4",
   "metadata": {},
   "outputs": [],
   "source": []
  },
  {
   "cell_type": "code",
   "execution_count": null,
   "id": "5e72ccf1",
   "metadata": {},
   "outputs": [],
   "source": []
  },
  {
   "cell_type": "code",
   "execution_count": null,
   "id": "fe851661",
   "metadata": {},
   "outputs": [],
   "source": []
  },
  {
   "cell_type": "code",
   "execution_count": null,
   "id": "c28d6694",
   "metadata": {},
   "outputs": [],
   "source": []
  },
  {
   "cell_type": "code",
   "execution_count": null,
   "id": "f30f2c4a",
   "metadata": {},
   "outputs": [],
   "source": []
  },
  {
   "cell_type": "code",
   "execution_count": null,
   "id": "0f874be1",
   "metadata": {},
   "outputs": [],
   "source": []
  },
  {
   "cell_type": "code",
   "execution_count": null,
   "id": "3906dbfb",
   "metadata": {},
   "outputs": [],
   "source": []
  },
  {
   "cell_type": "code",
   "execution_count": null,
   "id": "4e377817",
   "metadata": {},
   "outputs": [],
   "source": []
  },
  {
   "cell_type": "code",
   "execution_count": null,
   "id": "436859a1",
   "metadata": {},
   "outputs": [],
   "source": []
  },
  {
   "cell_type": "code",
   "execution_count": null,
   "id": "26f8e53d",
   "metadata": {},
   "outputs": [],
   "source": []
  },
  {
   "cell_type": "code",
   "execution_count": null,
   "id": "9c28b7d8",
   "metadata": {},
   "outputs": [],
   "source": []
  },
  {
   "cell_type": "code",
   "execution_count": null,
   "id": "523a3739",
   "metadata": {},
   "outputs": [],
   "source": []
  },
  {
   "cell_type": "code",
   "execution_count": null,
   "id": "460d95a3",
   "metadata": {},
   "outputs": [],
   "source": []
  },
  {
   "cell_type": "code",
   "execution_count": null,
   "id": "15c4cd96",
   "metadata": {},
   "outputs": [],
   "source": []
  },
  {
   "cell_type": "code",
   "execution_count": null,
   "id": "22f6c85c",
   "metadata": {},
   "outputs": [],
   "source": []
  },
  {
   "cell_type": "code",
   "execution_count": null,
   "id": "fddc1cfe",
   "metadata": {},
   "outputs": [],
   "source": []
  },
  {
   "cell_type": "code",
   "execution_count": null,
   "id": "4f479e79",
   "metadata": {},
   "outputs": [],
   "source": []
  },
  {
   "cell_type": "code",
   "execution_count": null,
   "id": "1493f79d",
   "metadata": {},
   "outputs": [],
   "source": []
  },
  {
   "cell_type": "code",
   "execution_count": null,
   "id": "f8c4b9a9",
   "metadata": {},
   "outputs": [],
   "source": []
  },
  {
   "cell_type": "code",
   "execution_count": null,
   "id": "0c17adab",
   "metadata": {},
   "outputs": [],
   "source": []
  },
  {
   "cell_type": "code",
   "execution_count": null,
   "id": "2ad1949b",
   "metadata": {},
   "outputs": [],
   "source": []
  },
  {
   "cell_type": "code",
   "execution_count": null,
   "id": "b67f2ee9",
   "metadata": {},
   "outputs": [],
   "source": []
  },
  {
   "cell_type": "code",
   "execution_count": null,
   "id": "113923b5",
   "metadata": {},
   "outputs": [],
   "source": []
  },
  {
   "cell_type": "code",
   "execution_count": null,
   "id": "c03eb779",
   "metadata": {},
   "outputs": [],
   "source": []
  },
  {
   "cell_type": "code",
   "execution_count": null,
   "id": "cb45f5da",
   "metadata": {},
   "outputs": [],
   "source": []
  },
  {
   "cell_type": "code",
   "execution_count": null,
   "id": "1f53d7c7",
   "metadata": {},
   "outputs": [],
   "source": []
  },
  {
   "cell_type": "code",
   "execution_count": null,
   "id": "5d72f504",
   "metadata": {},
   "outputs": [],
   "source": []
  },
  {
   "cell_type": "code",
   "execution_count": null,
   "id": "362f21bc",
   "metadata": {},
   "outputs": [],
   "source": []
  },
  {
   "cell_type": "code",
   "execution_count": null,
   "id": "59853484",
   "metadata": {},
   "outputs": [],
   "source": []
  },
  {
   "cell_type": "code",
   "execution_count": null,
   "id": "b9b830f8",
   "metadata": {},
   "outputs": [],
   "source": []
  },
  {
   "cell_type": "code",
   "execution_count": null,
   "id": "aa03a304",
   "metadata": {},
   "outputs": [],
   "source": []
  },
  {
   "cell_type": "code",
   "execution_count": null,
   "id": "a78a2369",
   "metadata": {},
   "outputs": [],
   "source": []
  },
  {
   "cell_type": "code",
   "execution_count": null,
   "id": "a66b21a7",
   "metadata": {},
   "outputs": [],
   "source": []
  },
  {
   "cell_type": "code",
   "execution_count": null,
   "id": "ffbc071c",
   "metadata": {},
   "outputs": [],
   "source": []
  },
  {
   "cell_type": "code",
   "execution_count": null,
   "id": "96f43857",
   "metadata": {},
   "outputs": [],
   "source": []
  },
  {
   "cell_type": "code",
   "execution_count": null,
   "id": "77e49cf7",
   "metadata": {},
   "outputs": [],
   "source": []
  },
  {
   "cell_type": "code",
   "execution_count": null,
   "id": "ad02d62d",
   "metadata": {},
   "outputs": [],
   "source": []
  },
  {
   "cell_type": "code",
   "execution_count": null,
   "id": "faba9507",
   "metadata": {},
   "outputs": [],
   "source": []
  },
  {
   "cell_type": "code",
   "execution_count": null,
   "id": "ff7579ce",
   "metadata": {},
   "outputs": [],
   "source": []
  }
 ],
 "metadata": {
  "kernelspec": {
   "display_name": "Python 3",
   "language": "python",
   "name": "python3"
  },
  "language_info": {
   "codemirror_mode": {
    "name": "ipython",
    "version": 3
   },
   "file_extension": ".py",
   "mimetype": "text/x-python",
   "name": "python",
   "nbconvert_exporter": "python",
   "pygments_lexer": "ipython3",
   "version": "3.8.8"
  }
 },
 "nbformat": 4,
 "nbformat_minor": 5
}
