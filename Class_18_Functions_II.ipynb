{
 "cells": [
  {
   "cell_type": "code",
   "execution_count": 1,
   "id": "a7f8b1ff",
   "metadata": {
    "ExecuteTime": {
     "end_time": "2021-08-02T02:36:43.578403Z",
     "start_time": "2021-08-02T02:36:43.572301Z"
    }
   },
   "outputs": [],
   "source": [
    "# Annonymous Function, Filter, Map, Reduce, sort\n",
    "# Iterators and Generators\n",
    "# Modules\n"
   ]
  },
  {
   "cell_type": "code",
   "execution_count": 29,
   "id": "3c7106a4",
   "metadata": {
    "ExecuteTime": {
     "end_time": "2021-08-02T03:07:53.674083Z",
     "start_time": "2021-08-02T03:07:53.665219Z"
    }
   },
   "outputs": [],
   "source": [
    "# Annonymous Function\n",
    "\n",
    "# def func_name():\n",
    "#     stat\n",
    "#     stat\n",
    "#     stat\n",
    "#     return stat\n",
    "\n",
    "# func_name()\n",
    "# func_name\n",
    "\n",
    "# Syntax -> (lambda var:expr)(arg)\n",
    "\n",
    "# Funding the square of a number\n",
    "# a = (lambda num:num**2)(8)\n",
    "# print(a)\n",
    "\n",
    "# a = lambda num:num**2\n",
    "# a(9)\n",
    "\n",
    "\n",
    "# Findinga number is even or not\n",
    "# a = lambda num:'Even' if num%2 == 0 else 'Odd'\n",
    "# a(4)\n",
    "# a(9)\n",
    "\n",
    "# pXrXT/100\n",
    "\n",
    "\n",
    "# a = lambda p,t,r=5:(p*r*t)/100\n",
    "# a(100,1)\n",
    "\n",
    "# Finding the largest number out of 3 numbers\n",
    "# a = lambda num1, num2, num3:num1 if (num1>num2) and (num1>num3) else num2 if (num2>num3) else num3\n",
    "# a(100, 9, 900)\n",
    "\n",
    "\n",
    "# Write an annonymous function which takes a password from user and prints Valid if \n",
    "# 1. length of password is >6 and <16 and\n",
    "# 2. Has at least one capital case letter and\n",
    "# 3. Has at least one lower case letter and\n",
    "# 4. Has at least one a number.\n",
    "# else prints invalid.\n",
    "\n",
    "# import re\n",
    "# pwd_check = lambda pwd: 'Valid' if (len(pwd)>6 or len(pwd)<=16) and re.search(r'[A-Z]', pwd) and re.search(r'[a-z]', pwd) and re.search(r'[0-9]', pwd) else 'Invalid'\n",
    "# inp_pwd = input('Enter the password to check: ')\n",
    "# print(pwd_check(inp_pwd))\n",
    "# print(pwd_check(inp_pwd))\n",
    "\n",
    "\n"
   ]
  },
  {
   "cell_type": "code",
   "execution_count": 8,
   "id": "ee6c80c7",
   "metadata": {
    "ExecuteTime": {
     "end_time": "2021-08-02T02:43:12.550655Z",
     "start_time": "2021-08-02T02:43:12.545534Z"
    }
   },
   "outputs": [],
   "source": [
    "def func_name():\n",
    "    pass\n",
    "\n",
    "a = func_name\n",
    "a()"
   ]
  },
  {
   "cell_type": "code",
   "execution_count": 23,
   "id": "f95a50fc",
   "metadata": {
    "ExecuteTime": {
     "end_time": "2021-08-02T02:55:46.814037Z",
     "start_time": "2021-08-02T02:55:46.809360Z"
    }
   },
   "outputs": [],
   "source": [
    "# num1 = 1000\n",
    "# num2 = 90\n",
    "# num3 = 9000\n",
    "\n",
    "# print(f'{num1} is greater than {num2} and {num3}') if (num1>num2 and num1>num3) else (f'{num2} is greater than {num1} and {num3}') if (num2>num3 and num2>num1) else (f'{num3} is greater than {num2} and {num1}')\n",
    "\n",
    "\n",
    "\n",
    "\n",
    "\n",
    "\n"
   ]
  },
  {
   "cell_type": "code",
   "execution_count": 36,
   "id": "df012d81",
   "metadata": {
    "ExecuteTime": {
     "end_time": "2021-08-02T03:21:58.279371Z",
     "start_time": "2021-08-02T03:21:58.266383Z"
    }
   },
   "outputs": [
    {
     "data": {
      "text/plain": [
       "[10, 12, 14, 16, 18, 20]"
      ]
     },
     "execution_count": 36,
     "metadata": {},
     "output_type": "execute_result"
    }
   ],
   "source": [
    "# Filter, Map, Reduce, sort\n",
    "\n",
    "# Syntax -> filter(func, Iterable)\n",
    "# Returns a filter object\n",
    "# It takes a function as an arguments and filters a sequence\n",
    "\n",
    "lst = list(range(10, 21))\n",
    "\n",
    "\n",
    "def even_odd(num):\n",
    "    return True if num%2 == 0 else False\n",
    "\n",
    "# def my_filter(func, seq):\n",
    "#     out_lst = []\n",
    "#     for ele in seq:\n",
    "#         if func(ele) == True:\n",
    "#             out_lst.append(ele)\n",
    "#     return out_lst\n",
    "\n",
    "# my_filter(even_odd,lst)\n",
    "\n",
    "list(filter(lambda num:num%2, lst))\n",
    "\n",
    "list(filter(even_odd, lst))\n",
    "\n",
    "# num = 11\n",
    "# filter -> [11,12]\n",
    "\n",
    "lst_email = ['support@domain.com',\n",
    "            'sales@domain.com',\n",
    "            'info@domain.com',\n",
    "            'careers@domain.com',\n",
    "            'enquiries@domain.com',\n",
    "            'news@domain.com']\n",
    "\n",
    "\n"
   ]
  },
  {
   "cell_type": "code",
   "execution_count": 50,
   "id": "9edc1326",
   "metadata": {
    "ExecuteTime": {
     "end_time": "2021-08-02T03:43:39.091312Z",
     "start_time": "2021-08-02T03:43:39.082725Z"
    }
   },
   "outputs": [
    {
     "data": {
      "text/plain": [
       "['support@domain.com', 'careers@domain.com', 'enquiries@domain.com']"
      ]
     },
     "execution_count": 50,
     "metadata": {},
     "output_type": "execute_result"
    }
   ],
   "source": [
    "lst_email = ['support@domain.com',\n",
    "            'sales@domain.com',\n",
    "            'info@domain.com',\n",
    "            'careers@domain.com',\n",
    "            'enquiries@domain.com',\n",
    "            'news@domain.com']\n",
    "\n",
    "# WAP to get a list of email ids where the length of user name > 5 using filter function.\n",
    "\n",
    "list(filter(lambda email:len(email.split(\"@\")[0]) > 5 ,lst_email))\n",
    "\n",
    "# list(filter(lambda email: len(email[:email.find('@')])>5 , lst_email))\n",
    "\n",
    "\n"
   ]
  },
  {
   "cell_type": "code",
   "execution_count": 42,
   "id": "7012a052",
   "metadata": {
    "ExecuteTime": {
     "end_time": "2021-08-02T03:34:15.156390Z",
     "start_time": "2021-08-02T03:34:15.138271Z"
    }
   },
   "outputs": [
    {
     "data": {
      "text/plain": [
       "[100, 121, 144, 169, 196, 225, 256, 289, 324, 361, 400]"
      ]
     },
     "execution_count": 42,
     "metadata": {},
     "output_type": "execute_result"
    }
   ],
   "source": [
    "# map -\n",
    "# syntax -> map(func, seq)\n",
    "# It returns map object\n",
    "# # used to map each element with another set of seq based on some expression\n",
    "\n",
    "lst = list(range(10, 21))\n",
    "\n",
    "list(map(lambda num:num**2, lst))\n",
    "\n",
    "# num = 13\n",
    "# map-> [100, 121, 144, 169...]\n",
    "\n",
    "\n",
    "\n",
    "\n"
   ]
  },
  {
   "cell_type": "code",
   "execution_count": 9,
   "id": "fe76c9b0",
   "metadata": {
    "ExecuteTime": {
     "end_time": "2021-08-02T03:43:15.306452Z",
     "start_time": "2021-08-02T03:43:15.294937Z"
    }
   },
   "outputs": [
    {
     "name": "stdout",
     "output_type": "stream",
     "text": [
      "['support@domain.com', 'sales@domain.com', 'info@domain.com', 'careers@domain.com', 'enquiries@domain.com', 'news@domain.com']\n",
      "['support', 'sales', 'info', 'careers', 'enquiries', 'news', '']\n"
     ]
    }
   ],
   "source": [
    "lst_email = ['support@domain.com',\n",
    "            'sales@domain.com',\n",
    "            'info@domain.com',\n",
    "            'careers@domain.com',\n",
    "            'enquiries@domain.com',\n",
    "            'news@domain.com',\n",
    "            '@domain.com']\n",
    "\n",
    "# WAP to get a map obejct where the output will have user name of all email id.\n",
    "\n",
    "# list(map(lambda email:email.split('@')[0], lst_email))\n",
    "\n",
    "print(list(filter(lambda email:email[:email.index('@')], lst_email)))\n",
    "print(list(map(lambda email:email[:email.index('@')], lst_email)))\n",
    "\n",
    "# email = 'sales@domain.com'\n",
    "\n",
    "# map->['support', 'sales'...]\n"
   ]
  },
  {
   "cell_type": "code",
   "execution_count": 10,
   "id": "da802d75",
   "metadata": {
    "ExecuteTime": {
     "end_time": "2021-08-02T03:53:33.226712Z",
     "start_time": "2021-08-02T03:53:33.214159Z"
    }
   },
   "outputs": [
    {
     "data": {
      "text/plain": [
       "['support', 'careers', 'enquiries']"
      ]
     },
     "execution_count": 10,
     "metadata": {},
     "output_type": "execute_result"
    }
   ],
   "source": [
    "lst_email = ['support@domain.com',\n",
    "            'sales@domain.com',\n",
    "            'info@domain.com',\n",
    "            'careers@domain.com',\n",
    "            'enquiries@domain.com',\n",
    "            'news@domain.com',\n",
    "            '@domain.com']\n",
    "\n",
    "# WAP which gives a list of user name where user name is greater than 5\n",
    "\n",
    "list(map(lambda email:email.split('@')[0], filter(lambda email:len(email.split('@')[0])>5,lst_email)))\n",
    "\n",
    "\n",
    "# Implememting zip using map\n",
    "\n",
    "# lst1 = list(range(10,20))\n",
    "\n",
    "# lst2 = list(range(200,210))\n",
    "\n",
    "# list(map(lambda l1, l2:(l1,l2) ,lst1, lst2))\n",
    "# list(map(lambda l1, l2:(l1+l2) ,lst1, lst2))\n",
    "\n",
    "\n",
    "\n"
   ]
  },
  {
   "cell_type": "code",
   "execution_count": 67,
   "id": "de82eef8",
   "metadata": {
    "ExecuteTime": {
     "end_time": "2021-08-02T04:04:02.545032Z",
     "start_time": "2021-08-02T04:04:02.522008Z"
    }
   },
   "outputs": [
    {
     "name": "stdout",
     "output_type": "stream",
     "text": [
      "19\n",
      "10\n"
     ]
    }
   ],
   "source": [
    "# Reduce - Aggregate - USed to find the aggregate values - sum, prod, max, min\n",
    "# To use reduce function we need to import it from functools module\n",
    "# It returns a single value\n",
    "\n",
    "# reduce(func, seq)\n",
    "\n",
    "from functools import reduce\n",
    "lst1 = list(range(10,20))\n",
    "reduce(lambda num1, num2:num1+num2,lst1)\n",
    "reduce(lambda num1, num2:num1*num2,lst1)\n",
    "print(reduce(lambda num1, num2:num1 if num1>num2 else num2,lst1))\n",
    "print(reduce(lambda num1, num2:num1 if num1<num2 else num2,lst1))\n",
    "\n",
    "num1 = 12\n",
    "num2 = 13\n",
    "\n",
    "\n"
   ]
  },
  {
   "cell_type": "code",
   "execution_count": 61,
   "id": "45c8ec5f",
   "metadata": {
    "ExecuteTime": {
     "end_time": "2021-08-02T03:56:48.974282Z",
     "start_time": "2021-08-02T03:56:48.968325Z"
    }
   },
   "outputs": [
    {
     "name": "stdout",
     "output_type": "stream",
     "text": [
      "['ArithmeticError', 'AssertionError', 'AttributeError', 'BaseException', 'BlockingIOError', 'BrokenPipeError', 'BufferError', 'BytesWarning', 'ChildProcessError', 'ConnectionAbortedError', 'ConnectionError', 'ConnectionRefusedError', 'ConnectionResetError', 'DeprecationWarning', 'EOFError', 'Ellipsis', 'EnvironmentError', 'Exception', 'False', 'FileExistsError', 'FileNotFoundError', 'FloatingPointError', 'FutureWarning', 'GeneratorExit', 'IOError', 'ImportError', 'ImportWarning', 'IndentationError', 'IndexError', 'InterruptedError', 'IsADirectoryError', 'KeyError', 'KeyboardInterrupt', 'LookupError', 'MemoryError', 'ModuleNotFoundError', 'NameError', 'None', 'NotADirectoryError', 'NotImplemented', 'NotImplementedError', 'OSError', 'OverflowError', 'PendingDeprecationWarning', 'PermissionError', 'ProcessLookupError', 'RecursionError', 'ReferenceError', 'ResourceWarning', 'RuntimeError', 'RuntimeWarning', 'StopAsyncIteration', 'StopIteration', 'SyntaxError', 'SyntaxWarning', 'SystemError', 'SystemExit', 'TabError', 'TimeoutError', 'True', 'TypeError', 'UnboundLocalError', 'UnicodeDecodeError', 'UnicodeEncodeError', 'UnicodeError', 'UnicodeTranslateError', 'UnicodeWarning', 'UserWarning', 'ValueError', 'Warning', 'ZeroDivisionError', '__IPYTHON__', '__build_class__', '__debug__', '__doc__', '__import__', '__loader__', '__name__', '__package__', '__spec__', 'abs', 'all', 'any', 'ascii', 'bin', 'bool', 'breakpoint', 'bytearray', 'bytes', 'callable', 'chr', 'classmethod', 'compile', 'complex', 'copyright', 'credits', 'delattr', 'dict', 'dir', 'display', 'divmod', 'enumerate', 'eval', 'exec', 'filter', 'float', 'format', 'frozenset', 'get_ipython', 'getattr', 'globals', 'hasattr', 'hash', 'help', 'hex', 'id', 'input', 'int', 'isinstance', 'issubclass', 'iter', 'len', 'license', 'list', 'locals', 'map', 'max', 'memoryview', 'min', 'next', 'object', 'oct', 'open', 'ord', 'pow', 'print', 'property', 'range', 'repr', 'reversed', 'round', 'set', 'setattr', 'slice', 'sorted', 'staticmethod', 'str', 'sum', 'super', 'tuple', 'type', 'vars', 'zip']\n"
     ]
    }
   ],
   "source": [
    "print(dir(__builtin__))"
   ]
  },
  {
   "cell_type": "code",
   "execution_count": 62,
   "id": "e7e58f0f",
   "metadata": {
    "ExecuteTime": {
     "end_time": "2021-08-02T03:57:12.347139Z",
     "start_time": "2021-08-02T03:57:12.340291Z"
    }
   },
   "outputs": [
    {
     "name": "stdout",
     "output_type": "stream",
     "text": [
      "['In', 'Out', '_', '_11', '_12', '_13', '_14', '_15', '_16', '_17', '_20', '_21', '_22', '_25', '_26', '_27', '_3', '_31', '_32', '_33', '_34', '_36', '_38', '_39', '_41', '_42', '_43', '_44', '_45', '_46', '_47', '_48', '_5', '_50', '_51', '_52', '_53', '_54', '_57', '_58', '_59', '_60', '_7', '_9', '__', '___', '__builtin__', '__builtins__', '__doc__', '__loader__', '__name__', '__package__', '__spec__', '_dh', '_i', '_i1', '_i10', '_i11', '_i12', '_i13', '_i14', '_i15', '_i16', '_i17', '_i18', '_i19', '_i2', '_i20', '_i21', '_i22', '_i23', '_i24', '_i25', '_i26', '_i27', '_i28', '_i29', '_i3', '_i30', '_i31', '_i32', '_i33', '_i34', '_i35', '_i36', '_i37', '_i38', '_i39', '_i4', '_i40', '_i41', '_i42', '_i43', '_i44', '_i45', '_i46', '_i47', '_i48', '_i49', '_i5', '_i50', '_i51', '_i52', '_i53', '_i54', '_i55', '_i56', '_i57', '_i58', '_i59', '_i6', '_i60', '_i61', '_i62', '_i7', '_i8', '_i9', '_ih', '_ii', '_iii', '_oh', 'a', 'even_odd', 'exit', 'func_name', 'get_ipython', 'lst', 'lst1', 'lst2', 'lst_email', 'my_filter', 'num1', 'num2', 'num3', 'pwd_check', 'quit', 'r', 're']\n"
     ]
    }
   ],
   "source": [
    "print(dir())"
   ]
  },
  {
   "cell_type": "code",
   "execution_count": 82,
   "id": "a59f400f",
   "metadata": {
    "ExecuteTime": {
     "end_time": "2021-08-02T04:22:02.094018Z",
     "start_time": "2021-08-02T04:22:02.083924Z"
    }
   },
   "outputs": [
    {
     "name": "stdout",
     "output_type": "stream",
     "text": [
      "peppers pickled of peck a picked piper peter\n",
      "retep repip dekcip a kcep fo delkcip sreppep\n",
      "sreppep delkcip fo kcep a dekcip repip retep\n"
     ]
    }
   ],
   "source": [
    "lst1 = list(range(10,20))\n",
    "\n",
    "lst2 = list(range(200,210))\n",
    "\n",
    "# reduce(lambda num1,num2 :num1+num2,lst1+lst2)\n",
    "\n",
    "\n",
    "# reduce(lambda num1, num2:num1+num2,map(lambda l1, l2:(l1+l2) ,lst1, lst2))\n",
    "\n",
    "my_str = 'peter piper picked a peck of pickled peppers'\n",
    "# out_str1 = 'peppers pickled of peck a picked piper peter'\n",
    "# out_str2 = 'retep repip dekcip a kcep fo delkcip sreppep'\n",
    "# out_str3 = 'sreppep delkcip fo kcep a dekcip repip retep'\n",
    "\n",
    "print(reduce(lambda w1, w2: w1 + ' ' + w2, my_str.split()[::-1]))\n",
    "print(reduce(lambda w1, w2:w1 + ' ' + w2, map(lambda w:w[::-1], my_str.split())))\n",
    "print(reduce(lambda w1, w2:w1 + ' ' + w2, map(lambda w:w[::-1], my_str.split()[::-1])))\n",
    "\n",
    "\n"
   ]
  },
  {
   "cell_type": "code",
   "execution_count": 83,
   "id": "4c32247a",
   "metadata": {
    "ExecuteTime": {
     "end_time": "2021-08-02T04:22:55.430906Z",
     "start_time": "2021-08-02T04:22:55.424882Z"
    }
   },
   "outputs": [
    {
     "data": {
      "text/plain": [
       "['peppers', 'pickled', 'of', 'peck', 'a', 'picked', 'piper', 'peter']"
      ]
     },
     "execution_count": 83,
     "metadata": {},
     "output_type": "execute_result"
    }
   ],
   "source": [
    "my_str.split()[::-1]"
   ]
  },
  {
   "cell_type": "code",
   "execution_count": 85,
   "id": "8f717a52",
   "metadata": {
    "ExecuteTime": {
     "end_time": "2021-08-02T04:23:30.599334Z",
     "start_time": "2021-08-02T04:23:30.589732Z"
    }
   },
   "outputs": [
    {
     "data": {
      "text/plain": [
       "['retep', 'repip', 'dekcip', 'a', 'kcep', 'fo', 'delkcip', 'sreppep']"
      ]
     },
     "execution_count": 85,
     "metadata": {},
     "output_type": "execute_result"
    }
   ],
   "source": [
    "list(map(lambda w:w[::-1], my_str.split()))"
   ]
  },
  {
   "cell_type": "code",
   "execution_count": 86,
   "id": "d07cc62d",
   "metadata": {
    "ExecuteTime": {
     "end_time": "2021-08-02T04:24:27.347329Z",
     "start_time": "2021-08-02T04:24:27.337058Z"
    }
   },
   "outputs": [
    {
     "data": {
      "text/plain": [
       "['sreppep', 'delkcip', 'fo', 'kcep', 'a', 'dekcip', 'repip', 'retep']"
      ]
     },
     "execution_count": 86,
     "metadata": {},
     "output_type": "execute_result"
    }
   ],
   "source": [
    "list(map(lambda w:w[::-1], my_str.split()[::-1]))"
   ]
  },
  {
   "cell_type": "code",
   "execution_count": null,
   "id": "8fc75a3d",
   "metadata": {},
   "outputs": [],
   "source": []
  },
  {
   "cell_type": "code",
   "execution_count": null,
   "id": "b345a3ba",
   "metadata": {},
   "outputs": [],
   "source": []
  },
  {
   "cell_type": "code",
   "execution_count": null,
   "id": "f5bd1b60",
   "metadata": {},
   "outputs": [],
   "source": []
  },
  {
   "cell_type": "code",
   "execution_count": null,
   "id": "3d97b87d",
   "metadata": {},
   "outputs": [],
   "source": []
  },
  {
   "cell_type": "code",
   "execution_count": null,
   "id": "98351753",
   "metadata": {},
   "outputs": [],
   "source": []
  },
  {
   "cell_type": "code",
   "execution_count": null,
   "id": "27055a8b",
   "metadata": {},
   "outputs": [],
   "source": []
  },
  {
   "cell_type": "code",
   "execution_count": null,
   "id": "7effad40",
   "metadata": {},
   "outputs": [],
   "source": []
  },
  {
   "cell_type": "code",
   "execution_count": null,
   "id": "76f8fd50",
   "metadata": {},
   "outputs": [],
   "source": []
  },
  {
   "cell_type": "code",
   "execution_count": null,
   "id": "1e9a4508",
   "metadata": {},
   "outputs": [],
   "source": []
  },
  {
   "cell_type": "code",
   "execution_count": null,
   "id": "32e2029b",
   "metadata": {},
   "outputs": [],
   "source": []
  },
  {
   "cell_type": "code",
   "execution_count": null,
   "id": "daf10264",
   "metadata": {},
   "outputs": [],
   "source": []
  },
  {
   "cell_type": "code",
   "execution_count": null,
   "id": "464ef99a",
   "metadata": {},
   "outputs": [],
   "source": []
  },
  {
   "cell_type": "code",
   "execution_count": null,
   "id": "49e1d959",
   "metadata": {},
   "outputs": [],
   "source": []
  },
  {
   "cell_type": "code",
   "execution_count": null,
   "id": "8317add1",
   "metadata": {},
   "outputs": [],
   "source": []
  },
  {
   "cell_type": "code",
   "execution_count": null,
   "id": "85a063e3",
   "metadata": {},
   "outputs": [],
   "source": []
  },
  {
   "cell_type": "code",
   "execution_count": null,
   "id": "d9e560b6",
   "metadata": {},
   "outputs": [],
   "source": []
  },
  {
   "cell_type": "code",
   "execution_count": null,
   "id": "fd152c8a",
   "metadata": {},
   "outputs": [],
   "source": []
  },
  {
   "cell_type": "code",
   "execution_count": null,
   "id": "5400413b",
   "metadata": {},
   "outputs": [],
   "source": []
  },
  {
   "cell_type": "code",
   "execution_count": null,
   "id": "9e8889a7",
   "metadata": {},
   "outputs": [],
   "source": []
  },
  {
   "cell_type": "code",
   "execution_count": null,
   "id": "72d610f7",
   "metadata": {},
   "outputs": [],
   "source": []
  },
  {
   "cell_type": "code",
   "execution_count": null,
   "id": "2f73bc17",
   "metadata": {},
   "outputs": [],
   "source": []
  },
  {
   "cell_type": "code",
   "execution_count": null,
   "id": "e52fd633",
   "metadata": {},
   "outputs": [],
   "source": []
  },
  {
   "cell_type": "code",
   "execution_count": null,
   "id": "fa111618",
   "metadata": {},
   "outputs": [],
   "source": []
  },
  {
   "cell_type": "code",
   "execution_count": null,
   "id": "1be2156b",
   "metadata": {},
   "outputs": [],
   "source": []
  },
  {
   "cell_type": "code",
   "execution_count": null,
   "id": "383f2ae2",
   "metadata": {},
   "outputs": [],
   "source": []
  },
  {
   "cell_type": "code",
   "execution_count": null,
   "id": "fe9d66bb",
   "metadata": {},
   "outputs": [],
   "source": []
  },
  {
   "cell_type": "code",
   "execution_count": null,
   "id": "9d33e161",
   "metadata": {},
   "outputs": [],
   "source": []
  },
  {
   "cell_type": "code",
   "execution_count": null,
   "id": "1b655ee7",
   "metadata": {},
   "outputs": [],
   "source": []
  },
  {
   "cell_type": "code",
   "execution_count": null,
   "id": "e25f1cb9",
   "metadata": {},
   "outputs": [],
   "source": []
  },
  {
   "cell_type": "code",
   "execution_count": null,
   "id": "d8c463da",
   "metadata": {},
   "outputs": [],
   "source": []
  },
  {
   "cell_type": "code",
   "execution_count": null,
   "id": "74fcafb6",
   "metadata": {},
   "outputs": [],
   "source": []
  },
  {
   "cell_type": "code",
   "execution_count": null,
   "id": "f77fc8a4",
   "metadata": {},
   "outputs": [],
   "source": []
  },
  {
   "cell_type": "code",
   "execution_count": null,
   "id": "cad4392a",
   "metadata": {},
   "outputs": [],
   "source": []
  },
  {
   "cell_type": "code",
   "execution_count": null,
   "id": "264d25ef",
   "metadata": {},
   "outputs": [],
   "source": []
  },
  {
   "cell_type": "code",
   "execution_count": null,
   "id": "daf52074",
   "metadata": {},
   "outputs": [],
   "source": []
  },
  {
   "cell_type": "code",
   "execution_count": null,
   "id": "1bcb3a3a",
   "metadata": {},
   "outputs": [],
   "source": []
  },
  {
   "cell_type": "code",
   "execution_count": null,
   "id": "8c1d90cd",
   "metadata": {},
   "outputs": [],
   "source": []
  },
  {
   "cell_type": "code",
   "execution_count": null,
   "id": "050c4222",
   "metadata": {},
   "outputs": [],
   "source": []
  },
  {
   "cell_type": "code",
   "execution_count": null,
   "id": "3a2a9608",
   "metadata": {},
   "outputs": [],
   "source": []
  },
  {
   "cell_type": "code",
   "execution_count": null,
   "id": "c7fa0256",
   "metadata": {},
   "outputs": [],
   "source": []
  },
  {
   "cell_type": "code",
   "execution_count": null,
   "id": "9b772bcd",
   "metadata": {},
   "outputs": [],
   "source": []
  },
  {
   "cell_type": "code",
   "execution_count": null,
   "id": "0e3b1d58",
   "metadata": {},
   "outputs": [],
   "source": []
  },
  {
   "cell_type": "code",
   "execution_count": null,
   "id": "aa143ee9",
   "metadata": {},
   "outputs": [],
   "source": []
  },
  {
   "cell_type": "code",
   "execution_count": null,
   "id": "1bca4ae3",
   "metadata": {},
   "outputs": [],
   "source": []
  },
  {
   "cell_type": "code",
   "execution_count": null,
   "id": "ce93e51f",
   "metadata": {},
   "outputs": [],
   "source": []
  },
  {
   "cell_type": "code",
   "execution_count": null,
   "id": "869ecd52",
   "metadata": {},
   "outputs": [],
   "source": []
  },
  {
   "cell_type": "code",
   "execution_count": null,
   "id": "05f65118",
   "metadata": {},
   "outputs": [],
   "source": []
  },
  {
   "cell_type": "code",
   "execution_count": null,
   "id": "1a355d9f",
   "metadata": {},
   "outputs": [],
   "source": []
  },
  {
   "cell_type": "code",
   "execution_count": null,
   "id": "85198bc0",
   "metadata": {},
   "outputs": [],
   "source": []
  },
  {
   "cell_type": "code",
   "execution_count": null,
   "id": "e2d16e06",
   "metadata": {},
   "outputs": [],
   "source": []
  },
  {
   "cell_type": "code",
   "execution_count": null,
   "id": "37a5c703",
   "metadata": {},
   "outputs": [],
   "source": []
  },
  {
   "cell_type": "code",
   "execution_count": null,
   "id": "db746fd8",
   "metadata": {},
   "outputs": [],
   "source": []
  },
  {
   "cell_type": "code",
   "execution_count": null,
   "id": "2d83acb9",
   "metadata": {},
   "outputs": [],
   "source": []
  },
  {
   "cell_type": "code",
   "execution_count": null,
   "id": "ea553c44",
   "metadata": {},
   "outputs": [],
   "source": []
  },
  {
   "cell_type": "code",
   "execution_count": null,
   "id": "9e58ebd3",
   "metadata": {},
   "outputs": [],
   "source": []
  },
  {
   "cell_type": "code",
   "execution_count": null,
   "id": "bf5034c9",
   "metadata": {},
   "outputs": [],
   "source": []
  },
  {
   "cell_type": "code",
   "execution_count": null,
   "id": "5be6d770",
   "metadata": {},
   "outputs": [],
   "source": []
  },
  {
   "cell_type": "code",
   "execution_count": null,
   "id": "80dc4539",
   "metadata": {},
   "outputs": [],
   "source": []
  },
  {
   "cell_type": "code",
   "execution_count": null,
   "id": "998ec909",
   "metadata": {},
   "outputs": [],
   "source": []
  },
  {
   "cell_type": "code",
   "execution_count": null,
   "id": "f30ba60a",
   "metadata": {},
   "outputs": [],
   "source": []
  },
  {
   "cell_type": "code",
   "execution_count": null,
   "id": "ee55428c",
   "metadata": {},
   "outputs": [],
   "source": []
  },
  {
   "cell_type": "code",
   "execution_count": null,
   "id": "2aa372f3",
   "metadata": {},
   "outputs": [],
   "source": []
  },
  {
   "cell_type": "code",
   "execution_count": null,
   "id": "b5ff1291",
   "metadata": {},
   "outputs": [],
   "source": []
  },
  {
   "cell_type": "code",
   "execution_count": null,
   "id": "c2e52f13",
   "metadata": {},
   "outputs": [],
   "source": []
  },
  {
   "cell_type": "code",
   "execution_count": null,
   "id": "b937dc78",
   "metadata": {},
   "outputs": [],
   "source": []
  },
  {
   "cell_type": "code",
   "execution_count": null,
   "id": "0c08f9c0",
   "metadata": {},
   "outputs": [],
   "source": []
  },
  {
   "cell_type": "code",
   "execution_count": null,
   "id": "58c38451",
   "metadata": {},
   "outputs": [],
   "source": []
  },
  {
   "cell_type": "code",
   "execution_count": null,
   "id": "7633145d",
   "metadata": {},
   "outputs": [],
   "source": []
  },
  {
   "cell_type": "code",
   "execution_count": null,
   "id": "e0d7f5ea",
   "metadata": {},
   "outputs": [],
   "source": []
  },
  {
   "cell_type": "code",
   "execution_count": null,
   "id": "d087ae56",
   "metadata": {},
   "outputs": [],
   "source": []
  },
  {
   "cell_type": "code",
   "execution_count": null,
   "id": "c48a8a96",
   "metadata": {},
   "outputs": [],
   "source": []
  },
  {
   "cell_type": "code",
   "execution_count": null,
   "id": "d2a30e7b",
   "metadata": {},
   "outputs": [],
   "source": []
  },
  {
   "cell_type": "code",
   "execution_count": null,
   "id": "090111cb",
   "metadata": {},
   "outputs": [],
   "source": []
  },
  {
   "cell_type": "code",
   "execution_count": null,
   "id": "f7e672e7",
   "metadata": {},
   "outputs": [],
   "source": []
  },
  {
   "cell_type": "code",
   "execution_count": null,
   "id": "7fe8570e",
   "metadata": {},
   "outputs": [],
   "source": []
  },
  {
   "cell_type": "code",
   "execution_count": null,
   "id": "fb85e832",
   "metadata": {},
   "outputs": [],
   "source": []
  },
  {
   "cell_type": "code",
   "execution_count": null,
   "id": "a5195943",
   "metadata": {},
   "outputs": [],
   "source": []
  },
  {
   "cell_type": "code",
   "execution_count": null,
   "id": "be2b4aca",
   "metadata": {},
   "outputs": [],
   "source": []
  },
  {
   "cell_type": "code",
   "execution_count": null,
   "id": "7628a029",
   "metadata": {},
   "outputs": [],
   "source": []
  },
  {
   "cell_type": "code",
   "execution_count": null,
   "id": "a1564dc0",
   "metadata": {},
   "outputs": [],
   "source": []
  },
  {
   "cell_type": "code",
   "execution_count": null,
   "id": "4fbb59a8",
   "metadata": {},
   "outputs": [],
   "source": []
  }
 ],
 "metadata": {
  "kernelspec": {
   "display_name": "Python 3",
   "language": "python",
   "name": "python3"
  },
  "language_info": {
   "codemirror_mode": {
    "name": "ipython",
    "version": 3
   },
   "file_extension": ".py",
   "mimetype": "text/x-python",
   "name": "python",
   "nbconvert_exporter": "python",
   "pygments_lexer": "ipython3",
   "version": "3.8.8"
  }
 },
 "nbformat": 4,
 "nbformat_minor": 5
}
