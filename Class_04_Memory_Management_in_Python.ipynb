{
 "cells": [
  {
   "cell_type": "code",
   "execution_count": null,
   "id": "837d7845",
   "metadata": {},
   "outputs": [],
   "source": [
    "# Memory Management in Python\n",
    "# Raw Memory Allocator, Object Specific Allocator Python Virtual Machine & Interpreter\n",
    "# Memory deallocation in Python\n",
    "# Namespace and scope\n",
    "# Automatic garbage collection in Python \n",
    "# Memory management visualisation\n",
    "# Object Reusability\n",
    "# Mutability and Immutability\n",
    "# Python programming components\n",
    "# Literal, constant, variables, identifiers, Reserved Words, Expression Statements"
   ]
  },
  {
   "cell_type": "code",
   "execution_count": null,
   "id": "fd0f02eb",
   "metadata": {},
   "outputs": [],
   "source": [
    "# Type of Errors\n",
    "    1. Compile time Error - Compiler\n",
    "    2. Run time Error - Interpreter\n",
    "\n",
    "# Conclusion\n",
    "1. Byte code will not be created if we have any compile time Error in source code.\n",
    "2. Byte code will be generated if there is no compile time Error.\n",
    "3. If we have run time Error then byte code will be generated but it will do partial execution of code.\n",
    "    \n",
    "    "
   ]
  },
  {
   "cell_type": "code",
   "execution_count": null,
   "id": "a4cd37eb",
   "metadata": {},
   "outputs": [],
   "source": [
    "# Python Features\n",
    "1. Python is simple, easy to understand and expressive language.\n",
    "2. Python is portable and platform independent both.\n",
    "3. Python is Interpreted PL.\n",
    "4. Python is Dynamically typed PL.\n",
    "5. Python is General Purpose PL\n",
    "    App Development, AI & ML app, Automation, Scripting, Data analysis, Data Scientist and Research\n",
    "6. Python is Extensinble(Code written in other PL can be used in Python) \n",
    "    and Embedded(Code written in Python can be used in Other PL)\n",
    "7. Huge library Supprt(math, os, sys, datetime, random etc)"
   ]
  },
  {
   "cell_type": "code",
   "execution_count": null,
   "id": "809b47b5",
   "metadata": {},
   "outputs": [],
   "source": [
    "Memory Management in Python - Automatic\n",
    "    1. Memory Allocation\n",
    "        Raw Memmory Allocator\n",
    "        Object Specific Allocator\n",
    "        Python Virtual Machine\n",
    "    2. Memory Deallocation\n",
    "        Garbage Collector"
   ]
  },
  {
   "cell_type": "code",
   "execution_count": 7,
   "id": "27c0bd8b",
   "metadata": {
    "ExecuteTime": {
     "end_time": "2021-07-08T03:27:09.044951Z",
     "start_time": "2021-07-08T03:27:09.012718Z"
    }
   },
   "outputs": [
    {
     "name": "stdout",
     "output_type": "stream",
     "text": [
      "Employee Name is Rahul\n",
      "Employee ID is 101\n",
      "Employee Salary is 50000.9\n",
      "Employee Address is Bengaluru\n",
      "Employee is Married False\n"
     ]
    },
    {
     "ename": "NameError",
     "evalue": "name 'e_addr' is not defined",
     "output_type": "error",
     "traceback": [
      "\u001b[0;31m---------------------------------------------------------------------------\u001b[0m",
      "\u001b[0;31mNameError\u001b[0m                                 Traceback (most recent call last)",
      "\u001b[0;32m<ipython-input-7-f547c7d4d599>\u001b[0m in \u001b[0;36m<module>\u001b[0;34m\u001b[0m\n\u001b[1;32m     14\u001b[0m \u001b[0;31m# print(emp_id)\u001b[0m\u001b[0;34m\u001b[0m\u001b[0;34m\u001b[0m\u001b[0;34m\u001b[0m\u001b[0m\n\u001b[1;32m     15\u001b[0m \u001b[0;31m# print(emp_sal)\u001b[0m\u001b[0;34m\u001b[0m\u001b[0;34m\u001b[0m\u001b[0;34m\u001b[0m\u001b[0m\n\u001b[0;32m---> 16\u001b[0;31m \u001b[0mprint\u001b[0m\u001b[0;34m(\u001b[0m\u001b[0me_addr\u001b[0m\u001b[0;34m)\u001b[0m\u001b[0;34m\u001b[0m\u001b[0;34m\u001b[0m\u001b[0m\n\u001b[0m\u001b[1;32m     17\u001b[0m \u001b[0mprint\u001b[0m\u001b[0;34m(\u001b[0m\u001b[0me_is_married\u001b[0m\u001b[0;34m)\u001b[0m\u001b[0;34m\u001b[0m\u001b[0;34m\u001b[0m\u001b[0m\n\u001b[1;32m     18\u001b[0m \u001b[0;34m\u001b[0m\u001b[0m\n",
      "\u001b[0;31mNameError\u001b[0m: name 'e_addr' is not defined"
     ]
    }
   ],
   "source": [
    "emp_name = 'Rahul'\n",
    "emp_id = 101\n",
    "emp_sal = 50000.90\n",
    "def emp_det(e_name, e_id, e_sal):\n",
    "    e_addr = 'Bengaluru'\n",
    "    e_is_married = False\n",
    "    print(f'Employee Name is {e_name}')\n",
    "    print(f'Employee ID is {e_id}')\n",
    "    print(f'Employee Salary is {e_sal}')\n",
    "    print(f'Employee Address is {e_addr}')\n",
    "    print(f'Employee is Married {e_is_married}')\n",
    "emp_det(emp_name, emp_id, emp_sal)\n",
    "# print(emp_name)\n",
    "# print(emp_id)\n",
    "# print(emp_sal)\n",
    "print(e_addr)\n",
    "print(e_is_married)\n",
    "\n",
    "# global names - emp_name, emp_id, emp_sal, emp_det - names which are defined outside of the function\n",
    "# Local Names - e_name, e_id, e_sal, e_addr, e_is_married, - names which are defined inside the function"
   ]
  },
  {
   "cell_type": "code",
   "execution_count": 10,
   "id": "c7f157d0",
   "metadata": {
    "ExecuteTime": {
     "end_time": "2021-07-08T03:39:24.657911Z",
     "start_time": "2021-07-08T03:39:24.651099Z"
    }
   },
   "outputs": [
    {
     "name": "stdout",
     "output_type": "stream",
     "text": [
      "86\n"
     ]
    }
   ],
   "source": [
    "import sys\n",
    "a = 'Python  class is conducted in Morning'\n",
    "print(sys.getsizeof(a))"
   ]
  },
  {
   "cell_type": "code",
   "execution_count": 11,
   "id": "f78f9f99",
   "metadata": {
    "ExecuteTime": {
     "end_time": "2021-07-08T04:01:23.063681Z",
     "start_time": "2021-07-08T04:01:23.051013Z"
    }
   },
   "outputs": [
    {
     "name": "stdout",
     "output_type": "stream",
     "text": [
      "['ArithmeticError', 'AssertionError', 'AttributeError', 'BaseException', 'BlockingIOError', 'BrokenPipeError', 'BufferError', 'BytesWarning', 'ChildProcessError', 'ConnectionAbortedError', 'ConnectionError', 'ConnectionRefusedError', 'ConnectionResetError', 'DeprecationWarning', 'EOFError', 'Ellipsis', 'EnvironmentError', 'Exception', 'False', 'FileExistsError', 'FileNotFoundError', 'FloatingPointError', 'FutureWarning', 'GeneratorExit', 'IOError', 'ImportError', 'ImportWarning', 'IndentationError', 'IndexError', 'InterruptedError', 'IsADirectoryError', 'KeyError', 'KeyboardInterrupt', 'LookupError', 'MemoryError', 'ModuleNotFoundError', 'NameError', 'None', 'NotADirectoryError', 'NotImplemented', 'NotImplementedError', 'OSError', 'OverflowError', 'PendingDeprecationWarning', 'PermissionError', 'ProcessLookupError', 'RecursionError', 'ReferenceError', 'ResourceWarning', 'RuntimeError', 'RuntimeWarning', 'StopAsyncIteration', 'StopIteration', 'SyntaxError', 'SyntaxWarning', 'SystemError', 'SystemExit', 'TabError', 'TimeoutError', 'True', 'TypeError', 'UnboundLocalError', 'UnicodeDecodeError', 'UnicodeEncodeError', 'UnicodeError', 'UnicodeTranslateError', 'UnicodeWarning', 'UserWarning', 'ValueError', 'Warning', 'ZeroDivisionError', '__IPYTHON__', '__build_class__', '__debug__', '__doc__', '__import__', '__loader__', '__name__', '__package__', '__spec__', 'abs', 'all', 'any', 'ascii', 'bin', 'bool', 'breakpoint', 'bytearray', 'bytes', 'callable', 'chr', 'classmethod', 'compile', 'complex', 'copyright', 'credits', 'delattr', 'dict', 'dir', 'display', 'divmod', 'enumerate', 'eval', 'exec', 'filter', 'float', 'format', 'frozenset', 'get_ipython', 'getattr', 'globals', 'hasattr', 'hash', 'help', 'hex', 'id', 'input', 'int', 'isinstance', 'issubclass', 'iter', 'len', 'license', 'list', 'locals', 'map', 'max', 'memoryview', 'min', 'next', 'object', 'oct', 'open', 'ord', 'pow', 'print', 'property', 'range', 'repr', 'reversed', 'round', 'set', 'setattr', 'slice', 'sorted', 'staticmethod', 'str', 'sum', 'super', 'tuple', 'type', 'vars', 'zip']\n"
     ]
    }
   ],
   "source": [
    "print(dir(__builtins__))"
   ]
  },
  {
   "cell_type": "code",
   "execution_count": 12,
   "id": "f163eddb",
   "metadata": {
    "ExecuteTime": {
     "end_time": "2021-07-08T04:11:00.095086Z",
     "start_time": "2021-07-08T04:11:00.084285Z"
    }
   },
   "outputs": [
    {
     "name": "stdout",
     "output_type": "stream",
     "text": [
      "332\n"
     ]
    }
   ],
   "source": [
    "a = 10\n",
    "b = 10\n",
    "c = 10\n",
    "print(sys.getrefcount(10))"
   ]
  },
  {
   "cell_type": "code",
   "execution_count": 13,
   "id": "fa2a606f",
   "metadata": {
    "ExecuteTime": {
     "end_time": "2021-07-08T04:19:44.658490Z",
     "start_time": "2021-07-08T04:19:44.643624Z"
    }
   },
   "outputs": [
    {
     "name": "stdout",
     "output_type": "stream",
     "text": [
      "28\n",
      "52\n"
     ]
    }
   ],
   "source": [
    "a = 10\n",
    "print(sys.getsizeof(a))\n",
    "\n",
    "b = 1000000000000000000000000000000000000000000000000000000000\n",
    "a = 10\n",
    "print(sys.getsizeof(b))"
   ]
  },
  {
   "cell_type": "code",
   "execution_count": 14,
   "id": "147c39e8",
   "metadata": {
    "ExecuteTime": {
     "end_time": "2021-07-08T04:20:08.144022Z",
     "start_time": "2021-07-08T04:20:08.126936Z"
    }
   },
   "outputs": [
    {
     "name": "stdout",
     "output_type": "stream",
     "text": [
      "24\n",
      "24\n"
     ]
    }
   ],
   "source": [
    "a = 10.20\n",
    "print(sys.getsizeof(a))\n",
    "\n",
    "b = 1000000000000000000000000000000000000000000000000000000000.9000000000000000000000000000000000000000000000000000000000\n",
    "a = 10\n",
    "print(sys.getsizeof(b))"
   ]
  },
  {
   "cell_type": "code",
   "execution_count": null,
   "id": "33296f96",
   "metadata": {},
   "outputs": [],
   "source": []
  },
  {
   "cell_type": "code",
   "execution_count": null,
   "id": "6dfc3432",
   "metadata": {},
   "outputs": [],
   "source": []
  },
  {
   "cell_type": "code",
   "execution_count": null,
   "id": "a256f47e",
   "metadata": {},
   "outputs": [],
   "source": []
  },
  {
   "cell_type": "code",
   "execution_count": null,
   "id": "2f3ed9c7",
   "metadata": {},
   "outputs": [],
   "source": []
  },
  {
   "cell_type": "code",
   "execution_count": null,
   "id": "789544c5",
   "metadata": {},
   "outputs": [],
   "source": []
  },
  {
   "cell_type": "code",
   "execution_count": null,
   "id": "1cde0a0d",
   "metadata": {},
   "outputs": [],
   "source": []
  },
  {
   "cell_type": "code",
   "execution_count": null,
   "id": "6c9e4783",
   "metadata": {},
   "outputs": [],
   "source": []
  },
  {
   "cell_type": "code",
   "execution_count": null,
   "id": "9c0d4869",
   "metadata": {},
   "outputs": [],
   "source": []
  },
  {
   "cell_type": "code",
   "execution_count": null,
   "id": "71bb1b05",
   "metadata": {},
   "outputs": [],
   "source": []
  },
  {
   "cell_type": "code",
   "execution_count": null,
   "id": "1f8d66b2",
   "metadata": {},
   "outputs": [],
   "source": []
  },
  {
   "cell_type": "code",
   "execution_count": null,
   "id": "409cd749",
   "metadata": {},
   "outputs": [],
   "source": []
  },
  {
   "cell_type": "code",
   "execution_count": null,
   "id": "58ee1470",
   "metadata": {},
   "outputs": [],
   "source": []
  },
  {
   "cell_type": "code",
   "execution_count": null,
   "id": "2a2bf93a",
   "metadata": {},
   "outputs": [],
   "source": []
  },
  {
   "cell_type": "code",
   "execution_count": null,
   "id": "7b74a437",
   "metadata": {},
   "outputs": [],
   "source": []
  },
  {
   "cell_type": "code",
   "execution_count": null,
   "id": "94b62da0",
   "metadata": {},
   "outputs": [],
   "source": []
  },
  {
   "cell_type": "code",
   "execution_count": null,
   "id": "de27049a",
   "metadata": {},
   "outputs": [],
   "source": []
  },
  {
   "cell_type": "code",
   "execution_count": null,
   "id": "ad973af5",
   "metadata": {},
   "outputs": [],
   "source": []
  },
  {
   "cell_type": "code",
   "execution_count": null,
   "id": "ed415f26",
   "metadata": {},
   "outputs": [],
   "source": []
  },
  {
   "cell_type": "code",
   "execution_count": null,
   "id": "7bb652a6",
   "metadata": {},
   "outputs": [],
   "source": []
  },
  {
   "cell_type": "code",
   "execution_count": null,
   "id": "df0cd796",
   "metadata": {},
   "outputs": [],
   "source": []
  },
  {
   "cell_type": "code",
   "execution_count": null,
   "id": "a4ee530b",
   "metadata": {},
   "outputs": [],
   "source": []
  },
  {
   "cell_type": "code",
   "execution_count": null,
   "id": "c044157c",
   "metadata": {},
   "outputs": [],
   "source": []
  },
  {
   "cell_type": "code",
   "execution_count": null,
   "id": "3950f0a6",
   "metadata": {},
   "outputs": [],
   "source": []
  },
  {
   "cell_type": "code",
   "execution_count": null,
   "id": "4f0f2fef",
   "metadata": {},
   "outputs": [],
   "source": []
  },
  {
   "cell_type": "code",
   "execution_count": null,
   "id": "243370f6",
   "metadata": {},
   "outputs": [],
   "source": []
  },
  {
   "cell_type": "code",
   "execution_count": null,
   "id": "9555d376",
   "metadata": {},
   "outputs": [],
   "source": []
  },
  {
   "cell_type": "code",
   "execution_count": null,
   "id": "c8530538",
   "metadata": {},
   "outputs": [],
   "source": []
  },
  {
   "cell_type": "code",
   "execution_count": null,
   "id": "0dacac7b",
   "metadata": {},
   "outputs": [],
   "source": []
  },
  {
   "cell_type": "code",
   "execution_count": null,
   "id": "3089e693",
   "metadata": {},
   "outputs": [],
   "source": []
  },
  {
   "cell_type": "code",
   "execution_count": null,
   "id": "0e98de11",
   "metadata": {},
   "outputs": [],
   "source": []
  },
  {
   "cell_type": "code",
   "execution_count": null,
   "id": "4320c4c0",
   "metadata": {},
   "outputs": [],
   "source": []
  },
  {
   "cell_type": "code",
   "execution_count": null,
   "id": "82802811",
   "metadata": {},
   "outputs": [],
   "source": []
  },
  {
   "cell_type": "code",
   "execution_count": null,
   "id": "4b07876f",
   "metadata": {},
   "outputs": [],
   "source": []
  },
  {
   "cell_type": "code",
   "execution_count": null,
   "id": "0efc7d23",
   "metadata": {},
   "outputs": [],
   "source": []
  },
  {
   "cell_type": "code",
   "execution_count": null,
   "id": "6b544ad1",
   "metadata": {},
   "outputs": [],
   "source": []
  },
  {
   "cell_type": "code",
   "execution_count": null,
   "id": "97257382",
   "metadata": {},
   "outputs": [],
   "source": []
  },
  {
   "cell_type": "code",
   "execution_count": null,
   "id": "abcd48a4",
   "metadata": {},
   "outputs": [],
   "source": []
  }
 ],
 "metadata": {
  "kernelspec": {
   "display_name": "Python 3",
   "language": "python",
   "name": "python3"
  },
  "language_info": {
   "codemirror_mode": {
    "name": "ipython",
    "version": 3
   },
   "file_extension": ".py",
   "mimetype": "text/x-python",
   "name": "python",
   "nbconvert_exporter": "python",
   "pygments_lexer": "ipython3",
   "version": "3.8.2"
  }
 },
 "nbformat": 4,
 "nbformat_minor": 5
}
