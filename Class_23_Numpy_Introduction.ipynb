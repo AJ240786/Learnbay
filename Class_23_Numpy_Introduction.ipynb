{
 "cells": [
  {
   "cell_type": "code",
   "execution_count": null,
   "id": "35145d6c",
   "metadata": {},
   "outputs": [],
   "source": [
    "# List is a collection of Heterogeneous elements\n",
    "# Array is a collection of Homogeneous elements"
   ]
  },
  {
   "cell_type": "code",
   "execution_count": 2,
   "id": "bba2130f",
   "metadata": {
    "ExecuteTime": {
     "end_time": "2021-08-12T02:42:16.484957Z",
     "start_time": "2021-08-12T02:42:15.998822Z"
    }
   },
   "outputs": [],
   "source": [
    "import numpy as np"
   ]
  },
  {
   "cell_type": "code",
   "execution_count": 10,
   "id": "4ed531ae",
   "metadata": {
    "ExecuteTime": {
     "end_time": "2021-08-12T03:01:26.889540Z",
     "start_time": "2021-08-12T03:01:26.877995Z"
    }
   },
   "outputs": [
    {
     "name": "stdout",
     "output_type": "stream",
     "text": [
      "['101' '102' '103' '104' '105' '106.90']\n",
      "<class 'numpy.ndarray'>\n",
      "Shape of the array =  (6,)\n",
      "Size of the array =  6\n",
      "Dimension of the array = 1\n",
      "Data types of each element inside the array =  <U21\n"
     ]
    }
   ],
   "source": [
    "# Creating a one dimensional array\n",
    "emp_id_arr = np.array([101, 102, 103, 104, 105, '106.90'])\n",
    "print(emp_id_arr)\n",
    "print(type(emp_id_arr))\n",
    "print('Shape of the array = ', emp_id_arr.shape)\n",
    "print('Size of the array = ', emp_id_arr.size)\n",
    "print('Dimension of the array =', emp_id_arr.ndim)\n",
    "print('Data types of each element inside the array = ', emp_id_arr.dtype)\n",
    "\n",
    "\n",
    "# Upcasting - int -> float -> Complex -> String -> Object\n"
   ]
  },
  {
   "cell_type": "code",
   "execution_count": null,
   "id": "83a39cce",
   "metadata": {},
   "outputs": [],
   "source": [
    "char - 1 byte - int8\n",
    "short - 1 byte - int8\n",
    "int - 2 byte - int16\n",
    "long - 4/8 byte - int32/int64\n",
    "float - 4 byte - float32\n",
    "double - 8 byte - float64"
   ]
  },
  {
   "cell_type": "code",
   "execution_count": 16,
   "id": "9b944cf2",
   "metadata": {
    "ExecuteTime": {
     "end_time": "2021-08-12T03:09:48.542479Z",
     "start_time": "2021-08-12T03:09:48.532664Z"
    }
   },
   "outputs": [
    {
     "name": "stdout",
     "output_type": "stream",
     "text": [
      "[list([101, 102, 103]) list([104, 105])]\n",
      "<class 'numpy.ndarray'>\n",
      "Shape of the array =  (2,)\n",
      "Size of the array =  2\n",
      "Dimension of the array = 1\n",
      "Data types of each element inside the array =  object\n"
     ]
    },
    {
     "name": "stderr",
     "output_type": "stream",
     "text": [
      "<ipython-input-16-afc2ef0dc377>:2: VisibleDeprecationWarning: Creating an ndarray from ragged nested sequences (which is a list-or-tuple of lists-or-tuples-or ndarrays with different lengths or shapes) is deprecated. If you meant to do this, you must specify 'dtype=object' when creating the ndarray.\n",
      "  emp_id_arr = np.array([[101, 102, 103], [104, 105]])\n"
     ]
    }
   ],
   "source": [
    "# Creating a two dimensional array\n",
    "emp_id_arr = np.array([[101, 102, 103], [104, 105]])\n",
    "print(emp_id_arr)\n",
    "print(type(emp_id_arr))\n",
    "print('Shape of the array = ', emp_id_arr.shape)\n",
    "print('Size of the array = ', emp_id_arr.size)\n",
    "print('Dimension of the array =', emp_id_arr.ndim)\n",
    "print('Data types of each element inside the array = ', emp_id_arr.dtype)"
   ]
  },
  {
   "cell_type": "code",
   "execution_count": 5,
   "id": "6ff6d643",
   "metadata": {
    "ExecuteTime": {
     "end_time": "2021-08-12T03:13:33.383068Z",
     "start_time": "2021-08-12T03:13:33.377422Z"
    }
   },
   "outputs": [
    {
     "name": "stdout",
     "output_type": "stream",
     "text": [
      "[1 2 3 4 5 6 7 8 9]\n"
     ]
    }
   ],
   "source": [
    "# arange == range\n",
    "# arange(start, stop, step)\n",
    "# Return type is array\n",
    "# stop can be fractional value also.\n",
    "\n",
    "# list(range(1, 10, 0.1)) \n",
    "\n",
    "arr = np.arange(1, 10, 1)\n",
    "print(arr)\n",
    "\n",
    "# arr = np.arange(1, 10, 0.1)\n",
    "# print(arr)\n",
    "\n",
    "# arr = np.arange(10, 1, -0.1)\n",
    "# print(arr)"
   ]
  },
  {
   "cell_type": "code",
   "execution_count": 7,
   "id": "35342feb",
   "metadata": {
    "ExecuteTime": {
     "end_time": "2021-08-12T03:14:14.784283Z",
     "start_time": "2021-08-12T03:14:14.780090Z"
    }
   },
   "outputs": [
    {
     "name": "stdout",
     "output_type": "stream",
     "text": [
      "['T', '__abs__', '__add__', '__and__', '__array__', '__array_finalize__', '__array_function__', '__array_interface__', '__array_prepare__', '__array_priority__', '__array_struct__', '__array_ufunc__', '__array_wrap__', '__bool__', '__class__', '__complex__', '__contains__', '__copy__', '__deepcopy__', '__delattr__', '__delitem__', '__dir__', '__divmod__', '__doc__', '__eq__', '__float__', '__floordiv__', '__format__', '__ge__', '__getattribute__', '__getitem__', '__gt__', '__hash__', '__iadd__', '__iand__', '__ifloordiv__', '__ilshift__', '__imatmul__', '__imod__', '__imul__', '__index__', '__init__', '__init_subclass__', '__int__', '__invert__', '__ior__', '__ipow__', '__irshift__', '__isub__', '__iter__', '__itruediv__', '__ixor__', '__le__', '__len__', '__lshift__', '__lt__', '__matmul__', '__mod__', '__mul__', '__ne__', '__neg__', '__new__', '__or__', '__pos__', '__pow__', '__radd__', '__rand__', '__rdivmod__', '__reduce__', '__reduce_ex__', '__repr__', '__rfloordiv__', '__rlshift__', '__rmatmul__', '__rmod__', '__rmul__', '__ror__', '__rpow__', '__rrshift__', '__rshift__', '__rsub__', '__rtruediv__', '__rxor__', '__setattr__', '__setitem__', '__setstate__', '__sizeof__', '__str__', '__sub__', '__subclasshook__', '__truediv__', '__xor__', 'all', 'any', 'argmax', 'argmin', 'argpartition', 'argsort', 'astype', 'base', 'byteswap', 'choose', 'clip', 'compress', 'conj', 'conjugate', 'copy', 'ctypes', 'cumprod', 'cumsum', 'data', 'diagonal', 'dot', 'dtype', 'dump', 'dumps', 'fill', 'flags', 'flat', 'flatten', 'getfield', 'imag', 'item', 'itemset', 'itemsize', 'max', 'mean', 'min', 'nbytes', 'ndim', 'newbyteorder', 'nonzero', 'partition', 'prod', 'ptp', 'put', 'ravel', 'real', 'repeat', 'reshape', 'resize', 'round', 'searchsorted', 'setfield', 'setflags', 'shape', 'size', 'sort', 'squeeze', 'std', 'strides', 'sum', 'swapaxes', 'take', 'tobytes', 'tofile', 'tolist', 'tostring', 'trace', 'transpose', 'var', 'view']\n"
     ]
    }
   ],
   "source": [
    "print(dir(arr))"
   ]
  },
  {
   "cell_type": "code",
   "execution_count": 34,
   "id": "bad810a4",
   "metadata": {
    "ExecuteTime": {
     "end_time": "2021-08-12T03:18:17.556348Z",
     "start_time": "2021-08-12T03:18:17.550840Z"
    }
   },
   "outputs": [
    {
     "name": "stdout",
     "output_type": "stream",
     "text": [
      "[[ 1  2  3  4  5  6  7  8]\n",
      " [ 9 10 11 12 13 14 15 16]\n",
      " [17 18 19 20 21 22 23 24]\n",
      " [25 26 27 28 29 30 31 32]\n",
      " [33 34 35 36 37 38 39 40]\n",
      " [41 42 43 44 45 46 47 48]\n",
      " [49 50 51 52 53 54 55 56]]\n"
     ]
    }
   ],
   "source": [
    "# Creating a 2D array using arange function by reshaping\n",
    "a = np.arange(1, 57).reshape(7, 8)\n",
    "print(a)\n",
    "\n",
    "# While using reshape function the no of element and product of row and column should be equal.\n",
    "\n"
   ]
  },
  {
   "cell_type": "code",
   "execution_count": 11,
   "id": "58babd03",
   "metadata": {
    "ExecuteTime": {
     "end_time": "2021-08-12T03:23:15.230947Z",
     "start_time": "2021-08-12T03:23:15.226431Z"
    }
   },
   "outputs": [
    {
     "name": "stdout",
     "output_type": "stream",
     "text": [
      "[[[ 1.          1.09090909  1.18181818  1.27272727]\n",
      "  [ 1.36363636  1.45454545  1.54545455  1.63636364]\n",
      "  [ 1.72727273  1.81818182  1.90909091  2.        ]\n",
      "  [ 2.09090909  2.18181818  2.27272727  2.36363636]\n",
      "  [ 2.45454545  2.54545455  2.63636364  2.72727273]]\n",
      "\n",
      " [[ 2.81818182  2.90909091  3.          3.09090909]\n",
      "  [ 3.18181818  3.27272727  3.36363636  3.45454545]\n",
      "  [ 3.54545455  3.63636364  3.72727273  3.81818182]\n",
      "  [ 3.90909091  4.          4.09090909  4.18181818]\n",
      "  [ 4.27272727  4.36363636  4.45454545  4.54545455]]\n",
      "\n",
      " [[ 4.63636364  4.72727273  4.81818182  4.90909091]\n",
      "  [ 5.          5.09090909  5.18181818  5.27272727]\n",
      "  [ 5.36363636  5.45454545  5.54545455  5.63636364]\n",
      "  [ 5.72727273  5.81818182  5.90909091  6.        ]\n",
      "  [ 6.09090909  6.18181818  6.27272727  6.36363636]]\n",
      "\n",
      " [[ 6.45454545  6.54545455  6.63636364  6.72727273]\n",
      "  [ 6.81818182  6.90909091  7.          7.09090909]\n",
      "  [ 7.18181818  7.27272727  7.36363636  7.45454545]\n",
      "  [ 7.54545455  7.63636364  7.72727273  7.81818182]\n",
      "  [ 7.90909091  8.          8.09090909  8.18181818]]\n",
      "\n",
      " [[ 8.27272727  8.36363636  8.45454545  8.54545455]\n",
      "  [ 8.63636364  8.72727273  8.81818182  8.90909091]\n",
      "  [ 9.          9.09090909  9.18181818  9.27272727]\n",
      "  [ 9.36363636  9.45454545  9.54545455  9.63636364]\n",
      "  [ 9.72727273  9.81818182  9.90909091 10.        ]]]\n"
     ]
    }
   ],
   "source": [
    "# linspace(start, stop, no of ele)\n",
    "# Stop value is inclusive\n",
    "\n",
    "# arr1 = np.linspace(1,10, 10)\n",
    "# print(arr1)\n",
    "\n",
    "# arr1 = np.linspace(1,10, 100).reshape(10, 10)\n",
    "# print(arr1)\n",
    "\n",
    "# arr1 = np.linspace(1,10, 1000)\n",
    "# print(arr1)\n",
    "\n",
    "arr1 = np.linspace(1,10, 100).reshape(5,5,4)\n",
    "print(arr1)"
   ]
  },
  {
   "cell_type": "code",
   "execution_count": 45,
   "id": "2d687277",
   "metadata": {
    "ExecuteTime": {
     "end_time": "2021-08-12T03:25:44.959010Z",
     "start_time": "2021-08-12T03:25:44.942044Z"
    }
   },
   "outputs": [
    {
     "data": {
      "text/plain": [
       "array([[0, 0, 0, 0, 0],\n",
       "       [0, 0, 0, 0, 0],\n",
       "       [0, 0, 0, 0, 0],\n",
       "       [0, 0, 0, 0, 0]])"
      ]
     },
     "execution_count": 45,
     "metadata": {},
     "output_type": "execute_result"
    }
   ],
   "source": [
    "# np.zeros((row, col)) -> creates an array of zeros for specified no of row and col\n",
    "arr = np.zeros((4,5), dtype = int)\n",
    "arr\n",
    "\n",
    "\n"
   ]
  },
  {
   "cell_type": "code",
   "execution_count": 47,
   "id": "3e319e46",
   "metadata": {
    "ExecuteTime": {
     "end_time": "2021-08-12T03:26:20.488333Z",
     "start_time": "2021-08-12T03:26:20.472008Z"
    }
   },
   "outputs": [
    {
     "data": {
      "text/plain": [
       "array([[1, 1, 1, 1, 1],\n",
       "       [1, 1, 1, 1, 1],\n",
       "       [1, 1, 1, 1, 1],\n",
       "       [1, 1, 1, 1, 1]])"
      ]
     },
     "execution_count": 47,
     "metadata": {},
     "output_type": "execute_result"
    }
   ],
   "source": [
    "# np.ones((row, col)) -> creates an array of ones for specified no of row and col\n",
    "arr = np.ones((4,5), dtype = int)\n",
    "arr"
   ]
  },
  {
   "cell_type": "code",
   "execution_count": 13,
   "id": "2b013cb8",
   "metadata": {
    "ExecuteTime": {
     "end_time": "2021-08-12T03:29:47.136815Z",
     "start_time": "2021-08-12T03:29:47.125926Z"
    }
   },
   "outputs": [
    {
     "data": {
      "text/plain": [
       "array([[5., 0., 0., 0., 0., 0.],\n",
       "       [0., 5., 0., 0., 0., 0.],\n",
       "       [0., 0., 5., 0., 0., 0.],\n",
       "       [0., 0., 0., 5., 0., 0.],\n",
       "       [0., 0., 0., 0., 5., 0.],\n",
       "       [0., 0., 0., 0., 0., 5.]])"
      ]
     },
     "execution_count": 13,
     "metadata": {},
     "output_type": "execute_result"
    }
   ],
   "source": [
    "# Identity Matrix\n",
    "arr = np.eye(6)\n",
    "arr*5"
   ]
  },
  {
   "cell_type": "code",
   "execution_count": 54,
   "id": "a7c89cc2",
   "metadata": {
    "ExecuteTime": {
     "end_time": "2021-08-12T03:35:28.761917Z",
     "start_time": "2021-08-12T03:35:28.719630Z"
    }
   },
   "outputs": [
    {
     "data": {
      "text/plain": [
       "array([[1., 0., 0., 0., 0., 0.],\n",
       "       [0., 1., 0., 0., 0., 0.],\n",
       "       [0., 0., 1., 0., 0., 0.],\n",
       "       [0., 0., 0., 1., 0., 0.],\n",
       "       [0., 0., 0., 0., 1., 0.],\n",
       "       [0., 0., 0., 0., 0., 1.]])"
      ]
     },
     "execution_count": 54,
     "metadata": {},
     "output_type": "execute_result"
    }
   ],
   "source": [
    "# empty matrix\n",
    "arr = np.empty((6,6))\n",
    "arr"
   ]
  },
  {
   "cell_type": "code",
   "execution_count": 62,
   "id": "fee1a8df",
   "metadata": {
    "ExecuteTime": {
     "end_time": "2021-08-12T03:39:14.701373Z",
     "start_time": "2021-08-12T03:39:14.691315Z"
    }
   },
   "outputs": [
    {
     "data": {
      "text/plain": [
       "array([[1., 6., 5.],\n",
       "       [7., 9., 1.],\n",
       "       [7., 1., 4.],\n",
       "       [0., 9., 1.]])"
      ]
     },
     "execution_count": 62,
     "metadata": {},
     "output_type": "execute_result"
    }
   ],
   "source": [
    "# Creating an array with random function\n",
    "arr = np.floor(10*np.random.rand(4, 3))      # The elements value will be between 0 and 1\n",
    "arr"
   ]
  },
  {
   "cell_type": "markdown",
   "id": "06a03651",
   "metadata": {},
   "source": [
    "# reshaping an array\n"
   ]
  },
  {
   "cell_type": "code",
   "execution_count": 15,
   "id": "4d21d59c",
   "metadata": {
    "ExecuteTime": {
     "end_time": "2021-08-12T03:52:54.724979Z",
     "start_time": "2021-08-12T03:52:54.661789Z"
    }
   },
   "outputs": [
    {
     "data": {
      "text/html": [
       "<div>\n",
       "<style scoped>\n",
       "    .dataframe tbody tr th:only-of-type {\n",
       "        vertical-align: middle;\n",
       "    }\n",
       "\n",
       "    .dataframe tbody tr th {\n",
       "        vertical-align: top;\n",
       "    }\n",
       "\n",
       "    .dataframe thead th {\n",
       "        text-align: right;\n",
       "    }\n",
       "</style>\n",
       "<table border=\"1\" class=\"dataframe\">\n",
       "  <thead>\n",
       "    <tr style=\"text-align: right;\">\n",
       "      <th></th>\n",
       "      <th>total_bill</th>\n",
       "      <th>tip</th>\n",
       "      <th>sex</th>\n",
       "      <th>smoker</th>\n",
       "      <th>day</th>\n",
       "      <th>time</th>\n",
       "      <th>size</th>\n",
       "    </tr>\n",
       "  </thead>\n",
       "  <tbody>\n",
       "    <tr>\n",
       "      <th>0</th>\n",
       "      <td>16.99</td>\n",
       "      <td>1.01</td>\n",
       "      <td>Female</td>\n",
       "      <td>No</td>\n",
       "      <td>Sun</td>\n",
       "      <td>Dinner</td>\n",
       "      <td>2</td>\n",
       "    </tr>\n",
       "    <tr>\n",
       "      <th>1</th>\n",
       "      <td>10.34</td>\n",
       "      <td>1.66</td>\n",
       "      <td>Male</td>\n",
       "      <td>No</td>\n",
       "      <td>Sun</td>\n",
       "      <td>Dinner</td>\n",
       "      <td>3</td>\n",
       "    </tr>\n",
       "    <tr>\n",
       "      <th>2</th>\n",
       "      <td>21.01</td>\n",
       "      <td>3.50</td>\n",
       "      <td>Male</td>\n",
       "      <td>No</td>\n",
       "      <td>Sun</td>\n",
       "      <td>Dinner</td>\n",
       "      <td>3</td>\n",
       "    </tr>\n",
       "    <tr>\n",
       "      <th>3</th>\n",
       "      <td>23.68</td>\n",
       "      <td>3.31</td>\n",
       "      <td>Male</td>\n",
       "      <td>No</td>\n",
       "      <td>Sun</td>\n",
       "      <td>Dinner</td>\n",
       "      <td>2</td>\n",
       "    </tr>\n",
       "    <tr>\n",
       "      <th>4</th>\n",
       "      <td>24.59</td>\n",
       "      <td>3.61</td>\n",
       "      <td>Female</td>\n",
       "      <td>No</td>\n",
       "      <td>Sun</td>\n",
       "      <td>Dinner</td>\n",
       "      <td>4</td>\n",
       "    </tr>\n",
       "    <tr>\n",
       "      <th>...</th>\n",
       "      <td>...</td>\n",
       "      <td>...</td>\n",
       "      <td>...</td>\n",
       "      <td>...</td>\n",
       "      <td>...</td>\n",
       "      <td>...</td>\n",
       "      <td>...</td>\n",
       "    </tr>\n",
       "    <tr>\n",
       "      <th>239</th>\n",
       "      <td>29.03</td>\n",
       "      <td>5.92</td>\n",
       "      <td>Male</td>\n",
       "      <td>No</td>\n",
       "      <td>Sat</td>\n",
       "      <td>Dinner</td>\n",
       "      <td>3</td>\n",
       "    </tr>\n",
       "    <tr>\n",
       "      <th>240</th>\n",
       "      <td>27.18</td>\n",
       "      <td>2.00</td>\n",
       "      <td>Female</td>\n",
       "      <td>Yes</td>\n",
       "      <td>Sat</td>\n",
       "      <td>Dinner</td>\n",
       "      <td>2</td>\n",
       "    </tr>\n",
       "    <tr>\n",
       "      <th>241</th>\n",
       "      <td>22.67</td>\n",
       "      <td>2.00</td>\n",
       "      <td>Male</td>\n",
       "      <td>Yes</td>\n",
       "      <td>Sat</td>\n",
       "      <td>Dinner</td>\n",
       "      <td>2</td>\n",
       "    </tr>\n",
       "    <tr>\n",
       "      <th>242</th>\n",
       "      <td>17.82</td>\n",
       "      <td>1.75</td>\n",
       "      <td>Male</td>\n",
       "      <td>No</td>\n",
       "      <td>Sat</td>\n",
       "      <td>Dinner</td>\n",
       "      <td>2</td>\n",
       "    </tr>\n",
       "    <tr>\n",
       "      <th>243</th>\n",
       "      <td>18.78</td>\n",
       "      <td>3.00</td>\n",
       "      <td>Female</td>\n",
       "      <td>No</td>\n",
       "      <td>Thur</td>\n",
       "      <td>Dinner</td>\n",
       "      <td>2</td>\n",
       "    </tr>\n",
       "  </tbody>\n",
       "</table>\n",
       "<p>244 rows × 7 columns</p>\n",
       "</div>"
      ],
      "text/plain": [
       "     total_bill   tip     sex smoker   day    time  size\n",
       "0         16.99  1.01  Female     No   Sun  Dinner     2\n",
       "1         10.34  1.66    Male     No   Sun  Dinner     3\n",
       "2         21.01  3.50    Male     No   Sun  Dinner     3\n",
       "3         23.68  3.31    Male     No   Sun  Dinner     2\n",
       "4         24.59  3.61  Female     No   Sun  Dinner     4\n",
       "..          ...   ...     ...    ...   ...     ...   ...\n",
       "239       29.03  5.92    Male     No   Sat  Dinner     3\n",
       "240       27.18  2.00  Female    Yes   Sat  Dinner     2\n",
       "241       22.67  2.00    Male    Yes   Sat  Dinner     2\n",
       "242       17.82  1.75    Male     No   Sat  Dinner     2\n",
       "243       18.78  3.00  Female     No  Thur  Dinner     2\n",
       "\n",
       "[244 rows x 7 columns]"
      ]
     },
     "execution_count": 15,
     "metadata": {},
     "output_type": "execute_result"
    }
   ],
   "source": [
    "import seaborn as sns\n",
    "df = sns.load_dataset('tips')\n",
    "df"
   ]
  },
  {
   "cell_type": "code",
   "execution_count": 21,
   "id": "0a62ec66",
   "metadata": {
    "ExecuteTime": {
     "end_time": "2021-08-12T03:45:46.280140Z",
     "start_time": "2021-08-12T03:45:46.268283Z"
    }
   },
   "outputs": [
    {
     "data": {
      "text/plain": [
       "array(['Sun', 'Sun', 'Sun', 'Sun', 'Sun', 'Sun', 'Sun', 'Sun', 'Sun',\n",
       "       'Sun', 'Sun', 'Sun', 'Sun', 'Sun', 'Sun', 'Sun', 'Sun', 'Sun',\n",
       "       'Sun', 'Sat', 'Sat', 'Sat', 'Sat', 'Sat', 'Sat', 'Sat', 'Sat',\n",
       "       'Sat', 'Sat', 'Sat', 'Sat', 'Sat', 'Sat', 'Sat', 'Sat', 'Sat',\n",
       "       'Sat', 'Sat', 'Sat', 'Sat', 'Sat', 'Sun', 'Sun', 'Sun', 'Sun',\n",
       "       'Sun', 'Sun', 'Sun', 'Sun', 'Sun', 'Sun', 'Sun', 'Sun', 'Sun',\n",
       "       'Sun', 'Sun', 'Sat', 'Sat', 'Sat', 'Sat', 'Sat', 'Sat', 'Sat',\n",
       "       'Sat', 'Sat', 'Sat', 'Sat', 'Sat', 'Sat', 'Sat', 'Sat', 'Sat',\n",
       "       'Sat', 'Sat', 'Sat', 'Sat', 'Sat', 'Thur', 'Thur', 'Thur', 'Thur',\n",
       "       'Thur', 'Thur', 'Thur', 'Thur', 'Thur', 'Thur', 'Thur', 'Thur',\n",
       "       'Thur', 'Fri', 'Fri', 'Fri', 'Fri', 'Fri', 'Fri', 'Fri', 'Fri',\n",
       "       'Fri', 'Fri', 'Fri', 'Fri', 'Sat', 'Sat', 'Sat', 'Sat', 'Sat',\n",
       "       'Sat', 'Sat', 'Sat', 'Sat', 'Sat', 'Sun', 'Sun', 'Sun', 'Sun',\n",
       "       'Sun', 'Thur', 'Thur', 'Thur', 'Thur', 'Thur', 'Thur', 'Thur',\n",
       "       'Thur', 'Thur', 'Thur', 'Thur', 'Thur', 'Thur', 'Thur', 'Thur',\n",
       "       'Thur', 'Thur', 'Thur', 'Thur', 'Thur', 'Thur', 'Thur', 'Thur',\n",
       "       'Thur', 'Thur', 'Thur', 'Thur', 'Thur', 'Thur', 'Thur', 'Thur',\n",
       "       'Thur', 'Thur', 'Sun', 'Sun', 'Sun', 'Sun', 'Sun', 'Sun', 'Sun',\n",
       "       'Sun', 'Sun', 'Sun', 'Sun', 'Sun', 'Sun', 'Sun', 'Sun', 'Sun',\n",
       "       'Sun', 'Sun', 'Sat', 'Sat', 'Sat', 'Sat', 'Sun', 'Sun', 'Sun',\n",
       "       'Sun', 'Sun', 'Sun', 'Sun', 'Sun', 'Sun', 'Sun', 'Sun', 'Sun',\n",
       "       'Sun', 'Sun', 'Sun', 'Sun', 'Sun', 'Sun', 'Sun', 'Thur', 'Thur',\n",
       "       'Thur', 'Thur', 'Thur', 'Thur', 'Thur', 'Thur', 'Thur', 'Thur',\n",
       "       'Thur', 'Thur', 'Thur', 'Thur', 'Thur', 'Sat', 'Sat', 'Sat', 'Sat',\n",
       "       'Sat', 'Sat', 'Sat', 'Sat', 'Sat', 'Sat', 'Sat', 'Sat', 'Sat',\n",
       "       'Sat', 'Fri', 'Fri', 'Fri', 'Fri', 'Fri', 'Fri', 'Fri', 'Sat',\n",
       "       'Sat', 'Sat', 'Sat', 'Sat', 'Sat', 'Sat', 'Sat', 'Sat', 'Sat',\n",
       "       'Sat', 'Sat', 'Sat', 'Sat', 'Sat', 'Sat', 'Thur'], dtype=object)"
      ]
     },
     "execution_count": 21,
     "metadata": {},
     "output_type": "execute_result"
    }
   ],
   "source": [
    "arr_size = np.array(df.day)\n",
    "arr_size\n",
    "\n",
    "# reshape function does not reshape the existing array object rather it creates a new array \n",
    "\n",
    "reshape_arr_size = arr_size.reshape(61, 4)\n",
    "reshape_arr_size\n",
    "\n",
    "arr_size\n",
    "\n",
    "\n",
    "\n"
   ]
  },
  {
   "cell_type": "code",
   "execution_count": 77,
   "id": "86ca76b4",
   "metadata": {
    "ExecuteTime": {
     "end_time": "2021-08-12T03:47:11.300708Z",
     "start_time": "2021-08-12T03:47:11.231178Z"
    }
   },
   "outputs": [
    {
     "data": {
      "text/plain": [
       "array([['Sun', 'Sun', 'Sun', 'Sun'],\n",
       "       ['Sun', 'Sun', 'Sun', 'Sun'],\n",
       "       ['Sun', 'Sun', 'Sun', 'Sun'],\n",
       "       ['Sun', 'Sun', 'Sun', 'Sun'],\n",
       "       ['Sun', 'Sun', 'Sun', 'Sat'],\n",
       "       ['Sat', 'Sat', 'Sat', 'Sat'],\n",
       "       ['Sat', 'Sat', 'Sat', 'Sat'],\n",
       "       ['Sat', 'Sat', 'Sat', 'Sat'],\n",
       "       ['Sat', 'Sat', 'Sat', 'Sat'],\n",
       "       ['Sat', 'Sat', 'Sat', 'Sat'],\n",
       "       ['Sat', 'Sun', 'Sun', 'Sun'],\n",
       "       ['Sun', 'Sun', 'Sun', 'Sun'],\n",
       "       ['Sun', 'Sun', 'Sun', 'Sun'],\n",
       "       ['Sun', 'Sun', 'Sun', 'Sun'],\n",
       "       ['Sat', 'Sat', 'Sat', 'Sat'],\n",
       "       ['Sat', 'Sat', 'Sat', 'Sat'],\n",
       "       ['Sat', 'Sat', 'Sat', 'Sat'],\n",
       "       ['Sat', 'Sat', 'Sat', 'Sat'],\n",
       "       ['Sat', 'Sat', 'Sat', 'Sat'],\n",
       "       ['Sat', 'Thur', 'Thur', 'Thur'],\n",
       "       ['Thur', 'Thur', 'Thur', 'Thur'],\n",
       "       ['Thur', 'Thur', 'Thur', 'Thur'],\n",
       "       ['Thur', 'Thur', 'Fri', 'Fri'],\n",
       "       ['Fri', 'Fri', 'Fri', 'Fri'],\n",
       "       ['Fri', 'Fri', 'Fri', 'Fri'],\n",
       "       ['Fri', 'Fri', 'Sat', 'Sat'],\n",
       "       ['Sat', 'Sat', 'Sat', 'Sat'],\n",
       "       ['Sat', 'Sat', 'Sat', 'Sat'],\n",
       "       ['Sun', 'Sun', 'Sun', 'Sun'],\n",
       "       ['Sun', 'Thur', 'Thur', 'Thur'],\n",
       "       ['Thur', 'Thur', 'Thur', 'Thur'],\n",
       "       ['Thur', 'Thur', 'Thur', 'Thur'],\n",
       "       ['Thur', 'Thur', 'Thur', 'Thur'],\n",
       "       ['Thur', 'Thur', 'Thur', 'Thur'],\n",
       "       ['Thur', 'Thur', 'Thur', 'Thur'],\n",
       "       ['Thur', 'Thur', 'Thur', 'Thur'],\n",
       "       ['Thur', 'Thur', 'Thur', 'Thur'],\n",
       "       ['Thur', 'Thur', 'Sun', 'Sun'],\n",
       "       ['Sun', 'Sun', 'Sun', 'Sun'],\n",
       "       ['Sun', 'Sun', 'Sun', 'Sun'],\n",
       "       ['Sun', 'Sun', 'Sun', 'Sun'],\n",
       "       ['Sun', 'Sun', 'Sun', 'Sun'],\n",
       "       ['Sat', 'Sat', 'Sat', 'Sat'],\n",
       "       ['Sun', 'Sun', 'Sun', 'Sun'],\n",
       "       ['Sun', 'Sun', 'Sun', 'Sun'],\n",
       "       ['Sun', 'Sun', 'Sun', 'Sun'],\n",
       "       ['Sun', 'Sun', 'Sun', 'Sun'],\n",
       "       ['Sun', 'Sun', 'Sun', 'Thur'],\n",
       "       ['Thur', 'Thur', 'Thur', 'Thur'],\n",
       "       ['Thur', 'Thur', 'Thur', 'Thur'],\n",
       "       ['Thur', 'Thur', 'Thur', 'Thur'],\n",
       "       ['Thur', 'Thur', 'Sat', 'Sat'],\n",
       "       ['Sat', 'Sat', 'Sat', 'Sat'],\n",
       "       ['Sat', 'Sat', 'Sat', 'Sat'],\n",
       "       ['Sat', 'Sat', 'Sat', 'Sat'],\n",
       "       ['Fri', 'Fri', 'Fri', 'Fri'],\n",
       "       ['Fri', 'Fri', 'Fri', 'Sat'],\n",
       "       ['Sat', 'Sat', 'Sat', 'Sat'],\n",
       "       ['Sat', 'Sat', 'Sat', 'Sat'],\n",
       "       ['Sat', 'Sat', 'Sat', 'Sat'],\n",
       "       ['Sat', 'Sat', 'Sat', 'Thur']], dtype=object)"
      ]
     },
     "execution_count": 77,
     "metadata": {},
     "output_type": "execute_result"
    }
   ],
   "source": [
    "# Reshaping using shape attribute\n",
    "arr_size = np.array(df.day)\n",
    "arr_size.shape = (61, 4)\n",
    "arr_size\n",
    "\n",
    "# using shape attribute we make the changes to array object directly"
   ]
  },
  {
   "cell_type": "code",
   "execution_count": 22,
   "id": "642adc78",
   "metadata": {
    "ExecuteTime": {
     "end_time": "2021-08-12T03:49:32.970431Z",
     "start_time": "2021-08-12T03:49:32.953615Z"
    }
   },
   "outputs": [
    {
     "data": {
      "text/plain": [
       "array(['Sun', 'Sun', 'Sun', 'Sun', 'Sun', 'Sun', 'Sun', 'Sun', 'Sun',\n",
       "       'Sun', 'Sun', 'Sun', 'Sun', 'Sun', 'Sun', 'Sun', 'Sun', 'Sun',\n",
       "       'Sun', 'Sat', 'Sat', 'Sat', 'Sat', 'Sat', 'Sat', 'Sat', 'Sat',\n",
       "       'Sat', 'Sat', 'Sat', 'Sat', 'Sat', 'Sat', 'Sat', 'Sat', 'Sat',\n",
       "       'Sat', 'Sat', 'Sat', 'Sat', 'Sat', 'Sun', 'Sun', 'Sun', 'Sun',\n",
       "       'Sun', 'Sun', 'Sun', 'Sun', 'Sun', 'Sun', 'Sun', 'Sun', 'Sun',\n",
       "       'Sun', 'Sun', 'Sat', 'Sat', 'Sat', 'Sat', 'Sat', 'Sat', 'Sat',\n",
       "       'Sat', 'Sat', 'Sat', 'Sat', 'Sat', 'Sat', 'Sat', 'Sat', 'Sat',\n",
       "       'Sat', 'Sat', 'Sat', 'Sat', 'Sat', 'Thur', 'Thur', 'Thur', 'Thur',\n",
       "       'Thur', 'Thur', 'Thur', 'Thur', 'Thur', 'Thur', 'Thur', 'Thur',\n",
       "       'Thur', 'Fri', 'Fri', 'Fri', 'Fri', 'Fri', 'Fri', 'Fri', 'Fri',\n",
       "       'Fri', 'Fri', 'Fri', 'Fri', 'Sat', 'Sat', 'Sat', 'Sat', 'Sat',\n",
       "       'Sat', 'Sat', 'Sat', 'Sat', 'Sat', 'Sun', 'Sun', 'Sun', 'Sun',\n",
       "       'Sun', 'Thur', 'Thur', 'Thur', 'Thur', 'Thur', 'Thur', 'Thur',\n",
       "       'Thur', 'Thur', 'Thur', 'Thur', 'Thur', 'Thur', 'Thur', 'Thur',\n",
       "       'Thur', 'Thur', 'Thur', 'Thur', 'Thur', 'Thur', 'Thur', 'Thur',\n",
       "       'Thur', 'Thur', 'Thur', 'Thur', 'Thur', 'Thur', 'Thur', 'Thur',\n",
       "       'Thur', 'Thur', 'Sun', 'Sun', 'Sun', 'Sun', 'Sun', 'Sun', 'Sun',\n",
       "       'Sun', 'Sun', 'Sun', 'Sun', 'Sun', 'Sun', 'Sun', 'Sun', 'Sun',\n",
       "       'Sun', 'Sun', 'Sat', 'Sat', 'Sat', 'Sat', 'Sun', 'Sun', 'Sun',\n",
       "       'Sun', 'Sun', 'Sun', 'Sun', 'Sun', 'Sun', 'Sun', 'Sun', 'Sun',\n",
       "       'Sun', 'Sun', 'Sun', 'Sun', 'Sun', 'Sun', 'Sun', 'Thur', 'Thur',\n",
       "       'Thur', 'Thur', 'Thur', 'Thur', 'Thur', 'Thur', 'Thur', 'Thur',\n",
       "       'Thur', 'Thur', 'Thur', 'Thur', 'Thur', 'Sat', 'Sat', 'Sat', 'Sat',\n",
       "       'Sat', 'Sat', 'Sat', 'Sat', 'Sat', 'Sat', 'Sat', 'Sat', 'Sat',\n",
       "       'Sat', 'Fri', 'Fri', 'Fri', 'Fri', 'Fri', 'Fri', 'Fri', 'Sat',\n",
       "       'Sat', 'Sat', 'Sat', 'Sat', 'Sat', 'Sat', 'Sat', 'Sat', 'Sat',\n",
       "       'Sat', 'Sat', 'Sat', 'Sat', 'Sat', 'Sat', 'Thur'], dtype=object)"
      ]
     },
     "execution_count": 22,
     "metadata": {},
     "output_type": "execute_result"
    }
   ],
   "source": [
    "# transpose of a matrix - rows converted to columns and columnsconverted to rows\n",
    "# arr_size.T\n",
    "\n",
    "np.transpose(arr_size)\n",
    "\n",
    "arr_size\n",
    "\n",
    "# It creates a new array object\n"
   ]
  },
  {
   "cell_type": "code",
   "execution_count": 83,
   "id": "c5680b58",
   "metadata": {
    "ExecuteTime": {
     "end_time": "2021-08-12T03:50:52.368613Z",
     "start_time": "2021-08-12T03:50:52.356985Z"
    }
   },
   "outputs": [
    {
     "data": {
      "text/plain": [
       "array(['Sun', 'Sun', 'Sun', 'Sun', 'Sun', 'Sun', 'Sun', 'Sun', 'Sun',\n",
       "       'Sun', 'Sun', 'Sun', 'Sun', 'Sun', 'Sun', 'Sun', 'Sun', 'Sun',\n",
       "       'Sun', 'Sat', 'Sat', 'Sat', 'Sat', 'Sat', 'Sat', 'Sat', 'Sat',\n",
       "       'Sat', 'Sat', 'Sat', 'Sat', 'Sat', 'Sat', 'Sat', 'Sat', 'Sat',\n",
       "       'Sat', 'Sat', 'Sat', 'Sat', 'Sat', 'Sun', 'Sun', 'Sun', 'Sun',\n",
       "       'Sun', 'Sun', 'Sun', 'Sun', 'Sun', 'Sun', 'Sun', 'Sun', 'Sun',\n",
       "       'Sun', 'Sun', 'Sat', 'Sat', 'Sat', 'Sat', 'Sat', 'Sat', 'Sat',\n",
       "       'Sat', 'Sat', 'Sat', 'Sat', 'Sat', 'Sat', 'Sat', 'Sat', 'Sat',\n",
       "       'Sat', 'Sat', 'Sat', 'Sat', 'Sat', 'Thur', 'Thur', 'Thur', 'Thur',\n",
       "       'Thur', 'Thur', 'Thur', 'Thur', 'Thur', 'Thur', 'Thur', 'Thur',\n",
       "       'Thur', 'Fri', 'Fri', 'Fri', 'Fri', 'Fri', 'Fri', 'Fri', 'Fri',\n",
       "       'Fri', 'Fri', 'Fri', 'Fri', 'Sat', 'Sat', 'Sat', 'Sat', 'Sat',\n",
       "       'Sat', 'Sat', 'Sat', 'Sat', 'Sat', 'Sun', 'Sun', 'Sun', 'Sun',\n",
       "       'Sun', 'Thur', 'Thur', 'Thur', 'Thur', 'Thur', 'Thur', 'Thur',\n",
       "       'Thur', 'Thur', 'Thur', 'Thur', 'Thur', 'Thur', 'Thur', 'Thur',\n",
       "       'Thur', 'Thur', 'Thur', 'Thur', 'Thur', 'Thur', 'Thur', 'Thur',\n",
       "       'Thur', 'Thur', 'Thur', 'Thur', 'Thur', 'Thur', 'Thur', 'Thur',\n",
       "       'Thur', 'Thur', 'Sun', 'Sun', 'Sun', 'Sun', 'Sun', 'Sun', 'Sun',\n",
       "       'Sun', 'Sun', 'Sun', 'Sun', 'Sun', 'Sun', 'Sun', 'Sun', 'Sun',\n",
       "       'Sun', 'Sun', 'Sat', 'Sat', 'Sat', 'Sat', 'Sun', 'Sun', 'Sun',\n",
       "       'Sun', 'Sun', 'Sun', 'Sun', 'Sun', 'Sun', 'Sun', 'Sun', 'Sun',\n",
       "       'Sun', 'Sun', 'Sun', 'Sun', 'Sun', 'Sun', 'Sun', 'Thur', 'Thur',\n",
       "       'Thur', 'Thur', 'Thur', 'Thur', 'Thur', 'Thur', 'Thur', 'Thur',\n",
       "       'Thur', 'Thur', 'Thur', 'Thur', 'Thur', 'Sat', 'Sat', 'Sat', 'Sat',\n",
       "       'Sat', 'Sat', 'Sat', 'Sat', 'Sat', 'Sat', 'Sat', 'Sat', 'Sat',\n",
       "       'Sat', 'Fri', 'Fri', 'Fri', 'Fri', 'Fri', 'Fri', 'Fri', 'Sat',\n",
       "       'Sat', 'Sat', 'Sat', 'Sat', 'Sat', 'Sat', 'Sat', 'Sat', 'Sat',\n",
       "       'Sat', 'Sat', 'Sat', 'Sat', 'Sat', 'Sat', 'Thur'], dtype=object)"
      ]
     },
     "execution_count": 83,
     "metadata": {},
     "output_type": "execute_result"
    }
   ],
   "source": [
    "# Flattening of an array - creating one-D array out of multidimensional array\n",
    "arr_size.ravel()"
   ]
  },
  {
   "cell_type": "markdown",
   "id": "fa0f7e20",
   "metadata": {},
   "source": [
    "# Some basic operations on the array\n",
    "\n",
    "\n",
    "\n",
    "\n"
   ]
  },
  {
   "cell_type": "code",
   "execution_count": 23,
   "id": "4bf0513c",
   "metadata": {
    "ExecuteTime": {
     "end_time": "2021-08-12T03:53:15.562052Z",
     "start_time": "2021-08-12T03:53:15.500796Z"
    }
   },
   "outputs": [
    {
     "data": {
      "text/html": [
       "<div>\n",
       "<style scoped>\n",
       "    .dataframe tbody tr th:only-of-type {\n",
       "        vertical-align: middle;\n",
       "    }\n",
       "\n",
       "    .dataframe tbody tr th {\n",
       "        vertical-align: top;\n",
       "    }\n",
       "\n",
       "    .dataframe thead th {\n",
       "        text-align: right;\n",
       "    }\n",
       "</style>\n",
       "<table border=\"1\" class=\"dataframe\">\n",
       "  <thead>\n",
       "    <tr style=\"text-align: right;\">\n",
       "      <th></th>\n",
       "      <th>total_bill</th>\n",
       "      <th>tip</th>\n",
       "      <th>sex</th>\n",
       "      <th>smoker</th>\n",
       "      <th>day</th>\n",
       "      <th>time</th>\n",
       "      <th>size</th>\n",
       "    </tr>\n",
       "  </thead>\n",
       "  <tbody>\n",
       "    <tr>\n",
       "      <th>0</th>\n",
       "      <td>16.99</td>\n",
       "      <td>1.01</td>\n",
       "      <td>Female</td>\n",
       "      <td>No</td>\n",
       "      <td>Sun</td>\n",
       "      <td>Dinner</td>\n",
       "      <td>2</td>\n",
       "    </tr>\n",
       "    <tr>\n",
       "      <th>1</th>\n",
       "      <td>10.34</td>\n",
       "      <td>1.66</td>\n",
       "      <td>Male</td>\n",
       "      <td>No</td>\n",
       "      <td>Sun</td>\n",
       "      <td>Dinner</td>\n",
       "      <td>3</td>\n",
       "    </tr>\n",
       "    <tr>\n",
       "      <th>2</th>\n",
       "      <td>21.01</td>\n",
       "      <td>3.50</td>\n",
       "      <td>Male</td>\n",
       "      <td>No</td>\n",
       "      <td>Sun</td>\n",
       "      <td>Dinner</td>\n",
       "      <td>3</td>\n",
       "    </tr>\n",
       "    <tr>\n",
       "      <th>3</th>\n",
       "      <td>23.68</td>\n",
       "      <td>3.31</td>\n",
       "      <td>Male</td>\n",
       "      <td>No</td>\n",
       "      <td>Sun</td>\n",
       "      <td>Dinner</td>\n",
       "      <td>2</td>\n",
       "    </tr>\n",
       "    <tr>\n",
       "      <th>4</th>\n",
       "      <td>24.59</td>\n",
       "      <td>3.61</td>\n",
       "      <td>Female</td>\n",
       "      <td>No</td>\n",
       "      <td>Sun</td>\n",
       "      <td>Dinner</td>\n",
       "      <td>4</td>\n",
       "    </tr>\n",
       "    <tr>\n",
       "      <th>...</th>\n",
       "      <td>...</td>\n",
       "      <td>...</td>\n",
       "      <td>...</td>\n",
       "      <td>...</td>\n",
       "      <td>...</td>\n",
       "      <td>...</td>\n",
       "      <td>...</td>\n",
       "    </tr>\n",
       "    <tr>\n",
       "      <th>239</th>\n",
       "      <td>29.03</td>\n",
       "      <td>5.92</td>\n",
       "      <td>Male</td>\n",
       "      <td>No</td>\n",
       "      <td>Sat</td>\n",
       "      <td>Dinner</td>\n",
       "      <td>3</td>\n",
       "    </tr>\n",
       "    <tr>\n",
       "      <th>240</th>\n",
       "      <td>27.18</td>\n",
       "      <td>2.00</td>\n",
       "      <td>Female</td>\n",
       "      <td>Yes</td>\n",
       "      <td>Sat</td>\n",
       "      <td>Dinner</td>\n",
       "      <td>2</td>\n",
       "    </tr>\n",
       "    <tr>\n",
       "      <th>241</th>\n",
       "      <td>22.67</td>\n",
       "      <td>2.00</td>\n",
       "      <td>Male</td>\n",
       "      <td>Yes</td>\n",
       "      <td>Sat</td>\n",
       "      <td>Dinner</td>\n",
       "      <td>2</td>\n",
       "    </tr>\n",
       "    <tr>\n",
       "      <th>242</th>\n",
       "      <td>17.82</td>\n",
       "      <td>1.75</td>\n",
       "      <td>Male</td>\n",
       "      <td>No</td>\n",
       "      <td>Sat</td>\n",
       "      <td>Dinner</td>\n",
       "      <td>2</td>\n",
       "    </tr>\n",
       "    <tr>\n",
       "      <th>243</th>\n",
       "      <td>18.78</td>\n",
       "      <td>3.00</td>\n",
       "      <td>Female</td>\n",
       "      <td>No</td>\n",
       "      <td>Thur</td>\n",
       "      <td>Dinner</td>\n",
       "      <td>2</td>\n",
       "    </tr>\n",
       "  </tbody>\n",
       "</table>\n",
       "<p>244 rows × 7 columns</p>\n",
       "</div>"
      ],
      "text/plain": [
       "     total_bill   tip     sex smoker   day    time  size\n",
       "0         16.99  1.01  Female     No   Sun  Dinner     2\n",
       "1         10.34  1.66    Male     No   Sun  Dinner     3\n",
       "2         21.01  3.50    Male     No   Sun  Dinner     3\n",
       "3         23.68  3.31    Male     No   Sun  Dinner     2\n",
       "4         24.59  3.61  Female     No   Sun  Dinner     4\n",
       "..          ...   ...     ...    ...   ...     ...   ...\n",
       "239       29.03  5.92    Male     No   Sat  Dinner     3\n",
       "240       27.18  2.00  Female    Yes   Sat  Dinner     2\n",
       "241       22.67  2.00    Male    Yes   Sat  Dinner     2\n",
       "242       17.82  1.75    Male     No   Sat  Dinner     2\n",
       "243       18.78  3.00  Female     No  Thur  Dinner     2\n",
       "\n",
       "[244 rows x 7 columns]"
      ]
     },
     "execution_count": 23,
     "metadata": {},
     "output_type": "execute_result"
    }
   ],
   "source": [
    "import seaborn as sns\n",
    "df = sns.load_dataset('tips')\n",
    "df"
   ]
  },
  {
   "cell_type": "code",
   "execution_count": 24,
   "id": "40608661",
   "metadata": {
    "ExecuteTime": {
     "end_time": "2021-08-12T03:54:39.211445Z",
     "start_time": "2021-08-12T03:54:39.202628Z"
    }
   },
   "outputs": [
    {
     "data": {
      "text/plain": [
       "array([16.99, 10.34, 21.01, 23.68, 24.59, 25.29,  8.77, 26.88, 15.04,\n",
       "       14.78])"
      ]
     },
     "execution_count": 24,
     "metadata": {},
     "output_type": "execute_result"
    }
   ],
   "source": [
    "total_bill_arr = np.array(df.total_bill)[:10]\n",
    "total_bill_arr"
   ]
  },
  {
   "cell_type": "code",
   "execution_count": 25,
   "id": "5563c64e",
   "metadata": {
    "ExecuteTime": {
     "end_time": "2021-08-12T03:59:56.154256Z",
     "start_time": "2021-08-12T03:59:56.140436Z"
    }
   },
   "outputs": [
    {
     "data": {
      "text/plain": [
       "array([1.01, 1.66, 3.5 , 3.31, 3.61, 4.71, 2.  , 3.12, 1.96, 3.23])"
      ]
     },
     "execution_count": 25,
     "metadata": {},
     "output_type": "execute_result"
    }
   ],
   "source": [
    "tip_arr = np.array(df.tip)[:10]\n",
    "tip_arr"
   ]
  },
  {
   "cell_type": "code",
   "execution_count": 104,
   "id": "fe22f9cf",
   "metadata": {
    "ExecuteTime": {
     "end_time": "2021-08-12T04:00:42.500436Z",
     "start_time": "2021-08-12T04:00:42.492055Z"
    }
   },
   "outputs": [
    {
     "name": "stdout",
     "output_type": "stream",
     "text": [
      "[-16.99 -10.34 -21.01 -23.68 -24.59 -25.29  -8.77 -26.88 -15.04 -14.78]\n"
     ]
    }
   ],
   "source": [
    "# Arithmetic operation - arrays should be of same shape\n",
    "# print(total_bill_arr+tip_arr)\n",
    "# print(total_bill_arr+20)\n",
    "# print(total_bill_arr-tip_arr)\n",
    "# print(total_bill_arr*tip_arr)\n",
    "# print(total_bill_arr/tip_arr)\n",
    "# print(total_bill_arr//tip_arr)\n",
    "# print(total_bill_arr%tip_arr)\n",
    "# print(total_bill_arr**tip_arr)\n",
    "\n",
    "print(-total_bill_arr)"
   ]
  },
  {
   "cell_type": "code",
   "execution_count": 26,
   "id": "8a57f685",
   "metadata": {
    "ExecuteTime": {
     "end_time": "2021-08-12T04:02:26.846298Z",
     "start_time": "2021-08-12T04:02:26.828672Z"
    }
   },
   "outputs": [
    {
     "name": "stdout",
     "output_type": "stream",
     "text": [
      "[False False False False False False False False False False]\n"
     ]
    }
   ],
   "source": [
    "# Comparison operation\n",
    "print(total_bill_arr<tip_arr)"
   ]
  },
  {
   "cell_type": "code",
   "execution_count": 111,
   "id": "f1b71708",
   "metadata": {
    "ExecuteTime": {
     "end_time": "2021-08-12T04:03:45.051169Z",
     "start_time": "2021-08-12T04:03:44.995472Z"
    }
   },
   "outputs": [
    {
     "data": {
      "text/plain": [
       "572.7493000000001"
      ]
     },
     "execution_count": 111,
     "metadata": {},
     "output_type": "execute_result"
    }
   ],
   "source": [
    "# Product\n",
    "# Scalar product\n",
    "# Vector Product\n",
    "\n",
    "# print(total_bill_arr*tip_arr)\n",
    "# print(total_bill_arr*7)\n",
    "\n",
    "np.dot(total_bill_arr, tip_arr)"
   ]
  },
  {
   "cell_type": "code",
   "execution_count": 113,
   "id": "0e41a7c2",
   "metadata": {
    "ExecuteTime": {
     "end_time": "2021-08-12T04:05:19.455874Z",
     "start_time": "2021-08-12T04:05:19.399316Z"
    }
   },
   "outputs": [
    {
     "data": {
      "text/plain": [
       "array([[16.99, 10.34],\n",
       "       [21.01, 23.68],\n",
       "       [24.59, 25.29],\n",
       "       [ 8.77, 26.88],\n",
       "       [15.04, 14.78]])"
      ]
     },
     "execution_count": 113,
     "metadata": {},
     "output_type": "execute_result"
    }
   ],
   "source": [
    "# Vector product on 2D array\n",
    "# For doing vector product\n",
    "    # No of column in first array should be same as no of rows in 2nd array\n",
    "    # Shape of Resultant array of the dot product = (no of rows of 1st array, no of col of 2nd array)\n",
    "    \n",
    "\n",
    "\n",
    "\n",
    "total_bill_arr = total_bill_arr.reshape(5, 2)\n",
    "total_bill_arr\n"
   ]
  },
  {
   "cell_type": "code",
   "execution_count": 115,
   "id": "a3be6e97",
   "metadata": {
    "ExecuteTime": {
     "end_time": "2021-08-12T04:05:35.246828Z",
     "start_time": "2021-08-12T04:05:35.234204Z"
    }
   },
   "outputs": [
    {
     "data": {
      "text/plain": [
       "array([[1.01, 1.66, 3.5 , 3.31, 3.61],\n",
       "       [4.71, 2.  , 3.12, 1.96, 3.23]])"
      ]
     },
     "execution_count": 115,
     "metadata": {},
     "output_type": "execute_result"
    }
   ],
   "source": [
    "tip_arr = tip_arr.reshape(2, 5)\n",
    "tip_arr"
   ]
  },
  {
   "cell_type": "code",
   "execution_count": 116,
   "id": "63c587e9",
   "metadata": {
    "ExecuteTime": {
     "end_time": "2021-08-12T04:06:40.776164Z",
     "start_time": "2021-08-12T04:06:40.767338Z"
    }
   },
   "outputs": [
    {
     "data": {
      "text/plain": [
       "array([[ 65.8613,  48.8834,  91.7258,  76.5033,  94.7321],\n",
       "       [132.7529,  82.2366, 147.4166, 115.9559, 152.3325],\n",
       "       [143.9518,  91.3994, 164.9698, 130.9613, 170.4566],\n",
       "       [135.4625,  68.3182, 114.5606,  81.7135, 118.4821],\n",
       "       [ 84.8042,  54.5264,  98.7536,  78.7512, 102.0338]])"
      ]
     },
     "execution_count": 116,
     "metadata": {},
     "output_type": "execute_result"
    }
   ],
   "source": [
    "np.dot(total_bill_arr, tip_arr)"
   ]
  },
  {
   "cell_type": "code",
   "execution_count": 117,
   "id": "09654a0e",
   "metadata": {
    "ExecuteTime": {
     "end_time": "2021-08-12T04:14:28.758663Z",
     "start_time": "2021-08-12T04:14:28.741145Z"
    }
   },
   "outputs": [
    {
     "data": {
      "text/plain": [
       "array([[10.01, 10.66, 12.5 , 12.31, 12.61],\n",
       "       [13.71, 11.  , 12.12, 10.96, 12.23]])"
      ]
     },
     "execution_count": 117,
     "metadata": {},
     "output_type": "execute_result"
    }
   ],
   "source": [
    "# Compound Assignment Operator\n",
    "tip_arr += 9\n",
    "tip_arr"
   ]
  },
  {
   "cell_type": "code",
   "execution_count": 118,
   "id": "25fd796c",
   "metadata": {
    "ExecuteTime": {
     "end_time": "2021-08-12T04:15:09.549038Z",
     "start_time": "2021-08-12T04:15:09.485449Z"
    }
   },
   "outputs": [
    {
     "data": {
      "text/plain": [
       "118.11"
      ]
     },
     "execution_count": 118,
     "metadata": {},
     "output_type": "execute_result"
    }
   ],
   "source": [
    "# Aggregate methods - sum, max,min\n",
    "np.sum(tip_arr)"
   ]
  },
  {
   "cell_type": "code",
   "execution_count": 119,
   "id": "c4359699",
   "metadata": {
    "ExecuteTime": {
     "end_time": "2021-08-12T04:15:19.002332Z",
     "start_time": "2021-08-12T04:15:18.993080Z"
    }
   },
   "outputs": [
    {
     "data": {
      "text/plain": [
       "13.71"
      ]
     },
     "execution_count": 119,
     "metadata": {},
     "output_type": "execute_result"
    }
   ],
   "source": [
    "np.max(tip_arr)"
   ]
  },
  {
   "cell_type": "code",
   "execution_count": 120,
   "id": "d3a4b89f",
   "metadata": {
    "ExecuteTime": {
     "end_time": "2021-08-12T04:15:28.680508Z",
     "start_time": "2021-08-12T04:15:28.669734Z"
    }
   },
   "outputs": [
    {
     "data": {
      "text/plain": [
       "10.01"
      ]
     },
     "execution_count": 120,
     "metadata": {},
     "output_type": "execute_result"
    }
   ],
   "source": [
    "np.min(tip_arr)"
   ]
  },
  {
   "cell_type": "code",
   "execution_count": 28,
   "id": "8716a14b",
   "metadata": {
    "ExecuteTime": {
     "end_time": "2021-08-12T04:17:14.421384Z",
     "start_time": "2021-08-12T04:17:14.410252Z"
    }
   },
   "outputs": [],
   "source": [
    "# Aggregate operation alog the rows or columns\n",
    "total_bill_arr = np.array(df.total_bill)[:15]\n",
    "total_bill_arr.shape = 5, 3"
   ]
  },
  {
   "cell_type": "code",
   "execution_count": 126,
   "id": "3591fdc8",
   "metadata": {
    "ExecuteTime": {
     "end_time": "2021-08-12T04:17:24.272637Z",
     "start_time": "2021-08-12T04:17:24.263771Z"
    }
   },
   "outputs": [
    {
     "data": {
      "text/plain": [
       "array([[1.01, 1.66, 3.5 ],\n",
       "       [3.31, 3.61, 4.71],\n",
       "       [2.  , 3.12, 1.96],\n",
       "       [3.23, 1.71, 5.  ],\n",
       "       [1.57, 3.  , 3.02]])"
      ]
     },
     "execution_count": 126,
     "metadata": {},
     "output_type": "execute_result"
    }
   ],
   "source": [
    "tip_arr = np.array(df.tip)[:15]\n",
    "tip_arr.shape = 5, 3\n",
    "tip_arr"
   ]
  },
  {
   "cell_type": "code",
   "execution_count": 127,
   "id": "f72a9b3d",
   "metadata": {
    "ExecuteTime": {
     "end_time": "2021-08-12T04:17:53.722189Z",
     "start_time": "2021-08-12T04:17:53.705882Z"
    }
   },
   "outputs": [
    {
     "data": {
      "text/plain": [
       "array([11.12, 13.1 , 18.19])"
      ]
     },
     "execution_count": 127,
     "metadata": {},
     "output_type": "execute_result"
    }
   ],
   "source": [
    "# Sum along the rows\n",
    "\n",
    "np.sum(tip_arr, axis = 0)"
   ]
  },
  {
   "cell_type": "code",
   "execution_count": 128,
   "id": "94ebe180",
   "metadata": {
    "ExecuteTime": {
     "end_time": "2021-08-12T04:18:32.286380Z",
     "start_time": "2021-08-12T04:18:32.267285Z"
    }
   },
   "outputs": [
    {
     "data": {
      "text/plain": [
       "array([ 6.17, 11.63,  7.08,  9.94,  7.59])"
      ]
     },
     "execution_count": 128,
     "metadata": {},
     "output_type": "execute_result"
    }
   ],
   "source": [
    "# Sum along the col\n",
    "\n",
    "np.sum(tip_arr, axis = 1)"
   ]
  },
  {
   "cell_type": "code",
   "execution_count": 129,
   "id": "8a709d3d",
   "metadata": {
    "ExecuteTime": {
     "end_time": "2021-08-12T04:19:02.375578Z",
     "start_time": "2021-08-12T04:19:02.367312Z"
    }
   },
   "outputs": [
    {
     "data": {
      "text/plain": [
       "array([3.31, 3.61, 5.  ])"
      ]
     },
     "execution_count": 129,
     "metadata": {},
     "output_type": "execute_result"
    }
   ],
   "source": [
    "# max along the rows\n",
    "\n",
    "np.max(tip_arr, axis = 0)"
   ]
  },
  {
   "cell_type": "code",
   "execution_count": 131,
   "id": "614f41cc",
   "metadata": {
    "ExecuteTime": {
     "end_time": "2021-08-12T04:19:11.794280Z",
     "start_time": "2021-08-12T04:19:11.786133Z"
    }
   },
   "outputs": [
    {
     "data": {
      "text/plain": [
       "array([1.01, 1.66, 1.96])"
      ]
     },
     "execution_count": 131,
     "metadata": {},
     "output_type": "execute_result"
    }
   ],
   "source": [
    "# min along the rows\n",
    "\n",
    "np.min(tip_arr, axis = 0)"
   ]
  },
  {
   "cell_type": "code",
   "execution_count": null,
   "id": "597982a4",
   "metadata": {},
   "outputs": [],
   "source": []
  },
  {
   "cell_type": "code",
   "execution_count": null,
   "id": "d2603ad1",
   "metadata": {},
   "outputs": [],
   "source": []
  },
  {
   "cell_type": "code",
   "execution_count": null,
   "id": "60eb5d32",
   "metadata": {},
   "outputs": [],
   "source": []
  },
  {
   "cell_type": "code",
   "execution_count": null,
   "id": "8b193c83",
   "metadata": {},
   "outputs": [],
   "source": []
  },
  {
   "cell_type": "code",
   "execution_count": null,
   "id": "97ab1def",
   "metadata": {},
   "outputs": [],
   "source": []
  },
  {
   "cell_type": "code",
   "execution_count": null,
   "id": "22df3784",
   "metadata": {},
   "outputs": [],
   "source": []
  },
  {
   "cell_type": "code",
   "execution_count": null,
   "id": "b570542e",
   "metadata": {},
   "outputs": [],
   "source": []
  },
  {
   "cell_type": "code",
   "execution_count": null,
   "id": "bc0ad5f5",
   "metadata": {},
   "outputs": [],
   "source": []
  },
  {
   "cell_type": "code",
   "execution_count": null,
   "id": "14fc55ee",
   "metadata": {},
   "outputs": [],
   "source": []
  },
  {
   "cell_type": "code",
   "execution_count": null,
   "id": "8275bd29",
   "metadata": {},
   "outputs": [],
   "source": []
  },
  {
   "cell_type": "code",
   "execution_count": null,
   "id": "98999fd1",
   "metadata": {},
   "outputs": [],
   "source": []
  },
  {
   "cell_type": "code",
   "execution_count": null,
   "id": "e44ddfa9",
   "metadata": {},
   "outputs": [],
   "source": []
  },
  {
   "cell_type": "code",
   "execution_count": null,
   "id": "ade0da22",
   "metadata": {},
   "outputs": [],
   "source": []
  },
  {
   "cell_type": "code",
   "execution_count": null,
   "id": "0d1414e3",
   "metadata": {},
   "outputs": [],
   "source": []
  },
  {
   "cell_type": "code",
   "execution_count": null,
   "id": "14f045bf",
   "metadata": {},
   "outputs": [],
   "source": []
  },
  {
   "cell_type": "code",
   "execution_count": null,
   "id": "47806e1a",
   "metadata": {},
   "outputs": [],
   "source": []
  },
  {
   "cell_type": "code",
   "execution_count": null,
   "id": "52b54b39",
   "metadata": {},
   "outputs": [],
   "source": []
  },
  {
   "cell_type": "code",
   "execution_count": null,
   "id": "ac8709b5",
   "metadata": {},
   "outputs": [],
   "source": []
  },
  {
   "cell_type": "code",
   "execution_count": null,
   "id": "3c6b727c",
   "metadata": {},
   "outputs": [],
   "source": []
  },
  {
   "cell_type": "code",
   "execution_count": null,
   "id": "158d2b8d",
   "metadata": {},
   "outputs": [],
   "source": []
  },
  {
   "cell_type": "code",
   "execution_count": null,
   "id": "ff6c47c3",
   "metadata": {},
   "outputs": [],
   "source": []
  },
  {
   "cell_type": "code",
   "execution_count": null,
   "id": "222315f1",
   "metadata": {},
   "outputs": [],
   "source": []
  },
  {
   "cell_type": "code",
   "execution_count": null,
   "id": "c18f70fb",
   "metadata": {},
   "outputs": [],
   "source": []
  },
  {
   "cell_type": "code",
   "execution_count": null,
   "id": "7a35be88",
   "metadata": {},
   "outputs": [],
   "source": []
  },
  {
   "cell_type": "code",
   "execution_count": null,
   "id": "c89bae4c",
   "metadata": {},
   "outputs": [],
   "source": []
  },
  {
   "cell_type": "code",
   "execution_count": null,
   "id": "17ce9769",
   "metadata": {},
   "outputs": [],
   "source": []
  },
  {
   "cell_type": "code",
   "execution_count": null,
   "id": "83454998",
   "metadata": {},
   "outputs": [],
   "source": []
  },
  {
   "cell_type": "code",
   "execution_count": null,
   "id": "c82d7977",
   "metadata": {},
   "outputs": [],
   "source": []
  },
  {
   "cell_type": "code",
   "execution_count": null,
   "id": "f5d6a0f6",
   "metadata": {},
   "outputs": [],
   "source": []
  },
  {
   "cell_type": "code",
   "execution_count": null,
   "id": "7d05a64c",
   "metadata": {},
   "outputs": [],
   "source": []
  },
  {
   "cell_type": "code",
   "execution_count": null,
   "id": "734cfdac",
   "metadata": {},
   "outputs": [],
   "source": []
  },
  {
   "cell_type": "code",
   "execution_count": null,
   "id": "85669e99",
   "metadata": {},
   "outputs": [],
   "source": []
  },
  {
   "cell_type": "code",
   "execution_count": null,
   "id": "553c3896",
   "metadata": {},
   "outputs": [],
   "source": []
  },
  {
   "cell_type": "code",
   "execution_count": null,
   "id": "6dfb83e3",
   "metadata": {},
   "outputs": [],
   "source": []
  },
  {
   "cell_type": "code",
   "execution_count": null,
   "id": "f5be3259",
   "metadata": {},
   "outputs": [],
   "source": []
  },
  {
   "cell_type": "code",
   "execution_count": null,
   "id": "657cdead",
   "metadata": {},
   "outputs": [],
   "source": []
  },
  {
   "cell_type": "code",
   "execution_count": null,
   "id": "7d6cc253",
   "metadata": {},
   "outputs": [],
   "source": []
  },
  {
   "cell_type": "code",
   "execution_count": null,
   "id": "9c632c93",
   "metadata": {},
   "outputs": [],
   "source": []
  },
  {
   "cell_type": "code",
   "execution_count": null,
   "id": "9b7c6fca",
   "metadata": {},
   "outputs": [],
   "source": []
  },
  {
   "cell_type": "code",
   "execution_count": null,
   "id": "dc8b04ec",
   "metadata": {},
   "outputs": [],
   "source": []
  },
  {
   "cell_type": "code",
   "execution_count": null,
   "id": "8ff7517e",
   "metadata": {},
   "outputs": [],
   "source": []
  },
  {
   "cell_type": "code",
   "execution_count": null,
   "id": "f2d92fc9",
   "metadata": {},
   "outputs": [],
   "source": []
  },
  {
   "cell_type": "code",
   "execution_count": null,
   "id": "a930ca0c",
   "metadata": {},
   "outputs": [],
   "source": []
  },
  {
   "cell_type": "code",
   "execution_count": null,
   "id": "e32feea2",
   "metadata": {},
   "outputs": [],
   "source": []
  },
  {
   "cell_type": "code",
   "execution_count": null,
   "id": "ceec0196",
   "metadata": {},
   "outputs": [],
   "source": []
  },
  {
   "cell_type": "code",
   "execution_count": null,
   "id": "eb853b6c",
   "metadata": {},
   "outputs": [],
   "source": []
  },
  {
   "cell_type": "code",
   "execution_count": null,
   "id": "d0d1a51e",
   "metadata": {},
   "outputs": [],
   "source": []
  },
  {
   "cell_type": "code",
   "execution_count": null,
   "id": "493e4c5c",
   "metadata": {},
   "outputs": [],
   "source": []
  },
  {
   "cell_type": "code",
   "execution_count": null,
   "id": "cd4e2f68",
   "metadata": {},
   "outputs": [],
   "source": []
  },
  {
   "cell_type": "code",
   "execution_count": null,
   "id": "600ca03d",
   "metadata": {},
   "outputs": [],
   "source": []
  },
  {
   "cell_type": "code",
   "execution_count": null,
   "id": "03b375fc",
   "metadata": {},
   "outputs": [],
   "source": []
  },
  {
   "cell_type": "code",
   "execution_count": null,
   "id": "86a417e6",
   "metadata": {},
   "outputs": [],
   "source": []
  }
 ],
 "metadata": {
  "kernelspec": {
   "display_name": "Python 3",
   "language": "python",
   "name": "python3"
  },
  "language_info": {
   "codemirror_mode": {
    "name": "ipython",
    "version": 3
   },
   "file_extension": ".py",
   "mimetype": "text/x-python",
   "name": "python",
   "nbconvert_exporter": "python",
   "pygments_lexer": "ipython3",
   "version": "3.8.8"
  }
 },
 "nbformat": 4,
 "nbformat_minor": 5
}
