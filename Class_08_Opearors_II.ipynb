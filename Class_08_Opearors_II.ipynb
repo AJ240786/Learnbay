{
 "cells": [
  {
   "cell_type": "code",
   "execution_count": 19,
   "id": "63180a4c",
   "metadata": {
    "ExecuteTime": {
     "end_time": "2021-07-16T02:51:53.831322Z",
     "start_time": "2021-07-16T02:51:53.823502Z"
    }
   },
   "outputs": [
    {
     "name": "stdout",
     "output_type": "stream",
     "text": [
      "0.0\n"
     ]
    }
   ],
   "source": [
    "# Logical Operators - and, or, not\n",
    "# Returns Boolean Values\n",
    "# Truth table\n",
    "\n",
    "# and Truth Table - False\n",
    "# True and True = True\n",
    "# True and False = False\n",
    "# False and True = False\n",
    "# False and False = False\n",
    "\n",
    "\n",
    "# or Truth Table - True\n",
    "# True or True = True\n",
    "# True or False = True\n",
    "# False or True = True\n",
    "# False or False = False\n",
    "\n",
    "# not Truth Table - True\n",
    "# not True = False\n",
    "# not False = True\n",
    "\n",
    "# print(bool(10))\n",
    "# print(bool(1))\n",
    "# print(bool(0.00000001))\n",
    "# print(bool(0.0000000))\n",
    "# print(bool(0))\n",
    "# print(bool(''))\n",
    "# print(bool(-0.0001))\n",
    "\n",
    "\n",
    "\n",
    "# print((10<20) and (10==10))\n",
    "# print((10!=20) and (10!=10))\n",
    "\n",
    "# print(10 and 20)\n",
    "# print(0 and 0.0)\n",
    "\n",
    "# A and B -> Result is A if A is False else result is B\n",
    "# A or B -> Result is A if A is True else result is B\n",
    "\n",
    "print(0 or 0.0)\n",
    "\n"
   ]
  },
  {
   "cell_type": "code",
   "execution_count": 44,
   "id": "feceac07",
   "metadata": {
    "ExecuteTime": {
     "end_time": "2021-07-16T03:23:32.812681Z",
     "start_time": "2021-07-16T03:23:32.805162Z"
    }
   },
   "outputs": [
    {
     "name": "stdout",
     "output_type": "stream",
     "text": [
      "0b10101010\n"
     ]
    }
   ],
   "source": [
    "# Bitwise Opereator - &, |, ^, ~, <<, >>\n",
    "# These Operator works on bits or binary values\n",
    "# Bitwise operator works only on integers why because only integers can be represented in binary format\n",
    "\n",
    "# & Truth Table - (*)\n",
    "# 1 & 1 = 1\n",
    "# 1 & 0 = 0\n",
    "# 0 & 1 = 0\n",
    "# 0 & 0 = 0\n",
    "\n",
    "# | Truth Table - (+)\n",
    "# 1 | 1 = 1\n",
    "# 1 | 0 = 1\n",
    "# 0 | 1 = 1\n",
    "# 0 | 0 = 0\n",
    "\n",
    "# ^ Truth Table (A^B = AB + A'B')\n",
    "# 1 ^ 1 = 0\n",
    "# 1 ^ 0 = 1\n",
    "# 0 ^ 1 = 1\n",
    "# 0 ^ 0 = 0\n",
    "\n",
    "\n",
    "# print(37 & 170)\n",
    "# print(37 | 59)\n",
    "# print(37 ^ 59)\n",
    "\n",
    "# Step Convert the operand in binary values\n",
    "print(bin(170))\n",
    "\n",
    "\n",
    "# 37 =  00100101\n",
    "# 170 = 10101010\n",
    "# =============\n",
    "# &  = 100001\n",
    "# |  = 111111\n",
    "# ^  = 011110\n",
    "\n",
    "# print(0b100001)\n",
    "# print(0b111111)\n",
    "# print(0b11110)\n",
    "\n",
    "\n",
    "# Bitwise Negation - ~\n",
    "# ~num = -(num+1)\n",
    "\n",
    "# print(~4)\n",
    "# print(~1)\n",
    "# print(~True)\n",
    "\n",
    "# << - left shift\n",
    "# num << no_of_bits  => num*(2**no_of_bits)\n",
    "\n",
    "# print(59 << 5)\n",
    "# print(59 * (2**5))\n",
    "\n",
    "# print(59 << 3)\n",
    "# print(59 * (2**3))\n",
    "\n",
    "# 59 => 00000000000000000000011101100000\n",
    "# print(0b11101100000)\n",
    "\n",
    "\n",
    "# >> - Right Shift\n",
    "# num >> no_of_bits  => num//(2**no_of_bits)\n",
    "\n",
    "# print(59 >> 3)\n",
    "# print(59 // (2**3))\n",
    "\n",
    "\n"
   ]
  },
  {
   "cell_type": "code",
   "execution_count": null,
   "id": "b73d9968",
   "metadata": {},
   "outputs": [],
   "source": [
    "# Assignent Operator - =\n",
    "# Compound Assignment - +=, -=, *=, /=, //=, %=, **=, &=, |=, ^=, ~=, <<=, >>=\n",
    "# Identity Operator - is, is not\n",
    "# Membership Operator in, not in\n",
    "# Ternary Operator - expr1 if cond1 else expr2 if cond2 else expr3 if cond3 else expr4\n",
    "# Operator Precedence - "
   ]
  },
  {
   "cell_type": "code",
   "execution_count": null,
   "id": "10a32fe9",
   "metadata": {},
   "outputs": [],
   "source": [
    "# Assignment Operator - =\n",
    "\n",
    "a = 10\n",
    "b = 10.20\n",
    "c = 10+20j\n",
    "d = 'Python'\n",
    "\n",
    "\n"
   ]
  },
  {
   "cell_type": "code",
   "execution_count": 43,
   "id": "5fbcda78",
   "metadata": {
    "ExecuteTime": {
     "end_time": "2021-07-16T03:19:23.977180Z",
     "start_time": "2021-07-16T03:19:23.968758Z"
    }
   },
   "outputs": [
    {
     "name": "stdout",
     "output_type": "stream",
     "text": [
      "12\n"
     ]
    }
   ],
   "source": [
    "# Compound Assignment Operator - +=, -=, *=, /=, //=, %=, **=, &=, |=, ^=, ~=, <<=, >>=\n",
    "\n",
    "a = 10\n",
    "a += 2                                                # a = a+2\n",
    "print(a)\n",
    "\n",
    "\n",
    "\n"
   ]
  },
  {
   "cell_type": "code",
   "execution_count": 55,
   "id": "64b3eafb",
   "metadata": {
    "ExecuteTime": {
     "end_time": "2021-07-16T03:31:03.553273Z",
     "start_time": "2021-07-16T03:31:03.546583Z"
    }
   },
   "outputs": [],
   "source": [
    "# Identity Operator - is, is not\n",
    "# Checks memory address\n",
    "# Returns True if Memory address is same else False if we use is\n",
    "# Returns True if Memory address is not same else False if we use is not\n",
    "\n",
    "# a = 10\n",
    "# b = 10\n",
    "# print(a is b)\n",
    "# print(a == b)\n",
    "# print(id(a))\n",
    "# print(id(b))\n",
    "\n",
    "\n",
    "# a = 1000\n",
    "# b = 1000\n",
    "# print(a is b)\n",
    "# print(id(a))\n",
    "# print(id(b))\n",
    "# print(a == b)\n",
    "\n",
    "\n",
    "# print((10) is (10))\n",
    "\n",
    "\n",
    "# Object Reusabiliy\n",
    "# Int - -5-256\n",
    "# String - A-Z, a-z, 0-9, _\n",
    "# True False, None\n"
   ]
  },
  {
   "cell_type": "code",
   "execution_count": 64,
   "id": "8946a920",
   "metadata": {
    "ExecuteTime": {
     "end_time": "2021-07-16T03:33:59.978483Z",
     "start_time": "2021-07-16T03:33:59.965486Z"
    }
   },
   "outputs": [],
   "source": [
    "# Membrship Operator - in, not in\n",
    "# Returns boolean value\n",
    "# One of the operand should be an iterable\n",
    "\n",
    "# Iterable is an object which implements __iter__.\n",
    "\n",
    "\n",
    "# print(10 in [10,20,30,40])\n",
    "# print(100 in [10,20,30,40])\n",
    "# print('P' in'Python')\n",
    "# print('p' in 'Python')\n",
    "\n",
    "# print(dir(dict))\n",
    "\n",
    "\n",
    "\n",
    "\n",
    "\n",
    "\n",
    "\n"
   ]
  },
  {
   "cell_type": "code",
   "execution_count": 71,
   "id": "2d7b6fd7",
   "metadata": {
    "ExecuteTime": {
     "end_time": "2021-07-16T03:39:01.178920Z",
     "start_time": "2021-07-16T03:38:59.795013Z"
    }
   },
   "outputs": [
    {
     "name": "stdout",
     "output_type": "stream",
     "text": [
      "ENter a number: 10\n",
      "Number is even\n"
     ]
    }
   ],
   "source": [
    "# Ternary Operator - expr1 if cond1 else expr2 if cond2 else expr3 if cond3 else expr4\n",
    "\n",
    "# Find the maximum of two numbeers\n",
    "# num1 = int(input('Enter 1st NUmber: '))\n",
    "# num2 = int(input('Enter 2nd NUmber: '))\n",
    "# print(num1 if num1>num2 else num2)\n",
    "\n",
    "# Find the maximum of three numbeers\n",
    "# num1 = int(input('Enter 1st NUmber: '))\n",
    "# num2 = int(input('Enter 2nd NUmber: '))\n",
    "# num3 = int(input('Enter 3rd NUmber: '))\n",
    "# print(num1 if (num1>num2) and (num1>num3) else num2 if (num2>num3) else num3)\n",
    "\n",
    "# NUm is even or odd\n",
    "num = int(input('ENter a number: '))\n",
    "print('Number is even' if num%2 == 0 else 'Number is odd')\n",
    "\n",
    "\n",
    "expr ? cond : expr\n"
   ]
  },
  {
   "cell_type": "code",
   "execution_count": 78,
   "id": "a16a98be",
   "metadata": {
    "ExecuteTime": {
     "end_time": "2021-07-16T03:48:23.479050Z",
     "start_time": "2021-07-16T03:48:23.475677Z"
    }
   },
   "outputs": [],
   "source": [
    "\n",
    "# operator Precedence\n",
    "# Operators                                     \tMeaning\n",
    "# ()      \tParentheses\n",
    "# **      \tExponent\n",
    "# +x, -x, ~x\tUnary plus, Unary minus, Bitwise NOT\n",
    "# *, /, //, %\tMultiplication, Division, Floor division, Modulus\n",
    "# +, -    \tAddition, Subtraction\n",
    "# <<, >>  \tBitwise shift operators\n",
    "# &       \tBitwise AND\n",
    "# ^       \tBitwise XOR\n",
    "# |       \tBitwise OR\n",
    "# ==, !=, >, >=, <, <=, is, is not, in, not in  \tComparisons, Identity, Membership operators\n",
    "# not     \tLogical NOT\n",
    "# and     \tLogical AND\n",
    "# or      \tLogical OR"
   ]
  },
  {
   "cell_type": "code",
   "execution_count": 72,
   "id": "597a78d3",
   "metadata": {
    "ExecuteTime": {
     "end_time": "2021-07-16T03:43:56.841325Z",
     "start_time": "2021-07-16T03:43:56.830971Z"
    }
   },
   "outputs": [
    {
     "name": "stdout",
     "output_type": "stream",
     "text": [
      "10\n",
      "20\n",
      "30\n"
     ]
    }
   ],
   "source": [
    "# Single line decalaration\n",
    "a,b,c = 10,20,30\n",
    "print(a)\n",
    "print(b)\n",
    "print(c)"
   ]
  },
  {
   "cell_type": "code",
   "execution_count": 76,
   "id": "4bc85684",
   "metadata": {
    "ExecuteTime": {
     "end_time": "2021-07-16T03:44:49.144812Z",
     "start_time": "2021-07-16T03:44:49.138043Z"
    }
   },
   "outputs": [
    {
     "name": "stdout",
     "output_type": "stream",
     "text": [
      "-10\n",
      "10\n"
     ]
    }
   ],
   "source": [
    "print(+(-10))\n",
    "print(-(-10))"
   ]
  },
  {
   "cell_type": "code",
   "execution_count": 3,
   "id": "9e39f650",
   "metadata": {
    "ExecuteTime": {
     "end_time": "2021-07-16T03:51:29.159949Z",
     "start_time": "2021-07-16T03:51:29.152004Z"
    }
   },
   "outputs": [
    {
     "name": "stdout",
     "output_type": "stream",
     "text": [
      "4430532520\n",
      "4430532520\n",
      "True\n"
     ]
    }
   ],
   "source": [
    "a = True\n",
    "b = True\n",
    "print(id(a))\n",
    "print(id(b))\n",
    "print(a is b)"
   ]
  },
  {
   "cell_type": "code",
   "execution_count": 4,
   "id": "9a0ef816",
   "metadata": {
    "ExecuteTime": {
     "end_time": "2021-07-16T03:51:35.180918Z",
     "start_time": "2021-07-16T03:51:35.164160Z"
    }
   },
   "outputs": [
    {
     "name": "stdout",
     "output_type": "stream",
     "text": [
      "4430532520\n",
      "4430532520\n",
      "True\n"
     ]
    }
   ],
   "source": [
    "a = True\n",
    "b = True\n",
    "print(id(a))\n",
    "print(id(b))\n",
    "print(a is b)"
   ]
  },
  {
   "cell_type": "code",
   "execution_count": 6,
   "id": "e87c789c",
   "metadata": {
    "ExecuteTime": {
     "end_time": "2021-07-16T03:53:33.802327Z",
     "start_time": "2021-07-16T03:53:33.794779Z"
    }
   },
   "outputs": [
    {
     "name": "stdout",
     "output_type": "stream",
     "text": [
      "False\n",
      "True\n"
     ]
    }
   ],
   "source": [
    "class Animal:\n",
    "    pass\n",
    "c1 = Animal()\n",
    "c2 = Animal()\n",
    "c3 = c2\n",
    "\n",
    "print(c1 is c2)\n",
    "print(c2 is c3)\n",
    "\n",
    "\n",
    "# a = 10\n",
    "# b = 10"
   ]
  },
  {
   "cell_type": "markdown",
   "id": "9d3d82bc",
   "metadata": {},
   "source": [
    "# Strings in Python"
   ]
  },
  {
   "cell_type": "code",
   "execution_count": null,
   "id": "a40ad626",
   "metadata": {},
   "outputs": [],
   "source": [
    "# What is a string?\n",
    "# Any value kept inside '...', \"...\", '''...''', \"\"\"...\"\"\"\n",
    "# String is a sequence and also an iterable\n",
    "    1. Indexing\n",
    "    2. Slicing\n",
    "    3. String follows +ve and -ve indexing both\n",
    "    4. +ve index starts from 0 from LHS\n",
    "    5. -ve index starts from -1 from RHS\n",
    "    6. Membership\n",
    "    7. Len\n",
    "\n",
    "# Iterable - String, list, tuple, set, dictionary, range, frozenset, bytes, bytearray\n",
    "# Sequence - String, list, tuple, bytes, bytearray, range\n",
    "\n"
   ]
  },
  {
   "cell_type": "code",
   "execution_count": 21,
   "id": "4793a20d",
   "metadata": {
    "ExecuteTime": {
     "end_time": "2021-07-16T04:16:41.949384Z",
     "start_time": "2021-07-16T04:16:41.933918Z"
    }
   },
   "outputs": [],
   "source": [
    "# How strings are stored in Python\n",
    "\n",
    "my_str = 'Python class'\n",
    "# print(my_str, id(my_str))\n",
    "# print(my_str[0], id(my_str[0]))\n",
    "# print(my_str[-1], id(my_str[-1]))\n",
    "# print(my_str[-2], id(my_str[-2]))\n",
    "\n",
    "# Accessing first cahracters\n",
    "# print(my_str[0])\n",
    "# print(my_str[-12])\n",
    "# print(my_str[-len(my_str)])\n",
    "\n",
    "# Accessing last cahracters\n",
    "# print(my_str[-1])\n",
    "# print(my_str[11])\n",
    "# print(my_str[len(my_str)-1])\n",
    "\n",
    "# print(my_str[5], id(my_str[5]))\n"
   ]
  },
  {
   "cell_type": "code",
   "execution_count": 14,
   "id": "11617c26",
   "metadata": {
    "ExecuteTime": {
     "end_time": "2021-07-16T04:14:58.640022Z",
     "start_time": "2021-07-16T04:14:58.634375Z"
    }
   },
   "outputs": [
    {
     "name": "stdout",
     "output_type": "stream",
     "text": [
      "12\n"
     ]
    }
   ],
   "source": [
    "print(len(my_str))"
   ]
  },
  {
   "cell_type": "code",
   "execution_count": 25,
   "id": "89378e0c",
   "metadata": {
    "ExecuteTime": {
     "end_time": "2021-07-16T04:28:53.472634Z",
     "start_time": "2021-07-16T04:28:53.465627Z"
    }
   },
   "outputs": [
    {
     "name": "stdout",
     "output_type": "stream",
     "text": [
      "Pto\n",
      "nohtyP\n",
      "\n"
     ]
    }
   ],
   "source": [
    "# Slicing - Taking out a piece from a sequence\n",
    "# Syntax - my_str[start_ind:stop_ind:step]\n",
    "\n",
    "my_str = 'This is Python class'\n",
    "print(my_str[8:14:2])\n",
    "print(my_str[13:7:-1])\n",
    "print(my_str[8:14:-1])\n",
    "\n",
    "\n",
    "\n"
   ]
  },
  {
   "cell_type": "code",
   "execution_count": null,
   "id": "a2b3d207",
   "metadata": {},
   "outputs": [],
   "source": [
    "# Conclusion\n",
    "# If step size is +ve then start should be on left compared to your stop - slicing is done from left to right\n",
    "# If step size is -ve then start should be on right compared to your stop - slicing is done from right to left \n",
    "\n",
    "# "
   ]
  },
  {
   "cell_type": "code",
   "execution_count": null,
   "id": "140ad345",
   "metadata": {},
   "outputs": [],
   "source": []
  },
  {
   "cell_type": "code",
   "execution_count": null,
   "id": "e82e3c08",
   "metadata": {},
   "outputs": [],
   "source": []
  },
  {
   "cell_type": "code",
   "execution_count": null,
   "id": "977830c6",
   "metadata": {},
   "outputs": [],
   "source": []
  },
  {
   "cell_type": "code",
   "execution_count": null,
   "id": "729caf97",
   "metadata": {},
   "outputs": [],
   "source": []
  },
  {
   "cell_type": "code",
   "execution_count": null,
   "id": "100d6710",
   "metadata": {},
   "outputs": [],
   "source": []
  },
  {
   "cell_type": "code",
   "execution_count": null,
   "id": "541c5876",
   "metadata": {},
   "outputs": [],
   "source": []
  },
  {
   "cell_type": "code",
   "execution_count": null,
   "id": "76d10939",
   "metadata": {},
   "outputs": [],
   "source": []
  },
  {
   "cell_type": "code",
   "execution_count": null,
   "id": "51e488f2",
   "metadata": {},
   "outputs": [],
   "source": []
  },
  {
   "cell_type": "code",
   "execution_count": null,
   "id": "9fef6a5c",
   "metadata": {},
   "outputs": [],
   "source": []
  },
  {
   "cell_type": "code",
   "execution_count": null,
   "id": "985fc517",
   "metadata": {},
   "outputs": [],
   "source": []
  },
  {
   "cell_type": "code",
   "execution_count": null,
   "id": "34cb9a2b",
   "metadata": {},
   "outputs": [],
   "source": []
  },
  {
   "cell_type": "code",
   "execution_count": null,
   "id": "6d199cde",
   "metadata": {},
   "outputs": [],
   "source": []
  },
  {
   "cell_type": "code",
   "execution_count": null,
   "id": "57d727c0",
   "metadata": {},
   "outputs": [],
   "source": []
  },
  {
   "cell_type": "code",
   "execution_count": null,
   "id": "444267a0",
   "metadata": {},
   "outputs": [],
   "source": []
  },
  {
   "cell_type": "code",
   "execution_count": null,
   "id": "e78f0d8f",
   "metadata": {},
   "outputs": [],
   "source": []
  },
  {
   "cell_type": "code",
   "execution_count": null,
   "id": "cef28c5b",
   "metadata": {},
   "outputs": [],
   "source": []
  },
  {
   "cell_type": "code",
   "execution_count": null,
   "id": "864adcf4",
   "metadata": {},
   "outputs": [],
   "source": []
  },
  {
   "cell_type": "code",
   "execution_count": null,
   "id": "59df9418",
   "metadata": {},
   "outputs": [],
   "source": []
  },
  {
   "cell_type": "code",
   "execution_count": null,
   "id": "b2b2d89a",
   "metadata": {},
   "outputs": [],
   "source": []
  },
  {
   "cell_type": "code",
   "execution_count": null,
   "id": "79c11604",
   "metadata": {},
   "outputs": [],
   "source": []
  },
  {
   "cell_type": "code",
   "execution_count": null,
   "id": "cd9b172a",
   "metadata": {},
   "outputs": [],
   "source": []
  },
  {
   "cell_type": "code",
   "execution_count": null,
   "id": "f878b284",
   "metadata": {},
   "outputs": [],
   "source": []
  },
  {
   "cell_type": "code",
   "execution_count": null,
   "id": "66d0ea80",
   "metadata": {},
   "outputs": [],
   "source": []
  },
  {
   "cell_type": "code",
   "execution_count": null,
   "id": "b6f6b9a2",
   "metadata": {},
   "outputs": [],
   "source": []
  },
  {
   "cell_type": "code",
   "execution_count": null,
   "id": "39b96c33",
   "metadata": {},
   "outputs": [],
   "source": []
  },
  {
   "cell_type": "code",
   "execution_count": null,
   "id": "1396d4ce",
   "metadata": {},
   "outputs": [],
   "source": []
  },
  {
   "cell_type": "code",
   "execution_count": null,
   "id": "838fc228",
   "metadata": {},
   "outputs": [],
   "source": []
  },
  {
   "cell_type": "code",
   "execution_count": null,
   "id": "7e813763",
   "metadata": {},
   "outputs": [],
   "source": []
  },
  {
   "cell_type": "code",
   "execution_count": null,
   "id": "38bec390",
   "metadata": {},
   "outputs": [],
   "source": []
  },
  {
   "cell_type": "code",
   "execution_count": null,
   "id": "076be8c6",
   "metadata": {},
   "outputs": [],
   "source": []
  },
  {
   "cell_type": "code",
   "execution_count": null,
   "id": "ce841943",
   "metadata": {},
   "outputs": [],
   "source": []
  },
  {
   "cell_type": "code",
   "execution_count": null,
   "id": "6e061d2c",
   "metadata": {},
   "outputs": [],
   "source": []
  },
  {
   "cell_type": "code",
   "execution_count": null,
   "id": "028b5835",
   "metadata": {},
   "outputs": [],
   "source": []
  },
  {
   "cell_type": "code",
   "execution_count": null,
   "id": "1d5e4c35",
   "metadata": {},
   "outputs": [],
   "source": []
  },
  {
   "cell_type": "code",
   "execution_count": null,
   "id": "f03c7010",
   "metadata": {},
   "outputs": [],
   "source": []
  },
  {
   "cell_type": "code",
   "execution_count": null,
   "id": "03a942d4",
   "metadata": {},
   "outputs": [],
   "source": []
  },
  {
   "cell_type": "code",
   "execution_count": null,
   "id": "74e8118b",
   "metadata": {},
   "outputs": [],
   "source": []
  },
  {
   "cell_type": "code",
   "execution_count": null,
   "id": "e354a986",
   "metadata": {},
   "outputs": [],
   "source": []
  },
  {
   "cell_type": "code",
   "execution_count": null,
   "id": "7329716d",
   "metadata": {},
   "outputs": [],
   "source": []
  },
  {
   "cell_type": "code",
   "execution_count": null,
   "id": "21478d4c",
   "metadata": {},
   "outputs": [],
   "source": []
  },
  {
   "cell_type": "code",
   "execution_count": null,
   "id": "de23c62e",
   "metadata": {},
   "outputs": [],
   "source": []
  },
  {
   "cell_type": "code",
   "execution_count": null,
   "id": "58c104b9",
   "metadata": {},
   "outputs": [],
   "source": []
  },
  {
   "cell_type": "code",
   "execution_count": null,
   "id": "39931da7",
   "metadata": {},
   "outputs": [],
   "source": []
  },
  {
   "cell_type": "code",
   "execution_count": null,
   "id": "0a380a44",
   "metadata": {},
   "outputs": [],
   "source": []
  },
  {
   "cell_type": "code",
   "execution_count": null,
   "id": "ea24c4bb",
   "metadata": {},
   "outputs": [],
   "source": []
  },
  {
   "cell_type": "code",
   "execution_count": null,
   "id": "3c1d769e",
   "metadata": {},
   "outputs": [],
   "source": []
  },
  {
   "cell_type": "code",
   "execution_count": null,
   "id": "e520ec0e",
   "metadata": {},
   "outputs": [],
   "source": []
  },
  {
   "cell_type": "code",
   "execution_count": null,
   "id": "1615c6f7",
   "metadata": {},
   "outputs": [],
   "source": []
  },
  {
   "cell_type": "code",
   "execution_count": null,
   "id": "c04cae45",
   "metadata": {},
   "outputs": [],
   "source": []
  },
  {
   "cell_type": "code",
   "execution_count": null,
   "id": "13f4d06d",
   "metadata": {},
   "outputs": [],
   "source": []
  },
  {
   "cell_type": "code",
   "execution_count": null,
   "id": "6cafadb1",
   "metadata": {},
   "outputs": [],
   "source": []
  },
  {
   "cell_type": "code",
   "execution_count": null,
   "id": "e2146a1d",
   "metadata": {},
   "outputs": [],
   "source": []
  },
  {
   "cell_type": "code",
   "execution_count": null,
   "id": "ab583b76",
   "metadata": {},
   "outputs": [],
   "source": []
  },
  {
   "cell_type": "code",
   "execution_count": null,
   "id": "250eb13b",
   "metadata": {},
   "outputs": [],
   "source": []
  },
  {
   "cell_type": "code",
   "execution_count": null,
   "id": "25a4f203",
   "metadata": {},
   "outputs": [],
   "source": []
  },
  {
   "cell_type": "code",
   "execution_count": null,
   "id": "5eec9e62",
   "metadata": {},
   "outputs": [],
   "source": []
  },
  {
   "cell_type": "code",
   "execution_count": null,
   "id": "99ec8f35",
   "metadata": {},
   "outputs": [],
   "source": []
  },
  {
   "cell_type": "code",
   "execution_count": null,
   "id": "0c7d0b53",
   "metadata": {},
   "outputs": [],
   "source": []
  },
  {
   "cell_type": "code",
   "execution_count": null,
   "id": "74be671c",
   "metadata": {},
   "outputs": [],
   "source": []
  },
  {
   "cell_type": "code",
   "execution_count": null,
   "id": "6e16bde3",
   "metadata": {},
   "outputs": [],
   "source": []
  },
  {
   "cell_type": "code",
   "execution_count": null,
   "id": "2f737449",
   "metadata": {},
   "outputs": [],
   "source": []
  },
  {
   "cell_type": "code",
   "execution_count": null,
   "id": "e7929f0d",
   "metadata": {},
   "outputs": [],
   "source": []
  },
  {
   "cell_type": "code",
   "execution_count": null,
   "id": "93640a69",
   "metadata": {},
   "outputs": [],
   "source": []
  },
  {
   "cell_type": "code",
   "execution_count": null,
   "id": "83340cfa",
   "metadata": {},
   "outputs": [],
   "source": []
  },
  {
   "cell_type": "code",
   "execution_count": null,
   "id": "f42cc62c",
   "metadata": {},
   "outputs": [],
   "source": []
  },
  {
   "cell_type": "code",
   "execution_count": null,
   "id": "d5c220b8",
   "metadata": {},
   "outputs": [],
   "source": []
  },
  {
   "cell_type": "code",
   "execution_count": null,
   "id": "8fec9789",
   "metadata": {},
   "outputs": [],
   "source": []
  },
  {
   "cell_type": "code",
   "execution_count": null,
   "id": "9ada8535",
   "metadata": {},
   "outputs": [],
   "source": []
  },
  {
   "cell_type": "code",
   "execution_count": null,
   "id": "194ccf15",
   "metadata": {},
   "outputs": [],
   "source": []
  },
  {
   "cell_type": "code",
   "execution_count": null,
   "id": "44f268dc",
   "metadata": {},
   "outputs": [],
   "source": []
  },
  {
   "cell_type": "code",
   "execution_count": null,
   "id": "f2c5eb46",
   "metadata": {},
   "outputs": [],
   "source": []
  },
  {
   "cell_type": "code",
   "execution_count": null,
   "id": "6e8b5366",
   "metadata": {},
   "outputs": [],
   "source": []
  },
  {
   "cell_type": "code",
   "execution_count": null,
   "id": "be7ff0f6",
   "metadata": {},
   "outputs": [],
   "source": []
  },
  {
   "cell_type": "code",
   "execution_count": null,
   "id": "1f32e077",
   "metadata": {},
   "outputs": [],
   "source": []
  },
  {
   "cell_type": "code",
   "execution_count": null,
   "id": "161938d5",
   "metadata": {},
   "outputs": [],
   "source": []
  },
  {
   "cell_type": "code",
   "execution_count": null,
   "id": "18fb04c4",
   "metadata": {},
   "outputs": [],
   "source": []
  },
  {
   "cell_type": "code",
   "execution_count": null,
   "id": "6e971039",
   "metadata": {},
   "outputs": [],
   "source": []
  },
  {
   "cell_type": "code",
   "execution_count": null,
   "id": "2084887b",
   "metadata": {},
   "outputs": [],
   "source": []
  },
  {
   "cell_type": "code",
   "execution_count": null,
   "id": "7308c96e",
   "metadata": {},
   "outputs": [],
   "source": []
  },
  {
   "cell_type": "code",
   "execution_count": null,
   "id": "959a14a3",
   "metadata": {},
   "outputs": [],
   "source": []
  },
  {
   "cell_type": "code",
   "execution_count": null,
   "id": "0ef1713b",
   "metadata": {},
   "outputs": [],
   "source": []
  },
  {
   "cell_type": "code",
   "execution_count": null,
   "id": "f72ef099",
   "metadata": {},
   "outputs": [],
   "source": []
  },
  {
   "cell_type": "code",
   "execution_count": null,
   "id": "776fd5fe",
   "metadata": {},
   "outputs": [],
   "source": []
  },
  {
   "cell_type": "code",
   "execution_count": null,
   "id": "d12c251a",
   "metadata": {},
   "outputs": [],
   "source": []
  },
  {
   "cell_type": "code",
   "execution_count": null,
   "id": "134c014a",
   "metadata": {},
   "outputs": [],
   "source": []
  },
  {
   "cell_type": "code",
   "execution_count": null,
   "id": "809b59af",
   "metadata": {},
   "outputs": [],
   "source": []
  },
  {
   "cell_type": "code",
   "execution_count": null,
   "id": "fe7ddeef",
   "metadata": {},
   "outputs": [],
   "source": []
  },
  {
   "cell_type": "code",
   "execution_count": null,
   "id": "be43419e",
   "metadata": {},
   "outputs": [],
   "source": []
  },
  {
   "cell_type": "code",
   "execution_count": null,
   "id": "a99bb7df",
   "metadata": {},
   "outputs": [],
   "source": []
  },
  {
   "cell_type": "code",
   "execution_count": null,
   "id": "8b4bf154",
   "metadata": {},
   "outputs": [],
   "source": []
  },
  {
   "cell_type": "code",
   "execution_count": null,
   "id": "d33bae8f",
   "metadata": {},
   "outputs": [],
   "source": []
  },
  {
   "cell_type": "code",
   "execution_count": null,
   "id": "a40c9147",
   "metadata": {},
   "outputs": [],
   "source": []
  },
  {
   "cell_type": "code",
   "execution_count": null,
   "id": "382d2698",
   "metadata": {},
   "outputs": [],
   "source": []
  },
  {
   "cell_type": "code",
   "execution_count": null,
   "id": "fb52cca2",
   "metadata": {},
   "outputs": [],
   "source": []
  },
  {
   "cell_type": "code",
   "execution_count": null,
   "id": "79918e56",
   "metadata": {},
   "outputs": [],
   "source": []
  },
  {
   "cell_type": "code",
   "execution_count": null,
   "id": "1f0836e5",
   "metadata": {},
   "outputs": [],
   "source": []
  },
  {
   "cell_type": "code",
   "execution_count": null,
   "id": "a446270e",
   "metadata": {},
   "outputs": [],
   "source": []
  },
  {
   "cell_type": "code",
   "execution_count": null,
   "id": "07a3e3c4",
   "metadata": {},
   "outputs": [],
   "source": []
  },
  {
   "cell_type": "code",
   "execution_count": null,
   "id": "f48eebc3",
   "metadata": {},
   "outputs": [],
   "source": []
  },
  {
   "cell_type": "code",
   "execution_count": null,
   "id": "e96c3a43",
   "metadata": {},
   "outputs": [],
   "source": []
  },
  {
   "cell_type": "code",
   "execution_count": null,
   "id": "bc7a6612",
   "metadata": {},
   "outputs": [],
   "source": []
  },
  {
   "cell_type": "code",
   "execution_count": null,
   "id": "69cb0114",
   "metadata": {},
   "outputs": [],
   "source": []
  },
  {
   "cell_type": "code",
   "execution_count": null,
   "id": "1de7379d",
   "metadata": {},
   "outputs": [],
   "source": []
  },
  {
   "cell_type": "code",
   "execution_count": null,
   "id": "ecf36c0c",
   "metadata": {},
   "outputs": [],
   "source": []
  },
  {
   "cell_type": "code",
   "execution_count": null,
   "id": "fe75c5d3",
   "metadata": {},
   "outputs": [],
   "source": []
  },
  {
   "cell_type": "code",
   "execution_count": null,
   "id": "6a4cb13e",
   "metadata": {},
   "outputs": [],
   "source": []
  },
  {
   "cell_type": "code",
   "execution_count": null,
   "id": "207747d9",
   "metadata": {},
   "outputs": [],
   "source": []
  },
  {
   "cell_type": "code",
   "execution_count": null,
   "id": "09a41d94",
   "metadata": {},
   "outputs": [],
   "source": []
  },
  {
   "cell_type": "code",
   "execution_count": null,
   "id": "4750744e",
   "metadata": {},
   "outputs": [],
   "source": []
  },
  {
   "cell_type": "code",
   "execution_count": null,
   "id": "cd35eee5",
   "metadata": {},
   "outputs": [],
   "source": []
  },
  {
   "cell_type": "code",
   "execution_count": null,
   "id": "a0fb9deb",
   "metadata": {},
   "outputs": [],
   "source": []
  }
 ],
 "metadata": {
  "kernelspec": {
   "display_name": "Python 3",
   "language": "python",
   "name": "python3"
  },
  "language_info": {
   "codemirror_mode": {
    "name": "ipython",
    "version": 3
   },
   "file_extension": ".py",
   "mimetype": "text/x-python",
   "name": "python",
   "nbconvert_exporter": "python",
   "pygments_lexer": "ipython3",
   "version": "3.8.2"
  }
 },
 "nbformat": 4,
 "nbformat_minor": 5
}
